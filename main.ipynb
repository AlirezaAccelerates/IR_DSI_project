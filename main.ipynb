{
 "cells": [
  {
   "cell_type": "markdown",
   "metadata": {},
   "source": [
    "# Information Retrieval Final Project - Neural Inverted Index\n",
    "\n",
    "---\n",
    "\n",
    "## 📝 Team Members\n",
    "Navid Azimi, Alireza Rafiei, Mohammad Hashemi\n",
    "\n",
    "---\n",
    "\n",
    "## 📘 Overview of the Project\n",
    "This project investigates a  methodology in information retrieval (IR), moving away from the conventional systems that separate indexing from retrieval. Drawing inspiration from the Differentiable Search Index (DSI) concept, we have developed a unified Transformer language model that integrates both indexing and retrieval processes. Trained using the MS MARCO dataset and enhanced with the Pyserini library, this model aims to enhance retrieval effectiveness by auto-regressively generating relevant document identifiers (docids).\n"
   ]
  },
  {
   "cell_type": "markdown",
   "metadata": {},
   "source": [
    "#### Let's install the necessary libraries"
   ]
  },
  {
   "cell_type": "code",
   "execution_count": 16,
   "metadata": {},
   "outputs": [
    {
     "name": "stdout",
     "output_type": "stream",
     "text": [
      "Collecting torch-tb-profiler\n",
      "  Obtaining dependency information for torch-tb-profiler from https://files.pythonhosted.org/packages/46/d0/891ec43349f287ea5c313ebc1320e4eda38ccd4c7a0951657213467eaab5/torch_tb_profiler-0.4.3-py3-none-any.whl.metadata\n",
      "  Downloading torch_tb_profiler-0.4.3-py3-none-any.whl.metadata (1.4 kB)\n",
      "Requirement already satisfied: pandas>=1.0.0 in /Users/alirezarafiei/miniforge3/lib/python3.10/site-packages (from torch-tb-profiler) (2.2.0)\n",
      "Requirement already satisfied: tensorboard!=2.1.0,>=1.15 in /Users/alirezarafiei/miniforge3/lib/python3.10/site-packages (from torch-tb-profiler) (2.13.0)\n",
      "Requirement already satisfied: numpy<2,>=1.22.4 in /Users/alirezarafiei/miniforge3/lib/python3.10/site-packages (from pandas>=1.0.0->torch-tb-profiler) (1.24.3)\n",
      "Requirement already satisfied: python-dateutil>=2.8.2 in /Users/alirezarafiei/miniforge3/lib/python3.10/site-packages (from pandas>=1.0.0->torch-tb-profiler) (2.8.2)\n",
      "Requirement already satisfied: pytz>=2020.1 in /Users/alirezarafiei/miniforge3/lib/python3.10/site-packages (from pandas>=1.0.0->torch-tb-profiler) (2023.3.post1)\n",
      "Requirement already satisfied: tzdata>=2022.7 in /Users/alirezarafiei/miniforge3/lib/python3.10/site-packages (from pandas>=1.0.0->torch-tb-profiler) (2023.4)\n",
      "Requirement already satisfied: absl-py>=0.4 in /Users/alirezarafiei/miniforge3/lib/python3.10/site-packages (from tensorboard!=2.1.0,>=1.15->torch-tb-profiler) (2.1.0)\n",
      "Requirement already satisfied: grpcio>=1.48.2 in /Users/alirezarafiei/miniforge3/lib/python3.10/site-packages (from tensorboard!=2.1.0,>=1.15->torch-tb-profiler) (1.60.0)\n",
      "Requirement already satisfied: google-auth<3,>=1.6.3 in /Users/alirezarafiei/miniforge3/lib/python3.10/site-packages (from tensorboard!=2.1.0,>=1.15->torch-tb-profiler) (2.26.2)\n",
      "Requirement already satisfied: google-auth-oauthlib<1.1,>=0.5 in /Users/alirezarafiei/miniforge3/lib/python3.10/site-packages (from tensorboard!=2.1.0,>=1.15->torch-tb-profiler) (1.0.0)\n",
      "Requirement already satisfied: markdown>=2.6.8 in /Users/alirezarafiei/miniforge3/lib/python3.10/site-packages (from tensorboard!=2.1.0,>=1.15->torch-tb-profiler) (3.5.2)\n",
      "Requirement already satisfied: protobuf>=3.19.6 in /Users/alirezarafiei/miniforge3/lib/python3.10/site-packages (from tensorboard!=2.1.0,>=1.15->torch-tb-profiler) (4.23.4)\n",
      "Requirement already satisfied: requests<3,>=2.21.0 in /Users/alirezarafiei/miniforge3/lib/python3.10/site-packages (from tensorboard!=2.1.0,>=1.15->torch-tb-profiler) (2.31.0)\n",
      "Requirement already satisfied: setuptools>=41.0.0 in /Users/alirezarafiei/miniforge3/lib/python3.10/site-packages (from tensorboard!=2.1.0,>=1.15->torch-tb-profiler) (69.0.3)\n",
      "Requirement already satisfied: tensorboard-data-server<0.8.0,>=0.7.0 in /Users/alirezarafiei/miniforge3/lib/python3.10/site-packages (from tensorboard!=2.1.0,>=1.15->torch-tb-profiler) (0.7.2)\n",
      "Requirement already satisfied: werkzeug>=1.0.1 in /Users/alirezarafiei/miniforge3/lib/python3.10/site-packages (from tensorboard!=2.1.0,>=1.15->torch-tb-profiler) (3.0.1)\n",
      "Requirement already satisfied: wheel>=0.26 in /Users/alirezarafiei/miniforge3/lib/python3.10/site-packages (from tensorboard!=2.1.0,>=1.15->torch-tb-profiler) (0.42.0)\n",
      "Requirement already satisfied: cachetools<6.0,>=2.0.0 in /Users/alirezarafiei/miniforge3/lib/python3.10/site-packages (from google-auth<3,>=1.6.3->tensorboard!=2.1.0,>=1.15->torch-tb-profiler) (5.3.2)\n",
      "Requirement already satisfied: pyasn1-modules>=0.2.1 in /Users/alirezarafiei/miniforge3/lib/python3.10/site-packages (from google-auth<3,>=1.6.3->tensorboard!=2.1.0,>=1.15->torch-tb-profiler) (0.3.0)\n",
      "Requirement already satisfied: rsa<5,>=3.1.4 in /Users/alirezarafiei/miniforge3/lib/python3.10/site-packages (from google-auth<3,>=1.6.3->tensorboard!=2.1.0,>=1.15->torch-tb-profiler) (4.9)\n",
      "Requirement already satisfied: requests-oauthlib>=0.7.0 in /Users/alirezarafiei/miniforge3/lib/python3.10/site-packages (from google-auth-oauthlib<1.1,>=0.5->tensorboard!=2.1.0,>=1.15->torch-tb-profiler) (1.3.1)\n",
      "Requirement already satisfied: six>=1.5 in /Users/alirezarafiei/miniforge3/lib/python3.10/site-packages (from python-dateutil>=2.8.2->pandas>=1.0.0->torch-tb-profiler) (1.16.0)\n",
      "Requirement already satisfied: charset-normalizer<4,>=2 in /Users/alirezarafiei/miniforge3/lib/python3.10/site-packages (from requests<3,>=2.21.0->tensorboard!=2.1.0,>=1.15->torch-tb-profiler) (3.3.2)\n",
      "Requirement already satisfied: idna<4,>=2.5 in /Users/alirezarafiei/miniforge3/lib/python3.10/site-packages (from requests<3,>=2.21.0->tensorboard!=2.1.0,>=1.15->torch-tb-profiler) (3.6)\n",
      "Requirement already satisfied: urllib3<3,>=1.21.1 in /Users/alirezarafiei/miniforge3/lib/python3.10/site-packages (from requests<3,>=2.21.0->tensorboard!=2.1.0,>=1.15->torch-tb-profiler) (2.1.0)\n",
      "Requirement already satisfied: certifi>=2017.4.17 in /Users/alirezarafiei/miniforge3/lib/python3.10/site-packages (from requests<3,>=2.21.0->tensorboard!=2.1.0,>=1.15->torch-tb-profiler) (2023.11.17)\n",
      "Requirement already satisfied: MarkupSafe>=2.1.1 in /Users/alirezarafiei/miniforge3/lib/python3.10/site-packages (from werkzeug>=1.0.1->tensorboard!=2.1.0,>=1.15->torch-tb-profiler) (2.1.4)\n",
      "Requirement already satisfied: pyasn1<0.6.0,>=0.4.6 in /Users/alirezarafiei/miniforge3/lib/python3.10/site-packages (from pyasn1-modules>=0.2.1->google-auth<3,>=1.6.3->tensorboard!=2.1.0,>=1.15->torch-tb-profiler) (0.5.1)\n",
      "Requirement already satisfied: oauthlib>=3.0.0 in /Users/alirezarafiei/miniforge3/lib/python3.10/site-packages (from requests-oauthlib>=0.7.0->google-auth-oauthlib<1.1,>=0.5->tensorboard!=2.1.0,>=1.15->torch-tb-profiler) (3.2.2)\n",
      "Downloading torch_tb_profiler-0.4.3-py3-none-any.whl (1.1 MB)\n",
      "\u001b[2K   \u001b[90m━━━━━━━━━━━━━━━━━━━━━━━━━━━━━━━━━━━━━━━━\u001b[0m \u001b[32m1.1/1.1 MB\u001b[0m \u001b[31m10.3 MB/s\u001b[0m eta \u001b[36m0:00:00\u001b[0m \u001b[36m0:00:01\u001b[0m\n",
      "\u001b[?25hInstalling collected packages: torch-tb-profiler\n",
      "Successfully installed torch-tb-profiler-0.4.3\n"
     ]
    }
   ],
   "source": [
    "#!pip install nltk\n",
    "#!pip install pytorch_lightning\n",
    "#!pip install gensim\n",
    "#!pip install pyserini==0.12.0\n",
    "#!pip install python-terrier\n",
    "#!pip install ipywidgets\n",
    "#!pip install --upgrade notebook jupyter\n",
    "#!jupyter nbextension enable --py widgetsnbextension\n",
    "#!pip install tensorboard tensorboardX\n",
    "#!pip install torch-tb-profiler"
   ]
  },
  {
   "cell_type": "markdown",
   "metadata": {},
   "source": [
    "#### Import libraries"
   ]
  },
  {
   "cell_type": "code",
   "execution_count": 1,
   "metadata": {},
   "outputs": [
    {
     "data": {
      "text/plain": [
       "<torch._C.Generator at 0x13edc3310>"
      ]
     },
     "execution_count": 1,
     "metadata": {},
     "output_type": "execute_result"
    }
   ],
   "source": [
    "\n",
    "import os\n",
    "import json\n",
    "import random\n",
    "import numpy as np\n",
    "import pandas as pd\n",
    "from tqdm import tqdm\n",
    "import matplotlib.pyplot as plt\n",
    "\n",
    "import torch\n",
    "from torch.utils.data import DataLoader, random_split\n",
    "\n",
    "import pytorch_lightning as pl\n",
    "from pytorch_lightning import Trainer\n",
    "from pytorch_lightning.loggers import TensorBoardLogger\n",
    "\n",
    "import nltk\n",
    "from gensim.models import Word2Vec\n",
    "\n",
    "from src.dataset import mydataset\n",
    "from src.utils import utils, dataset_utils, eval_utils, trie\n",
    "from src.models import siamese, attention_siamese, siamese_triplet, s2stransformer, s2s_transf, s2s_transf_semantic\n",
    "\n",
    "torch.manual_seed(2024)"
   ]
  },
  {
   "cell_type": "markdown",
   "metadata": {},
   "source": [
    "#### Download necessary nltk packages"
   ]
  },
  {
   "cell_type": "code",
   "execution_count": 2,
   "metadata": {},
   "outputs": [
    {
     "name": "stderr",
     "output_type": "stream",
     "text": [
      "[nltk_data] Downloading package punkt to\n",
      "[nltk_data]     /Users/alirezarafiei/nltk_data...\n",
      "[nltk_data]   Package punkt is already up-to-date!\n",
      "[nltk_data] Downloading package stopwords to\n",
      "[nltk_data]     /Users/alirezarafiei/nltk_data...\n",
      "[nltk_data]   Package stopwords is already up-to-date!\n",
      "[nltk_data] Downloading package wordnet to\n",
      "[nltk_data]     /Users/alirezarafiei/nltk_data...\n",
      "[nltk_data]   Package wordnet is already up-to-date!\n"
     ]
    },
    {
     "data": {
      "text/plain": [
       "True"
      ]
     },
     "execution_count": 2,
     "metadata": {},
     "output_type": "execute_result"
    }
   ],
   "source": [
    "nltk.download('punkt')\n",
    "nltk.download('stopwords')\n",
    "nltk.download('wordnet')"
   ]
  },
  {
   "cell_type": "markdown",
   "metadata": {},
   "source": [
    "#### Set some fixed variables"
   ]
  },
  {
   "cell_type": "code",
   "execution_count": 2,
   "metadata": {},
   "outputs": [],
   "source": [
    "EMBEDDING_SIZE = 120\n",
    "MAX_TOKENS = 7\n",
    "K1 = 10      \n",
    "K2 = 100\n",
    "DOWNLOAD_FILES = False\n",
    "\n",
    "QUERIES_PATH = './materials/queries.json'\n",
    "DOCS_PATH = './materials/documents.json'\n",
    "W2V_PATH = './materials/word2vec_model.bin'\n",
    "BT_MOD_PATH = './materials/bt_model.pth'"
   ]
  },
  {
   "cell_type": "markdown",
   "metadata": {},
   "source": [
    "#### Create files and embeddings"
   ]
  },
  {
   "cell_type": "code",
   "execution_count": 3,
   "metadata": {},
   "outputs": [],
   "source": [
    "# If the json files of documents does not exists\n",
    "if not os.path.exists(QUERIES_PATH) or not os.path.exists(DOCS_PATH) or not os.path.exists(W2V_PATH):\n",
    "    # Build dictionaries and corpus\n",
    "    queries, documents, corpus = dataset_utils.build_dicts(\n",
    "        max_topics=None, max_docs=10)\n",
    "    # Write to file the dictionaries\n",
    "    with open(QUERIES_PATH, 'w') as json_file:\n",
    "        json.dump(queries, json_file)\n",
    "    with open(DOCS_PATH, 'w') as json_file:\n",
    "        json.dump(documents, json_file)\n",
    "\n",
    "    # Train the word2vec model\n",
    "    w2v_model = Word2Vec(\n",
    "        sentences=corpus, vector_size=EMBEDDING_SIZE,\n",
    "        window=MAX_TOKENS if MAX_TOKENS else 5,\n",
    "        min_count=1, sg=0, epochs=10)\n",
    "    \n",
    "    # Save w2v model\n",
    "    w2v_model.save(W2V_PATH)\n",
    "\n",
    "# Read from json files if they already exist\n",
    "with open(QUERIES_PATH, 'r') as json_file:\n",
    "    queries = json.load(json_file)\n",
    "with open(DOCS_PATH, 'r') as json_file:\n",
    "    documents = json.load(json_file)\n",
    "\n",
    "# Load model\n",
    "w2v_model = Word2Vec.load(W2V_PATH)"
   ]
  },
  {
   "cell_type": "code",
   "execution_count": 4,
   "metadata": {},
   "outputs": [
    {
     "name": "stderr",
     "output_type": "stream",
     "text": [
      "Embedding queries: 100%|██████████| 6980/6980 [00:00<00:00, 12721.81it/s]\n",
      "Embedding documents: 100%|██████████| 67869/67869 [00:33<00:00, 2022.21it/s]\n"
     ]
    }
   ],
   "source": [
    "# Compute w2v embeddings for queries\n",
    "for id in tqdm(queries, \"Embedding queries\"):\n",
    "    raw_query = queries[id]['raw']\n",
    "    queries[id]['emb'] = dataset_utils.compute_embedding(\n",
    "        raw_query, w2v_model, 1)\n",
    "    queries[id]['first_L_emb'] = dataset_utils.compute_embedding(\n",
    "        raw_query, w2v_model, MAX_TOKENS)\n",
    "\n",
    "# Compute w2v embeddings for documents\n",
    "for docid in tqdm(documents, \"Embedding documents\"):\n",
    "    raw_doc = documents[docid]['raw']\n",
    "    documents[docid]['emb'] = dataset_utils.compute_embedding(\n",
    "        raw_doc, w2v_model)\n",
    "    documents[docid]['first_L_emb'] = dataset_utils.compute_embedding(\n",
    "        raw_doc, w2v_model, MAX_TOKENS)"
   ]
  },
  {
   "cell_type": "code",
   "execution_count": 5,
   "metadata": {},
   "outputs": [
    {
     "data": {
      "application/vnd.jupyter.widget-view+json": {
       "model_id": "33c1e2e4b9974d4689554b6d5554f091",
       "version_major": 2,
       "version_minor": 0
      },
      "text/plain": [
       "Building QueryDocumentDataset:   0%|          | 0/6980 [00:00<?, ?it/s]"
      ]
     },
     "metadata": {},
     "output_type": "display_data"
    },
    {
     "data": {
      "application/vnd.jupyter.widget-view+json": {
       "model_id": "17288fca278f4889a97ceeab152bbeae",
       "version_major": 2,
       "version_minor": 0
      },
      "text/plain": [
       "Building TripletQueryDocumentDataset:   0%|          | 0/6980 [00:00<?, ?it/s]"
      ]
     },
     "metadata": {},
     "output_type": "display_data"
    },
    {
     "name": "stderr",
     "output_type": "stream",
     "text": [
      "You are using the default legacy behaviour of the <class 'transformers.models.t5.tokenization_t5.T5Tokenizer'>. This is expected, and simply means that the `legacy` (previous) behavior will be used so nothing changes for you. If you want to use the new behaviour, set `legacy=False`. This should only be set if you understand what it means, and thoroughly read the reason why this was added as explained in https://github.com/huggingface/transformers/pull/24565\n",
      "Special tokens have been added in the vocabulary, make sure the associated word embeddings are fine-tuned or trained.\n"
     ]
    },
    {
     "data": {
      "application/vnd.jupyter.widget-view+json": {
       "model_id": "7d864035b4704eaa830be582bb6868b5",
       "version_major": 2,
       "version_minor": 0
      },
      "text/plain": [
       "Building DocumentDataset:   0%|          | 0/67869 [00:00<?, ?it/s]"
      ]
     },
     "metadata": {},
     "output_type": "display_data"
    },
    {
     "name": "stderr",
     "output_type": "stream",
     "text": [
      "Special tokens have been added in the vocabulary, make sure the associated word embeddings are fine-tuned or trained.\n"
     ]
    },
    {
     "data": {
      "application/vnd.jupyter.widget-view+json": {
       "model_id": "ff9793e7abdf493ba88fad949d08fec8",
       "version_major": 2,
       "version_minor": 0
      },
      "text/plain": [
       "Building RetrievalDataset:   0%|          | 0/6980 [00:00<?, ?it/s]"
      ]
     },
     "metadata": {},
     "output_type": "display_data"
    }
   ],
   "source": [
    "# Create datasets for siamese models\n",
    "pairs_dataset = mydataset.QueryDocumentDataset(queries, documents)\n",
    "triplets_dataset = mydataset.TripletQueryDocumentDataset(queries, documents)\n",
    "\n",
    "# Create datasets for seq2seq models\n",
    "dd_dataset = mydataset.DocumentDataset(documents)\n",
    "ret_dataset = mydataset.RetrievalDataset(documents, queries)"
   ]
  },
  {
   "cell_type": "code",
   "execution_count": 6,
   "metadata": {},
   "outputs": [
    {
     "name": "stdout",
     "output_type": "stream",
     "text": [
      "(query, doc, relevance) = (1102330, 8699805, 1)\n",
      "(query, doc+, doc-) = (1102330, 8699805, 533523)\n",
      "\n",
      "doc_emb: tensor([ 5696,  8325,   819,  1836,  9657,  1406,  7178, 19511,   819,  1836,\n",
      "           78,    60,  9657, 20743,  3841,   706,   228,     3,  9052,   226,\n",
      "          159,    51,  3841, 20743,   158,    32,   102,    40, 20743,  3841,\n",
      "         3841,     1]) \n",
      "docid_emb: tensor([12,  7,  8,  6,  7,  4,  4,  6, 10, 11, 11])\n",
      "decoded docid: 7867446\n",
      "decoded doc: suffer frequent headach jaw pain wake dull headach sore jaw grind teeth night could bruxism teeth grind peopl grind teeth teeth</s>\n",
      "\n",
      "query_emb: tensor([  158,    32,   102,    40, 20743,  3841,  2085,     1,     0]) \n",
      "docid_emb: tensor([12,  7,  8,  6,  7,  4,  4,  6, 10, 11, 11])\n",
      "decoded docid: 7867446\n",
      "decoded query: peopl grind teeth sleep</s><pad>\n"
     ]
    }
   ],
   "source": [
    "# print QueryDocumentDataset sample numbers\n",
    "print(f\"(query, doc, relevance) = \"\n",
    "      f\"({pairs_dataset[0][0]}, {pairs_dataset[0][1]}, {pairs_dataset[0][2]})\")\n",
    "\n",
    "# print TripletQueryDocumentDataset sample numbers\n",
    "print(f\"(query, doc+, doc-) = \"\n",
    "      f\"({triplets_dataset[0][0]}, {triplets_dataset[0][1]}, {triplets_dataset[0][2]})\")\n",
    "\n",
    "# print DocumentDataset sample \n",
    "print(\"\\ndoc_emb:\", dd_dataset[0][0], \"\\ndocid_emb:\", dd_dataset[0][1])\n",
    "print(\"decoded docid:\", dd_dataset.decode_docid(dd_dataset[0][1]))\n",
    "print(\"decoded doc:\", dd_dataset.tokenizer.decode(dd_dataset[0][0]))\n",
    "\n",
    "# print RetrievalDataset sample \n",
    "print(\"\\nquery_emb:\", ret_dataset[0][0], \"\\ndocid_emb:\", ret_dataset[0][1])\n",
    "print(\"decoded docid:\", ret_dataset.decode_docid(ret_dataset[0][1]))\n",
    "print(\"decoded query:\", ret_dataset.tokenizer.decode(ret_dataset[0][0]))"
   ]
  },
  {
   "cell_type": "markdown",
   "metadata": {},
   "source": [
    "#### Run the siamese network"
   ]
  },
  {
   "cell_type": "code",
   "execution_count": 7,
   "metadata": {},
   "outputs": [],
   "source": [
    "%load_ext tensorboard"
   ]
  },
  {
   "cell_type": "code",
   "execution_count": 8,
   "metadata": {},
   "outputs": [
    {
     "name": "stderr",
     "output_type": "stream",
     "text": [
      "GPU available: True (mps), used: True\n",
      "TPU available: False, using: 0 TPU cores\n",
      "IPU available: False, using: 0 IPUs\n",
      "HPU available: False, using: 0 HPUs\n",
      "Missing logger folder: /Users/alirezarafiei/IR_DSI_project/lightning_logs\n",
      "\n",
      "  | Name            | Type       | Params\n",
      "-----------------------------------------------\n",
      "0 | siamese_network | Sequential | 2.0 K \n",
      "1 | fc_layers       | Sequential | 984 K \n",
      "2 | fc              | Linear     | 9     \n",
      "3 | sigmoid         | Sigmoid    | 0     \n",
      "4 | criterion       | BCELoss    | 0     \n",
      "-----------------------------------------------\n",
      "986 K     Trainable params\n",
      "0         Non-trainable params\n",
      "986 K     Total params\n",
      "3.945     Total estimated model params size (MB)\n"
     ]
    },
    {
     "data": {
      "application/vnd.jupyter.widget-view+json": {
       "model_id": "a439483e15df4e6c8674c45652d076e1",
       "version_major": 2,
       "version_minor": 0
      },
      "text/plain": [
       "Sanity Checking: |          | 0/? [00:00<?, ?it/s]"
      ]
     },
     "metadata": {},
     "output_type": "display_data"
    },
    {
     "name": "stderr",
     "output_type": "stream",
     "text": [
      "/Users/alirezarafiei/miniforge3/lib/python3.10/site-packages/pytorch_lightning/trainer/connectors/data_connector.py:436: Consider setting `persistent_workers=True` in 'val_dataloader' to speed up the dataloader worker initialization.\n"
     ]
    },
    {
     "name": "stdout",
     "output_type": "stream",
     "text": [
      "val_loss_avg:  tensor(0.6935, device='mps:0')\n",
      "accuracy:  0.51513671875\n"
     ]
    },
    {
     "name": "stderr",
     "output_type": "stream",
     "text": [
      "/Users/alirezarafiei/miniforge3/lib/python3.10/site-packages/pytorch_lightning/trainer/connectors/data_connector.py:436: Consider setting `persistent_workers=True` in 'train_dataloader' to speed up the dataloader worker initialization.\n"
     ]
    },
    {
     "data": {
      "application/vnd.jupyter.widget-view+json": {
       "model_id": "793325b9679147ca8fe4365d2a8e9e00",
       "version_major": 2,
       "version_minor": 0
      },
      "text/plain": [
       "Training: |          | 0/? [00:00<?, ?it/s]"
      ]
     },
     "metadata": {},
     "output_type": "display_data"
    },
    {
     "data": {
      "application/vnd.jupyter.widget-view+json": {
       "model_id": "d089874a62354de9bbcbb61fa5a33d51",
       "version_major": 2,
       "version_minor": 0
      },
      "text/plain": [
       "Validation: |          | 0/? [00:00<?, ?it/s]"
      ]
     },
     "metadata": {},
     "output_type": "display_data"
    },
    {
     "name": "stdout",
     "output_type": "stream",
     "text": [
      "train_loss_avg:  tensor(0.6937, device='mps:0')\n",
      "val_loss_avg:  tensor(0.6932, device='mps:0')\n",
      "accuracy:  0.5022526596273694\n"
     ]
    },
    {
     "data": {
      "application/vnd.jupyter.widget-view+json": {
       "model_id": "7501e1f631264626be1e17e04679a0ce",
       "version_major": 2,
       "version_minor": 0
      },
      "text/plain": [
       "Validation: |          | 0/? [00:00<?, ?it/s]"
      ]
     },
     "metadata": {},
     "output_type": "display_data"
    },
    {
     "name": "stdout",
     "output_type": "stream",
     "text": [
      "train_loss_avg:  tensor(0.6934, device='mps:0')\n",
      "val_loss_avg:  tensor(0.6933, device='mps:0')\n",
      "accuracy:  0.5029850815023694\n"
     ]
    },
    {
     "data": {
      "application/vnd.jupyter.widget-view+json": {
       "model_id": "1c4a192693da47fb9cc90fa565612cce",
       "version_major": 2,
       "version_minor": 0
      },
      "text/plain": [
       "Validation: |          | 0/? [00:00<?, ?it/s]"
      ]
     },
     "metadata": {},
     "output_type": "display_data"
    },
    {
     "name": "stdout",
     "output_type": "stream",
     "text": [
      "train_loss_avg:  tensor(0.6932, device='mps:0')\n",
      "val_loss_avg:  tensor(0.6931, device='mps:0')\n",
      "accuracy:  0.49963071197271347\n"
     ]
    },
    {
     "data": {
      "application/vnd.jupyter.widget-view+json": {
       "model_id": "813a134bb1e14989aa6c907f2540a477",
       "version_major": 2,
       "version_minor": 0
      },
      "text/plain": [
       "Validation: |          | 0/? [00:00<?, ?it/s]"
      ]
     },
     "metadata": {},
     "output_type": "display_data"
    },
    {
     "name": "stdout",
     "output_type": "stream",
     "text": [
      "train_loss_avg:  tensor(0.6931, device='mps:0')\n",
      "val_loss_avg:  tensor(0.6930, device='mps:0')\n",
      "accuracy:  0.5071272658450263\n"
     ]
    },
    {
     "data": {
      "application/vnd.jupyter.widget-view+json": {
       "model_id": "1e616158063b42a091559fe5b5556527",
       "version_major": 2,
       "version_minor": 0
      },
      "text/plain": [
       "Validation: |          | 0/? [00:00<?, ?it/s]"
      ]
     },
     "metadata": {},
     "output_type": "display_data"
    },
    {
     "name": "stdout",
     "output_type": "stream",
     "text": [
      "train_loss_avg:  tensor(0.6925, device='mps:0')\n",
      "val_loss_avg:  tensor(0.6909, device='mps:0')\n",
      "accuracy:  0.5113740818841117\n"
     ]
    },
    {
     "data": {
      "application/vnd.jupyter.widget-view+json": {
       "model_id": "9abb91208e904cfea98973e60fd9fb3f",
       "version_major": 2,
       "version_minor": 0
      },
      "text/plain": [
       "Validation: |          | 0/? [00:00<?, ?it/s]"
      ]
     },
     "metadata": {},
     "output_type": "display_data"
    },
    {
     "name": "stdout",
     "output_type": "stream",
     "text": [
      "train_loss_avg:  tensor(0.6881, device='mps:0')\n",
      "val_loss_avg:  tensor(0.6827, device='mps:0')\n",
      "accuracy:  0.549761603985514\n"
     ]
    },
    {
     "data": {
      "application/vnd.jupyter.widget-view+json": {
       "model_id": "f92353bc42c44fcbba3ad745dc8ed9e9",
       "version_major": 2,
       "version_minor": 0
      },
      "text/plain": [
       "Validation: |          | 0/? [00:00<?, ?it/s]"
      ]
     },
     "metadata": {},
     "output_type": "display_data"
    },
    {
     "name": "stdout",
     "output_type": "stream",
     "text": [
      "train_loss_avg:  tensor(0.6774, device='mps:0')\n",
      "val_loss_avg:  tensor(0.6666, device='mps:0')\n",
      "accuracy:  0.5772633275815419\n"
     ]
    },
    {
     "data": {
      "application/vnd.jupyter.widget-view+json": {
       "model_id": "ed87569cd8bb4a7780ecd0a573eec698",
       "version_major": 2,
       "version_minor": 0
      },
      "text/plain": [
       "Validation: |          | 0/? [00:00<?, ?it/s]"
      ]
     },
     "metadata": {},
     "output_type": "display_data"
    },
    {
     "name": "stdout",
     "output_type": "stream",
     "text": [
      "train_loss_avg:  tensor(0.6638, device='mps:0')\n",
      "val_loss_avg:  tensor(0.6512, device='mps:0')\n",
      "accuracy:  0.60498046875\n"
     ]
    },
    {
     "data": {
      "application/vnd.jupyter.widget-view+json": {
       "model_id": "c46c544e0c6045828d4da113e4729b49",
       "version_major": 2,
       "version_minor": 0
      },
      "text/plain": [
       "Validation: |          | 0/? [00:00<?, ?it/s]"
      ]
     },
     "metadata": {},
     "output_type": "display_data"
    },
    {
     "name": "stdout",
     "output_type": "stream",
     "text": [
      "train_loss_avg:  tensor(0.6566, device='mps:0')\n",
      "val_loss_avg:  tensor(0.6465, device='mps:0')\n",
      "accuracy:  0.606164242540087\n"
     ]
    },
    {
     "data": {
      "application/vnd.jupyter.widget-view+json": {
       "model_id": "9c5097ea17a34594afd62fc9224c82d9",
       "version_major": 2,
       "version_minor": 0
      },
      "text/plain": [
       "Validation: |          | 0/? [00:00<?, ?it/s]"
      ]
     },
     "metadata": {},
     "output_type": "display_data"
    },
    {
     "name": "stderr",
     "output_type": "stream",
     "text": [
      "`Trainer.fit` stopped: `max_epochs=10` reached.\n"
     ]
    },
    {
     "name": "stdout",
     "output_type": "stream",
     "text": [
      "train_loss_avg:  tensor(0.6504, device='mps:0')\n",
      "val_loss_avg:  tensor(0.6404, device='mps:0')\n",
      "accuracy:  0.6080476130758014\n"
     ]
    },
    {
     "data": {
      "text/html": [
       "\n",
       "      <iframe id=\"tensorboard-frame-668aae23ec6eb439\" width=\"100%\" height=\"800\" frameborder=\"0\">\n",
       "      </iframe>\n",
       "      <script>\n",
       "        (function() {\n",
       "          const frame = document.getElementById(\"tensorboard-frame-668aae23ec6eb439\");\n",
       "          const url = new URL(\"/\", window.location);\n",
       "          const port = 6006;\n",
       "          if (port) {\n",
       "            url.port = port;\n",
       "          }\n",
       "          frame.src = url;\n",
       "        })();\n",
       "      </script>\n",
       "    "
      ],
      "text/plain": [
       "<IPython.core.display.HTML object>"
      ]
     },
     "metadata": {},
     "output_type": "display_data"
    }
   ],
   "source": [
    "# Change dataset return type to 'emb' (w2v embeddings)\n",
    "pairs_dataset.set_ret_type('emb')\n",
    "\n",
    "# Initialize the siamese network\n",
    "siamese_net = siamese.SiameseNetwork(\n",
    "    input_size=EMBEDDING_SIZE,\n",
    "    conv_channels=[8,16,32])\n",
    "\n",
    "# Train the model\n",
    "train_set_sn, valid_set_sn = utils.train_model(\n",
    "    pairs_dataset, siamese_net, max_epochs=10,\n",
    "    batch_size=1024, split_ratio=0.8, num_workers=2)\n",
    "\n",
    "%tensorboard --logdir lightning_logs/"
   ]
  },
  {
   "cell_type": "markdown",
   "metadata": {},
   "source": [
    "#### Evaluate the siamese network"
   ]
  },
  {
   "cell_type": "code",
   "execution_count": 9,
   "metadata": {},
   "outputs": [
    {
     "data": {
      "application/vnd.jupyter.widget-view+json": {
       "model_id": "c04d4e4cc1e04d4582dd92c51e21dd92",
       "version_major": 2,
       "version_minor": 0
      },
      "text/plain": [
       "Computing Top 10 DocIDs:   0%|          | 0/67869 [00:00<?, ?it/s]"
      ]
     },
     "metadata": {},
     "output_type": "display_data"
    },
    {
     "name": "stdout",
     "output_type": "stream",
     "text": [
      "Top 10 ids: ['1047602' '7151790' '591861' '6403354' '8394913' '8314183' '8394914'\n",
      " '5136004' '7919016' '5571459']\n",
      "Relevant ids: ['7867446', '3368049', '4778576', '2914344', '2045120', '7867439', '6110464', '2045118', '7867440', '8699805']\n",
      "Common elements 0\n"
     ]
    }
   ],
   "source": [
    "# Set model to evaluation mode\n",
    "siamese_net.eval()\n",
    "\n",
    "# Extract first query\n",
    "query = list(queries.keys())[0]\n",
    "# Get the list of relevant docids for the query\n",
    "docids_list = queries[query]['docids_list']\n",
    "\n",
    "# Compute top-k docids\n",
    "top_k_ids = eval_utils.top_k_docids_siamese(\n",
    "    siamese_net, queries[query], documents, k=K1)\n",
    "\n",
    "# Print top-k docids and relevant docid\n",
    "print(f\"Top {K1} ids:\", top_k_ids)\n",
    "print(\"Relevant ids:\", docids_list)\n",
    "print(\"Common elements\", np.isin(top_k_ids, docids_list).sum())"
   ]
  },
  {
   "cell_type": "code",
   "execution_count": 10,
   "metadata": {},
   "outputs": [
    {
     "data": {
      "application/vnd.jupyter.widget-view+json": {
       "model_id": "67397277056d4106a0664db6bcd55f7b",
       "version_major": 2,
       "version_minor": 0
      },
      "text/plain": [
       "Computing Mean Metrics:   0%|          | 0/10 [00:00<?, ?it/s]"
      ]
     },
     "metadata": {},
     "output_type": "display_data"
    },
    {
     "data": {
      "application/vnd.jupyter.widget-view+json": {
       "model_id": "4e73f94b4924446dbc1afe8207578223",
       "version_major": 2,
       "version_minor": 0
      },
      "text/plain": [
       "Computing Top 10 DocIDs:   0%|          | 0/67869 [00:00<?, ?it/s]"
      ]
     },
     "metadata": {},
     "output_type": "display_data"
    },
    {
     "data": {
      "application/vnd.jupyter.widget-view+json": {
       "model_id": "a0475b46f52e4702ace517f131b6af44",
       "version_major": 2,
       "version_minor": 0
      },
      "text/plain": [
       "Computing Top 10 DocIDs:   0%|          | 0/67869 [00:00<?, ?it/s]"
      ]
     },
     "metadata": {},
     "output_type": "display_data"
    },
    {
     "data": {
      "application/vnd.jupyter.widget-view+json": {
       "model_id": "a8471aed9654457b8254743c2f067729",
       "version_major": 2,
       "version_minor": 0
      },
      "text/plain": [
       "Computing Top 10 DocIDs:   0%|          | 0/67869 [00:00<?, ?it/s]"
      ]
     },
     "metadata": {},
     "output_type": "display_data"
    },
    {
     "data": {
      "application/vnd.jupyter.widget-view+json": {
       "model_id": "8b125061717040a895b42286fec36631",
       "version_major": 2,
       "version_minor": 0
      },
      "text/plain": [
       "Computing Top 10 DocIDs:   0%|          | 0/67869 [00:00<?, ?it/s]"
      ]
     },
     "metadata": {},
     "output_type": "display_data"
    },
    {
     "data": {
      "application/vnd.jupyter.widget-view+json": {
       "model_id": "ef44563ebeb04e529c526720f3f58630",
       "version_major": 2,
       "version_minor": 0
      },
      "text/plain": [
       "Computing Top 10 DocIDs:   0%|          | 0/67869 [00:00<?, ?it/s]"
      ]
     },
     "metadata": {},
     "output_type": "display_data"
    },
    {
     "data": {
      "application/vnd.jupyter.widget-view+json": {
       "model_id": "a35539503c3b49d0ae23813131499e7f",
       "version_major": 2,
       "version_minor": 0
      },
      "text/plain": [
       "Computing Top 10 DocIDs:   0%|          | 0/67869 [00:00<?, ?it/s]"
      ]
     },
     "metadata": {},
     "output_type": "display_data"
    },
    {
     "data": {
      "application/vnd.jupyter.widget-view+json": {
       "model_id": "99564f61e39548ecb7275302d055c00a",
       "version_major": 2,
       "version_minor": 0
      },
      "text/plain": [
       "Computing Top 10 DocIDs:   0%|          | 0/67869 [00:00<?, ?it/s]"
      ]
     },
     "metadata": {},
     "output_type": "display_data"
    },
    {
     "data": {
      "application/vnd.jupyter.widget-view+json": {
       "model_id": "33c51f8a3131414da19653f64930703e",
       "version_major": 2,
       "version_minor": 0
      },
      "text/plain": [
       "Computing Top 10 DocIDs:   0%|          | 0/67869 [00:00<?, ?it/s]"
      ]
     },
     "metadata": {},
     "output_type": "display_data"
    },
    {
     "data": {
      "application/vnd.jupyter.widget-view+json": {
       "model_id": "f3c19159534c4b04abf549f7c919935b",
       "version_major": 2,
       "version_minor": 0
      },
      "text/plain": [
       "Computing Top 10 DocIDs:   0%|          | 0/67869 [00:00<?, ?it/s]"
      ]
     },
     "metadata": {},
     "output_type": "display_data"
    },
    {
     "data": {
      "application/vnd.jupyter.widget-view+json": {
       "model_id": "7cf0610e8cf54988babc855bf6afb723",
       "version_major": 2,
       "version_minor": 0
      },
      "text/plain": [
       "Computing Top 10 DocIDs:   0%|          | 0/67869 [00:00<?, ?it/s]"
      ]
     },
     "metadata": {},
     "output_type": "display_data"
    },
    {
     "data": {
      "application/vnd.jupyter.widget-view+json": {
       "model_id": "8a27dd891d6f4592b9d78860bb03cc51",
       "version_major": 2,
       "version_minor": 0
      },
      "text/plain": [
       "Computing Mean Metrics:   0%|          | 0/10 [00:00<?, ?it/s]"
      ]
     },
     "metadata": {},
     "output_type": "display_data"
    },
    {
     "data": {
      "application/vnd.jupyter.widget-view+json": {
       "model_id": "58689031280a45398ca8b7a1211ecef7",
       "version_major": 2,
       "version_minor": 0
      },
      "text/plain": [
       "Computing Top 100 DocIDs:   0%|          | 0/67869 [00:00<?, ?it/s]"
      ]
     },
     "metadata": {},
     "output_type": "display_data"
    },
    {
     "data": {
      "application/vnd.jupyter.widget-view+json": {
       "model_id": "87bf5805c6ef4590b8fe17c292f0cf3f",
       "version_major": 2,
       "version_minor": 0
      },
      "text/plain": [
       "Computing Top 100 DocIDs:   0%|          | 0/67869 [00:00<?, ?it/s]"
      ]
     },
     "metadata": {},
     "output_type": "display_data"
    },
    {
     "data": {
      "application/vnd.jupyter.widget-view+json": {
       "model_id": "7b46eb7097f14991a302f7a91a2c2627",
       "version_major": 2,
       "version_minor": 0
      },
      "text/plain": [
       "Computing Top 100 DocIDs:   0%|          | 0/67869 [00:00<?, ?it/s]"
      ]
     },
     "metadata": {},
     "output_type": "display_data"
    },
    {
     "data": {
      "application/vnd.jupyter.widget-view+json": {
       "model_id": "5b0899887ffe4fa292ca021c14229e6e",
       "version_major": 2,
       "version_minor": 0
      },
      "text/plain": [
       "Computing Top 100 DocIDs:   0%|          | 0/67869 [00:00<?, ?it/s]"
      ]
     },
     "metadata": {},
     "output_type": "display_data"
    },
    {
     "data": {
      "application/vnd.jupyter.widget-view+json": {
       "model_id": "c021e8cde9be4e77a021d494aea4824e",
       "version_major": 2,
       "version_minor": 0
      },
      "text/plain": [
       "Computing Top 100 DocIDs:   0%|          | 0/67869 [00:00<?, ?it/s]"
      ]
     },
     "metadata": {},
     "output_type": "display_data"
    },
    {
     "data": {
      "application/vnd.jupyter.widget-view+json": {
       "model_id": "5a0e73396b4f4ba094471db66dc60113",
       "version_major": 2,
       "version_minor": 0
      },
      "text/plain": [
       "Computing Top 100 DocIDs:   0%|          | 0/67869 [00:00<?, ?it/s]"
      ]
     },
     "metadata": {},
     "output_type": "display_data"
    },
    {
     "data": {
      "application/vnd.jupyter.widget-view+json": {
       "model_id": "bcc30cb22583468fa2ecf1f1448852bd",
       "version_major": 2,
       "version_minor": 0
      },
      "text/plain": [
       "Computing Top 100 DocIDs:   0%|          | 0/67869 [00:00<?, ?it/s]"
      ]
     },
     "metadata": {},
     "output_type": "display_data"
    },
    {
     "data": {
      "application/vnd.jupyter.widget-view+json": {
       "model_id": "9b6d423b23e44d26a09a9d4b0443e314",
       "version_major": 2,
       "version_minor": 0
      },
      "text/plain": [
       "Computing Top 100 DocIDs:   0%|          | 0/67869 [00:00<?, ?it/s]"
      ]
     },
     "metadata": {},
     "output_type": "display_data"
    },
    {
     "data": {
      "application/vnd.jupyter.widget-view+json": {
       "model_id": "47bf6d48339a48bca2e2ef8183f94b95",
       "version_major": 2,
       "version_minor": 0
      },
      "text/plain": [
       "Computing Top 100 DocIDs:   0%|          | 0/67869 [00:00<?, ?it/s]"
      ]
     },
     "metadata": {},
     "output_type": "display_data"
    },
    {
     "data": {
      "application/vnd.jupyter.widget-view+json": {
       "model_id": "b69c72a48ad046e4aa1fbb4b40d035d7",
       "version_major": 2,
       "version_minor": 0
      },
      "text/plain": [
       "Computing Top 100 DocIDs:   0%|          | 0/67869 [00:00<?, ?it/s]"
      ]
     },
     "metadata": {},
     "output_type": "display_data"
    },
    {
     "name": "stdout",
     "output_type": "stream",
     "text": [
      "Mean Average Precision (MAP): 0.0\n",
      "Normalized Discounted Cumulative Gain (NDCG): 0.0\n",
      "Mean Precison@10 0.0\n",
      "Mean Recall@10 0.0\n",
      "Mean Precison@100 0.003\n",
      "Mean Recall@100 0.029999999999999992\n"
     ]
    }
   ],
   "source": [
    "# Change return type to 'id' to get query IDs\n",
    "pairs_dataset.set_ret_type('id')\n",
    "# Randomly select N triplets from validation set\n",
    "selected_triplets = random.sample(list(valid_set_sn), 10)\n",
    "# Extract queries from the selected triplets\n",
    "random_queries = [triplet[0] for triplet in selected_triplets]\n",
    "\n",
    "# Compute metrics for K1\n",
    "running_mean_AP, running_mean_PatK1, running_mean_RatK1, running_mean_nDCG = eval_utils.compute_Mean_metrics(\n",
    "    siamese_net, random_queries, queries, documents, k=K1, model_type='siamese')\n",
    "# Compute metrics for K2\n",
    "_, running_mean_PatK2, running_mean_RatK2, _ = eval_utils.compute_Mean_metrics(\n",
    "    siamese_net, random_queries, queries, documents, k=K2, model_type='siamese')\n",
    "\n",
    "# Print mean average precision\n",
    "print(\"Mean Average Precision (MAP):\", running_mean_AP)\n",
    "# Print ndcg\n",
    "print(\"Normalized Discounted Cumulative Gain (NDCG):\", running_mean_nDCG)\n",
    "# Print mean precision at k1\n",
    "print(f\"Mean Precison@{K1}\", running_mean_PatK1)\n",
    "# Print mean recall at k1\n",
    "print(f\"Mean Recall@{K1}\", running_mean_RatK1)\n",
    "# Print mean precision at k2\n",
    "print(f\"Mean Precison@{K2}\", running_mean_PatK2)\n",
    "# Print mean recall at k2\n",
    "print(f\"Mean Recall@{K2}\", running_mean_RatK2)"
   ]
  },
  {
   "cell_type": "code",
   "execution_count": 11,
   "metadata": {},
   "outputs": [
    {
     "data": {
      "application/vnd.jupyter.widget-view+json": {
       "model_id": "0bb4cdae604846bc8f056a3f41f277d6",
       "version_major": 2,
       "version_minor": 0
      },
      "text/plain": [
       "Computing Mean Metrics:   0%|          | 0/10 [00:00<?, ?it/s]"
      ]
     },
     "metadata": {},
     "output_type": "display_data"
    },
    {
     "data": {
      "application/vnd.jupyter.widget-view+json": {
       "model_id": "9912681a12974dcdb393088d2e61e683",
       "version_major": 2,
       "version_minor": 0
      },
      "text/plain": [
       "Computing Top 10 DocIDs:   0%|          | 0/67869 [00:00<?, ?it/s]"
      ]
     },
     "metadata": {},
     "output_type": "display_data"
    },
    {
     "data": {
      "application/vnd.jupyter.widget-view+json": {
       "model_id": "ce1d75d22102421f97d42691b68a41f7",
       "version_major": 2,
       "version_minor": 0
      },
      "text/plain": [
       "Computing Top 10 DocIDs:   0%|          | 0/67869 [00:00<?, ?it/s]"
      ]
     },
     "metadata": {},
     "output_type": "display_data"
    },
    {
     "data": {
      "application/vnd.jupyter.widget-view+json": {
       "model_id": "808cff0cfe9a46ccacdd2508a6eeaff0",
       "version_major": 2,
       "version_minor": 0
      },
      "text/plain": [
       "Computing Top 10 DocIDs:   0%|          | 0/67869 [00:00<?, ?it/s]"
      ]
     },
     "metadata": {},
     "output_type": "display_data"
    },
    {
     "data": {
      "application/vnd.jupyter.widget-view+json": {
       "model_id": "33b9d499d49f4d56923d07aa258f4095",
       "version_major": 2,
       "version_minor": 0
      },
      "text/plain": [
       "Computing Top 10 DocIDs:   0%|          | 0/67869 [00:00<?, ?it/s]"
      ]
     },
     "metadata": {},
     "output_type": "display_data"
    },
    {
     "data": {
      "application/vnd.jupyter.widget-view+json": {
       "model_id": "8e30b42cab0445f18ada69d883ce45fd",
       "version_major": 2,
       "version_minor": 0
      },
      "text/plain": [
       "Computing Top 10 DocIDs:   0%|          | 0/67869 [00:00<?, ?it/s]"
      ]
     },
     "metadata": {},
     "output_type": "display_data"
    },
    {
     "data": {
      "application/vnd.jupyter.widget-view+json": {
       "model_id": "7127426bba72478aa866e51e183f6393",
       "version_major": 2,
       "version_minor": 0
      },
      "text/plain": [
       "Computing Top 10 DocIDs:   0%|          | 0/67869 [00:00<?, ?it/s]"
      ]
     },
     "metadata": {},
     "output_type": "display_data"
    },
    {
     "data": {
      "application/vnd.jupyter.widget-view+json": {
       "model_id": "c4bf11a5924b4337b66df79f9a6de333",
       "version_major": 2,
       "version_minor": 0
      },
      "text/plain": [
       "Computing Top 10 DocIDs:   0%|          | 0/67869 [00:00<?, ?it/s]"
      ]
     },
     "metadata": {},
     "output_type": "display_data"
    },
    {
     "data": {
      "application/vnd.jupyter.widget-view+json": {
       "model_id": "4483667047864dcdbb6e4a493abfb143",
       "version_major": 2,
       "version_minor": 0
      },
      "text/plain": [
       "Computing Top 10 DocIDs:   0%|          | 0/67869 [00:00<?, ?it/s]"
      ]
     },
     "metadata": {},
     "output_type": "display_data"
    },
    {
     "data": {
      "application/vnd.jupyter.widget-view+json": {
       "model_id": "5a59c75fd27847a0b13c26cedfb7b422",
       "version_major": 2,
       "version_minor": 0
      },
      "text/plain": [
       "Computing Top 10 DocIDs:   0%|          | 0/67869 [00:00<?, ?it/s]"
      ]
     },
     "metadata": {},
     "output_type": "display_data"
    },
    {
     "data": {
      "application/vnd.jupyter.widget-view+json": {
       "model_id": "bd6e5737dc434049a622460b071bb055",
       "version_major": 2,
       "version_minor": 0
      },
      "text/plain": [
       "Computing Top 10 DocIDs:   0%|          | 0/67869 [00:00<?, ?it/s]"
      ]
     },
     "metadata": {},
     "output_type": "display_data"
    },
    {
     "data": {
      "application/vnd.jupyter.widget-view+json": {
       "model_id": "e0350045c577436796fa4231f144a49c",
       "version_major": 2,
       "version_minor": 0
      },
      "text/plain": [
       "Computing Mean Metrics:   0%|          | 0/10 [00:00<?, ?it/s]"
      ]
     },
     "metadata": {},
     "output_type": "display_data"
    },
    {
     "data": {
      "application/vnd.jupyter.widget-view+json": {
       "model_id": "71a87af8ec46494cb5e181900084be43",
       "version_major": 2,
       "version_minor": 0
      },
      "text/plain": [
       "Computing Top 100 DocIDs:   0%|          | 0/67869 [00:00<?, ?it/s]"
      ]
     },
     "metadata": {},
     "output_type": "display_data"
    },
    {
     "data": {
      "application/vnd.jupyter.widget-view+json": {
       "model_id": "60d1b919783647c9a077b4df388218ff",
       "version_major": 2,
       "version_minor": 0
      },
      "text/plain": [
       "Computing Top 100 DocIDs:   0%|          | 0/67869 [00:00<?, ?it/s]"
      ]
     },
     "metadata": {},
     "output_type": "display_data"
    },
    {
     "data": {
      "application/vnd.jupyter.widget-view+json": {
       "model_id": "0a900285d37f48c8a497e3d79a6f705d",
       "version_major": 2,
       "version_minor": 0
      },
      "text/plain": [
       "Computing Top 100 DocIDs:   0%|          | 0/67869 [00:00<?, ?it/s]"
      ]
     },
     "metadata": {},
     "output_type": "display_data"
    },
    {
     "data": {
      "application/vnd.jupyter.widget-view+json": {
       "model_id": "6c73af3818e04790a712091775fe185b",
       "version_major": 2,
       "version_minor": 0
      },
      "text/plain": [
       "Computing Top 100 DocIDs:   0%|          | 0/67869 [00:00<?, ?it/s]"
      ]
     },
     "metadata": {},
     "output_type": "display_data"
    },
    {
     "data": {
      "application/vnd.jupyter.widget-view+json": {
       "model_id": "d4bc35e774d04cf886b490cb5d621b72",
       "version_major": 2,
       "version_minor": 0
      },
      "text/plain": [
       "Computing Top 100 DocIDs:   0%|          | 0/67869 [00:00<?, ?it/s]"
      ]
     },
     "metadata": {},
     "output_type": "display_data"
    },
    {
     "data": {
      "application/vnd.jupyter.widget-view+json": {
       "model_id": "8fa670fd406a46518fde5e0b9aa04563",
       "version_major": 2,
       "version_minor": 0
      },
      "text/plain": [
       "Computing Top 100 DocIDs:   0%|          | 0/67869 [00:00<?, ?it/s]"
      ]
     },
     "metadata": {},
     "output_type": "display_data"
    },
    {
     "data": {
      "application/vnd.jupyter.widget-view+json": {
       "model_id": "dabb318cd57248f798f740ac20da9965",
       "version_major": 2,
       "version_minor": 0
      },
      "text/plain": [
       "Computing Top 100 DocIDs:   0%|          | 0/67869 [00:00<?, ?it/s]"
      ]
     },
     "metadata": {},
     "output_type": "display_data"
    },
    {
     "data": {
      "application/vnd.jupyter.widget-view+json": {
       "model_id": "7dfed8fea37c428bbc7a876b02cb379c",
       "version_major": 2,
       "version_minor": 0
      },
      "text/plain": [
       "Computing Top 100 DocIDs:   0%|          | 0/67869 [00:00<?, ?it/s]"
      ]
     },
     "metadata": {},
     "output_type": "display_data"
    },
    {
     "data": {
      "application/vnd.jupyter.widget-view+json": {
       "model_id": "0cebcb22f4834791b7ec2a773dc59c18",
       "version_major": 2,
       "version_minor": 0
      },
      "text/plain": [
       "Computing Top 100 DocIDs:   0%|          | 0/67869 [00:00<?, ?it/s]"
      ]
     },
     "metadata": {},
     "output_type": "display_data"
    },
    {
     "data": {
      "application/vnd.jupyter.widget-view+json": {
       "model_id": "958d3306f882476ca13e61bd497c5514",
       "version_major": 2,
       "version_minor": 0
      },
      "text/plain": [
       "Computing Top 100 DocIDs:   0%|          | 0/67869 [00:00<?, ?it/s]"
      ]
     },
     "metadata": {},
     "output_type": "display_data"
    },
    {
     "name": "stdout",
     "output_type": "stream",
     "text": [
      "Mean Average Precision (MAP): 0.0\n",
      "Normalized Discounted Cumulative Gain (NDCG): 0.0\n",
      "Mean Precison@10 0.0\n",
      "Mean Recall@10 0.0\n",
      "Mean Precison@100 0.0\n",
      "Mean Recall@100 0.0\n"
     ]
    }
   ],
   "source": [
    "# Change return type to 'id' to get query IDs\n",
    "pairs_dataset.set_ret_type('id')\n",
    "# Randomly select N triplets from train set\n",
    "selected_triplets = random.sample(list(train_set_sn), 10)\n",
    "# Extract queries from the selected triplets\n",
    "random_queries = [triplet[0] for triplet in selected_triplets]\n",
    "\n",
    "# Compute metrics for K1\n",
    "running_mean_AP, running_mean_PatK1, running_mean_RatK1, running_mean_nDCG = eval_utils.compute_Mean_metrics(\n",
    "    siamese_net, random_queries, queries, documents, k=K1, model_type='siamese')\n",
    "# Compute metrics for K2\n",
    "_, running_mean_PatK2, running_mean_RatK2,_ = eval_utils.compute_Mean_metrics(\n",
    "    siamese_net, random_queries, queries, documents, k=K2, model_type='siamese')\n",
    "\n",
    "# Print mean average precision\n",
    "print(\"Mean Average Precision (MAP):\", running_mean_AP)\n",
    "# Print ndcg\n",
    "print(\"Normalized Discounted Cumulative Gain (NDCG):\", running_mean_nDCG)\n",
    "# Print mean precision at k1\n",
    "print(f\"Mean Precison@{K1}\", running_mean_PatK1)\n",
    "# Print mean recall at k1\n",
    "print(f\"Mean Recall@{K1}\", running_mean_RatK1)\n",
    "# Print mean precision at k2\n",
    "print(f\"Mean Precison@{K2}\", running_mean_PatK2)\n",
    "# Print mean recall at k2\n",
    "print(f\"Mean Recall@{K2}\", running_mean_RatK2)"
   ]
  },
  {
   "cell_type": "markdown",
   "metadata": {},
   "source": [
    "#### Siamese-Attention-Net with L-TOKENS embedding"
   ]
  },
  {
   "cell_type": "code",
   "execution_count": 12,
   "metadata": {},
   "outputs": [
    {
     "name": "stderr",
     "output_type": "stream",
     "text": [
      "GPU available: True (mps), used: True\n",
      "TPU available: False, using: 0 TPU cores\n",
      "IPU available: False, using: 0 IPUs\n",
      "HPU available: False, using: 0 HPUs\n",
      "\n",
      "  | Name        | Type              | Params\n",
      "--------------------------------------------------\n",
      "0 | transformer | CustomTransformer | 3.4 M \n",
      "--------------------------------------------------\n",
      "3.4 M     Trainable params\n",
      "0         Non-trainable params\n",
      "3.4 M     Total params\n",
      "13.443    Total estimated model params size (MB)\n"
     ]
    },
    {
     "data": {
      "application/vnd.jupyter.widget-view+json": {
       "model_id": "846b7fd6b045405fa39af0965469772b",
       "version_major": 2,
       "version_minor": 0
      },
      "text/plain": [
       "Sanity Checking: |          | 0/? [00:00<?, ?it/s]"
      ]
     },
     "metadata": {},
     "output_type": "display_data"
    },
    {
     "name": "stdout",
     "output_type": "stream",
     "text": [
      "val_loss_avg:  tensor(0.7664, device='mps:0')\n",
      "accuracy:  0.51416015625\n"
     ]
    },
    {
     "name": "stderr",
     "output_type": "stream",
     "text": [
      "/Users/alirezarafiei/miniforge3/lib/python3.10/site-packages/pytorch_lightning/trainer/connectors/data_connector.py:441: The 'val_dataloader' does not have many workers which may be a bottleneck. Consider increasing the value of the `num_workers` argument` to `num_workers=13` in the `DataLoader` to improve performance.\n",
      "/Users/alirezarafiei/miniforge3/lib/python3.10/site-packages/pytorch_lightning/trainer/connectors/data_connector.py:441: The 'train_dataloader' does not have many workers which may be a bottleneck. Consider increasing the value of the `num_workers` argument` to `num_workers=13` in the `DataLoader` to improve performance.\n"
     ]
    },
    {
     "data": {
      "application/vnd.jupyter.widget-view+json": {
       "model_id": "3917c31f1cb14b4c94791e7a31da1558",
       "version_major": 2,
       "version_minor": 0
      },
      "text/plain": [
       "Training: |          | 0/? [00:00<?, ?it/s]"
      ]
     },
     "metadata": {},
     "output_type": "display_data"
    },
    {
     "data": {
      "application/vnd.jupyter.widget-view+json": {
       "model_id": "07579c787ef74387ad2d8c076a6d95a9",
       "version_major": 2,
       "version_minor": 0
      },
      "text/plain": [
       "Validation: |          | 0/? [00:00<?, ?it/s]"
      ]
     },
     "metadata": {},
     "output_type": "display_data"
    },
    {
     "name": "stdout",
     "output_type": "stream",
     "text": [
      "train_loss_avg:  tensor(0.6340, device='mps:0')\n",
      "val_loss_avg:  tensor(0.6182, device='mps:0')\n",
      "accuracy:  0.6876784903662545\n"
     ]
    },
    {
     "data": {
      "application/vnd.jupyter.widget-view+json": {
       "model_id": "5588f3282655453797867bf11c5c2bff",
       "version_major": 2,
       "version_minor": 0
      },
      "text/plain": [
       "Validation: |          | 0/? [00:00<?, ?it/s]"
      ]
     },
     "metadata": {},
     "output_type": "display_data"
    },
    {
     "name": "stdout",
     "output_type": "stream",
     "text": [
      "train_loss_avg:  tensor(0.6084, device='mps:0')\n",
      "val_loss_avg:  tensor(0.6142, device='mps:0')\n",
      "accuracy:  0.6965906471014023\n"
     ]
    },
    {
     "data": {
      "application/vnd.jupyter.widget-view+json": {
       "model_id": "a11cbd194c454fe9a4ca4241800b62c8",
       "version_major": 2,
       "version_minor": 0
      },
      "text/plain": [
       "Validation: |          | 0/? [00:00<?, ?it/s]"
      ]
     },
     "metadata": {},
     "output_type": "display_data"
    },
    {
     "name": "stdout",
     "output_type": "stream",
     "text": [
      "train_loss_avg:  tensor(0.5993, device='mps:0')\n",
      "val_loss_avg:  tensor(0.6123, device='mps:0')\n",
      "accuracy:  0.6980575429541724\n"
     ]
    },
    {
     "data": {
      "application/vnd.jupyter.widget-view+json": {
       "model_id": "9a3176245ddc48869a31393fb7a2f663",
       "version_major": 2,
       "version_minor": 0
      },
      "text/plain": [
       "Validation: |          | 0/? [00:00<?, ?it/s]"
      ]
     },
     "metadata": {},
     "output_type": "display_data"
    },
    {
     "name": "stdout",
     "output_type": "stream",
     "text": [
      "train_loss_avg:  tensor(0.5913, device='mps:0')\n",
      "val_loss_avg:  tensor(0.6131, device='mps:0')\n",
      "accuracy:  0.7005933225154877\n"
     ]
    },
    {
     "data": {
      "application/vnd.jupyter.widget-view+json": {
       "model_id": "e71a1dee288c427782689932573e6665",
       "version_major": 2,
       "version_minor": 0
      },
      "text/plain": [
       "Validation: |          | 0/? [00:00<?, ?it/s]"
      ]
     },
     "metadata": {},
     "output_type": "display_data"
    },
    {
     "name": "stdout",
     "output_type": "stream",
     "text": [
      "train_loss_avg:  tensor(0.5839, device='mps:0')\n",
      "val_loss_avg:  tensor(0.6153, device='mps:0')\n",
      "accuracy:  0.6988679255758014\n"
     ]
    },
    {
     "data": {
      "application/vnd.jupyter.widget-view+json": {
       "model_id": "4d667e4c0792403d9cc3eface645ce92",
       "version_major": 2,
       "version_minor": 0
      },
      "text/plain": [
       "Validation: |          | 0/? [00:00<?, ?it/s]"
      ]
     },
     "metadata": {},
     "output_type": "display_data"
    },
    {
     "name": "stdout",
     "output_type": "stream",
     "text": [
      "train_loss_avg:  tensor(0.5770, device='mps:0')\n",
      "val_loss_avg:  tensor(0.6154, device='mps:0')\n",
      "accuracy:  0.700078370315688\n"
     ]
    },
    {
     "data": {
      "application/vnd.jupyter.widget-view+json": {
       "model_id": "4590949bece84553a98391e693c9159c",
       "version_major": 2,
       "version_minor": 0
      },
      "text/plain": [
       "Validation: |          | 0/? [00:00<?, ?it/s]"
      ]
     },
     "metadata": {},
     "output_type": "display_data"
    },
    {
     "name": "stdout",
     "output_type": "stream",
     "text": [
      "train_loss_avg:  tensor(0.5701, device='mps:0')\n",
      "val_loss_avg:  tensor(0.6170, device='mps:0')\n",
      "accuracy:  0.6930167568581445\n"
     ]
    },
    {
     "data": {
      "application/vnd.jupyter.widget-view+json": {
       "model_id": "86a0b173bb0141ee9cb182ba9583cf7f",
       "version_major": 2,
       "version_minor": 0
      },
      "text/plain": [
       "Validation: |          | 0/? [00:00<?, ?it/s]"
      ]
     },
     "metadata": {},
     "output_type": "display_data"
    },
    {
     "name": "stdout",
     "output_type": "stream",
     "text": [
      "train_loss_avg:  tensor(0.5636, device='mps:0')\n",
      "val_loss_avg:  tensor(0.6161, device='mps:0')\n",
      "accuracy:  0.6971733037914548\n"
     ]
    },
    {
     "data": {
      "application/vnd.jupyter.widget-view+json": {
       "model_id": "7856bb46b9134d71b69d6b4e27272a38",
       "version_major": 2,
       "version_minor": 0
      },
      "text/plain": [
       "Validation: |          | 0/? [00:00<?, ?it/s]"
      ]
     },
     "metadata": {},
     "output_type": "display_data"
    },
    {
     "name": "stdout",
     "output_type": "stream",
     "text": [
      "train_loss_avg:  tensor(0.5629, device='mps:0')\n",
      "val_loss_avg:  tensor(0.6190, device='mps:0')\n",
      "accuracy:  0.6872230342456273\n"
     ]
    },
    {
     "data": {
      "application/vnd.jupyter.widget-view+json": {
       "model_id": "49f70ef09348449f9a435ae5a6b30d08",
       "version_major": 2,
       "version_minor": 0
      },
      "text/plain": [
       "Validation: |          | 0/? [00:00<?, ?it/s]"
      ]
     },
     "metadata": {},
     "output_type": "display_data"
    },
    {
     "name": "stderr",
     "output_type": "stream",
     "text": [
      "`Trainer.fit` stopped: `max_epochs=10` reached.\n"
     ]
    },
    {
     "name": "stdout",
     "output_type": "stream",
     "text": [
      "train_loss_avg:  tensor(0.5559, device='mps:0')\n",
      "val_loss_avg:  tensor(0.6195, device='mps:0')\n",
      "accuracy:  0.6920504527432578\n"
     ]
    }
   ],
   "source": [
    "# Change dataset return type to 'emb' (embeddings)\n",
    "pairs_dataset.set_ret_type('first_L_emb')\n",
    "\n",
    "# Initialize siamese transformer network\n",
    "siamese_transformer = attention_siamese.SiameseTransformer(\n",
    "    embedding_size=EMBEDDING_SIZE*MAX_TOKENS)\n",
    "\n",
    "# Train the model\n",
    "train_set_st, valid_set_st = utils.train_model(\n",
    "    pairs_dataset, siamese_transformer,\n",
    "    max_epochs=10, batch_size=1024, split_ratio=0.8)"
   ]
  },
  {
   "cell_type": "markdown",
   "metadata": {},
   "source": [
    "#### Evaluate the siamese-attention network"
   ]
  },
  {
   "cell_type": "code",
   "execution_count": 13,
   "metadata": {},
   "outputs": [
    {
     "data": {
      "application/vnd.jupyter.widget-view+json": {
       "model_id": "9a9627b687bc4aff850fe3100851ffa7",
       "version_major": 2,
       "version_minor": 0
      },
      "text/plain": [
       "Computing Top 10 DocIDs:   0%|          | 0/67869 [00:00<?, ?it/s]"
      ]
     },
     "metadata": {},
     "output_type": "display_data"
    },
    {
     "name": "stdout",
     "output_type": "stream",
     "text": [
      "Top 10 ids: ['631639' '7704852' '5912092' '1617626' '7502639' '5299219' '2864023'\n",
      " '7997717' '7253935' '6352180']\n",
      "Relevant ids: ['7867446', '3368049', '4778576', '2914344', '2045120', '7867439', '6110464', '2045118', '7867440', '8699805']\n",
      "Common elements 0\n"
     ]
    }
   ],
   "source": [
    "# Set model to evaluation mode\n",
    "siamese_transformer.eval()\n",
    "\n",
    "# Extract first query\n",
    "query = list(queries.keys())[0]\n",
    "# Get the list of relevant docids for the query\n",
    "docids_list = queries[query]['docids_list']\n",
    "\n",
    "# Compute top-k docids\n",
    "top_k_ids = eval_utils.top_k_docids_siamese(\n",
    "    siamese_transformer, queries[query], documents, k=K1)\n",
    "\n",
    "# Print top-k docids and relevant docid\n",
    "print(f\"Top {K1} ids:\", top_k_ids)\n",
    "print(\"Relevant ids:\", docids_list)\n",
    "print(\"Common elements\", np.isin(top_k_ids, docids_list).sum())"
   ]
  },
  {
   "cell_type": "code",
   "execution_count": 14,
   "metadata": {},
   "outputs": [
    {
     "data": {
      "application/vnd.jupyter.widget-view+json": {
       "model_id": "dea7a715f6f8414bbd96a512111eb67a",
       "version_major": 2,
       "version_minor": 0
      },
      "text/plain": [
       "Computing Mean Metrics:   0%|          | 0/10 [00:00<?, ?it/s]"
      ]
     },
     "metadata": {},
     "output_type": "display_data"
    },
    {
     "data": {
      "application/vnd.jupyter.widget-view+json": {
       "model_id": "600a5bebf25e405591516ad6e17ab286",
       "version_major": 2,
       "version_minor": 0
      },
      "text/plain": [
       "Computing Top 10 DocIDs:   0%|          | 0/67869 [00:00<?, ?it/s]"
      ]
     },
     "metadata": {},
     "output_type": "display_data"
    },
    {
     "data": {
      "application/vnd.jupyter.widget-view+json": {
       "model_id": "f8b035b4aba04677b210eba1c994893f",
       "version_major": 2,
       "version_minor": 0
      },
      "text/plain": [
       "Computing Top 10 DocIDs:   0%|          | 0/67869 [00:00<?, ?it/s]"
      ]
     },
     "metadata": {},
     "output_type": "display_data"
    },
    {
     "data": {
      "application/vnd.jupyter.widget-view+json": {
       "model_id": "6ad5db06d343436784c81ff07f2da548",
       "version_major": 2,
       "version_minor": 0
      },
      "text/plain": [
       "Computing Top 10 DocIDs:   0%|          | 0/67869 [00:00<?, ?it/s]"
      ]
     },
     "metadata": {},
     "output_type": "display_data"
    },
    {
     "data": {
      "application/vnd.jupyter.widget-view+json": {
       "model_id": "ab60650709e54c238361f1d5d175d3cd",
       "version_major": 2,
       "version_minor": 0
      },
      "text/plain": [
       "Computing Top 10 DocIDs:   0%|          | 0/67869 [00:00<?, ?it/s]"
      ]
     },
     "metadata": {},
     "output_type": "display_data"
    },
    {
     "data": {
      "application/vnd.jupyter.widget-view+json": {
       "model_id": "580bb24e71c04172968a99a2668a248f",
       "version_major": 2,
       "version_minor": 0
      },
      "text/plain": [
       "Computing Top 10 DocIDs:   0%|          | 0/67869 [00:00<?, ?it/s]"
      ]
     },
     "metadata": {},
     "output_type": "display_data"
    },
    {
     "data": {
      "application/vnd.jupyter.widget-view+json": {
       "model_id": "46ebb22059f64f3aadaf951d9e8b0152",
       "version_major": 2,
       "version_minor": 0
      },
      "text/plain": [
       "Computing Top 10 DocIDs:   0%|          | 0/67869 [00:00<?, ?it/s]"
      ]
     },
     "metadata": {},
     "output_type": "display_data"
    },
    {
     "data": {
      "application/vnd.jupyter.widget-view+json": {
       "model_id": "888395f9c7094c4993920fd7245507f3",
       "version_major": 2,
       "version_minor": 0
      },
      "text/plain": [
       "Computing Top 10 DocIDs:   0%|          | 0/67869 [00:00<?, ?it/s]"
      ]
     },
     "metadata": {},
     "output_type": "display_data"
    },
    {
     "data": {
      "application/vnd.jupyter.widget-view+json": {
       "model_id": "2f450e4bfba84d87ae5caa4cf7af4f83",
       "version_major": 2,
       "version_minor": 0
      },
      "text/plain": [
       "Computing Top 10 DocIDs:   0%|          | 0/67869 [00:00<?, ?it/s]"
      ]
     },
     "metadata": {},
     "output_type": "display_data"
    },
    {
     "data": {
      "application/vnd.jupyter.widget-view+json": {
       "model_id": "f0ecfd7e468948e28ef638a16c96931c",
       "version_major": 2,
       "version_minor": 0
      },
      "text/plain": [
       "Computing Top 10 DocIDs:   0%|          | 0/67869 [00:00<?, ?it/s]"
      ]
     },
     "metadata": {},
     "output_type": "display_data"
    },
    {
     "data": {
      "application/vnd.jupyter.widget-view+json": {
       "model_id": "322df881c6694b6ea28e391b680a4eff",
       "version_major": 2,
       "version_minor": 0
      },
      "text/plain": [
       "Computing Top 10 DocIDs:   0%|          | 0/67869 [00:00<?, ?it/s]"
      ]
     },
     "metadata": {},
     "output_type": "display_data"
    },
    {
     "data": {
      "application/vnd.jupyter.widget-view+json": {
       "model_id": "6145c703b5aa4a08a666bbf084702a6c",
       "version_major": 2,
       "version_minor": 0
      },
      "text/plain": [
       "Computing Mean Metrics:   0%|          | 0/10 [00:00<?, ?it/s]"
      ]
     },
     "metadata": {},
     "output_type": "display_data"
    },
    {
     "data": {
      "application/vnd.jupyter.widget-view+json": {
       "model_id": "9169c0eb38574242ba01f7ece01830fb",
       "version_major": 2,
       "version_minor": 0
      },
      "text/plain": [
       "Computing Top 100 DocIDs:   0%|          | 0/67869 [00:00<?, ?it/s]"
      ]
     },
     "metadata": {},
     "output_type": "display_data"
    },
    {
     "data": {
      "application/vnd.jupyter.widget-view+json": {
       "model_id": "b5d3d71097f341fa998ff84d2324860c",
       "version_major": 2,
       "version_minor": 0
      },
      "text/plain": [
       "Computing Top 100 DocIDs:   0%|          | 0/67869 [00:00<?, ?it/s]"
      ]
     },
     "metadata": {},
     "output_type": "display_data"
    },
    {
     "data": {
      "application/vnd.jupyter.widget-view+json": {
       "model_id": "b4866354e4ee46b8a535572902c18f16",
       "version_major": 2,
       "version_minor": 0
      },
      "text/plain": [
       "Computing Top 100 DocIDs:   0%|          | 0/67869 [00:00<?, ?it/s]"
      ]
     },
     "metadata": {},
     "output_type": "display_data"
    },
    {
     "data": {
      "application/vnd.jupyter.widget-view+json": {
       "model_id": "af7e7461ae004242aebe9eddf4347f38",
       "version_major": 2,
       "version_minor": 0
      },
      "text/plain": [
       "Computing Top 100 DocIDs:   0%|          | 0/67869 [00:00<?, ?it/s]"
      ]
     },
     "metadata": {},
     "output_type": "display_data"
    },
    {
     "data": {
      "application/vnd.jupyter.widget-view+json": {
       "model_id": "56fed3941b5844e98efc99e3e5664b5a",
       "version_major": 2,
       "version_minor": 0
      },
      "text/plain": [
       "Computing Top 100 DocIDs:   0%|          | 0/67869 [00:00<?, ?it/s]"
      ]
     },
     "metadata": {},
     "output_type": "display_data"
    },
    {
     "data": {
      "application/vnd.jupyter.widget-view+json": {
       "model_id": "3946f5c95030419a9651c5c25b6dce3e",
       "version_major": 2,
       "version_minor": 0
      },
      "text/plain": [
       "Computing Top 100 DocIDs:   0%|          | 0/67869 [00:00<?, ?it/s]"
      ]
     },
     "metadata": {},
     "output_type": "display_data"
    },
    {
     "data": {
      "application/vnd.jupyter.widget-view+json": {
       "model_id": "5e8e4e1d60c94ae2ab6d5cfa16e6fd57",
       "version_major": 2,
       "version_minor": 0
      },
      "text/plain": [
       "Computing Top 100 DocIDs:   0%|          | 0/67869 [00:00<?, ?it/s]"
      ]
     },
     "metadata": {},
     "output_type": "display_data"
    },
    {
     "data": {
      "application/vnd.jupyter.widget-view+json": {
       "model_id": "95d5910d738e40809bb437faceda10a8",
       "version_major": 2,
       "version_minor": 0
      },
      "text/plain": [
       "Computing Top 100 DocIDs:   0%|          | 0/67869 [00:00<?, ?it/s]"
      ]
     },
     "metadata": {},
     "output_type": "display_data"
    },
    {
     "data": {
      "application/vnd.jupyter.widget-view+json": {
       "model_id": "1f59e9f4a52442eeb823816c8c06c92f",
       "version_major": 2,
       "version_minor": 0
      },
      "text/plain": [
       "Computing Top 100 DocIDs:   0%|          | 0/67869 [00:00<?, ?it/s]"
      ]
     },
     "metadata": {},
     "output_type": "display_data"
    },
    {
     "data": {
      "application/vnd.jupyter.widget-view+json": {
       "model_id": "3a68027c3b7d48438f31084ae0d27774",
       "version_major": 2,
       "version_minor": 0
      },
      "text/plain": [
       "Computing Top 100 DocIDs:   0%|          | 0/67869 [00:00<?, ?it/s]"
      ]
     },
     "metadata": {},
     "output_type": "display_data"
    },
    {
     "name": "stdout",
     "output_type": "stream",
     "text": [
      "Mean Average Precision (MAP): 0.0\n",
      "Normalized Discounted Cumulative Gain (NDCG): 0.0\n",
      "Mean Precison@10 0.0\n",
      "Mean Recall@10 0.0\n",
      "Mean Precison@100 0.0\n",
      "Mean Recall@100 0.0\n"
     ]
    }
   ],
   "source": [
    "# Change return type to 'id' to get query IDs\n",
    "pairs_dataset.set_ret_type('id')\n",
    "# Randomly select N triplets from validation set\n",
    "selected_triplets = random.sample(list(valid_set_st), 10)\n",
    "# Extract queries from the selected triplets\n",
    "random_queries = [triplet[0] for triplet in selected_triplets]\n",
    "\n",
    "# Compute metrics for K1\n",
    "# Compute metrics for K1\n",
    "running_mean_AP, running_mean_PatK1, running_mean_RatK1, running_mean_nDCG = eval_utils.compute_Mean_metrics(\n",
    "    siamese_net, random_queries, queries, documents, k=K1, model_type='siamese')\n",
    "# Compute metrics for K2\n",
    "_, running_mean_PatK2, running_mean_RatK2, _ = eval_utils.compute_Mean_metrics(\n",
    "    siamese_net, random_queries, queries, documents, k=K2, model_type='siamese')\n",
    "\n",
    "# Print mean average precision\n",
    "print(\"Mean Average Precision (MAP):\", running_mean_AP)\n",
    "# Print ndcg\n",
    "print(\"Normalized Discounted Cumulative Gain (NDCG):\", running_mean_nDCG)\n",
    "# Print mean precision at k1\n",
    "print(f\"Mean Precison@{K1}\", running_mean_PatK1)\n",
    "# Print mean recall at k1\n",
    "print(f\"Mean Recall@{K1}\", running_mean_RatK1)\n",
    "# Print mean precision at k2\n",
    "print(f\"Mean Precison@{K2}\", running_mean_PatK2)\n",
    "# Print mean recall at k2\n",
    "print(f\"Mean Recall@{K2}\", running_mean_RatK2)"
   ]
  },
  {
   "cell_type": "code",
   "execution_count": 15,
   "metadata": {},
   "outputs": [
    {
     "data": {
      "application/vnd.jupyter.widget-view+json": {
       "model_id": "94b8a89090804f5f9ec9df889c911ef8",
       "version_major": 2,
       "version_minor": 0
      },
      "text/plain": [
       "Computing Mean Metrics:   0%|          | 0/10 [00:00<?, ?it/s]"
      ]
     },
     "metadata": {},
     "output_type": "display_data"
    },
    {
     "data": {
      "application/vnd.jupyter.widget-view+json": {
       "model_id": "3332d28fd4fa404c96f735ce06604cc6",
       "version_major": 2,
       "version_minor": 0
      },
      "text/plain": [
       "Computing Top 10 DocIDs:   0%|          | 0/67869 [00:00<?, ?it/s]"
      ]
     },
     "metadata": {},
     "output_type": "display_data"
    },
    {
     "data": {
      "application/vnd.jupyter.widget-view+json": {
       "model_id": "09b50554adb34fbab845d84fa6a3d1d4",
       "version_major": 2,
       "version_minor": 0
      },
      "text/plain": [
       "Computing Top 10 DocIDs:   0%|          | 0/67869 [00:00<?, ?it/s]"
      ]
     },
     "metadata": {},
     "output_type": "display_data"
    },
    {
     "data": {
      "application/vnd.jupyter.widget-view+json": {
       "model_id": "703f0a5de1e94aaab8ac513770da850f",
       "version_major": 2,
       "version_minor": 0
      },
      "text/plain": [
       "Computing Top 10 DocIDs:   0%|          | 0/67869 [00:00<?, ?it/s]"
      ]
     },
     "metadata": {},
     "output_type": "display_data"
    },
    {
     "data": {
      "application/vnd.jupyter.widget-view+json": {
       "model_id": "201693e73f8441edaafd0b4412da8c49",
       "version_major": 2,
       "version_minor": 0
      },
      "text/plain": [
       "Computing Top 10 DocIDs:   0%|          | 0/67869 [00:00<?, ?it/s]"
      ]
     },
     "metadata": {},
     "output_type": "display_data"
    },
    {
     "data": {
      "application/vnd.jupyter.widget-view+json": {
       "model_id": "8b762f9ecd23491dbdc47f2552371c62",
       "version_major": 2,
       "version_minor": 0
      },
      "text/plain": [
       "Computing Top 10 DocIDs:   0%|          | 0/67869 [00:00<?, ?it/s]"
      ]
     },
     "metadata": {},
     "output_type": "display_data"
    },
    {
     "data": {
      "application/vnd.jupyter.widget-view+json": {
       "model_id": "9d6ae3e02ac740bdbdeb0bc79ee7cb1b",
       "version_major": 2,
       "version_minor": 0
      },
      "text/plain": [
       "Computing Top 10 DocIDs:   0%|          | 0/67869 [00:00<?, ?it/s]"
      ]
     },
     "metadata": {},
     "output_type": "display_data"
    },
    {
     "data": {
      "application/vnd.jupyter.widget-view+json": {
       "model_id": "8df1e9c5ef8844f2b6ccab0b2ff8a2b7",
       "version_major": 2,
       "version_minor": 0
      },
      "text/plain": [
       "Computing Top 10 DocIDs:   0%|          | 0/67869 [00:00<?, ?it/s]"
      ]
     },
     "metadata": {},
     "output_type": "display_data"
    },
    {
     "data": {
      "application/vnd.jupyter.widget-view+json": {
       "model_id": "65ff0b202103446793c735703500ca7a",
       "version_major": 2,
       "version_minor": 0
      },
      "text/plain": [
       "Computing Top 10 DocIDs:   0%|          | 0/67869 [00:00<?, ?it/s]"
      ]
     },
     "metadata": {},
     "output_type": "display_data"
    },
    {
     "data": {
      "application/vnd.jupyter.widget-view+json": {
       "model_id": "ef02732cca4c43b08022294e219ffc91",
       "version_major": 2,
       "version_minor": 0
      },
      "text/plain": [
       "Computing Top 10 DocIDs:   0%|          | 0/67869 [00:00<?, ?it/s]"
      ]
     },
     "metadata": {},
     "output_type": "display_data"
    },
    {
     "data": {
      "application/vnd.jupyter.widget-view+json": {
       "model_id": "e25864f833a04ea9b9e27c6990957005",
       "version_major": 2,
       "version_minor": 0
      },
      "text/plain": [
       "Computing Top 10 DocIDs:   0%|          | 0/67869 [00:00<?, ?it/s]"
      ]
     },
     "metadata": {},
     "output_type": "display_data"
    },
    {
     "data": {
      "application/vnd.jupyter.widget-view+json": {
       "model_id": "07679649674e4ab9aa218ce35e4acccc",
       "version_major": 2,
       "version_minor": 0
      },
      "text/plain": [
       "Computing Mean Metrics:   0%|          | 0/10 [00:00<?, ?it/s]"
      ]
     },
     "metadata": {},
     "output_type": "display_data"
    },
    {
     "data": {
      "application/vnd.jupyter.widget-view+json": {
       "model_id": "1dc174886c914fc39dc4955077f890ed",
       "version_major": 2,
       "version_minor": 0
      },
      "text/plain": [
       "Computing Top 100 DocIDs:   0%|          | 0/67869 [00:00<?, ?it/s]"
      ]
     },
     "metadata": {},
     "output_type": "display_data"
    }
   ],
   "source": [
    "# Change return type to 'id' to get query IDs\n",
    "pairs_dataset.set_ret_type('id')\n",
    "# Randomly select N triplets from validation set\n",
    "selected_triplets = random.sample(list(train_set_st), 10)\n",
    "# Extract queries from the selected triplets\n",
    "random_queries = [triplet[0] for triplet in selected_triplets]\n",
    "\n",
    "# Compute metrics for K1\n",
    "running_mean_AP, running_mean_PatK1, running_mean_RatK1, running_mean_nDCG = eval_utils.compute_Mean_metrics(\n",
    "    siamese_net, random_queries, queries, documents, k=K1, model_type='siamese')\n",
    "# Compute metrics for K2\n",
    "_, running_mean_PatK2, running_mean_RatK2, _ = eval_utils.compute_Mean_metrics(\n",
    "    siamese_net, random_queries, queries, documents, k=K2, model_type='siamese')\n",
    "\n",
    "# Print mean average precision\n",
    "print(\"Mean Average Precision (MAP):\", running_mean_AP)\n",
    "# Print ndcg\n",
    "print(\"Normalized Discounted Cumulative Gain (NDCG):\", running_mean_nDCG)\n",
    "# Print mean precision at k1\n",
    "print(f\"Mean Precison@{K1}\", running_mean_PatK1)\n",
    "# Print mean recall at k1\n",
    "print(f\"Mean Recall@{K1}\", running_mean_RatK1)\n",
    "# Print mean precision at k2\n",
    "print(f\"Mean Precison@{K2}\", running_mean_PatK2)\n",
    "# Print mean recall at k2\n",
    "print(f\"Mean Recall@{K2}\", running_mean_RatK2)"
   ]
  },
  {
   "cell_type": "markdown",
   "metadata": {},
   "source": [
    "#### Contrastive learning approach with triplet loss"
   ]
  },
  {
   "cell_type": "code",
   "execution_count": null,
   "metadata": {},
   "outputs": [
    {
     "name": "stderr",
     "output_type": "stream",
     "text": [
      "GPU available: True (mps), used: True\n",
      "TPU available: False, using: 0 TPU cores\n",
      "IPU available: False, using: 0 IPUs\n",
      "HPU available: False, using: 0 HPUs\n",
      "\n",
      "  | Name      | Type              | Params\n",
      "------------------------------------------------\n",
      "0 | network   | Sequential        | 72.1 K\n",
      "1 | criterion | TripletMarginLoss | 0     \n",
      "------------------------------------------------\n",
      "72.1 K    Trainable params\n",
      "0         Non-trainable params\n",
      "72.1 K    Total params\n",
      "0.289     Total estimated model params size (MB)\n"
     ]
    },
    {
     "data": {
      "application/vnd.jupyter.widget-view+json": {
       "model_id": "cf30c35eac2446e3b9f9ee2d630338c0",
       "version_major": 2,
       "version_minor": 0
      },
      "text/plain": [
       "Sanity Checking: |          | 0/? [00:00<?, ?it/s]"
      ]
     },
     "metadata": {},
     "output_type": "display_data"
    },
    {
     "name": "stdout",
     "output_type": "stream",
     "text": [
      "val_loss_avg:  tensor(0.9871, device='mps:0')\n"
     ]
    },
    {
     "name": "stderr",
     "output_type": "stream",
     "text": [
      "/Users/alirezarafiei/miniforge3/lib/python3.10/site-packages/pytorch_lightning/trainer/connectors/data_connector.py:441: The 'val_dataloader' does not have many workers which may be a bottleneck. Consider increasing the value of the `num_workers` argument` to `num_workers=13` in the `DataLoader` to improve performance.\n",
      "/Users/alirezarafiei/miniforge3/lib/python3.10/site-packages/pytorch_lightning/trainer/connectors/data_connector.py:441: The 'train_dataloader' does not have many workers which may be a bottleneck. Consider increasing the value of the `num_workers` argument` to `num_workers=13` in the `DataLoader` to improve performance.\n"
     ]
    },
    {
     "data": {
      "application/vnd.jupyter.widget-view+json": {
       "model_id": "6977d3642a754489845f6569b25e4702",
       "version_major": 2,
       "version_minor": 0
      },
      "text/plain": [
       "Training: |          | 0/? [00:00<?, ?it/s]"
      ]
     },
     "metadata": {},
     "output_type": "display_data"
    },
    {
     "data": {
      "application/vnd.jupyter.widget-view+json": {
       "model_id": "9da31927291f403aa0073becbd76fce2",
       "version_major": 2,
       "version_minor": 0
      },
      "text/plain": [
       "Validation: |          | 0/? [00:00<?, ?it/s]"
      ]
     },
     "metadata": {},
     "output_type": "display_data"
    },
    {
     "name": "stdout",
     "output_type": "stream",
     "text": [
      "train_loss_avg:  tensor(0.8620, device='mps:0')\n",
      "val_loss_avg:  tensor(0.7951, device='mps:0')\n"
     ]
    },
    {
     "data": {
      "application/vnd.jupyter.widget-view+json": {
       "model_id": "c2b77a1f86254168961c0d2d89b9c7b1",
       "version_major": 2,
       "version_minor": 0
      },
      "text/plain": [
       "Validation: |          | 0/? [00:00<?, ?it/s]"
      ]
     },
     "metadata": {},
     "output_type": "display_data"
    },
    {
     "name": "stderr",
     "output_type": "stream",
     "text": [
      "`Trainer.fit` stopped: `max_epochs=2` reached.\n"
     ]
    },
    {
     "name": "stdout",
     "output_type": "stream",
     "text": [
      "train_loss_avg:  tensor(0.7609, device='mps:0')\n",
      "val_loss_avg:  tensor(0.7502, device='mps:0')\n"
     ]
    },
    {
     "name": "stderr",
     "output_type": "stream",
     "text": [
      "UsageError: Line magic function `%tensorboard` not found.\n"
     ]
    }
   ],
   "source": [
    "# Change dataset return type to 'emb' (embeddings)\n",
    "triplets_dataset.set_ret_type('emb')\n",
    "\n",
    "# Initialize the Siamese Lightning module\n",
    "siamese_lightning_module = siamese_triplet.SiameseNetworkPL(\n",
    "    input_size=EMBEDDING_SIZE, output_size=64,\n",
    "    margin=1.0, learning_rate=0.001, arch_type='linear')\n",
    "\n",
    "# Train the model\n",
    "train_set_sc, valid_set_sc = utils.train_model(\n",
    "    triplets_dataset, siamese_lightning_module,\n",
    "    max_epochs=10, batch_size=1024, split_ratio=0.8)\n",
    "\n",
    "# Start TensorBoard within the notebook\n",
    "%tensorboard --logdir lightning_logs/"
   ]
  },
  {
   "cell_type": "markdown",
   "metadata": {},
   "source": [
    "#### Visualization"
   ]
  },
  {
   "cell_type": "code",
   "execution_count": null,
   "metadata": {},
   "outputs": [
    {
     "ename": "NameError",
     "evalue": "name 'DOWNLOAD_FILES' is not defined",
     "output_type": "error",
     "traceback": [
      "\u001b[0;31m---------------------------------------------------------------------------\u001b[0m",
      "\u001b[0;31mNameError\u001b[0m                                 Traceback (most recent call last)",
      "Cell \u001b[0;32mIn[15], line 8\u001b[0m\n\u001b[1;32m      2\u001b[0m utils\u001b[38;5;241m.\u001b[39mplot_pl_logs(\n\u001b[1;32m      3\u001b[0m     \u001b[38;5;124m'\u001b[39m\u001b[38;5;124m./lightning_logs/version_3\u001b[39m\u001b[38;5;124m'\u001b[39m,\n\u001b[1;32m      4\u001b[0m     \u001b[38;5;124m'\u001b[39m\u001b[38;5;124mvalidation_epoch_average\u001b[39m\u001b[38;5;124m'\u001b[39m,\n\u001b[1;32m      5\u001b[0m     \u001b[38;5;124m'\u001b[39m\u001b[38;5;124m./plots/contrastive\u001b[39m\u001b[38;5;124m'\u001b[39m)\n\u001b[1;32m      7\u001b[0m \u001b[38;5;66;03m# Download plots\u001b[39;00m\n\u001b[0;32m----> 8\u001b[0m \u001b[38;5;28;01mif\u001b[39;00m \u001b[43mDOWNLOAD_FILES\u001b[49m:\n\u001b[1;32m      9\u001b[0m     files\u001b[38;5;241m.\u001b[39mdownload(\u001b[38;5;124m'\u001b[39m\u001b[38;5;124m./plots/contrastive/validation_epoch_average.pdf\u001b[39m\u001b[38;5;124m'\u001b[39m)\n",
      "\u001b[0;31mNameError\u001b[0m: name 'DOWNLOAD_FILES' is not defined"
     ]
    },
    {
     "data": {
      "image/png": "[encoded data removed]",
      "text/plain": [
       "<Figure size 600x400 with 1 Axes>"
      ]
     },
     "metadata": {},
     "output_type": "display_data"
    }
   ],
   "source": [
    "# Create plots\n",
    "utils.plot_pl_logs(\n",
    "    './lightning_logs/version_3',\n",
    "    'validation_epoch_average',\n",
    "    './plots/contrastive')\n",
    "\n",
    "# Download plots\n",
    "if DOWNLOAD_FILES:\n",
    "    files.download('./plots/contrastive/validation_epoch_average.pdf')"
   ]
  },
  {
   "cell_type": "markdown",
   "metadata": {},
   "source": [
    "#### Contrastive learning evaluation"
   ]
  },
  {
   "cell_type": "code",
   "execution_count": null,
   "metadata": {},
   "outputs": [],
   "source": [
    "# Set model to evaluation mode\n",
    "siamese_lightning_module.eval()\n",
    "\n",
    "# Extract random query sample\n",
    "query = list(queries.keys())[0]\n",
    "# Get the list of relevant docids for the query\n",
    "docids_list = queries[query]['docids_list']\n",
    "\n",
    "# Compute top-k docids\n",
    "top_k_ids = eval_utils.top_k_docids_siamese(\n",
    "    siamese_lightning_module, queries[query], documents, k=K1)\n",
    "\n",
    "# Print top-k docids and relevant docid\n",
    "print(f\"Top {K1} ids:\", top_k_ids)\n",
    "print(\"Relevant ids:\", docids_list)\n",
    "print(\"Common elements\", np.isin(top_k_ids, docids_list).sum())"
   ]
  },
  {
   "cell_type": "code",
   "execution_count": null,
   "metadata": {},
   "outputs": [],
   "source": [
    "# Change return type to 'id' to get query IDs\n",
    "triplets_dataset.set_ret_type('id')\n",
    "# Randomly select N triplets from validation set\n",
    "selected_triplets = random.sample(list(train_set_sc), 50)\n",
    "# Extract queries from the selected triplets\n",
    "random_queries = [triplet[0] for triplet in selected_triplets]\n",
    "\n",
    "# Compute metrics for K1\n",
    "running_mean_AP, running_mean_PatK1, running_mean_RatK1, running_mean_nDCG = eval_utils.compute_Mean_metrics(\n",
    "    siamese_net, random_queries, queries, documents, k=K1, model_type='siamese')\n",
    "# Compute metrics for K2\n",
    "_, running_mean_PatK2, running_mean_RatK2, _ = eval_utils.compute_Mean_metrics(\n",
    "    siamese_net, random_queries, queries, documents, k=K2, model_type='siamese')\n",
    "\n",
    "# Print mean average precision\n",
    "print(\"Mean Average Precision (MAP):\", running_mean_AP)\n",
    "# Print ndcg\n",
    "print(\"Normalized Discounted Cumulative Gain (NDCG):\", running_mean_nDCG)\n",
    "# Print mean precision at k1\n",
    "print(f\"Mean Precison@{K1}\", running_mean_PatK1)\n",
    "# Print mean recall at k1\n",
    "print(f\"Mean Recall@{K1}\", running_mean_RatK1)\n",
    "# Print mean precision at k2\n",
    "print(f\"Mean Precison@{K2}\", running_mean_PatK2)\n",
    "# Print mean recall at k2\n",
    "print(f\"Mean Recall@{K2}\", running_mean_RatK2)"
   ]
  },
  {
   "cell_type": "code",
   "execution_count": null,
   "metadata": {},
   "outputs": [],
   "source": [
    "# Change return type to 'id' to get query IDs\n",
    "triplets_dataset.set_ret_type('id')\n",
    "# Randomly select N triplets from validation set\n",
    "selected_triplets = random.sample(list(valid_set_sc), 50)\n",
    "# Extract queries from the selected triplets\n",
    "random_queries = [triplet[0] for triplet in selected_triplets]\n",
    "\n",
    "# Compute metrics for K1\n",
    "# Compute metrics for K1\n",
    "running_mean_AP, running_mean_PatK1, running_mean_RatK1, running_mean_nDCG = eval_utils.compute_Mean_metrics(\n",
    "    siamese_net, random_queries, queries, documents, k=K1, model_type='siamese')\n",
    "# Compute metrics for K2\n",
    "_, running_mean_PatK2, running_mean_RatK2, _ = eval_utils.compute_Mean_metrics(\n",
    "    siamese_net, random_queries, queries, documents, k=K2, model_type='siamese')\n",
    "\n",
    "# Print mean average precision\n",
    "print(\"Mean Average Precision (MAP):\", running_mean_AP)\n",
    "# Print ndcg\n",
    "print(\"Normalized Discounted Cumulative Gain (NDCG):\", running_mean_nDCG)\n",
    "# Print mean precision at k1\n",
    "print(f\"Mean Precison@{K1}\", running_mean_PatK1)\n",
    "# Print mean recall at k1\n",
    "print(f\"Mean Recall@{K1}\", running_mean_RatK1)\n",
    "# Print mean precision at k2\n",
    "print(f\"Mean Precison@{K2}\", running_mean_PatK2)\n",
    "# Print mean recall at k2\n",
    "print(f\"Mean Recall@{K2}\", running_mean_RatK2)"
   ]
  },
  {
   "cell_type": "markdown",
   "metadata": {},
   "source": [
    "#### Indexing and retrival using DSI approach"
   ]
  },
  {
   "cell_type": "code",
   "execution_count": null,
   "metadata": {},
   "outputs": [],
   "source": [
    "# HYPERPARAMETERS\n",
    "d_model = 120\n",
    "nhead = 4\n",
    "nhid = 120\n",
    "nlayers = 3\n",
    "dropout = 0.2\n",
    "\n",
    "# Define hyperparameters\n",
    "hparams = {\n",
    "    \"learning_rate\": 0.0005,\n",
    "    \"batch_size\": 1024,\n",
    "    \"embedding_size\": d_model,\n",
    "    \"number_of_layers\": nlayers,\n",
    "    \"dropout\": dropout\n",
    "}\n",
    "\n",
    "# Initialize transformer model\n",
    "bt_model = s2s_transf.BaseTransformer(\n",
    "    ntoken=dd_dataset.tokenizer.vocab_size, d_model=d_model,\n",
    "    nhead=nhead, nhid=nhid, nlayers=nlayers, dropout=dropout,\n",
    "    teacher_forcing_prob=1, hparams=hparams)\n",
    "\n",
    "# Load weights if they exist\n",
    "#if os.path.exists(BT_MOD_PATH):\n",
    "#    bt_model.load_state_dict(torch.load(BT_MOD_PATH, map_location=bt_model.device))"
   ]
  },
  {
   "cell_type": "markdown",
   "metadata": {},
   "source": [
    "#### Indexing - we train the model for the indexing task"
   ]
  },
  {
   "cell_type": "code",
   "execution_count": null,
   "metadata": {},
   "outputs": [],
   "source": [
    "# Creating dataloader\n",
    "data_loader_dd = DataLoader(\n",
    "    dd_dataset, batch_size=1024, shuffle=True, num_workers=2)\n",
    "\n",
    "# Initialize TensorBoard logger\n",
    "logger = TensorBoardLogger('tb_logs', name='my_model')\n",
    "# For hyperparameters optimization\n",
    "logger.log_hyperparams(hparams)\n",
    "\n",
    "# Training the model\n",
    "trainer = Trainer(max_epochs=400, logger=logger)\n",
    "trainer.fit(bt_model, data_loader_dd)\n",
    "\n",
    "# Start TensorBoard within the notebook\n",
    "# Make sure this directory matches your logger's directory\n",
    "%tensorboard --logdir tb_logs/"
   ]
  },
  {
   "cell_type": "code",
   "execution_count": null,
   "metadata": {},
   "outputs": [],
   "source": [
    "# Create plots\n",
    "utils.plot_pl_logs(\n",
    "    './lightning_logs/version_0', 'train_loss_step', './plots/indexing')\n",
    "utils.plot_pl_logs(\n",
    "    './lightning_logs/version_0', 'train_accuracy_step', './plots/indexing')\n",
    "\n",
    "# Download plots\n",
    "if DOWNLOAD_FILES:\n",
    "    files.download('./plots/indexing/train_loss_step.pdf')\n",
    "    files.download('./plots/indexing/train_accuracy_epoch.pdf')"
   ]
  },
  {
   "cell_type": "markdown",
   "metadata": {},
   "source": [
    "#### Retrieval - we train the model for the retrieval task"
   ]
  },
  {
   "cell_type": "code",
   "execution_count": null,
   "metadata": {},
   "outputs": [],
   "source": [
    "# Define split ratios\n",
    "split_ratios = (0.7, 0.2)  # 70% training, 20% validation, 10% testing\n",
    "\n",
    "# Splitting the dataset\n",
    "train_size, val_size, test_size = utils.calculate_split_sizes(\n",
    "    len(ret_dataset), *split_ratios)\n",
    "train_dataset, val_dataset, test_dataset = random_split(\n",
    "    ret_dataset, [train_size, val_size, test_size])\n",
    "\n",
    "# Creating dataloaders\n",
    "train_dataloader = DataLoader(\n",
    "    train_dataset, batch_size=1024, shuffle=True, num_workers=2)\n",
    "val_dataloader = DataLoader(\n",
    "    val_dataset, batch_size=1024, shuffle=False, num_workers=2)\n",
    "test_dataloader = DataLoader(\n",
    "    test_dataset, batch_size=1024, shuffle=False, num_workers=2)"
   ]
  },
  {
   "cell_type": "code",
   "execution_count": null,
   "metadata": {},
   "outputs": [],
   "source": [
    "# Training the model\n",
    "trainer = pl.Trainer(max_epochs=300)\n",
    "trainer.fit(bt_model, train_dataloader, val_dataloader)\n",
    "\n",
    "# Initialize TensorBoard logger\n",
    "logger = TensorBoardLogger('tb_logs', name='my_model')\n",
    "\n",
    "# Start TensorBoard within the notebook\n",
    "%tensorboard --logdir lightning_logs/"
   ]
  },
  {
   "cell_type": "code",
   "execution_count": null,
   "metadata": {},
   "outputs": [],
   "source": [
    "# Save model weights\n",
    "torch.save(bt_model.state_dict(), BT_MOD_PATH)\n",
    "# Download model weights\n",
    "if DOWNLOAD_FILES:\n",
    "    files.download(BT_MOD_PATH)"
   ]
  },
  {
   "cell_type": "code",
   "execution_count": null,
   "metadata": {},
   "outputs": [],
   "source": [
    "# Create plots\n",
    "utils.plot_pl_logs(\n",
    "    './lightning_logs/version_0', 'train_loss_step', './plots/retrieval')\n",
    "utils.plot_pl_logs(\n",
    "    './lightning_logs/version_0', 'train_accuracy_step', './plots/retrieval')\n",
    "utils.plot_pl_logs(\n",
    "    './lightning_logs/version_0', 'val_loss', './plots/retrieval')\n",
    "utils.plot_pl_logs(\n",
    "    './lightning_logs/version_0', 'val_accuracy', './plots/retrieval')\n",
    "\n",
    "# Download plots\n",
    "if DOWNLOAD_FILES: files.download('./plots/retrieval/train_loss_step.pdf')\n",
    "if DOWNLOAD_FILES: files.download('./plots/retrieval/train_accuracy_epoch.pdf')\n",
    "if DOWNLOAD_FILES: files.download('./plots/retrieval/val_loss.pdf')\n",
    "if DOWNLOAD_FILES: files.download('./plots/retrieval/val_accuracy.pdf')"
   ]
  },
  {
   "cell_type": "code",
   "execution_count": null,
   "metadata": {},
   "outputs": [],
   "source": [
    "# Set model to evaluation mode\n",
    "bt_model.eval()\n",
    "\n",
    "# Extract random query sample\n",
    "query = ret_dataset[random.randint(0, len(ret_dataset))][0]\n",
    "# Get the list of relevant docids for the query\n",
    "docids_list = queries[ret_dataset.query_ids[query]]['docids_list']\n",
    "\n",
    "# Compute top-k docids\n",
    "top_k_ids = eval_utils.top_k_docids(\n",
    "    bt_model.to('cpu'), query, k=K1, max_length=10,\n",
    "    decode_docid_fn=ret_dataset.decode_docid)\n",
    "\n",
    "# Print top-k docids and relevant docid\n",
    "print(f\"Top {K1} ids:\", top_k_ids)\n",
    "print(\"Relevant ids:\", docids_list)\n",
    "print(\"Common elements\", np.isin(top_k_ids, docids_list).sum())"
   ]
  },
  {
   "cell_type": "markdown",
   "metadata": {},
   "source": [
    "### TRIE: Constraint the decoding at inference time to generate only existent docids"
   ]
  },
  {
   "cell_type": "code",
   "execution_count": null,
   "metadata": {},
   "outputs": [],
   "source": [
    "# Create trie\n",
    "trie_data = trie.Trie(dd_dataset.docid_pad_token)\n",
    "\n",
    "# Iterate over dataset\n",
    "for idx in range(len(dd_dataset)):\n",
    "    # Insert sequence of docid tokens\n",
    "    sequence = dd_dataset[idx][1].tolist()\n",
    "    trie_data.insert(sequence)"
   ]
  },
  {
   "cell_type": "code",
   "execution_count": null,
   "metadata": {},
   "outputs": [],
   "source": [
    "# Example usage (returns the list of possible next tokens given the current ones)\n",
    "trie_data.get_next_tokens([12, 2, 0, 8])\n",
    "\n",
    "# 208 is the shortest docid, infact 10 (the eos)\n",
    "# is a possible next token for this sequence"
   ]
  },
  {
   "cell_type": "code",
   "execution_count": null,
   "metadata": {},
   "outputs": [],
   "source": [
    "# Query is the same as before\n",
    "# Extract top-k docids\n",
    "top_k_ids = eval_utils.top_k_beam_search(\n",
    "    bt_model.to('cpu'), query, trie_data, k=K, max_length=10,\n",
    "    decode_docid_fn=ret_dataset.decode_docid)\n",
    "\n",
    "# Print top-k docids and relevant docid\n",
    "print(f\"Top {K} ids:\", top_k_ids)\n",
    "print(\"Relevant ids:\", docids_list)\n",
    "print(\"Common elements\", np.isin(top_k_ids, docids_list).sum())"
   ]
  },
  {
   "cell_type": "code",
   "execution_count": null,
   "metadata": {},
   "outputs": [],
   "source": [
    "# Set model to evaluation mode\n",
    "bt_model.eval()\n",
    "# Compute mean metrics\n",
    "running_mean_AP, running_mean_PatK, running_mean_RatK = eval_utils.compute_Mean_metrics(\n",
    "    bt_model.to('cpu'), {query for query, _ in test_dataset}, queries,\n",
    "    documents, trie_data, ret_dataset, k=K)\n",
    "# Print mean average precision\n",
    "print(\"Mean Average Precision (MAP):\", running_mean_AP)\n",
    "# Print mean precision at k\n",
    "print(f\"Mean Precison@{K}\", running_mean_PatK)\n",
    "# Print mean recall at k\n",
    "print(f\"Mean Recall@1000\", running_mean_RatK)"
   ]
  },
  {
   "cell_type": "code",
   "execution_count": null,
   "metadata": {},
   "outputs": [],
   "source": [
    "# Set model to evaluation mode\n",
    "bt_model.eval()\n",
    "# Compute mean metrics\n",
    "running_mean_AP, running_mean_PatK, running_mean_RatK = eval_utils.compute_Mean_metrics(\n",
    "    bt_model.to('cpu'), {query for query, _ in train_dataset},\n",
    "    queries, documents, trie_data, ret_dataset, k=K)\n",
    "# Print mean average precision\n",
    "print(\"Mean Average Precision (MAP):\", running_mean_AP)\n",
    "# Print mean precision at k\n",
    "print(f\"Mean Precison@{K}\", running_mean_PatK)\n",
    "# Print mean recall at k\n",
    "print(f\"Mean Recall@1000\", running_mean_RatK)"
   ]
  },
  {
   "cell_type": "markdown",
   "metadata": {},
   "source": []
  },
  {
   "cell_type": "markdown",
   "metadata": {},
   "source": [
    "### pyterrier-based approaches"
   ]
  },
  {
   "cell_type": "code",
   "execution_count": 5,
   "metadata": {},
   "outputs": [
    {
     "name": "stderr",
     "output_type": "stream",
     "text": [
      "PyTerrier 0.10.0 has loaded Terrier 5.8 (built by craigm on 2023-11-01 18:05) and terrier-helper 0.0.8\n",
      "\n",
      "No etc/terrier.properties, using terrier.default.properties for bootstrap configuration.\n"
     ]
    }
   ],
   "source": [
    "import pyterrier as pt\n",
    "if not pt.started():\n",
    "    pt.init()\n",
    "import string"
   ]
  },
  {
   "cell_type": "code",
   "execution_count": 15,
   "metadata": {},
   "outputs": [],
   "source": [
    "docs = pd.DataFrame([\n",
    "    {\"docno\": doc_id, \"text\": details['raw']}\n",
    "    for doc_id, details in documents.items()\n",
    "])\n",
    "\n",
    "indexer = pt.DFIndexer(\"./materials/index_pt/index\", overwrite=True)\n",
    "index_ref = indexer.index(docs[\"text\"], docs[\"docno\"])\n",
    "\n",
    "quer = pd.DataFrame([{\"qid\": str(qid), \"query\": details['raw']} for qid, details in queries.items()])\n",
    "qrels = pd.DataFrame([{\"qid\": str(qid), \"docno\": docno, \"label\": 1} for qid, details in queries.items() for docno in details['docids_list']])\n",
    "\n",
    "translator = str.maketrans('', '', string.punctuation)\n",
    "def remove_punctuation(text):\n",
    "    text_no_punctuation = text.translate(translator)\n",
    "    return text_no_punctuation\n",
    "\n",
    "quer['query'] = quer['query'].apply(remove_punctuation)\n"
   ]
  },
  {
   "cell_type": "code",
   "execution_count": 16,
   "metadata": {},
   "outputs": [
    {
     "name": "stderr",
     "output_type": "stream",
     "text": [
      "pt.Experiment:   0%|          | 0/3 [00:00<?, ?system/s]"
     ]
    },
    {
     "name": "stderr",
     "output_type": "stream",
     "text": [
      "pt.Experiment: 100%|██████████| 3/3 [03:05<00:00, 61.91s/system]"
     ]
    },
    {
     "name": "stdout",
     "output_type": "stream",
     "text": [
      "         name     map    ndcg     P@5    P@10    P@15    P@20    P@30  P@100  \\\n",
      "0    BR(BM25)  0.9456  0.9751  0.9614  0.9167  0.6399  0.4853  0.3264  0.099   \n",
      "1  BR(TF_IDF)  0.9458  0.9752  0.9617  0.9171  0.6400  0.4854  0.3264  0.099   \n",
      "2     BR(PL2)  0.9378  0.9720  0.9552  0.9043  0.6368  0.4843  0.3261  0.099   \n",
      "\n",
      "    P@200  ...  P@1000     R@5    R@10    R@15    R@20    R@30   R@100  \\\n",
      "0  0.0496  ...    0.01  0.4807  0.9167  0.9599  0.9706  0.9791  0.9896   \n",
      "1  0.0496  ...    0.01  0.4808  0.9171  0.9601  0.9708  0.9792  0.9896   \n",
      "2  0.0496  ...    0.01  0.4776  0.9043  0.9553  0.9686  0.9784  0.9896   \n",
      "\n",
      "    R@200   R@500  R@1000  \n",
      "0  0.9923  0.9944  0.9952  \n",
      "1  0.9922  0.9944  0.9952  \n",
      "2  0.9924  0.9944  0.9952  \n",
      "\n",
      "[3 rows x 21 columns]\n"
     ]
    },
    {
     "name": "stderr",
     "output_type": "stream",
     "text": [
      "\n"
     ]
    }
   ],
   "source": [
    "# Load the index\n",
    "index = pt.IndexFactory.of(index_ref)\n",
    "\n",
    "# Create a BM25 retrieval model\n",
    "bm25 = pt.BatchRetrieve(index, wmodel=\"BM25\")\n",
    "\n",
    "tf_idf = pt.BatchRetrieve(index, wmodel=\"TF_IDF\")\n",
    "\n",
    "pl2 = pt.BatchRetrieve(index, wmodel=\"PL2\")\n",
    "\n",
    "evaluation = pt.Experiment(\n",
    "    [bm25, tf_idf, pl2],\n",
    "    quer,\n",
    "    qrels,\n",
    "    eval_metrics=['map', 'ndcg', 'P', 'recall'],\n",
    "    round=4,\n",
    "    verbose=\"true\"\n",
    ")\n",
    "\n",
    "print(evaluation)"
   ]
  }
 ],
 "metadata": {
  "kernelspec": {
   "display_name": "base",
   "language": "python",
   "name": "python3"
  },
  "language_info": {
   "codemirror_mode": {
    "name": "ipython",
    "version": 3
   },
   "file_extension": ".py",
   "mimetype": "text/x-python",
   "name": "python",
   "nbconvert_exporter": "python",
   "pygments_lexer": "ipython3",
   "version": "3.10.12"
  }
 },
 "nbformat": 4,
 "nbformat_minor": 2
}
