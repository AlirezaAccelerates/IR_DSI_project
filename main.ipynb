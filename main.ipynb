{
 "cells": [
  {
   "cell_type": "markdown",
   "metadata": {},
   "source": [
    "# Information Retrieval Final Project - Neural Inverted Index\n",
    "\n",
    "---\n",
    "\n",
    "## 📝 Team Members\n",
    "Navid Azimi, Alireza Rafiei, Mohammad Hashemi\n",
    "\n",
    "---\n",
    "\n",
    "## 📘 Overview of the Project\n",
    "This project investigates a  methodology in information retrieval (IR), moving away from the conventional systems that separate indexing from retrieval. Drawing inspiration from the Differentiable Search Index (DSI) concept, we have developed a unified Transformer language model that integrates both indexing and retrieval processes. Trained using the MS MARCO dataset and enhanced with the Pyserini library, this model aims to enhance retrieval effectiveness by auto-regressively generating relevant document identifiers (docids).\n"
   ]
  },
  {
   "cell_type": "markdown",
   "metadata": {},
   "source": [
    "#### Let's install the necessary libraries"
   ]
  },
  {
   "cell_type": "code",
   "execution_count": 16,
   "metadata": {},
   "outputs": [
    {
     "name": "stdout",
     "output_type": "stream",
     "text": [
      "Collecting torch-tb-profiler\n",
      "  Obtaining dependency information for torch-tb-profiler from https://files.pythonhosted.org/packages/46/d0/891ec43349f287ea5c313ebc1320e4eda38ccd4c7a0951657213467eaab5/torch_tb_profiler-0.4.3-py3-none-any.whl.metadata\n",
      "  Downloading torch_tb_profiler-0.4.3-py3-none-any.whl.metadata (1.4 kB)\n",
      "Requirement already satisfied: pandas>=1.0.0 in /Users/alirezarafiei/miniforge3/lib/python3.10/site-packages (from torch-tb-profiler) (2.2.0)\n",
      "Requirement already satisfied: tensorboard!=2.1.0,>=1.15 in /Users/alirezarafiei/miniforge3/lib/python3.10/site-packages (from torch-tb-profiler) (2.13.0)\n",
      "Requirement already satisfied: numpy<2,>=1.22.4 in /Users/alirezarafiei/miniforge3/lib/python3.10/site-packages (from pandas>=1.0.0->torch-tb-profiler) (1.24.3)\n",
      "Requirement already satisfied: python-dateutil>=2.8.2 in /Users/alirezarafiei/miniforge3/lib/python3.10/site-packages (from pandas>=1.0.0->torch-tb-profiler) (2.8.2)\n",
      "Requirement already satisfied: pytz>=2020.1 in /Users/alirezarafiei/miniforge3/lib/python3.10/site-packages (from pandas>=1.0.0->torch-tb-profiler) (2023.3.post1)\n",
      "Requirement already satisfied: tzdata>=2022.7 in /Users/alirezarafiei/miniforge3/lib/python3.10/site-packages (from pandas>=1.0.0->torch-tb-profiler) (2023.4)\n",
      "Requirement already satisfied: absl-py>=0.4 in /Users/alirezarafiei/miniforge3/lib/python3.10/site-packages (from tensorboard!=2.1.0,>=1.15->torch-tb-profiler) (2.1.0)\n",
      "Requirement already satisfied: grpcio>=1.48.2 in /Users/alirezarafiei/miniforge3/lib/python3.10/site-packages (from tensorboard!=2.1.0,>=1.15->torch-tb-profiler) (1.60.0)\n",
      "Requirement already satisfied: google-auth<3,>=1.6.3 in /Users/alirezarafiei/miniforge3/lib/python3.10/site-packages (from tensorboard!=2.1.0,>=1.15->torch-tb-profiler) (2.26.2)\n",
      "Requirement already satisfied: google-auth-oauthlib<1.1,>=0.5 in /Users/alirezarafiei/miniforge3/lib/python3.10/site-packages (from tensorboard!=2.1.0,>=1.15->torch-tb-profiler) (1.0.0)\n",
      "Requirement already satisfied: markdown>=2.6.8 in /Users/alirezarafiei/miniforge3/lib/python3.10/site-packages (from tensorboard!=2.1.0,>=1.15->torch-tb-profiler) (3.5.2)\n",
      "Requirement already satisfied: protobuf>=3.19.6 in /Users/alirezarafiei/miniforge3/lib/python3.10/site-packages (from tensorboard!=2.1.0,>=1.15->torch-tb-profiler) (4.23.4)\n",
      "Requirement already satisfied: requests<3,>=2.21.0 in /Users/alirezarafiei/miniforge3/lib/python3.10/site-packages (from tensorboard!=2.1.0,>=1.15->torch-tb-profiler) (2.31.0)\n",
      "Requirement already satisfied: setuptools>=41.0.0 in /Users/alirezarafiei/miniforge3/lib/python3.10/site-packages (from tensorboard!=2.1.0,>=1.15->torch-tb-profiler) (69.0.3)\n",
      "Requirement already satisfied: tensorboard-data-server<0.8.0,>=0.7.0 in /Users/alirezarafiei/miniforge3/lib/python3.10/site-packages (from tensorboard!=2.1.0,>=1.15->torch-tb-profiler) (0.7.2)\n",
      "Requirement already satisfied: werkzeug>=1.0.1 in /Users/alirezarafiei/miniforge3/lib/python3.10/site-packages (from tensorboard!=2.1.0,>=1.15->torch-tb-profiler) (3.0.1)\n",
      "Requirement already satisfied: wheel>=0.26 in /Users/alirezarafiei/miniforge3/lib/python3.10/site-packages (from tensorboard!=2.1.0,>=1.15->torch-tb-profiler) (0.42.0)\n",
      "Requirement already satisfied: cachetools<6.0,>=2.0.0 in /Users/alirezarafiei/miniforge3/lib/python3.10/site-packages (from google-auth<3,>=1.6.3->tensorboard!=2.1.0,>=1.15->torch-tb-profiler) (5.3.2)\n",
      "Requirement already satisfied: pyasn1-modules>=0.2.1 in /Users/alirezarafiei/miniforge3/lib/python3.10/site-packages (from google-auth<3,>=1.6.3->tensorboard!=2.1.0,>=1.15->torch-tb-profiler) (0.3.0)\n",
      "Requirement already satisfied: rsa<5,>=3.1.4 in /Users/alirezarafiei/miniforge3/lib/python3.10/site-packages (from google-auth<3,>=1.6.3->tensorboard!=2.1.0,>=1.15->torch-tb-profiler) (4.9)\n",
      "Requirement already satisfied: requests-oauthlib>=0.7.0 in /Users/alirezarafiei/miniforge3/lib/python3.10/site-packages (from google-auth-oauthlib<1.1,>=0.5->tensorboard!=2.1.0,>=1.15->torch-tb-profiler) (1.3.1)\n",
      "Requirement already satisfied: six>=1.5 in /Users/alirezarafiei/miniforge3/lib/python3.10/site-packages (from python-dateutil>=2.8.2->pandas>=1.0.0->torch-tb-profiler) (1.16.0)\n",
      "Requirement already satisfied: charset-normalizer<4,>=2 in /Users/alirezarafiei/miniforge3/lib/python3.10/site-packages (from requests<3,>=2.21.0->tensorboard!=2.1.0,>=1.15->torch-tb-profiler) (3.3.2)\n",
      "Requirement already satisfied: idna<4,>=2.5 in /Users/alirezarafiei/miniforge3/lib/python3.10/site-packages (from requests<3,>=2.21.0->tensorboard!=2.1.0,>=1.15->torch-tb-profiler) (3.6)\n",
      "Requirement already satisfied: urllib3<3,>=1.21.1 in /Users/alirezarafiei/miniforge3/lib/python3.10/site-packages (from requests<3,>=2.21.0->tensorboard!=2.1.0,>=1.15->torch-tb-profiler) (2.1.0)\n",
      "Requirement already satisfied: certifi>=2017.4.17 in /Users/alirezarafiei/miniforge3/lib/python3.10/site-packages (from requests<3,>=2.21.0->tensorboard!=2.1.0,>=1.15->torch-tb-profiler) (2023.11.17)\n",
      "Requirement already satisfied: MarkupSafe>=2.1.1 in /Users/alirezarafiei/miniforge3/lib/python3.10/site-packages (from werkzeug>=1.0.1->tensorboard!=2.1.0,>=1.15->torch-tb-profiler) (2.1.4)\n",
      "Requirement already satisfied: pyasn1<0.6.0,>=0.4.6 in /Users/alirezarafiei/miniforge3/lib/python3.10/site-packages (from pyasn1-modules>=0.2.1->google-auth<3,>=1.6.3->tensorboard!=2.1.0,>=1.15->torch-tb-profiler) (0.5.1)\n",
      "Requirement already satisfied: oauthlib>=3.0.0 in /Users/alirezarafiei/miniforge3/lib/python3.10/site-packages (from requests-oauthlib>=0.7.0->google-auth-oauthlib<1.1,>=0.5->tensorboard!=2.1.0,>=1.15->torch-tb-profiler) (3.2.2)\n",
      "Downloading torch_tb_profiler-0.4.3-py3-none-any.whl (1.1 MB)\n",
      "\u001b[2K   \u001b[90m━━━━━━━━━━━━━━━━━━━━━━━━━━━━━━━━━━━━━━━━\u001b[0m \u001b[32m1.1/1.1 MB\u001b[0m \u001b[31m10.3 MB/s\u001b[0m eta \u001b[36m0:00:00\u001b[0m \u001b[36m0:00:01\u001b[0m\n",
      "\u001b[?25hInstalling collected packages: torch-tb-profiler\n",
      "Successfully installed torch-tb-profiler-0.4.3\n"
     ]
    }
   ],
   "source": [
    "#!pip install nltk\n",
    "#!pip install pytorch_lightning\n",
    "#!pip install gensim\n",
    "#!pip install pyserini==0.12.0\n",
    "#!pip install python-terrier\n",
    "#!pip install ipywidgets\n",
    "#!pip install --upgrade notebook jupyter\n",
    "#!jupyter nbextension enable --py widgetsnbextension\n",
    "#!pip install tensorboard tensorboardX\n",
    "#!pip install torch-tb-profiler"
   ]
  },
  {
   "cell_type": "markdown",
   "metadata": {},
   "source": [
    "#### Import libraries"
   ]
  },
  {
   "cell_type": "code",
   "execution_count": 1,
   "metadata": {},
   "outputs": [
    {
     "data": {
      "text/plain": [
       "<torch._C.Generator at 0x168fd3390>"
      ]
     },
     "execution_count": 1,
     "metadata": {},
     "output_type": "execute_result"
    }
   ],
   "source": [
    "import os\n",
    "import json\n",
    "import random\n",
    "import numpy as np\n",
    "import pandas as pd\n",
    "from tqdm import tqdm\n",
    "import matplotlib.pyplot as plt\n",
    "\n",
    "import torch\n",
    "from torch.utils.data import DataLoader, random_split\n",
    "\n",
    "import pytorch_lightning as pl\n",
    "from pytorch_lightning import Trainer\n",
    "from pytorch_lightning.loggers import TensorBoardLogger\n",
    "\n",
    "import nltk\n",
    "from gensim.models import Word2Vec\n",
    "\n",
    "from src.dataset import mydataset\n",
    "from src.utils import utils, dataset_utils, eval_utils, trie\n",
    "from src.models import siamese, attention_siamese, siamese_triplet, s2stransformer, s2s_transf, s2s_transf_semantic\n",
    "\n",
    "torch.manual_seed(2024)"
   ]
  },
  {
   "cell_type": "markdown",
   "metadata": {},
   "source": [
    "#### Download necessary nltk packages"
   ]
  },
  {
   "cell_type": "code",
   "execution_count": 2,
   "metadata": {},
   "outputs": [
    {
     "name": "stderr",
     "output_type": "stream",
     "text": [
      "[nltk_data] Downloading package punkt to\n",
      "[nltk_data]     /Users/alirezarafiei/nltk_data...\n",
      "[nltk_data]   Package punkt is already up-to-date!\n",
      "[nltk_data] Downloading package stopwords to\n",
      "[nltk_data]     /Users/alirezarafiei/nltk_data...\n",
      "[nltk_data]   Package stopwords is already up-to-date!\n",
      "[nltk_data] Downloading package wordnet to\n",
      "[nltk_data]     /Users/alirezarafiei/nltk_data...\n",
      "[nltk_data]   Package wordnet is already up-to-date!\n"
     ]
    },
    {
     "data": {
      "text/plain": [
       "True"
      ]
     },
     "execution_count": 2,
     "metadata": {},
     "output_type": "execute_result"
    }
   ],
   "source": [
    "nltk.download('punkt')\n",
    "nltk.download('stopwords')\n",
    "nltk.download('wordnet')"
   ]
  },
  {
   "cell_type": "markdown",
   "metadata": {},
   "source": [
    "#### Set some fixed variables"
   ]
  },
  {
   "cell_type": "code",
   "execution_count": 2,
   "metadata": {},
   "outputs": [],
   "source": [
    "EMBEDDING_SIZE = 120\n",
    "MAX_TOKENS = 7\n",
    "K1 = 10      \n",
    "K2 = 100\n",
    "DOWNLOAD_FILES = False\n",
    "\n",
    "QUERIES_PATH = './materials/queries.json'\n",
    "DOCS_PATH = './materials/documents.json'\n",
    "W2V_PATH = './materials/word2vec_model.bin'\n",
    "BT_MOD_PATH = './materials/bt_model.pth'"
   ]
  },
  {
   "cell_type": "markdown",
   "metadata": {},
   "source": [
    "#### Create files and embeddings"
   ]
  },
  {
   "cell_type": "code",
   "execution_count": 3,
   "metadata": {},
   "outputs": [],
   "source": [
    "# If the json files of documents does not exists\n",
    "if not os.path.exists(QUERIES_PATH) or not os.path.exists(DOCS_PATH) or not os.path.exists(W2V_PATH):\n",
    "    # Build dictionaries and corpus\n",
    "    queries, documents, corpus = dataset_utils.build_dicts(\n",
    "        max_topics=None, max_docs=10)\n",
    "    # Write to file the dictionaries\n",
    "    with open(QUERIES_PATH, 'w') as json_file:\n",
    "        json.dump(queries, json_file)\n",
    "    with open(DOCS_PATH, 'w') as json_file:\n",
    "        json.dump(documents, json_file)\n",
    "\n",
    "    # Train the word2vec model\n",
    "    w2v_model = Word2Vec(\n",
    "        sentences=corpus, vector_size=EMBEDDING_SIZE,\n",
    "        window=MAX_TOKENS if MAX_TOKENS else 5,\n",
    "        min_count=1, sg=0, epochs=10)\n",
    "    \n",
    "    # Save w2v model\n",
    "    w2v_model.save(W2V_PATH)\n",
    "\n",
    "# Read from json files if they already exist\n",
    "with open(QUERIES_PATH, 'r') as json_file:\n",
    "    queries = json.load(json_file)\n",
    "with open(DOCS_PATH, 'r') as json_file:\n",
    "    documents = json.load(json_file)\n",
    "\n",
    "# Load model\n",
    "w2v_model = Word2Vec.load(W2V_PATH)"
   ]
  },
  {
   "cell_type": "code",
   "execution_count": 4,
   "metadata": {},
   "outputs": [
    {
     "name": "stderr",
     "output_type": "stream",
     "text": [
      "Embedding queries: 100%|██████████| 6980/6980 [00:00<00:00, 12548.43it/s]\n",
      "Embedding documents: 100%|██████████| 67869/67869 [00:33<00:00, 2027.90it/s]\n"
     ]
    }
   ],
   "source": [
    "# Compute w2v embeddings for queries\n",
    "for id in tqdm(queries, \"Embedding queries\"):\n",
    "    raw_query = queries[id]['raw']\n",
    "    queries[id]['emb'] = dataset_utils.compute_embedding(\n",
    "        raw_query, w2v_model, 1)\n",
    "    queries[id]['first_L_emb'] = dataset_utils.compute_embedding(\n",
    "        raw_query, w2v_model, MAX_TOKENS)\n",
    "\n",
    "# Compute w2v embeddings for documents\n",
    "for docid in tqdm(documents, \"Embedding documents\"):\n",
    "    raw_doc = documents[docid]['raw']\n",
    "    documents[docid]['emb'] = dataset_utils.compute_embedding(\n",
    "        raw_doc, w2v_model)\n",
    "    documents[docid]['first_L_emb'] = dataset_utils.compute_embedding(\n",
    "        raw_doc, w2v_model, MAX_TOKENS)"
   ]
  },
  {
   "cell_type": "code",
   "execution_count": 5,
   "metadata": {},
   "outputs": [
    {
     "data": {
      "application/vnd.jupyter.widget-view+json": {
       "model_id": "2809232e49b845c48aab802d0d3e9a37",
       "version_major": 2,
       "version_minor": 0
      },
      "text/plain": [
       "Building QueryDocumentDataset:   0%|          | 0/6980 [00:00<?, ?it/s]"
      ]
     },
     "metadata": {},
     "output_type": "display_data"
    },
    {
     "data": {
      "application/vnd.jupyter.widget-view+json": {
       "model_id": "45051b2d7e664f0aa8a86e42105197cb",
       "version_major": 2,
       "version_minor": 0
      },
      "text/plain": [
       "Building TripletQueryDocumentDataset:   0%|          | 0/6980 [00:00<?, ?it/s]"
      ]
     },
     "metadata": {},
     "output_type": "display_data"
    },
    {
     "name": "stderr",
     "output_type": "stream",
     "text": [
      "You are using the default legacy behaviour of the <class 'transformers.models.t5.tokenization_t5.T5Tokenizer'>. This is expected, and simply means that the `legacy` (previous) behavior will be used so nothing changes for you. If you want to use the new behaviour, set `legacy=False`. This should only be set if you understand what it means, and thoroughly read the reason why this was added as explained in https://github.com/huggingface/transformers/pull/24565\n",
      "Special tokens have been added in the vocabulary, make sure the associated word embeddings are fine-tuned or trained.\n"
     ]
    },
    {
     "data": {
      "application/vnd.jupyter.widget-view+json": {
       "model_id": "8366ef7dbca74e4abc73e9fe26f4d67e",
       "version_major": 2,
       "version_minor": 0
      },
      "text/plain": [
       "Building DocumentDataset:   0%|          | 0/67869 [00:00<?, ?it/s]"
      ]
     },
     "metadata": {},
     "output_type": "display_data"
    },
    {
     "name": "stderr",
     "output_type": "stream",
     "text": [
      "Special tokens have been added in the vocabulary, make sure the associated word embeddings are fine-tuned or trained.\n"
     ]
    },
    {
     "data": {
      "application/vnd.jupyter.widget-view+json": {
       "model_id": "22b583a588524347b10148619066ee10",
       "version_major": 2,
       "version_minor": 0
      },
      "text/plain": [
       "Building RetrievalDataset:   0%|          | 0/6980 [00:00<?, ?it/s]"
      ]
     },
     "metadata": {},
     "output_type": "display_data"
    }
   ],
   "source": [
    "# Create datasets for siamese models\n",
    "pairs_dataset = mydataset.QueryDocumentDataset(queries, documents)\n",
    "triplets_dataset = mydataset.TripletQueryDocumentDataset(queries, documents)\n",
    "\n",
    "# Create datasets for seq2seq models\n",
    "dd_dataset = mydataset.DocumentDataset(documents)\n",
    "ret_dataset = mydataset.RetrievalDataset(documents, queries)"
   ]
  },
  {
   "cell_type": "code",
   "execution_count": 6,
   "metadata": {},
   "outputs": [
    {
     "name": "stdout",
     "output_type": "stream",
     "text": [
      "(query, doc, relevance) = (1102330, 7867446, 1)\n",
      "(query, doc+, doc-) = (1102330, 7867446, 5717988)\n",
      "\n",
      "doc_emb: tensor([ 5696,  8325,   819,  1836,  9657,  1406,  7178, 19511,   819,  1836,\n",
      "           78,    60,  9657, 20743,  3841,   706,   228,     3,  9052,   226,\n",
      "          159,    51,  3841, 20743,   158,    32,   102,    40, 20743,  3841,\n",
      "         3841,     1]) \n",
      "docid_emb: tensor([12,  7,  8,  6,  7,  4,  4,  6, 10, 11, 11])\n",
      "decoded docid: 7867446\n",
      "decoded doc: suffer frequent headach jaw pain wake dull headach sore jaw grind teeth night could bruxism teeth grind peopl grind teeth teeth</s>\n",
      "\n",
      "query_emb: tensor([  158,    32,   102,    40, 20743,  3841,  2085,     1,     0]) \n",
      "docid_emb: tensor([12,  7,  8,  6,  7,  4,  4,  6, 10, 11, 11])\n",
      "decoded docid: 7867446\n",
      "decoded query: peopl grind teeth sleep</s><pad>\n"
     ]
    }
   ],
   "source": [
    "# print QueryDocumentDataset sample numbers\n",
    "print(f\"(query, doc, relevance) = \"\n",
    "      f\"({pairs_dataset[0][0]}, {pairs_dataset[0][1]}, {pairs_dataset[0][2]})\")\n",
    "\n",
    "# print TripletQueryDocumentDataset sample numbers\n",
    "print(f\"(query, doc+, doc-) = \"\n",
    "      f\"({triplets_dataset[0][0]}, {triplets_dataset[0][1]}, {triplets_dataset[0][2]})\")\n",
    "\n",
    "# print DocumentDataset sample \n",
    "print(\"\\ndoc_emb:\", dd_dataset[0][0], \"\\ndocid_emb:\", dd_dataset[0][1])\n",
    "print(\"decoded docid:\", dd_dataset.decode_docid(dd_dataset[0][1]))\n",
    "print(\"decoded doc:\", dd_dataset.tokenizer.decode(dd_dataset[0][0]))\n",
    "\n",
    "# print RetrievalDataset sample \n",
    "print(\"\\nquery_emb:\", ret_dataset[0][0], \"\\ndocid_emb:\", ret_dataset[0][1])\n",
    "print(\"decoded docid:\", ret_dataset.decode_docid(ret_dataset[0][1]))\n",
    "print(\"decoded query:\", ret_dataset.tokenizer.decode(ret_dataset[0][0]))"
   ]
  },
  {
   "cell_type": "markdown",
   "metadata": {},
   "source": [
    "#### Run the siamese network"
   ]
  },
  {
   "cell_type": "code",
   "execution_count": null,
   "metadata": {},
   "outputs": [],
   "source": [
    "%load_ext tensorboard"
   ]
  },
  {
   "cell_type": "code",
   "execution_count": 8,
   "metadata": {},
   "outputs": [
    {
     "name": "stderr",
     "output_type": "stream",
     "text": [
      "GPU available: True (mps), used: True\n",
      "TPU available: False, using: 0 TPU cores\n",
      "IPU available: False, using: 0 IPUs\n",
      "HPU available: False, using: 0 HPUs\n",
      "Missing logger folder: /Users/alirezarafiei/IR_DSI_project/lightning_logs\n",
      "\n",
      "  | Name            | Type       | Params\n",
      "-----------------------------------------------\n",
      "0 | siamese_network | Sequential | 2.0 K \n",
      "1 | fc_layers       | Sequential | 984 K \n",
      "2 | fc              | Linear     | 9     \n",
      "3 | sigmoid         | Sigmoid    | 0     \n",
      "4 | criterion       | BCELoss    | 0     \n",
      "-----------------------------------------------\n",
      "986 K     Trainable params\n",
      "0         Non-trainable params\n",
      "986 K     Total params\n",
      "3.945     Total estimated model params size (MB)\n"
     ]
    },
    {
     "data": {
      "application/vnd.jupyter.widget-view+json": {
       "model_id": "a439483e15df4e6c8674c45652d076e1",
       "version_major": 2,
       "version_minor": 0
      },
      "text/plain": [
       "Sanity Checking: |          | 0/? [00:00<?, ?it/s]"
      ]
     },
     "metadata": {},
     "output_type": "display_data"
    },
    {
     "name": "stderr",
     "output_type": "stream",
     "text": [
      "/Users/alirezarafiei/miniforge3/lib/python3.10/site-packages/pytorch_lightning/trainer/connectors/data_connector.py:436: Consider setting `persistent_workers=True` in 'val_dataloader' to speed up the dataloader worker initialization.\n"
     ]
    },
    {
     "name": "stdout",
     "output_type": "stream",
     "text": [
      "val_loss_avg:  tensor(0.6935, device='mps:0')\n",
      "accuracy:  0.51513671875\n"
     ]
    },
    {
     "name": "stderr",
     "output_type": "stream",
     "text": [
      "/Users/alirezarafiei/miniforge3/lib/python3.10/site-packages/pytorch_lightning/trainer/connectors/data_connector.py:436: Consider setting `persistent_workers=True` in 'train_dataloader' to speed up the dataloader worker initialization.\n"
     ]
    },
    {
     "data": {
      "application/vnd.jupyter.widget-view+json": {
       "model_id": "793325b9679147ca8fe4365d2a8e9e00",
       "version_major": 2,
       "version_minor": 0
      },
      "text/plain": [
       "Training: |          | 0/? [00:00<?, ?it/s]"
      ]
     },
     "metadata": {},
     "output_type": "display_data"
    },
    {
     "data": {
      "application/vnd.jupyter.widget-view+json": {
       "model_id": "d089874a62354de9bbcbb61fa5a33d51",
       "version_major": 2,
       "version_minor": 0
      },
      "text/plain": [
       "Validation: |          | 0/? [00:00<?, ?it/s]"
      ]
     },
     "metadata": {},
     "output_type": "display_data"
    },
    {
     "name": "stdout",
     "output_type": "stream",
     "text": [
      "train_loss_avg:  tensor(0.6937, device='mps:0')\n",
      "val_loss_avg:  tensor(0.6932, device='mps:0')\n",
      "accuracy:  0.5022526596273694\n"
     ]
    },
    {
     "data": {
      "application/vnd.jupyter.widget-view+json": {
       "model_id": "7501e1f631264626be1e17e04679a0ce",
       "version_major": 2,
       "version_minor": 0
      },
      "text/plain": [
       "Validation: |          | 0/? [00:00<?, ?it/s]"
      ]
     },
     "metadata": {},
     "output_type": "display_data"
    },
    {
     "name": "stdout",
     "output_type": "stream",
     "text": [
      "train_loss_avg:  tensor(0.6934, device='mps:0')\n",
      "val_loss_avg:  tensor(0.6933, device='mps:0')\n",
      "accuracy:  0.5029850815023694\n"
     ]
    },
    {
     "data": {
      "application/vnd.jupyter.widget-view+json": {
       "model_id": "1c4a192693da47fb9cc90fa565612cce",
       "version_major": 2,
       "version_minor": 0
      },
      "text/plain": [
       "Validation: |          | 0/? [00:00<?, ?it/s]"
      ]
     },
     "metadata": {},
     "output_type": "display_data"
    },
    {
     "name": "stdout",
     "output_type": "stream",
     "text": [
      "train_loss_avg:  tensor(0.6932, device='mps:0')\n",
      "val_loss_avg:  tensor(0.6931, device='mps:0')\n",
      "accuracy:  0.49963071197271347\n"
     ]
    },
    {
     "data": {
      "application/vnd.jupyter.widget-view+json": {
       "model_id": "813a134bb1e14989aa6c907f2540a477",
       "version_major": 2,
       "version_minor": 0
      },
      "text/plain": [
       "Validation: |          | 0/? [00:00<?, ?it/s]"
      ]
     },
     "metadata": {},
     "output_type": "display_data"
    },
    {
     "name": "stdout",
     "output_type": "stream",
     "text": [
      "train_loss_avg:  tensor(0.6931, device='mps:0')\n",
      "val_loss_avg:  tensor(0.6930, device='mps:0')\n",
      "accuracy:  0.5071272658450263\n"
     ]
    },
    {
     "data": {
      "application/vnd.jupyter.widget-view+json": {
       "model_id": "1e616158063b42a091559fe5b5556527",
       "version_major": 2,
       "version_minor": 0
      },
      "text/plain": [
       "Validation: |          | 0/? [00:00<?, ?it/s]"
      ]
     },
     "metadata": {},
     "output_type": "display_data"
    },
    {
     "name": "stdout",
     "output_type": "stream",
     "text": [
      "train_loss_avg:  tensor(0.6925, device='mps:0')\n",
      "val_loss_avg:  tensor(0.6909, device='mps:0')\n",
      "accuracy:  0.5113740818841117\n"
     ]
    },
    {
     "data": {
      "application/vnd.jupyter.widget-view+json": {
       "model_id": "9abb91208e904cfea98973e60fd9fb3f",
       "version_major": 2,
       "version_minor": 0
      },
      "text/plain": [
       "Validation: |          | 0/? [00:00<?, ?it/s]"
      ]
     },
     "metadata": {},
     "output_type": "display_data"
    },
    {
     "name": "stdout",
     "output_type": "stream",
     "text": [
      "train_loss_avg:  tensor(0.6881, device='mps:0')\n",
      "val_loss_avg:  tensor(0.6827, device='mps:0')\n",
      "accuracy:  0.549761603985514\n"
     ]
    },
    {
     "data": {
      "application/vnd.jupyter.widget-view+json": {
       "model_id": "f92353bc42c44fcbba3ad745dc8ed9e9",
       "version_major": 2,
       "version_minor": 0
      },
      "text/plain": [
       "Validation: |          | 0/? [00:00<?, ?it/s]"
      ]
     },
     "metadata": {},
     "output_type": "display_data"
    },
    {
     "name": "stdout",
     "output_type": "stream",
     "text": [
      "train_loss_avg:  tensor(0.6774, device='mps:0')\n",
      "val_loss_avg:  tensor(0.6666, device='mps:0')\n",
      "accuracy:  0.5772633275815419\n"
     ]
    },
    {
     "data": {
      "application/vnd.jupyter.widget-view+json": {
       "model_id": "ed87569cd8bb4a7780ecd0a573eec698",
       "version_major": 2,
       "version_minor": 0
      },
      "text/plain": [
       "Validation: |          | 0/? [00:00<?, ?it/s]"
      ]
     },
     "metadata": {},
     "output_type": "display_data"
    },
    {
     "name": "stdout",
     "output_type": "stream",
     "text": [
      "train_loss_avg:  tensor(0.6638, device='mps:0')\n",
      "val_loss_avg:  tensor(0.6512, device='mps:0')\n",
      "accuracy:  0.60498046875\n"
     ]
    },
    {
     "data": {
      "application/vnd.jupyter.widget-view+json": {
       "model_id": "c46c544e0c6045828d4da113e4729b49",
       "version_major": 2,
       "version_minor": 0
      },
      "text/plain": [
       "Validation: |          | 0/? [00:00<?, ?it/s]"
      ]
     },
     "metadata": {},
     "output_type": "display_data"
    },
    {
     "name": "stdout",
     "output_type": "stream",
     "text": [
      "train_loss_avg:  tensor(0.6566, device='mps:0')\n",
      "val_loss_avg:  tensor(0.6465, device='mps:0')\n",
      "accuracy:  0.606164242540087\n"
     ]
    },
    {
     "data": {
      "application/vnd.jupyter.widget-view+json": {
       "model_id": "9c5097ea17a34594afd62fc9224c82d9",
       "version_major": 2,
       "version_minor": 0
      },
      "text/plain": [
       "Validation: |          | 0/? [00:00<?, ?it/s]"
      ]
     },
     "metadata": {},
     "output_type": "display_data"
    },
    {
     "name": "stderr",
     "output_type": "stream",
     "text": [
      "`Trainer.fit` stopped: `max_epochs=10` reached.\n"
     ]
    },
    {
     "name": "stdout",
     "output_type": "stream",
     "text": [
      "train_loss_avg:  tensor(0.6504, device='mps:0')\n",
      "val_loss_avg:  tensor(0.6404, device='mps:0')\n",
      "accuracy:  0.6080476130758014\n"
     ]
    },
    {
     "data": {
      "text/html": [
       "\n",
       "      <iframe id=\"tensorboard-frame-668aae23ec6eb439\" width=\"100%\" height=\"800\" frameborder=\"0\">\n",
       "      </iframe>\n",
       "      <script>\n",
       "        (function() {\n",
       "          const frame = document.getElementById(\"tensorboard-frame-668aae23ec6eb439\");\n",
       "          const url = new URL(\"/\", window.location);\n",
       "          const port = 6006;\n",
       "          if (port) {\n",
       "            url.port = port;\n",
       "          }\n",
       "          frame.src = url;\n",
       "        })();\n",
       "      </script>\n",
       "    "
      ],
      "text/plain": [
       "<IPython.core.display.HTML object>"
      ]
     },
     "metadata": {},
     "output_type": "display_data"
    }
   ],
   "source": [
    "# Change dataset return type to 'emb' (w2v embeddings)\n",
    "pairs_dataset.set_ret_type('emb')\n",
    "\n",
    "# Initialize the siamese network\n",
    "siamese_net = siamese.SiameseNetwork(\n",
    "    input_size=EMBEDDING_SIZE,\n",
    "    conv_channels=[8,16,32])\n",
    "\n",
    "# Train the model\n",
    "train_set_sn, valid_set_sn = utils.train_model(\n",
    "    pairs_dataset, siamese_net, max_epochs=10,\n",
    "    batch_size=1024, split_ratio=0.8, num_workers=2)\n",
    "\n",
    "%tensorboard --logdir lightning_logs/"
   ]
  },
  {
   "cell_type": "markdown",
   "metadata": {},
   "source": [
    "#### Evaluate the siamese network"
   ]
  },
  {
   "cell_type": "code",
   "execution_count": 9,
   "metadata": {},
   "outputs": [
    {
     "data": {
      "application/vnd.jupyter.widget-view+json": {
       "model_id": "c04d4e4cc1e04d4582dd92c51e21dd92",
       "version_major": 2,
       "version_minor": 0
      },
      "text/plain": [
       "Computing Top 10 DocIDs:   0%|          | 0/67869 [00:00<?, ?it/s]"
      ]
     },
     "metadata": {},
     "output_type": "display_data"
    },
    {
     "name": "stdout",
     "output_type": "stream",
     "text": [
      "Top 10 ids: ['1047602' '7151790' '591861' '6403354' '8394913' '8314183' '8394914'\n",
      " '5136004' '7919016' '5571459']\n",
      "Relevant ids: ['7867446', '3368049', '4778576', '2914344', '2045120', '7867439', '6110464', '2045118', '7867440', '8699805']\n",
      "Common elements 0\n"
     ]
    }
   ],
   "source": [
    "# Set model to evaluation mode\n",
    "siamese_net.eval()\n",
    "\n",
    "# Extract first query\n",
    "query = list(queries.keys())[0]\n",
    "# Get the list of relevant docids for the query\n",
    "docids_list = queries[query]['docids_list']\n",
    "\n",
    "# Compute top-k docids\n",
    "top_k_ids = eval_utils.top_k_docids_siamese(\n",
    "    siamese_net, queries[query], documents, k=K1)\n",
    "\n",
    "# Print top-k docids and relevant docid\n",
    "print(f\"Top {K1} ids:\", top_k_ids)\n",
    "print(\"Relevant ids:\", docids_list)\n",
    "print(\"Common elements\", np.isin(top_k_ids, docids_list).sum())"
   ]
  },
  {
   "cell_type": "code",
   "execution_count": 10,
   "metadata": {},
   "outputs": [
    {
     "data": {
      "application/vnd.jupyter.widget-view+json": {
       "model_id": "67397277056d4106a0664db6bcd55f7b",
       "version_major": 2,
       "version_minor": 0
      },
      "text/plain": [
       "Computing Mean Metrics:   0%|          | 0/10 [00:00<?, ?it/s]"
      ]
     },
     "metadata": {},
     "output_type": "display_data"
    },
    {
     "data": {
      "application/vnd.jupyter.widget-view+json": {
       "model_id": "4e73f94b4924446dbc1afe8207578223",
       "version_major": 2,
       "version_minor": 0
      },
      "text/plain": [
       "Computing Top 10 DocIDs:   0%|          | 0/67869 [00:00<?, ?it/s]"
      ]
     },
     "metadata": {},
     "output_type": "display_data"
    },
    {
     "data": {
      "application/vnd.jupyter.widget-view+json": {
       "model_id": "a0475b46f52e4702ace517f131b6af44",
       "version_major": 2,
       "version_minor": 0
      },
      "text/plain": [
       "Computing Top 10 DocIDs:   0%|          | 0/67869 [00:00<?, ?it/s]"
      ]
     },
     "metadata": {},
     "output_type": "display_data"
    },
    {
     "data": {
      "application/vnd.jupyter.widget-view+json": {
       "model_id": "a8471aed9654457b8254743c2f067729",
       "version_major": 2,
       "version_minor": 0
      },
      "text/plain": [
       "Computing Top 10 DocIDs:   0%|          | 0/67869 [00:00<?, ?it/s]"
      ]
     },
     "metadata": {},
     "output_type": "display_data"
    },
    {
     "data": {
      "application/vnd.jupyter.widget-view+json": {
       "model_id": "8b125061717040a895b42286fec36631",
       "version_major": 2,
       "version_minor": 0
      },
      "text/plain": [
       "Computing Top 10 DocIDs:   0%|          | 0/67869 [00:00<?, ?it/s]"
      ]
     },
     "metadata": {},
     "output_type": "display_data"
    },
    {
     "data": {
      "application/vnd.jupyter.widget-view+json": {
       "model_id": "ef44563ebeb04e529c526720f3f58630",
       "version_major": 2,
       "version_minor": 0
      },
      "text/plain": [
       "Computing Top 10 DocIDs:   0%|          | 0/67869 [00:00<?, ?it/s]"
      ]
     },
     "metadata": {},
     "output_type": "display_data"
    },
    {
     "data": {
      "application/vnd.jupyter.widget-view+json": {
       "model_id": "a35539503c3b49d0ae23813131499e7f",
       "version_major": 2,
       "version_minor": 0
      },
      "text/plain": [
       "Computing Top 10 DocIDs:   0%|          | 0/67869 [00:00<?, ?it/s]"
      ]
     },
     "metadata": {},
     "output_type": "display_data"
    },
    {
     "data": {
      "application/vnd.jupyter.widget-view+json": {
       "model_id": "99564f61e39548ecb7275302d055c00a",
       "version_major": 2,
       "version_minor": 0
      },
      "text/plain": [
       "Computing Top 10 DocIDs:   0%|          | 0/67869 [00:00<?, ?it/s]"
      ]
     },
     "metadata": {},
     "output_type": "display_data"
    },
    {
     "data": {
      "application/vnd.jupyter.widget-view+json": {
       "model_id": "33c51f8a3131414da19653f64930703e",
       "version_major": 2,
       "version_minor": 0
      },
      "text/plain": [
       "Computing Top 10 DocIDs:   0%|          | 0/67869 [00:00<?, ?it/s]"
      ]
     },
     "metadata": {},
     "output_type": "display_data"
    },
    {
     "data": {
      "application/vnd.jupyter.widget-view+json": {
       "model_id": "f3c19159534c4b04abf549f7c919935b",
       "version_major": 2,
       "version_minor": 0
      },
      "text/plain": [
       "Computing Top 10 DocIDs:   0%|          | 0/67869 [00:00<?, ?it/s]"
      ]
     },
     "metadata": {},
     "output_type": "display_data"
    },
    {
     "data": {
      "application/vnd.jupyter.widget-view+json": {
       "model_id": "7cf0610e8cf54988babc855bf6afb723",
       "version_major": 2,
       "version_minor": 0
      },
      "text/plain": [
       "Computing Top 10 DocIDs:   0%|          | 0/67869 [00:00<?, ?it/s]"
      ]
     },
     "metadata": {},
     "output_type": "display_data"
    },
    {
     "data": {
      "application/vnd.jupyter.widget-view+json": {
       "model_id": "8a27dd891d6f4592b9d78860bb03cc51",
       "version_major": 2,
       "version_minor": 0
      },
      "text/plain": [
       "Computing Mean Metrics:   0%|          | 0/10 [00:00<?, ?it/s]"
      ]
     },
     "metadata": {},
     "output_type": "display_data"
    },
    {
     "data": {
      "application/vnd.jupyter.widget-view+json": {
       "model_id": "58689031280a45398ca8b7a1211ecef7",
       "version_major": 2,
       "version_minor": 0
      },
      "text/plain": [
       "Computing Top 100 DocIDs:   0%|          | 0/67869 [00:00<?, ?it/s]"
      ]
     },
     "metadata": {},
     "output_type": "display_data"
    },
    {
     "data": {
      "application/vnd.jupyter.widget-view+json": {
       "model_id": "87bf5805c6ef4590b8fe17c292f0cf3f",
       "version_major": 2,
       "version_minor": 0
      },
      "text/plain": [
       "Computing Top 100 DocIDs:   0%|          | 0/67869 [00:00<?, ?it/s]"
      ]
     },
     "metadata": {},
     "output_type": "display_data"
    },
    {
     "data": {
      "application/vnd.jupyter.widget-view+json": {
       "model_id": "7b46eb7097f14991a302f7a91a2c2627",
       "version_major": 2,
       "version_minor": 0
      },
      "text/plain": [
       "Computing Top 100 DocIDs:   0%|          | 0/67869 [00:00<?, ?it/s]"
      ]
     },
     "metadata": {},
     "output_type": "display_data"
    },
    {
     "data": {
      "application/vnd.jupyter.widget-view+json": {
       "model_id": "5b0899887ffe4fa292ca021c14229e6e",
       "version_major": 2,
       "version_minor": 0
      },
      "text/plain": [
       "Computing Top 100 DocIDs:   0%|          | 0/67869 [00:00<?, ?it/s]"
      ]
     },
     "metadata": {},
     "output_type": "display_data"
    },
    {
     "data": {
      "application/vnd.jupyter.widget-view+json": {
       "model_id": "c021e8cde9be4e77a021d494aea4824e",
       "version_major": 2,
       "version_minor": 0
      },
      "text/plain": [
       "Computing Top 100 DocIDs:   0%|          | 0/67869 [00:00<?, ?it/s]"
      ]
     },
     "metadata": {},
     "output_type": "display_data"
    },
    {
     "data": {
      "application/vnd.jupyter.widget-view+json": {
       "model_id": "5a0e73396b4f4ba094471db66dc60113",
       "version_major": 2,
       "version_minor": 0
      },
      "text/plain": [
       "Computing Top 100 DocIDs:   0%|          | 0/67869 [00:00<?, ?it/s]"
      ]
     },
     "metadata": {},
     "output_type": "display_data"
    },
    {
     "data": {
      "application/vnd.jupyter.widget-view+json": {
       "model_id": "bcc30cb22583468fa2ecf1f1448852bd",
       "version_major": 2,
       "version_minor": 0
      },
      "text/plain": [
       "Computing Top 100 DocIDs:   0%|          | 0/67869 [00:00<?, ?it/s]"
      ]
     },
     "metadata": {},
     "output_type": "display_data"
    },
    {
     "data": {
      "application/vnd.jupyter.widget-view+json": {
       "model_id": "9b6d423b23e44d26a09a9d4b0443e314",
       "version_major": 2,
       "version_minor": 0
      },
      "text/plain": [
       "Computing Top 100 DocIDs:   0%|          | 0/67869 [00:00<?, ?it/s]"
      ]
     },
     "metadata": {},
     "output_type": "display_data"
    },
    {
     "data": {
      "application/vnd.jupyter.widget-view+json": {
       "model_id": "47bf6d48339a48bca2e2ef8183f94b95",
       "version_major": 2,
       "version_minor": 0
      },
      "text/plain": [
       "Computing Top 100 DocIDs:   0%|          | 0/67869 [00:00<?, ?it/s]"
      ]
     },
     "metadata": {},
     "output_type": "display_data"
    },
    {
     "data": {
      "application/vnd.jupyter.widget-view+json": {
       "model_id": "b69c72a48ad046e4aa1fbb4b40d035d7",
       "version_major": 2,
       "version_minor": 0
      },
      "text/plain": [
       "Computing Top 100 DocIDs:   0%|          | 0/67869 [00:00<?, ?it/s]"
      ]
     },
     "metadata": {},
     "output_type": "display_data"
    },
    {
     "name": "stdout",
     "output_type": "stream",
     "text": [
      "Mean Average Precision (MAP): 0.0\n",
      "Normalized Discounted Cumulative Gain (NDCG): 0.0\n",
      "Mean Precison@10 0.0\n",
      "Mean Recall@10 0.0\n",
      "Mean Precison@100 0.003\n",
      "Mean Recall@100 0.029999999999999992\n"
     ]
    }
   ],
   "source": [
    "# Change return type to 'id' to get query IDs\n",
    "pairs_dataset.set_ret_type('id')\n",
    "# Randomly select N triplets from validation set\n",
    "selected_triplets = random.sample(list(valid_set_sn), 10)\n",
    "# Extract queries from the selected triplets\n",
    "random_queries = [triplet[0] for triplet in selected_triplets]\n",
    "\n",
    "# Compute metrics for K1\n",
    "running_mean_AP, running_mean_PatK1, running_mean_RatK1, running_mean_nDCG = eval_utils.compute_Mean_metrics(\n",
    "    siamese_net, random_queries, queries, documents, k=K1, model_type='siamese')\n",
    "# Compute metrics for K2\n",
    "_, running_mean_PatK2, running_mean_RatK2, _ = eval_utils.compute_Mean_metrics(\n",
    "    siamese_net, random_queries, queries, documents, k=K2, model_type='siamese')\n",
    "\n",
    "# Print mean average precision\n",
    "print(\"Mean Average Precision (MAP):\", running_mean_AP)\n",
    "# Print ndcg\n",
    "print(\"Normalized Discounted Cumulative Gain (NDCG):\", running_mean_nDCG)\n",
    "# Print mean precision at k1\n",
    "print(f\"Mean Precison@{K1}\", running_mean_PatK1)\n",
    "# Print mean recall at k1\n",
    "print(f\"Mean Recall@{K1}\", running_mean_RatK1)\n",
    "# Print mean precision at k2\n",
    "print(f\"Mean Precison@{K2}\", running_mean_PatK2)\n",
    "# Print mean recall at k2\n",
    "print(f\"Mean Recall@{K2}\", running_mean_RatK2)"
   ]
  },
  {
   "cell_type": "code",
   "execution_count": 11,
   "metadata": {},
   "outputs": [
    {
     "data": {
      "application/vnd.jupyter.widget-view+json": {
       "model_id": "0bb4cdae604846bc8f056a3f41f277d6",
       "version_major": 2,
       "version_minor": 0
      },
      "text/plain": [
       "Computing Mean Metrics:   0%|          | 0/10 [00:00<?, ?it/s]"
      ]
     },
     "metadata": {},
     "output_type": "display_data"
    },
    {
     "data": {
      "application/vnd.jupyter.widget-view+json": {
       "model_id": "9912681a12974dcdb393088d2e61e683",
       "version_major": 2,
       "version_minor": 0
      },
      "text/plain": [
       "Computing Top 10 DocIDs:   0%|          | 0/67869 [00:00<?, ?it/s]"
      ]
     },
     "metadata": {},
     "output_type": "display_data"
    },
    {
     "data": {
      "application/vnd.jupyter.widget-view+json": {
       "model_id": "ce1d75d22102421f97d42691b68a41f7",
       "version_major": 2,
       "version_minor": 0
      },
      "text/plain": [
       "Computing Top 10 DocIDs:   0%|          | 0/67869 [00:00<?, ?it/s]"
      ]
     },
     "metadata": {},
     "output_type": "display_data"
    },
    {
     "data": {
      "application/vnd.jupyter.widget-view+json": {
       "model_id": "808cff0cfe9a46ccacdd2508a6eeaff0",
       "version_major": 2,
       "version_minor": 0
      },
      "text/plain": [
       "Computing Top 10 DocIDs:   0%|          | 0/67869 [00:00<?, ?it/s]"
      ]
     },
     "metadata": {},
     "output_type": "display_data"
    },
    {
     "data": {
      "application/vnd.jupyter.widget-view+json": {
       "model_id": "33b9d499d49f4d56923d07aa258f4095",
       "version_major": 2,
       "version_minor": 0
      },
      "text/plain": [
       "Computing Top 10 DocIDs:   0%|          | 0/67869 [00:00<?, ?it/s]"
      ]
     },
     "metadata": {},
     "output_type": "display_data"
    },
    {
     "data": {
      "application/vnd.jupyter.widget-view+json": {
       "model_id": "8e30b42cab0445f18ada69d883ce45fd",
       "version_major": 2,
       "version_minor": 0
      },
      "text/plain": [
       "Computing Top 10 DocIDs:   0%|          | 0/67869 [00:00<?, ?it/s]"
      ]
     },
     "metadata": {},
     "output_type": "display_data"
    },
    {
     "data": {
      "application/vnd.jupyter.widget-view+json": {
       "model_id": "7127426bba72478aa866e51e183f6393",
       "version_major": 2,
       "version_minor": 0
      },
      "text/plain": [
       "Computing Top 10 DocIDs:   0%|          | 0/67869 [00:00<?, ?it/s]"
      ]
     },
     "metadata": {},
     "output_type": "display_data"
    },
    {
     "data": {
      "application/vnd.jupyter.widget-view+json": {
       "model_id": "c4bf11a5924b4337b66df79f9a6de333",
       "version_major": 2,
       "version_minor": 0
      },
      "text/plain": [
       "Computing Top 10 DocIDs:   0%|          | 0/67869 [00:00<?, ?it/s]"
      ]
     },
     "metadata": {},
     "output_type": "display_data"
    },
    {
     "data": {
      "application/vnd.jupyter.widget-view+json": {
       "model_id": "4483667047864dcdbb6e4a493abfb143",
       "version_major": 2,
       "version_minor": 0
      },
      "text/plain": [
       "Computing Top 10 DocIDs:   0%|          | 0/67869 [00:00<?, ?it/s]"
      ]
     },
     "metadata": {},
     "output_type": "display_data"
    },
    {
     "data": {
      "application/vnd.jupyter.widget-view+json": {
       "model_id": "5a59c75fd27847a0b13c26cedfb7b422",
       "version_major": 2,
       "version_minor": 0
      },
      "text/plain": [
       "Computing Top 10 DocIDs:   0%|          | 0/67869 [00:00<?, ?it/s]"
      ]
     },
     "metadata": {},
     "output_type": "display_data"
    },
    {
     "data": {
      "application/vnd.jupyter.widget-view+json": {
       "model_id": "bd6e5737dc434049a622460b071bb055",
       "version_major": 2,
       "version_minor": 0
      },
      "text/plain": [
       "Computing Top 10 DocIDs:   0%|          | 0/67869 [00:00<?, ?it/s]"
      ]
     },
     "metadata": {},
     "output_type": "display_data"
    },
    {
     "data": {
      "application/vnd.jupyter.widget-view+json": {
       "model_id": "e0350045c577436796fa4231f144a49c",
       "version_major": 2,
       "version_minor": 0
      },
      "text/plain": [
       "Computing Mean Metrics:   0%|          | 0/10 [00:00<?, ?it/s]"
      ]
     },
     "metadata": {},
     "output_type": "display_data"
    },
    {
     "data": {
      "application/vnd.jupyter.widget-view+json": {
       "model_id": "71a87af8ec46494cb5e181900084be43",
       "version_major": 2,
       "version_minor": 0
      },
      "text/plain": [
       "Computing Top 100 DocIDs:   0%|          | 0/67869 [00:00<?, ?it/s]"
      ]
     },
     "metadata": {},
     "output_type": "display_data"
    },
    {
     "data": {
      "application/vnd.jupyter.widget-view+json": {
       "model_id": "60d1b919783647c9a077b4df388218ff",
       "version_major": 2,
       "version_minor": 0
      },
      "text/plain": [
       "Computing Top 100 DocIDs:   0%|          | 0/67869 [00:00<?, ?it/s]"
      ]
     },
     "metadata": {},
     "output_type": "display_data"
    },
    {
     "data": {
      "application/vnd.jupyter.widget-view+json": {
       "model_id": "0a900285d37f48c8a497e3d79a6f705d",
       "version_major": 2,
       "version_minor": 0
      },
      "text/plain": [
       "Computing Top 100 DocIDs:   0%|          | 0/67869 [00:00<?, ?it/s]"
      ]
     },
     "metadata": {},
     "output_type": "display_data"
    },
    {
     "data": {
      "application/vnd.jupyter.widget-view+json": {
       "model_id": "6c73af3818e04790a712091775fe185b",
       "version_major": 2,
       "version_minor": 0
      },
      "text/plain": [
       "Computing Top 100 DocIDs:   0%|          | 0/67869 [00:00<?, ?it/s]"
      ]
     },
     "metadata": {},
     "output_type": "display_data"
    },
    {
     "data": {
      "application/vnd.jupyter.widget-view+json": {
       "model_id": "d4bc35e774d04cf886b490cb5d621b72",
       "version_major": 2,
       "version_minor": 0
      },
      "text/plain": [
       "Computing Top 100 DocIDs:   0%|          | 0/67869 [00:00<?, ?it/s]"
      ]
     },
     "metadata": {},
     "output_type": "display_data"
    },
    {
     "data": {
      "application/vnd.jupyter.widget-view+json": {
       "model_id": "8fa670fd406a46518fde5e0b9aa04563",
       "version_major": 2,
       "version_minor": 0
      },
      "text/plain": [
       "Computing Top 100 DocIDs:   0%|          | 0/67869 [00:00<?, ?it/s]"
      ]
     },
     "metadata": {},
     "output_type": "display_data"
    },
    {
     "data": {
      "application/vnd.jupyter.widget-view+json": {
       "model_id": "dabb318cd57248f798f740ac20da9965",
       "version_major": 2,
       "version_minor": 0
      },
      "text/plain": [
       "Computing Top 100 DocIDs:   0%|          | 0/67869 [00:00<?, ?it/s]"
      ]
     },
     "metadata": {},
     "output_type": "display_data"
    },
    {
     "data": {
      "application/vnd.jupyter.widget-view+json": {
       "model_id": "7dfed8fea37c428bbc7a876b02cb379c",
       "version_major": 2,
       "version_minor": 0
      },
      "text/plain": [
       "Computing Top 100 DocIDs:   0%|          | 0/67869 [00:00<?, ?it/s]"
      ]
     },
     "metadata": {},
     "output_type": "display_data"
    },
    {
     "data": {
      "application/vnd.jupyter.widget-view+json": {
       "model_id": "0cebcb22f4834791b7ec2a773dc59c18",
       "version_major": 2,
       "version_minor": 0
      },
      "text/plain": [
       "Computing Top 100 DocIDs:   0%|          | 0/67869 [00:00<?, ?it/s]"
      ]
     },
     "metadata": {},
     "output_type": "display_data"
    },
    {
     "data": {
      "application/vnd.jupyter.widget-view+json": {
       "model_id": "958d3306f882476ca13e61bd497c5514",
       "version_major": 2,
       "version_minor": 0
      },
      "text/plain": [
       "Computing Top 100 DocIDs:   0%|          | 0/67869 [00:00<?, ?it/s]"
      ]
     },
     "metadata": {},
     "output_type": "display_data"
    },
    {
     "name": "stdout",
     "output_type": "stream",
     "text": [
      "Mean Average Precision (MAP): 0.0\n",
      "Normalized Discounted Cumulative Gain (NDCG): 0.0\n",
      "Mean Precison@10 0.0\n",
      "Mean Recall@10 0.0\n",
      "Mean Precison@100 0.0\n",
      "Mean Recall@100 0.0\n"
     ]
    }
   ],
   "source": [
    "# Change return type to 'id' to get query IDs\n",
    "pairs_dataset.set_ret_type('id')\n",
    "# Randomly select N triplets from train set\n",
    "selected_triplets = random.sample(list(train_set_sn), 10)\n",
    "# Extract queries from the selected triplets\n",
    "random_queries = [triplet[0] for triplet in selected_triplets]\n",
    "\n",
    "# Compute metrics for K1\n",
    "running_mean_AP, running_mean_PatK1, running_mean_RatK1, running_mean_nDCG = eval_utils.compute_Mean_metrics(\n",
    "    siamese_net, random_queries, queries, documents, k=K1, model_type='siamese')\n",
    "# Compute metrics for K2\n",
    "_, running_mean_PatK2, running_mean_RatK2,_ = eval_utils.compute_Mean_metrics(\n",
    "    siamese_net, random_queries, queries, documents, k=K2, model_type='siamese')\n",
    "\n",
    "# Print mean average precision\n",
    "print(\"Mean Average Precision (MAP):\", running_mean_AP)\n",
    "# Print ndcg\n",
    "print(\"Normalized Discounted Cumulative Gain (NDCG):\", running_mean_nDCG)\n",
    "# Print mean precision at k1\n",
    "print(f\"Mean Precison@{K1}\", running_mean_PatK1)\n",
    "# Print mean recall at k1\n",
    "print(f\"Mean Recall@{K1}\", running_mean_RatK1)\n",
    "# Print mean precision at k2\n",
    "print(f\"Mean Precison@{K2}\", running_mean_PatK2)\n",
    "# Print mean recall at k2\n",
    "print(f\"Mean Recall@{K2}\", running_mean_RatK2)"
   ]
  },
  {
   "cell_type": "markdown",
   "metadata": {},
   "source": [
    "#### Siamese-Attention-Net with L-TOKENS embedding"
   ]
  },
  {
   "cell_type": "code",
   "execution_count": 12,
   "metadata": {},
   "outputs": [
    {
     "name": "stderr",
     "output_type": "stream",
     "text": [
      "GPU available: True (mps), used: True\n",
      "TPU available: False, using: 0 TPU cores\n",
      "IPU available: False, using: 0 IPUs\n",
      "HPU available: False, using: 0 HPUs\n",
      "\n",
      "  | Name        | Type              | Params\n",
      "--------------------------------------------------\n",
      "0 | transformer | CustomTransformer | 3.4 M \n",
      "--------------------------------------------------\n",
      "3.4 M     Trainable params\n",
      "0         Non-trainable params\n",
      "3.4 M     Total params\n",
      "13.443    Total estimated model params size (MB)\n"
     ]
    },
    {
     "data": {
      "application/vnd.jupyter.widget-view+json": {
       "model_id": "846b7fd6b045405fa39af0965469772b",
       "version_major": 2,
       "version_minor": 0
      },
      "text/plain": [
       "Sanity Checking: |          | 0/? [00:00<?, ?it/s]"
      ]
     },
     "metadata": {},
     "output_type": "display_data"
    },
    {
     "name": "stdout",
     "output_type": "stream",
     "text": [
      "val_loss_avg:  tensor(0.7664, device='mps:0')\n",
      "accuracy:  0.51416015625\n"
     ]
    },
    {
     "name": "stderr",
     "output_type": "stream",
     "text": [
      "/Users/alirezarafiei/miniforge3/lib/python3.10/site-packages/pytorch_lightning/trainer/connectors/data_connector.py:441: The 'val_dataloader' does not have many workers which may be a bottleneck. Consider increasing the value of the `num_workers` argument` to `num_workers=13` in the `DataLoader` to improve performance.\n",
      "/Users/alirezarafiei/miniforge3/lib/python3.10/site-packages/pytorch_lightning/trainer/connectors/data_connector.py:441: The 'train_dataloader' does not have many workers which may be a bottleneck. Consider increasing the value of the `num_workers` argument` to `num_workers=13` in the `DataLoader` to improve performance.\n"
     ]
    },
    {
     "data": {
      "application/vnd.jupyter.widget-view+json": {
       "model_id": "3917c31f1cb14b4c94791e7a31da1558",
       "version_major": 2,
       "version_minor": 0
      },
      "text/plain": [
       "Training: |          | 0/? [00:00<?, ?it/s]"
      ]
     },
     "metadata": {},
     "output_type": "display_data"
    },
    {
     "data": {
      "application/vnd.jupyter.widget-view+json": {
       "model_id": "07579c787ef74387ad2d8c076a6d95a9",
       "version_major": 2,
       "version_minor": 0
      },
      "text/plain": [
       "Validation: |          | 0/? [00:00<?, ?it/s]"
      ]
     },
     "metadata": {},
     "output_type": "display_data"
    },
    {
     "name": "stdout",
     "output_type": "stream",
     "text": [
      "train_loss_avg:  tensor(0.6340, device='mps:0')\n",
      "val_loss_avg:  tensor(0.6182, device='mps:0')\n",
      "accuracy:  0.6876784903662545\n"
     ]
    },
    {
     "data": {
      "application/vnd.jupyter.widget-view+json": {
       "model_id": "5588f3282655453797867bf11c5c2bff",
       "version_major": 2,
       "version_minor": 0
      },
      "text/plain": [
       "Validation: |          | 0/? [00:00<?, ?it/s]"
      ]
     },
     "metadata": {},
     "output_type": "display_data"
    },
    {
     "name": "stdout",
     "output_type": "stream",
     "text": [
      "train_loss_avg:  tensor(0.6084, device='mps:0')\n",
      "val_loss_avg:  tensor(0.6142, device='mps:0')\n",
      "accuracy:  0.6965906471014023\n"
     ]
    },
    {
     "data": {
      "application/vnd.jupyter.widget-view+json": {
       "model_id": "a11cbd194c454fe9a4ca4241800b62c8",
       "version_major": 2,
       "version_minor": 0
      },
      "text/plain": [
       "Validation: |          | 0/? [00:00<?, ?it/s]"
      ]
     },
     "metadata": {},
     "output_type": "display_data"
    },
    {
     "name": "stdout",
     "output_type": "stream",
     "text": [
      "train_loss_avg:  tensor(0.5993, device='mps:0')\n",
      "val_loss_avg:  tensor(0.6123, device='mps:0')\n",
      "accuracy:  0.6980575429541724\n"
     ]
    },
    {
     "data": {
      "application/vnd.jupyter.widget-view+json": {
       "model_id": "9a3176245ddc48869a31393fb7a2f663",
       "version_major": 2,
       "version_minor": 0
      },
      "text/plain": [
       "Validation: |          | 0/? [00:00<?, ?it/s]"
      ]
     },
     "metadata": {},
     "output_type": "display_data"
    },
    {
     "name": "stdout",
     "output_type": "stream",
     "text": [
      "train_loss_avg:  tensor(0.5913, device='mps:0')\n",
      "val_loss_avg:  tensor(0.6131, device='mps:0')\n",
      "accuracy:  0.7005933225154877\n"
     ]
    },
    {
     "data": {
      "application/vnd.jupyter.widget-view+json": {
       "model_id": "e71a1dee288c427782689932573e6665",
       "version_major": 2,
       "version_minor": 0
      },
      "text/plain": [
       "Validation: |          | 0/? [00:00<?, ?it/s]"
      ]
     },
     "metadata": {},
     "output_type": "display_data"
    },
    {
     "name": "stdout",
     "output_type": "stream",
     "text": [
      "train_loss_avg:  tensor(0.5839, device='mps:0')\n",
      "val_loss_avg:  tensor(0.6153, device='mps:0')\n",
      "accuracy:  0.6988679255758014\n"
     ]
    },
    {
     "data": {
      "application/vnd.jupyter.widget-view+json": {
       "model_id": "4d667e4c0792403d9cc3eface645ce92",
       "version_major": 2,
       "version_minor": 0
      },
      "text/plain": [
       "Validation: |          | 0/? [00:00<?, ?it/s]"
      ]
     },
     "metadata": {},
     "output_type": "display_data"
    },
    {
     "name": "stdout",
     "output_type": "stream",
     "text": [
      "train_loss_avg:  tensor(0.5770, device='mps:0')\n",
      "val_loss_avg:  tensor(0.6154, device='mps:0')\n",
      "accuracy:  0.700078370315688\n"
     ]
    },
    {
     "data": {
      "application/vnd.jupyter.widget-view+json": {
       "model_id": "4590949bece84553a98391e693c9159c",
       "version_major": 2,
       "version_minor": 0
      },
      "text/plain": [
       "Validation: |          | 0/? [00:00<?, ?it/s]"
      ]
     },
     "metadata": {},
     "output_type": "display_data"
    },
    {
     "name": "stdout",
     "output_type": "stream",
     "text": [
      "train_loss_avg:  tensor(0.5701, device='mps:0')\n",
      "val_loss_avg:  tensor(0.6170, device='mps:0')\n",
      "accuracy:  0.6930167568581445\n"
     ]
    },
    {
     "data": {
      "application/vnd.jupyter.widget-view+json": {
       "model_id": "86a0b173bb0141ee9cb182ba9583cf7f",
       "version_major": 2,
       "version_minor": 0
      },
      "text/plain": [
       "Validation: |          | 0/? [00:00<?, ?it/s]"
      ]
     },
     "metadata": {},
     "output_type": "display_data"
    },
    {
     "name": "stdout",
     "output_type": "stream",
     "text": [
      "train_loss_avg:  tensor(0.5636, device='mps:0')\n",
      "val_loss_avg:  tensor(0.6161, device='mps:0')\n",
      "accuracy:  0.6971733037914548\n"
     ]
    },
    {
     "data": {
      "application/vnd.jupyter.widget-view+json": {
       "model_id": "7856bb46b9134d71b69d6b4e27272a38",
       "version_major": 2,
       "version_minor": 0
      },
      "text/plain": [
       "Validation: |          | 0/? [00:00<?, ?it/s]"
      ]
     },
     "metadata": {},
     "output_type": "display_data"
    },
    {
     "name": "stdout",
     "output_type": "stream",
     "text": [
      "train_loss_avg:  tensor(0.5629, device='mps:0')\n",
      "val_loss_avg:  tensor(0.6190, device='mps:0')\n",
      "accuracy:  0.6872230342456273\n"
     ]
    },
    {
     "data": {
      "application/vnd.jupyter.widget-view+json": {
       "model_id": "49f70ef09348449f9a435ae5a6b30d08",
       "version_major": 2,
       "version_minor": 0
      },
      "text/plain": [
       "Validation: |          | 0/? [00:00<?, ?it/s]"
      ]
     },
     "metadata": {},
     "output_type": "display_data"
    },
    {
     "name": "stderr",
     "output_type": "stream",
     "text": [
      "`Trainer.fit` stopped: `max_epochs=10` reached.\n"
     ]
    },
    {
     "name": "stdout",
     "output_type": "stream",
     "text": [
      "train_loss_avg:  tensor(0.5559, device='mps:0')\n",
      "val_loss_avg:  tensor(0.6195, device='mps:0')\n",
      "accuracy:  0.6920504527432578\n"
     ]
    }
   ],
   "source": [
    "# Change dataset return type to 'emb' (embeddings)\n",
    "pairs_dataset.set_ret_type('first_L_emb')\n",
    "\n",
    "# Initialize siamese transformer network\n",
    "siamese_transformer = attention_siamese.SiameseTransformer(\n",
    "    embedding_size=EMBEDDING_SIZE*MAX_TOKENS)\n",
    "\n",
    "# Train the model\n",
    "train_set_st, valid_set_st = utils.train_model(\n",
    "    pairs_dataset, siamese_transformer,\n",
    "    max_epochs=10, batch_size=1024, split_ratio=0.8)"
   ]
  },
  {
   "cell_type": "markdown",
   "metadata": {},
   "source": [
    "#### Evaluate the siamese-attention network"
   ]
  },
  {
   "cell_type": "code",
   "execution_count": 13,
   "metadata": {},
   "outputs": [
    {
     "data": {
      "application/vnd.jupyter.widget-view+json": {
       "model_id": "9a9627b687bc4aff850fe3100851ffa7",
       "version_major": 2,
       "version_minor": 0
      },
      "text/plain": [
       "Computing Top 10 DocIDs:   0%|          | 0/67869 [00:00<?, ?it/s]"
      ]
     },
     "metadata": {},
     "output_type": "display_data"
    },
    {
     "name": "stdout",
     "output_type": "stream",
     "text": [
      "Top 10 ids: ['631639' '7704852' '5912092' '1617626' '7502639' '5299219' '2864023'\n",
      " '7997717' '7253935' '6352180']\n",
      "Relevant ids: ['7867446', '3368049', '4778576', '2914344', '2045120', '7867439', '6110464', '2045118', '7867440', '8699805']\n",
      "Common elements 0\n"
     ]
    }
   ],
   "source": [
    "# Set model to evaluation mode\n",
    "siamese_transformer.eval()\n",
    "\n",
    "# Extract first query\n",
    "query = list(queries.keys())[0]\n",
    "# Get the list of relevant docids for the query\n",
    "docids_list = queries[query]['docids_list']\n",
    "\n",
    "# Compute top-k docids\n",
    "top_k_ids = eval_utils.top_k_docids_siamese(\n",
    "    siamese_transformer, queries[query], documents, k=K1)\n",
    "\n",
    "# Print top-k docids and relevant docid\n",
    "print(f\"Top {K1} ids:\", top_k_ids)\n",
    "print(\"Relevant ids:\", docids_list)\n",
    "print(\"Common elements\", np.isin(top_k_ids, docids_list).sum())"
   ]
  },
  {
   "cell_type": "code",
   "execution_count": 14,
   "metadata": {},
   "outputs": [
    {
     "data": {
      "application/vnd.jupyter.widget-view+json": {
       "model_id": "dea7a715f6f8414bbd96a512111eb67a",
       "version_major": 2,
       "version_minor": 0
      },
      "text/plain": [
       "Computing Mean Metrics:   0%|          | 0/10 [00:00<?, ?it/s]"
      ]
     },
     "metadata": {},
     "output_type": "display_data"
    },
    {
     "data": {
      "application/vnd.jupyter.widget-view+json": {
       "model_id": "600a5bebf25e405591516ad6e17ab286",
       "version_major": 2,
       "version_minor": 0
      },
      "text/plain": [
       "Computing Top 10 DocIDs:   0%|          | 0/67869 [00:00<?, ?it/s]"
      ]
     },
     "metadata": {},
     "output_type": "display_data"
    },
    {
     "data": {
      "application/vnd.jupyter.widget-view+json": {
       "model_id": "f8b035b4aba04677b210eba1c994893f",
       "version_major": 2,
       "version_minor": 0
      },
      "text/plain": [
       "Computing Top 10 DocIDs:   0%|          | 0/67869 [00:00<?, ?it/s]"
      ]
     },
     "metadata": {},
     "output_type": "display_data"
    },
    {
     "data": {
      "application/vnd.jupyter.widget-view+json": {
       "model_id": "6ad5db06d343436784c81ff07f2da548",
       "version_major": 2,
       "version_minor": 0
      },
      "text/plain": [
       "Computing Top 10 DocIDs:   0%|          | 0/67869 [00:00<?, ?it/s]"
      ]
     },
     "metadata": {},
     "output_type": "display_data"
    },
    {
     "data": {
      "application/vnd.jupyter.widget-view+json": {
       "model_id": "ab60650709e54c238361f1d5d175d3cd",
       "version_major": 2,
       "version_minor": 0
      },
      "text/plain": [
       "Computing Top 10 DocIDs:   0%|          | 0/67869 [00:00<?, ?it/s]"
      ]
     },
     "metadata": {},
     "output_type": "display_data"
    },
    {
     "data": {
      "application/vnd.jupyter.widget-view+json": {
       "model_id": "580bb24e71c04172968a99a2668a248f",
       "version_major": 2,
       "version_minor": 0
      },
      "text/plain": [
       "Computing Top 10 DocIDs:   0%|          | 0/67869 [00:00<?, ?it/s]"
      ]
     },
     "metadata": {},
     "output_type": "display_data"
    },
    {
     "data": {
      "application/vnd.jupyter.widget-view+json": {
       "model_id": "46ebb22059f64f3aadaf951d9e8b0152",
       "version_major": 2,
       "version_minor": 0
      },
      "text/plain": [
       "Computing Top 10 DocIDs:   0%|          | 0/67869 [00:00<?, ?it/s]"
      ]
     },
     "metadata": {},
     "output_type": "display_data"
    },
    {
     "data": {
      "application/vnd.jupyter.widget-view+json": {
       "model_id": "888395f9c7094c4993920fd7245507f3",
       "version_major": 2,
       "version_minor": 0
      },
      "text/plain": [
       "Computing Top 10 DocIDs:   0%|          | 0/67869 [00:00<?, ?it/s]"
      ]
     },
     "metadata": {},
     "output_type": "display_data"
    },
    {
     "data": {
      "application/vnd.jupyter.widget-view+json": {
       "model_id": "2f450e4bfba84d87ae5caa4cf7af4f83",
       "version_major": 2,
       "version_minor": 0
      },
      "text/plain": [
       "Computing Top 10 DocIDs:   0%|          | 0/67869 [00:00<?, ?it/s]"
      ]
     },
     "metadata": {},
     "output_type": "display_data"
    },
    {
     "data": {
      "application/vnd.jupyter.widget-view+json": {
       "model_id": "f0ecfd7e468948e28ef638a16c96931c",
       "version_major": 2,
       "version_minor": 0
      },
      "text/plain": [
       "Computing Top 10 DocIDs:   0%|          | 0/67869 [00:00<?, ?it/s]"
      ]
     },
     "metadata": {},
     "output_type": "display_data"
    },
    {
     "data": {
      "application/vnd.jupyter.widget-view+json": {
       "model_id": "322df881c6694b6ea28e391b680a4eff",
       "version_major": 2,
       "version_minor": 0
      },
      "text/plain": [
       "Computing Top 10 DocIDs:   0%|          | 0/67869 [00:00<?, ?it/s]"
      ]
     },
     "metadata": {},
     "output_type": "display_data"
    },
    {
     "data": {
      "application/vnd.jupyter.widget-view+json": {
       "model_id": "6145c703b5aa4a08a666bbf084702a6c",
       "version_major": 2,
       "version_minor": 0
      },
      "text/plain": [
       "Computing Mean Metrics:   0%|          | 0/10 [00:00<?, ?it/s]"
      ]
     },
     "metadata": {},
     "output_type": "display_data"
    },
    {
     "data": {
      "application/vnd.jupyter.widget-view+json": {
       "model_id": "9169c0eb38574242ba01f7ece01830fb",
       "version_major": 2,
       "version_minor": 0
      },
      "text/plain": [
       "Computing Top 100 DocIDs:   0%|          | 0/67869 [00:00<?, ?it/s]"
      ]
     },
     "metadata": {},
     "output_type": "display_data"
    },
    {
     "data": {
      "application/vnd.jupyter.widget-view+json": {
       "model_id": "b5d3d71097f341fa998ff84d2324860c",
       "version_major": 2,
       "version_minor": 0
      },
      "text/plain": [
       "Computing Top 100 DocIDs:   0%|          | 0/67869 [00:00<?, ?it/s]"
      ]
     },
     "metadata": {},
     "output_type": "display_data"
    },
    {
     "data": {
      "application/vnd.jupyter.widget-view+json": {
       "model_id": "b4866354e4ee46b8a535572902c18f16",
       "version_major": 2,
       "version_minor": 0
      },
      "text/plain": [
       "Computing Top 100 DocIDs:   0%|          | 0/67869 [00:00<?, ?it/s]"
      ]
     },
     "metadata": {},
     "output_type": "display_data"
    },
    {
     "data": {
      "application/vnd.jupyter.widget-view+json": {
       "model_id": "af7e7461ae004242aebe9eddf4347f38",
       "version_major": 2,
       "version_minor": 0
      },
      "text/plain": [
       "Computing Top 100 DocIDs:   0%|          | 0/67869 [00:00<?, ?it/s]"
      ]
     },
     "metadata": {},
     "output_type": "display_data"
    },
    {
     "data": {
      "application/vnd.jupyter.widget-view+json": {
       "model_id": "56fed3941b5844e98efc99e3e5664b5a",
       "version_major": 2,
       "version_minor": 0
      },
      "text/plain": [
       "Computing Top 100 DocIDs:   0%|          | 0/67869 [00:00<?, ?it/s]"
      ]
     },
     "metadata": {},
     "output_type": "display_data"
    },
    {
     "data": {
      "application/vnd.jupyter.widget-view+json": {
       "model_id": "3946f5c95030419a9651c5c25b6dce3e",
       "version_major": 2,
       "version_minor": 0
      },
      "text/plain": [
       "Computing Top 100 DocIDs:   0%|          | 0/67869 [00:00<?, ?it/s]"
      ]
     },
     "metadata": {},
     "output_type": "display_data"
    },
    {
     "data": {
      "application/vnd.jupyter.widget-view+json": {
       "model_id": "5e8e4e1d60c94ae2ab6d5cfa16e6fd57",
       "version_major": 2,
       "version_minor": 0
      },
      "text/plain": [
       "Computing Top 100 DocIDs:   0%|          | 0/67869 [00:00<?, ?it/s]"
      ]
     },
     "metadata": {},
     "output_type": "display_data"
    },
    {
     "data": {
      "application/vnd.jupyter.widget-view+json": {
       "model_id": "95d5910d738e40809bb437faceda10a8",
       "version_major": 2,
       "version_minor": 0
      },
      "text/plain": [
       "Computing Top 100 DocIDs:   0%|          | 0/67869 [00:00<?, ?it/s]"
      ]
     },
     "metadata": {},
     "output_type": "display_data"
    },
    {
     "data": {
      "application/vnd.jupyter.widget-view+json": {
       "model_id": "1f59e9f4a52442eeb823816c8c06c92f",
       "version_major": 2,
       "version_minor": 0
      },
      "text/plain": [
       "Computing Top 100 DocIDs:   0%|          | 0/67869 [00:00<?, ?it/s]"
      ]
     },
     "metadata": {},
     "output_type": "display_data"
    },
    {
     "data": {
      "application/vnd.jupyter.widget-view+json": {
       "model_id": "3a68027c3b7d48438f31084ae0d27774",
       "version_major": 2,
       "version_minor": 0
      },
      "text/plain": [
       "Computing Top 100 DocIDs:   0%|          | 0/67869 [00:00<?, ?it/s]"
      ]
     },
     "metadata": {},
     "output_type": "display_data"
    },
    {
     "name": "stdout",
     "output_type": "stream",
     "text": [
      "Mean Average Precision (MAP): 0.0\n",
      "Normalized Discounted Cumulative Gain (NDCG): 0.0\n",
      "Mean Precison@10 0.0\n",
      "Mean Recall@10 0.0\n",
      "Mean Precison@100 0.0\n",
      "Mean Recall@100 0.0\n"
     ]
    }
   ],
   "source": [
    "# Change return type to 'id' to get query IDs\n",
    "pairs_dataset.set_ret_type('id')\n",
    "# Randomly select N triplets from validation set\n",
    "selected_triplets = random.sample(list(valid_set_st), 10)\n",
    "# Extract queries from the selected triplets\n",
    "random_queries = [triplet[0] for triplet in selected_triplets]\n",
    "\n",
    "# Compute metrics for K1\n",
    "# Compute metrics for K1\n",
    "running_mean_AP, running_mean_PatK1, running_mean_RatK1, running_mean_nDCG = eval_utils.compute_Mean_metrics(\n",
    "    siamese_net, random_queries, queries, documents, k=K1, model_type='siamese')\n",
    "# Compute metrics for K2\n",
    "_, running_mean_PatK2, running_mean_RatK2, _ = eval_utils.compute_Mean_metrics(\n",
    "    siamese_net, random_queries, queries, documents, k=K2, model_type='siamese')\n",
    "\n",
    "# Print mean average precision\n",
    "print(\"Mean Average Precision (MAP):\", running_mean_AP)\n",
    "# Print ndcg\n",
    "print(\"Normalized Discounted Cumulative Gain (NDCG):\", running_mean_nDCG)\n",
    "# Print mean precision at k1\n",
    "print(f\"Mean Precison@{K1}\", running_mean_PatK1)\n",
    "# Print mean recall at k1\n",
    "print(f\"Mean Recall@{K1}\", running_mean_RatK1)\n",
    "# Print mean precision at k2\n",
    "print(f\"Mean Precison@{K2}\", running_mean_PatK2)\n",
    "# Print mean recall at k2\n",
    "print(f\"Mean Recall@{K2}\", running_mean_RatK2)"
   ]
  },
  {
   "cell_type": "code",
   "execution_count": 15,
   "metadata": {},
   "outputs": [
    {
     "data": {
      "application/vnd.jupyter.widget-view+json": {
       "model_id": "94b8a89090804f5f9ec9df889c911ef8",
       "version_major": 2,
       "version_minor": 0
      },
      "text/plain": [
       "Computing Mean Metrics:   0%|          | 0/10 [00:00<?, ?it/s]"
      ]
     },
     "metadata": {},
     "output_type": "display_data"
    },
    {
     "data": {
      "application/vnd.jupyter.widget-view+json": {
       "model_id": "3332d28fd4fa404c96f735ce06604cc6",
       "version_major": 2,
       "version_minor": 0
      },
      "text/plain": [
       "Computing Top 10 DocIDs:   0%|          | 0/67869 [00:00<?, ?it/s]"
      ]
     },
     "metadata": {},
     "output_type": "display_data"
    },
    {
     "data": {
      "application/vnd.jupyter.widget-view+json": {
       "model_id": "09b50554adb34fbab845d84fa6a3d1d4",
       "version_major": 2,
       "version_minor": 0
      },
      "text/plain": [
       "Computing Top 10 DocIDs:   0%|          | 0/67869 [00:00<?, ?it/s]"
      ]
     },
     "metadata": {},
     "output_type": "display_data"
    },
    {
     "data": {
      "application/vnd.jupyter.widget-view+json": {
       "model_id": "703f0a5de1e94aaab8ac513770da850f",
       "version_major": 2,
       "version_minor": 0
      },
      "text/plain": [
       "Computing Top 10 DocIDs:   0%|          | 0/67869 [00:00<?, ?it/s]"
      ]
     },
     "metadata": {},
     "output_type": "display_data"
    },
    {
     "data": {
      "application/vnd.jupyter.widget-view+json": {
       "model_id": "201693e73f8441edaafd0b4412da8c49",
       "version_major": 2,
       "version_minor": 0
      },
      "text/plain": [
       "Computing Top 10 DocIDs:   0%|          | 0/67869 [00:00<?, ?it/s]"
      ]
     },
     "metadata": {},
     "output_type": "display_data"
    },
    {
     "data": {
      "application/vnd.jupyter.widget-view+json": {
       "model_id": "8b762f9ecd23491dbdc47f2552371c62",
       "version_major": 2,
       "version_minor": 0
      },
      "text/plain": [
       "Computing Top 10 DocIDs:   0%|          | 0/67869 [00:00<?, ?it/s]"
      ]
     },
     "metadata": {},
     "output_type": "display_data"
    },
    {
     "data": {
      "application/vnd.jupyter.widget-view+json": {
       "model_id": "9d6ae3e02ac740bdbdeb0bc79ee7cb1b",
       "version_major": 2,
       "version_minor": 0
      },
      "text/plain": [
       "Computing Top 10 DocIDs:   0%|          | 0/67869 [00:00<?, ?it/s]"
      ]
     },
     "metadata": {},
     "output_type": "display_data"
    },
    {
     "data": {
      "application/vnd.jupyter.widget-view+json": {
       "model_id": "8df1e9c5ef8844f2b6ccab0b2ff8a2b7",
       "version_major": 2,
       "version_minor": 0
      },
      "text/plain": [
       "Computing Top 10 DocIDs:   0%|          | 0/67869 [00:00<?, ?it/s]"
      ]
     },
     "metadata": {},
     "output_type": "display_data"
    },
    {
     "data": {
      "application/vnd.jupyter.widget-view+json": {
       "model_id": "65ff0b202103446793c735703500ca7a",
       "version_major": 2,
       "version_minor": 0
      },
      "text/plain": [
       "Computing Top 10 DocIDs:   0%|          | 0/67869 [00:00<?, ?it/s]"
      ]
     },
     "metadata": {},
     "output_type": "display_data"
    },
    {
     "data": {
      "application/vnd.jupyter.widget-view+json": {
       "model_id": "ef02732cca4c43b08022294e219ffc91",
       "version_major": 2,
       "version_minor": 0
      },
      "text/plain": [
       "Computing Top 10 DocIDs:   0%|          | 0/67869 [00:00<?, ?it/s]"
      ]
     },
     "metadata": {},
     "output_type": "display_data"
    },
    {
     "data": {
      "application/vnd.jupyter.widget-view+json": {
       "model_id": "e25864f833a04ea9b9e27c6990957005",
       "version_major": 2,
       "version_minor": 0
      },
      "text/plain": [
       "Computing Top 10 DocIDs:   0%|          | 0/67869 [00:00<?, ?it/s]"
      ]
     },
     "metadata": {},
     "output_type": "display_data"
    },
    {
     "data": {
      "application/vnd.jupyter.widget-view+json": {
       "model_id": "07679649674e4ab9aa218ce35e4acccc",
       "version_major": 2,
       "version_minor": 0
      },
      "text/plain": [
       "Computing Mean Metrics:   0%|          | 0/10 [00:00<?, ?it/s]"
      ]
     },
     "metadata": {},
     "output_type": "display_data"
    },
    {
     "data": {
      "application/vnd.jupyter.widget-view+json": {
       "model_id": "1dc174886c914fc39dc4955077f890ed",
       "version_major": 2,
       "version_minor": 0
      },
      "text/plain": [
       "Computing Top 100 DocIDs:   0%|          | 0/67869 [00:00<?, ?it/s]"
      ]
     },
     "metadata": {},
     "output_type": "display_data"
    },
    {
     "data": {
      "application/vnd.jupyter.widget-view+json": {
       "model_id": "c7601d879ccb484d9ccbecebc8347725",
       "version_major": 2,
       "version_minor": 0
      },
      "text/plain": [
       "Computing Top 100 DocIDs:   0%|          | 0/67869 [00:00<?, ?it/s]"
      ]
     },
     "metadata": {},
     "output_type": "display_data"
    },
    {
     "data": {
      "application/vnd.jupyter.widget-view+json": {
       "model_id": "a2795d852fb849dd954d167d9267602d",
       "version_major": 2,
       "version_minor": 0
      },
      "text/plain": [
       "Computing Top 100 DocIDs:   0%|          | 0/67869 [00:00<?, ?it/s]"
      ]
     },
     "metadata": {},
     "output_type": "display_data"
    },
    {
     "data": {
      "application/vnd.jupyter.widget-view+json": {
       "model_id": "e8892d42380a4f03bed26a93c9305a82",
       "version_major": 2,
       "version_minor": 0
      },
      "text/plain": [
       "Computing Top 100 DocIDs:   0%|          | 0/67869 [00:00<?, ?it/s]"
      ]
     },
     "metadata": {},
     "output_type": "display_data"
    },
    {
     "data": {
      "application/vnd.jupyter.widget-view+json": {
       "model_id": "bab3e4d9814a461b882c00a7abd72769",
       "version_major": 2,
       "version_minor": 0
      },
      "text/plain": [
       "Computing Top 100 DocIDs:   0%|          | 0/67869 [00:00<?, ?it/s]"
      ]
     },
     "metadata": {},
     "output_type": "display_data"
    },
    {
     "data": {
      "application/vnd.jupyter.widget-view+json": {
       "model_id": "022f3159e8a74289a4c8180725e7f601",
       "version_major": 2,
       "version_minor": 0
      },
      "text/plain": [
       "Computing Top 100 DocIDs:   0%|          | 0/67869 [00:00<?, ?it/s]"
      ]
     },
     "metadata": {},
     "output_type": "display_data"
    },
    {
     "data": {
      "application/vnd.jupyter.widget-view+json": {
       "model_id": "3162c3c7b7e8449ca85c02930e7ab59e",
       "version_major": 2,
       "version_minor": 0
      },
      "text/plain": [
       "Computing Top 100 DocIDs:   0%|          | 0/67869 [00:00<?, ?it/s]"
      ]
     },
     "metadata": {},
     "output_type": "display_data"
    },
    {
     "data": {
      "application/vnd.jupyter.widget-view+json": {
       "model_id": "1cb11d4da2f44a329904a93e0867e01c",
       "version_major": 2,
       "version_minor": 0
      },
      "text/plain": [
       "Computing Top 100 DocIDs:   0%|          | 0/67869 [00:00<?, ?it/s]"
      ]
     },
     "metadata": {},
     "output_type": "display_data"
    },
    {
     "data": {
      "application/vnd.jupyter.widget-view+json": {
       "model_id": "6fc5d121db2e46b099becdfc5a418b3e",
       "version_major": 2,
       "version_minor": 0
      },
      "text/plain": [
       "Computing Top 100 DocIDs:   0%|          | 0/67869 [00:00<?, ?it/s]"
      ]
     },
     "metadata": {},
     "output_type": "display_data"
    },
    {
     "data": {
      "application/vnd.jupyter.widget-view+json": {
       "model_id": "71e0c464da5c4191aa9a8d1f8fdbba4b",
       "version_major": 2,
       "version_minor": 0
      },
      "text/plain": [
       "Computing Top 100 DocIDs:   0%|          | 0/67869 [00:00<?, ?it/s]"
      ]
     },
     "metadata": {},
     "output_type": "display_data"
    },
    {
     "name": "stdout",
     "output_type": "stream",
     "text": [
      "Mean Average Precision (MAP): 0.0\n",
      "Normalized Discounted Cumulative Gain (NDCG): 0.0\n",
      "Mean Precison@10 0.0\n",
      "Mean Recall@10 0.0\n",
      "Mean Precison@100 0.0\n",
      "Mean Recall@100 0.0\n"
     ]
    }
   ],
   "source": [
    "# Change return type to 'id' to get query IDs\n",
    "pairs_dataset.set_ret_type('id')\n",
    "# Randomly select N triplets from validation set\n",
    "selected_triplets = random.sample(list(train_set_st), 10)\n",
    "# Extract queries from the selected triplets\n",
    "random_queries = [triplet[0] for triplet in selected_triplets]\n",
    "\n",
    "# Compute metrics for K1\n",
    "running_mean_AP, running_mean_PatK1, running_mean_RatK1, running_mean_nDCG = eval_utils.compute_Mean_metrics(\n",
    "    siamese_net, random_queries, queries, documents, k=K1, model_type='siamese')\n",
    "# Compute metrics for K2\n",
    "_, running_mean_PatK2, running_mean_RatK2, _ = eval_utils.compute_Mean_metrics(\n",
    "    siamese_net, random_queries, queries, documents, k=K2, model_type='siamese')\n",
    "\n",
    "# Print mean average precision\n",
    "print(\"Mean Average Precision (MAP):\", running_mean_AP)\n",
    "# Print ndcg\n",
    "print(\"Normalized Discounted Cumulative Gain (NDCG):\", running_mean_nDCG)\n",
    "# Print mean precision at k1\n",
    "print(f\"Mean Precison@{K1}\", running_mean_PatK1)\n",
    "# Print mean recall at k1\n",
    "print(f\"Mean Recall@{K1}\", running_mean_RatK1)\n",
    "# Print mean precision at k2\n",
    "print(f\"Mean Precison@{K2}\", running_mean_PatK2)\n",
    "# Print mean recall at k2\n",
    "print(f\"Mean Recall@{K2}\", running_mean_RatK2)"
   ]
  },
  {
   "cell_type": "markdown",
   "metadata": {},
   "source": [
    "#### Contrastive learning approach with triplet loss"
   ]
  },
  {
   "cell_type": "code",
   "execution_count": 16,
   "metadata": {},
   "outputs": [
    {
     "name": "stderr",
     "output_type": "stream",
     "text": [
      "GPU available: True (mps), used: True\n",
      "TPU available: False, using: 0 TPU cores\n",
      "IPU available: False, using: 0 IPUs\n",
      "HPU available: False, using: 0 HPUs\n"
     ]
    },
    {
     "name": "stderr",
     "output_type": "stream",
     "text": [
      "\n",
      "  | Name      | Type              | Params\n",
      "------------------------------------------------\n",
      "0 | network   | Sequential        | 72.1 K\n",
      "1 | criterion | TripletMarginLoss | 0     \n",
      "------------------------------------------------\n",
      "72.1 K    Trainable params\n",
      "0         Non-trainable params\n",
      "72.1 K    Total params\n",
      "0.289     Total estimated model params size (MB)\n"
     ]
    },
    {
     "data": {
      "application/vnd.jupyter.widget-view+json": {
       "model_id": "37ccb746186a4976abed9132d1a3bc7f",
       "version_major": 2,
       "version_minor": 0
      },
      "text/plain": [
       "Sanity Checking: |          | 0/? [00:00<?, ?it/s]"
      ]
     },
     "metadata": {},
     "output_type": "display_data"
    },
    {
     "name": "stdout",
     "output_type": "stream",
     "text": [
      "val_loss_avg:  tensor(0.9899, device='mps:0')\n"
     ]
    },
    {
     "data": {
      "application/vnd.jupyter.widget-view+json": {
       "model_id": "bb60bb51edd341bfbf0e1383d1cad492",
       "version_major": 2,
       "version_minor": 0
      },
      "text/plain": [
       "Training: |          | 0/? [00:00<?, ?it/s]"
      ]
     },
     "metadata": {},
     "output_type": "display_data"
    },
    {
     "data": {
      "application/vnd.jupyter.widget-view+json": {
       "model_id": "dc1062b10dce419f9a39cc48bf039824",
       "version_major": 2,
       "version_minor": 0
      },
      "text/plain": [
       "Validation: |          | 0/? [00:00<?, ?it/s]"
      ]
     },
     "metadata": {},
     "output_type": "display_data"
    },
    {
     "name": "stdout",
     "output_type": "stream",
     "text": [
      "train_loss_avg:  tensor(0.8450, device='mps:0')\n",
      "val_loss_avg:  tensor(0.7857, device='mps:0')\n"
     ]
    },
    {
     "data": {
      "application/vnd.jupyter.widget-view+json": {
       "model_id": "7c23770a72284b0e9fb62ee3c72fa09a",
       "version_major": 2,
       "version_minor": 0
      },
      "text/plain": [
       "Validation: |          | 0/? [00:00<?, ?it/s]"
      ]
     },
     "metadata": {},
     "output_type": "display_data"
    },
    {
     "name": "stdout",
     "output_type": "stream",
     "text": [
      "train_loss_avg:  tensor(0.7553, device='mps:0')\n",
      "val_loss_avg:  tensor(0.7475, device='mps:0')\n"
     ]
    },
    {
     "data": {
      "application/vnd.jupyter.widget-view+json": {
       "model_id": "0d674628a0534044a448dc7a2416bc57",
       "version_major": 2,
       "version_minor": 0
      },
      "text/plain": [
       "Validation: |          | 0/? [00:00<?, ?it/s]"
      ]
     },
     "metadata": {},
     "output_type": "display_data"
    },
    {
     "name": "stdout",
     "output_type": "stream",
     "text": [
      "train_loss_avg:  tensor(0.7161, device='mps:0')\n",
      "val_loss_avg:  tensor(0.7218, device='mps:0')\n"
     ]
    },
    {
     "data": {
      "application/vnd.jupyter.widget-view+json": {
       "model_id": "49e4b9396b434cf990c0ee54c108e7c3",
       "version_major": 2,
       "version_minor": 0
      },
      "text/plain": [
       "Validation: |          | 0/? [00:00<?, ?it/s]"
      ]
     },
     "metadata": {},
     "output_type": "display_data"
    },
    {
     "name": "stdout",
     "output_type": "stream",
     "text": [
      "train_loss_avg:  tensor(0.6890, device='mps:0')\n",
      "val_loss_avg:  tensor(0.7113, device='mps:0')\n"
     ]
    },
    {
     "data": {
      "application/vnd.jupyter.widget-view+json": {
       "model_id": "868cb9fb27b341b2a6125db94313949c",
       "version_major": 2,
       "version_minor": 0
      },
      "text/plain": [
       "Validation: |          | 0/? [00:00<?, ?it/s]"
      ]
     },
     "metadata": {},
     "output_type": "display_data"
    },
    {
     "name": "stdout",
     "output_type": "stream",
     "text": [
      "train_loss_avg:  tensor(0.6648, device='mps:0')\n",
      "val_loss_avg:  tensor(0.7110, device='mps:0')\n"
     ]
    },
    {
     "data": {
      "application/vnd.jupyter.widget-view+json": {
       "model_id": "68f14497343344c9a39fa24c830c47b6",
       "version_major": 2,
       "version_minor": 0
      },
      "text/plain": [
       "Validation: |          | 0/? [00:00<?, ?it/s]"
      ]
     },
     "metadata": {},
     "output_type": "display_data"
    },
    {
     "name": "stdout",
     "output_type": "stream",
     "text": [
      "train_loss_avg:  tensor(0.6466, device='mps:0')\n",
      "val_loss_avg:  tensor(0.6977, device='mps:0')\n"
     ]
    },
    {
     "data": {
      "application/vnd.jupyter.widget-view+json": {
       "model_id": "f0363172f2504a1f8bd495c2a03a9056",
       "version_major": 2,
       "version_minor": 0
      },
      "text/plain": [
       "Validation: |          | 0/? [00:00<?, ?it/s]"
      ]
     },
     "metadata": {},
     "output_type": "display_data"
    },
    {
     "name": "stdout",
     "output_type": "stream",
     "text": [
      "train_loss_avg:  tensor(0.6307, device='mps:0')\n",
      "val_loss_avg:  tensor(0.6920, device='mps:0')\n"
     ]
    },
    {
     "data": {
      "application/vnd.jupyter.widget-view+json": {
       "model_id": "1bd8b3d041fa4d4bad975dd161cb57c3",
       "version_major": 2,
       "version_minor": 0
      },
      "text/plain": [
       "Validation: |          | 0/? [00:00<?, ?it/s]"
      ]
     },
     "metadata": {},
     "output_type": "display_data"
    },
    {
     "name": "stdout",
     "output_type": "stream",
     "text": [
      "train_loss_avg:  tensor(0.6118, device='mps:0')\n",
      "val_loss_avg:  tensor(0.6897, device='mps:0')\n"
     ]
    },
    {
     "data": {
      "application/vnd.jupyter.widget-view+json": {
       "model_id": "76568f31803540edbead3f089df5c91f",
       "version_major": 2,
       "version_minor": 0
      },
      "text/plain": [
       "Validation: |          | 0/? [00:00<?, ?it/s]"
      ]
     },
     "metadata": {},
     "output_type": "display_data"
    },
    {
     "name": "stdout",
     "output_type": "stream",
     "text": [
      "train_loss_avg:  tensor(0.5950, device='mps:0')\n",
      "val_loss_avg:  tensor(0.6858, device='mps:0')\n"
     ]
    },
    {
     "data": {
      "application/vnd.jupyter.widget-view+json": {
       "model_id": "f4b45c6cf61d48a389b6c5dd8d0fe4a8",
       "version_major": 2,
       "version_minor": 0
      },
      "text/plain": [
       "Validation: |          | 0/? [00:00<?, ?it/s]"
      ]
     },
     "metadata": {},
     "output_type": "display_data"
    },
    {
     "name": "stderr",
     "output_type": "stream",
     "text": [
      "`Trainer.fit` stopped: `max_epochs=10` reached.\n"
     ]
    },
    {
     "name": "stdout",
     "output_type": "stream",
     "text": [
      "train_loss_avg:  tensor(0.5813, device='mps:0')\n",
      "val_loss_avg:  tensor(0.6895, device='mps:0')\n"
     ]
    },
    {
     "data": {
      "text/plain": [
       "Reusing TensorBoard on port 6006 (pid 21855), started 0:29:26 ago. (Use '!kill 21855' to kill it.)"
      ]
     },
     "metadata": {},
     "output_type": "display_data"
    },
    {
     "data": {
      "text/html": [
       "\n",
       "      <iframe id=\"tensorboard-frame-b3d14f1095eb6748\" width=\"100%\" height=\"800\" frameborder=\"0\">\n",
       "      </iframe>\n",
       "      <script>\n",
       "        (function() {\n",
       "          const frame = document.getElementById(\"tensorboard-frame-b3d14f1095eb6748\");\n",
       "          const url = new URL(\"http://localhost\");\n",
       "          const port = 6006;\n",
       "          if (port) {\n",
       "            url.port = port;\n",
       "          }\n",
       "          frame.src = url;\n",
       "        })();\n",
       "      </script>\n",
       "    "
      ],
      "text/plain": [
       "<IPython.core.display.HTML object>"
      ]
     },
     "metadata": {},
     "output_type": "display_data"
    }
   ],
   "source": [
    "# Change dataset return type to 'emb' (embeddings)\n",
    "triplets_dataset.set_ret_type('emb')\n",
    "\n",
    "# Initialize the Siamese Lightning module\n",
    "siamese_lightning_module = siamese_triplet.SiameseNetworkPL(\n",
    "    input_size=EMBEDDING_SIZE, output_size=64,\n",
    "    margin=1.0, learning_rate=0.001, arch_type='linear')\n",
    "\n",
    "# Train the model\n",
    "train_set_sc, valid_set_sc = utils.train_model(\n",
    "    triplets_dataset, siamese_lightning_module,\n",
    "    max_epochs=10, batch_size=1024, split_ratio=0.8)\n",
    "\n",
    "# Start TensorBoard within the notebook\n",
    "%tensorboard --logdir lightning_logs/"
   ]
  },
  {
   "cell_type": "markdown",
   "metadata": {},
   "source": [
    "#### Visualization"
   ]
  },
  {
   "cell_type": "code",
   "execution_count": 17,
   "metadata": {},
   "outputs": [
    {
     "data": {
      "image/png": "[encoded data removed]",
      "text/plain": [
       "<Figure size 600x400 with 1 Axes>"
      ]
     },
     "metadata": {},
     "output_type": "display_data"
    }
   ],
   "source": [
    "# Create plots\n",
    "utils.plot_pl_logs(\n",
    "    './lightning_logs/version_2',\n",
    "    'validation_epoch_average',\n",
    "    './plots/contrastive')\n",
    "\n",
    "# Download plots\n",
    "if DOWNLOAD_FILES:\n",
    "    files.download('./plots/contrastive/validation_epoch_average.pdf')"
   ]
  },
  {
   "cell_type": "markdown",
   "metadata": {},
   "source": [
    "#### Contrastive learning evaluation"
   ]
  },
  {
   "cell_type": "code",
   "execution_count": 18,
   "metadata": {},
   "outputs": [
    {
     "data": {
      "application/vnd.jupyter.widget-view+json": {
       "model_id": "8785d8db19ff4ed6bcb94da1573e30a7",
       "version_major": 2,
       "version_minor": 0
      },
      "text/plain": [
       "Computing Top 10 DocIDs:   0%|          | 0/67869 [00:00<?, ?it/s]"
      ]
     },
     "metadata": {},
     "output_type": "display_data"
    },
    {
     "name": "stdout",
     "output_type": "stream",
     "text": [
      "Top 10 ids: ['7484927' '7623633' '7230752' '2387968' '5795287' '7533642' '7688579'\n",
      " '4600832' '7675724' '7179731']\n",
      "Relevant ids: ['7867446', '3368049', '4778576', '2914344', '2045120', '7867439', '6110464', '2045118', '7867440', '8699805']\n",
      "Common elements 0\n"
     ]
    }
   ],
   "source": [
    "# Set model to evaluation mode\n",
    "siamese_lightning_module.eval()\n",
    "\n",
    "# Extract random query sample\n",
    "query = list(queries.keys())[0]\n",
    "# Get the list of relevant docids for the query\n",
    "docids_list = queries[query]['docids_list']\n",
    "\n",
    "# Compute top-k docids\n",
    "top_k_ids = eval_utils.top_k_docids_siamese(\n",
    "    siamese_lightning_module, queries[query], documents, k=K1)\n",
    "\n",
    "# Print top-k docids and relevant docid\n",
    "print(f\"Top {K1} ids:\", top_k_ids)\n",
    "print(\"Relevant ids:\", docids_list)\n",
    "print(\"Common elements\", np.isin(top_k_ids, docids_list).sum())"
   ]
  },
  {
   "cell_type": "code",
   "execution_count": 19,
   "metadata": {},
   "outputs": [
    {
     "data": {
      "application/vnd.jupyter.widget-view+json": {
       "model_id": "ea542614a9834f5ba62b9e08077601fd",
       "version_major": 2,
       "version_minor": 0
      },
      "text/plain": [
       "Computing Mean Metrics:   0%|          | 0/50 [00:00<?, ?it/s]"
      ]
     },
     "metadata": {},
     "output_type": "display_data"
    },
    {
     "data": {
      "application/vnd.jupyter.widget-view+json": {
       "model_id": "2a76c06f587349ce8519255d369e4f69",
       "version_major": 2,
       "version_minor": 0
      },
      "text/plain": [
       "Computing Top 10 DocIDs:   0%|          | 0/67869 [00:00<?, ?it/s]"
      ]
     },
     "metadata": {},
     "output_type": "display_data"
    },
    {
     "data": {
      "application/vnd.jupyter.widget-view+json": {
       "model_id": "908fb597f83e494eb9645d65e2db9e93",
       "version_major": 2,
       "version_minor": 0
      },
      "text/plain": [
       "Computing Top 10 DocIDs:   0%|          | 0/67869 [00:00<?, ?it/s]"
      ]
     },
     "metadata": {},
     "output_type": "display_data"
    },
    {
     "data": {
      "application/vnd.jupyter.widget-view+json": {
       "model_id": "1d789b55faf847ab89ffbf067b2fa39b",
       "version_major": 2,
       "version_minor": 0
      },
      "text/plain": [
       "Computing Top 10 DocIDs:   0%|          | 0/67869 [00:00<?, ?it/s]"
      ]
     },
     "metadata": {},
     "output_type": "display_data"
    },
    {
     "data": {
      "application/vnd.jupyter.widget-view+json": {
       "model_id": "6ba0c03620f44198bd43806ae62b94eb",
       "version_major": 2,
       "version_minor": 0
      },
      "text/plain": [
       "Computing Top 10 DocIDs:   0%|          | 0/67869 [00:00<?, ?it/s]"
      ]
     },
     "metadata": {},
     "output_type": "display_data"
    },
    {
     "data": {
      "application/vnd.jupyter.widget-view+json": {
       "model_id": "32670f87472442ef9d04778fcfa04378",
       "version_major": 2,
       "version_minor": 0
      },
      "text/plain": [
       "Computing Top 10 DocIDs:   0%|          | 0/67869 [00:00<?, ?it/s]"
      ]
     },
     "metadata": {},
     "output_type": "display_data"
    },
    {
     "data": {
      "application/vnd.jupyter.widget-view+json": {
       "model_id": "c6ff8d2679074419ba8ba2813795f185",
       "version_major": 2,
       "version_minor": 0
      },
      "text/plain": [
       "Computing Top 10 DocIDs:   0%|          | 0/67869 [00:00<?, ?it/s]"
      ]
     },
     "metadata": {},
     "output_type": "display_data"
    },
    {
     "data": {
      "application/vnd.jupyter.widget-view+json": {
       "model_id": "eefaf07b77fa4759aa363156a3f01546",
       "version_major": 2,
       "version_minor": 0
      },
      "text/plain": [
       "Computing Top 10 DocIDs:   0%|          | 0/67869 [00:00<?, ?it/s]"
      ]
     },
     "metadata": {},
     "output_type": "display_data"
    },
    {
     "data": {
      "application/vnd.jupyter.widget-view+json": {
       "model_id": "6a4f392576f7429982a8708f715ed095",
       "version_major": 2,
       "version_minor": 0
      },
      "text/plain": [
       "Computing Top 10 DocIDs:   0%|          | 0/67869 [00:00<?, ?it/s]"
      ]
     },
     "metadata": {},
     "output_type": "display_data"
    },
    {
     "data": {
      "application/vnd.jupyter.widget-view+json": {
       "model_id": "a9bd4f68acb149ccacef529f5e640cdb",
       "version_major": 2,
       "version_minor": 0
      },
      "text/plain": [
       "Computing Top 10 DocIDs:   0%|          | 0/67869 [00:00<?, ?it/s]"
      ]
     },
     "metadata": {},
     "output_type": "display_data"
    },
    {
     "data": {
      "application/vnd.jupyter.widget-view+json": {
       "model_id": "36a6b1cccf0542e98a3ad58879c7741c",
       "version_major": 2,
       "version_minor": 0
      },
      "text/plain": [
       "Computing Top 10 DocIDs:   0%|          | 0/67869 [00:00<?, ?it/s]"
      ]
     },
     "metadata": {},
     "output_type": "display_data"
    },
    {
     "data": {
      "application/vnd.jupyter.widget-view+json": {
       "model_id": "8bd67fc73840454daed18b6b3be0ea17",
       "version_major": 2,
       "version_minor": 0
      },
      "text/plain": [
       "Computing Top 10 DocIDs:   0%|          | 0/67869 [00:00<?, ?it/s]"
      ]
     },
     "metadata": {},
     "output_type": "display_data"
    },
    {
     "data": {
      "application/vnd.jupyter.widget-view+json": {
       "model_id": "8f9ad38b11334a8a9df20d93c2ba969a",
       "version_major": 2,
       "version_minor": 0
      },
      "text/plain": [
       "Computing Top 10 DocIDs:   0%|          | 0/67869 [00:00<?, ?it/s]"
      ]
     },
     "metadata": {},
     "output_type": "display_data"
    },
    {
     "data": {
      "application/vnd.jupyter.widget-view+json": {
       "model_id": "70856921934546dfad48b05637972310",
       "version_major": 2,
       "version_minor": 0
      },
      "text/plain": [
       "Computing Top 10 DocIDs:   0%|          | 0/67869 [00:00<?, ?it/s]"
      ]
     },
     "metadata": {},
     "output_type": "display_data"
    },
    {
     "data": {
      "application/vnd.jupyter.widget-view+json": {
       "model_id": "8835658e98234c74aff6c587787c4c81",
       "version_major": 2,
       "version_minor": 0
      },
      "text/plain": [
       "Computing Top 10 DocIDs:   0%|          | 0/67869 [00:00<?, ?it/s]"
      ]
     },
     "metadata": {},
     "output_type": "display_data"
    },
    {
     "data": {
      "application/vnd.jupyter.widget-view+json": {
       "model_id": "e721cfb5f9094be1b52f7ec92f5011fc",
       "version_major": 2,
       "version_minor": 0
      },
      "text/plain": [
       "Computing Top 10 DocIDs:   0%|          | 0/67869 [00:00<?, ?it/s]"
      ]
     },
     "metadata": {},
     "output_type": "display_data"
    },
    {
     "data": {
      "application/vnd.jupyter.widget-view+json": {
       "model_id": "5d05d1d06c804c48b95d0b64a7bea145",
       "version_major": 2,
       "version_minor": 0
      },
      "text/plain": [
       "Computing Top 10 DocIDs:   0%|          | 0/67869 [00:00<?, ?it/s]"
      ]
     },
     "metadata": {},
     "output_type": "display_data"
    },
    {
     "data": {
      "application/vnd.jupyter.widget-view+json": {
       "model_id": "de6200bdbe794731b42e7b3b12b04fe1",
       "version_major": 2,
       "version_minor": 0
      },
      "text/plain": [
       "Computing Top 10 DocIDs:   0%|          | 0/67869 [00:00<?, ?it/s]"
      ]
     },
     "metadata": {},
     "output_type": "display_data"
    },
    {
     "data": {
      "application/vnd.jupyter.widget-view+json": {
       "model_id": "654964e5e2d948468edb907b19533ddc",
       "version_major": 2,
       "version_minor": 0
      },
      "text/plain": [
       "Computing Top 10 DocIDs:   0%|          | 0/67869 [00:00<?, ?it/s]"
      ]
     },
     "metadata": {},
     "output_type": "display_data"
    },
    {
     "data": {
      "application/vnd.jupyter.widget-view+json": {
       "model_id": "3eb1e0f87a0845efa31d0f702ca20bdb",
       "version_major": 2,
       "version_minor": 0
      },
      "text/plain": [
       "Computing Top 10 DocIDs:   0%|          | 0/67869 [00:00<?, ?it/s]"
      ]
     },
     "metadata": {},
     "output_type": "display_data"
    },
    {
     "data": {
      "application/vnd.jupyter.widget-view+json": {
       "model_id": "24870396ac2b48a086968c3b307286a1",
       "version_major": 2,
       "version_minor": 0
      },
      "text/plain": [
       "Computing Top 10 DocIDs:   0%|          | 0/67869 [00:00<?, ?it/s]"
      ]
     },
     "metadata": {},
     "output_type": "display_data"
    },
    {
     "data": {
      "application/vnd.jupyter.widget-view+json": {
       "model_id": "65566ac5e6be40688cb65108183c9f23",
       "version_major": 2,
       "version_minor": 0
      },
      "text/plain": [
       "Computing Top 10 DocIDs:   0%|          | 0/67869 [00:00<?, ?it/s]"
      ]
     },
     "metadata": {},
     "output_type": "display_data"
    },
    {
     "data": {
      "application/vnd.jupyter.widget-view+json": {
       "model_id": "1f11b40656bb462d8915bdd03a5820a1",
       "version_major": 2,
       "version_minor": 0
      },
      "text/plain": [
       "Computing Top 10 DocIDs:   0%|          | 0/67869 [00:00<?, ?it/s]"
      ]
     },
     "metadata": {},
     "output_type": "display_data"
    },
    {
     "data": {
      "application/vnd.jupyter.widget-view+json": {
       "model_id": "b65e28e701344891bd293ebd489b8830",
       "version_major": 2,
       "version_minor": 0
      },
      "text/plain": [
       "Computing Top 10 DocIDs:   0%|          | 0/67869 [00:00<?, ?it/s]"
      ]
     },
     "metadata": {},
     "output_type": "display_data"
    },
    {
     "data": {
      "application/vnd.jupyter.widget-view+json": {
       "model_id": "0ffe53a158bb44058cb1cccfd8def87b",
       "version_major": 2,
       "version_minor": 0
      },
      "text/plain": [
       "Computing Top 10 DocIDs:   0%|          | 0/67869 [00:00<?, ?it/s]"
      ]
     },
     "metadata": {},
     "output_type": "display_data"
    },
    {
     "data": {
      "application/vnd.jupyter.widget-view+json": {
       "model_id": "b5913777f9b84a9b8282f4512f2b64eb",
       "version_major": 2,
       "version_minor": 0
      },
      "text/plain": [
       "Computing Top 10 DocIDs:   0%|          | 0/67869 [00:00<?, ?it/s]"
      ]
     },
     "metadata": {},
     "output_type": "display_data"
    },
    {
     "data": {
      "application/vnd.jupyter.widget-view+json": {
       "model_id": "aa953226e3194195b39d3e092e344dc0",
       "version_major": 2,
       "version_minor": 0
      },
      "text/plain": [
       "Computing Top 10 DocIDs:   0%|          | 0/67869 [00:00<?, ?it/s]"
      ]
     },
     "metadata": {},
     "output_type": "display_data"
    },
    {
     "data": {
      "application/vnd.jupyter.widget-view+json": {
       "model_id": "93330d7ef77d4e5e95652639b707fb7e",
       "version_major": 2,
       "version_minor": 0
      },
      "text/plain": [
       "Computing Top 10 DocIDs:   0%|          | 0/67869 [00:00<?, ?it/s]"
      ]
     },
     "metadata": {},
     "output_type": "display_data"
    },
    {
     "data": {
      "application/vnd.jupyter.widget-view+json": {
       "model_id": "0bd256448a0542feb6cfc302021547e1",
       "version_major": 2,
       "version_minor": 0
      },
      "text/plain": [
       "Computing Top 10 DocIDs:   0%|          | 0/67869 [00:00<?, ?it/s]"
      ]
     },
     "metadata": {},
     "output_type": "display_data"
    },
    {
     "data": {
      "application/vnd.jupyter.widget-view+json": {
       "model_id": "29e09144d3d247d49ef06261fa728bcf",
       "version_major": 2,
       "version_minor": 0
      },
      "text/plain": [
       "Computing Top 10 DocIDs:   0%|          | 0/67869 [00:00<?, ?it/s]"
      ]
     },
     "metadata": {},
     "output_type": "display_data"
    },
    {
     "data": {
      "application/vnd.jupyter.widget-view+json": {
       "model_id": "89720b882bf444e2a12565474e13e01b",
       "version_major": 2,
       "version_minor": 0
      },
      "text/plain": [
       "Computing Top 10 DocIDs:   0%|          | 0/67869 [00:00<?, ?it/s]"
      ]
     },
     "metadata": {},
     "output_type": "display_data"
    },
    {
     "data": {
      "application/vnd.jupyter.widget-view+json": {
       "model_id": "ad6e9e9b53cd4d298733e0969534ef74",
       "version_major": 2,
       "version_minor": 0
      },
      "text/plain": [
       "Computing Top 10 DocIDs:   0%|          | 0/67869 [00:00<?, ?it/s]"
      ]
     },
     "metadata": {},
     "output_type": "display_data"
    },
    {
     "data": {
      "application/vnd.jupyter.widget-view+json": {
       "model_id": "2cf99e348d4d42c697437d6b5a40f47d",
       "version_major": 2,
       "version_minor": 0
      },
      "text/plain": [
       "Computing Top 10 DocIDs:   0%|          | 0/67869 [00:00<?, ?it/s]"
      ]
     },
     "metadata": {},
     "output_type": "display_data"
    },
    {
     "data": {
      "application/vnd.jupyter.widget-view+json": {
       "model_id": "e5d8f540611742368d1b13426162a196",
       "version_major": 2,
       "version_minor": 0
      },
      "text/plain": [
       "Computing Top 10 DocIDs:   0%|          | 0/67869 [00:00<?, ?it/s]"
      ]
     },
     "metadata": {},
     "output_type": "display_data"
    },
    {
     "data": {
      "application/vnd.jupyter.widget-view+json": {
       "model_id": "fc3104ef28c94ef0ba3281734059912e",
       "version_major": 2,
       "version_minor": 0
      },
      "text/plain": [
       "Computing Top 10 DocIDs:   0%|          | 0/67869 [00:00<?, ?it/s]"
      ]
     },
     "metadata": {},
     "output_type": "display_data"
    },
    {
     "data": {
      "application/vnd.jupyter.widget-view+json": {
       "model_id": "ea0b9c20d80f4bbc911a90b6710169d0",
       "version_major": 2,
       "version_minor": 0
      },
      "text/plain": [
       "Computing Top 10 DocIDs:   0%|          | 0/67869 [00:00<?, ?it/s]"
      ]
     },
     "metadata": {},
     "output_type": "display_data"
    },
    {
     "data": {
      "application/vnd.jupyter.widget-view+json": {
       "model_id": "19359dffe633453a83b868811d16b2d1",
       "version_major": 2,
       "version_minor": 0
      },
      "text/plain": [
       "Computing Top 10 DocIDs:   0%|          | 0/67869 [00:00<?, ?it/s]"
      ]
     },
     "metadata": {},
     "output_type": "display_data"
    },
    {
     "data": {
      "application/vnd.jupyter.widget-view+json": {
       "model_id": "62b7d92767d64d1ea44926a1cd63a11c",
       "version_major": 2,
       "version_minor": 0
      },
      "text/plain": [
       "Computing Top 10 DocIDs:   0%|          | 0/67869 [00:00<?, ?it/s]"
      ]
     },
     "metadata": {},
     "output_type": "display_data"
    },
    {
     "data": {
      "application/vnd.jupyter.widget-view+json": {
       "model_id": "d0e6d1115ff848ba93a3e6fe08e37b79",
       "version_major": 2,
       "version_minor": 0
      },
      "text/plain": [
       "Computing Top 10 DocIDs:   0%|          | 0/67869 [00:00<?, ?it/s]"
      ]
     },
     "metadata": {},
     "output_type": "display_data"
    },
    {
     "data": {
      "application/vnd.jupyter.widget-view+json": {
       "model_id": "243e434748cd481893db2796b81af3b2",
       "version_major": 2,
       "version_minor": 0
      },
      "text/plain": [
       "Computing Top 10 DocIDs:   0%|          | 0/67869 [00:00<?, ?it/s]"
      ]
     },
     "metadata": {},
     "output_type": "display_data"
    },
    {
     "data": {
      "application/vnd.jupyter.widget-view+json": {
       "model_id": "a37f342ebb7144dba5f8b04b12b62848",
       "version_major": 2,
       "version_minor": 0
      },
      "text/plain": [
       "Computing Top 10 DocIDs:   0%|          | 0/67869 [00:00<?, ?it/s]"
      ]
     },
     "metadata": {},
     "output_type": "display_data"
    },
    {
     "data": {
      "application/vnd.jupyter.widget-view+json": {
       "model_id": "962ab0fa6dbf4fa09fb1949bcce3b584",
       "version_major": 2,
       "version_minor": 0
      },
      "text/plain": [
       "Computing Top 10 DocIDs:   0%|          | 0/67869 [00:00<?, ?it/s]"
      ]
     },
     "metadata": {},
     "output_type": "display_data"
    },
    {
     "data": {
      "application/vnd.jupyter.widget-view+json": {
       "model_id": "981cf2e8b5be40d3901c27a34de358c6",
       "version_major": 2,
       "version_minor": 0
      },
      "text/plain": [
       "Computing Top 10 DocIDs:   0%|          | 0/67869 [00:00<?, ?it/s]"
      ]
     },
     "metadata": {},
     "output_type": "display_data"
    },
    {
     "data": {
      "application/vnd.jupyter.widget-view+json": {
       "model_id": "921f91a52280430182dd71e7f63cff84",
       "version_major": 2,
       "version_minor": 0
      },
      "text/plain": [
       "Computing Top 10 DocIDs:   0%|          | 0/67869 [00:00<?, ?it/s]"
      ]
     },
     "metadata": {},
     "output_type": "display_data"
    },
    {
     "data": {
      "application/vnd.jupyter.widget-view+json": {
       "model_id": "a48295f7ac9c4bbab181230bb2fe7eb0",
       "version_major": 2,
       "version_minor": 0
      },
      "text/plain": [
       "Computing Top 10 DocIDs:   0%|          | 0/67869 [00:00<?, ?it/s]"
      ]
     },
     "metadata": {},
     "output_type": "display_data"
    },
    {
     "data": {
      "application/vnd.jupyter.widget-view+json": {
       "model_id": "7068f5d64c5744e5a192de44d69b7083",
       "version_major": 2,
       "version_minor": 0
      },
      "text/plain": [
       "Computing Top 10 DocIDs:   0%|          | 0/67869 [00:00<?, ?it/s]"
      ]
     },
     "metadata": {},
     "output_type": "display_data"
    },
    {
     "data": {
      "application/vnd.jupyter.widget-view+json": {
       "model_id": "25c226b405344916b694b24176e8965f",
       "version_major": 2,
       "version_minor": 0
      },
      "text/plain": [
       "Computing Top 10 DocIDs:   0%|          | 0/67869 [00:00<?, ?it/s]"
      ]
     },
     "metadata": {},
     "output_type": "display_data"
    },
    {
     "data": {
      "application/vnd.jupyter.widget-view+json": {
       "model_id": "004472d6feab4f66abf19946e73cbadf",
       "version_major": 2,
       "version_minor": 0
      },
      "text/plain": [
       "Computing Top 10 DocIDs:   0%|          | 0/67869 [00:00<?, ?it/s]"
      ]
     },
     "metadata": {},
     "output_type": "display_data"
    },
    {
     "data": {
      "application/vnd.jupyter.widget-view+json": {
       "model_id": "12939c9b1f7b4ecf8a115438bb63a575",
       "version_major": 2,
       "version_minor": 0
      },
      "text/plain": [
       "Computing Top 10 DocIDs:   0%|          | 0/67869 [00:00<?, ?it/s]"
      ]
     },
     "metadata": {},
     "output_type": "display_data"
    },
    {
     "data": {
      "application/vnd.jupyter.widget-view+json": {
       "model_id": "03e7e7d0874945d3a58202a34a8dce95",
       "version_major": 2,
       "version_minor": 0
      },
      "text/plain": [
       "Computing Top 10 DocIDs:   0%|          | 0/67869 [00:00<?, ?it/s]"
      ]
     },
     "metadata": {},
     "output_type": "display_data"
    },
    {
     "data": {
      "application/vnd.jupyter.widget-view+json": {
       "model_id": "07091e858bb14833b396b20b6a8d3437",
       "version_major": 2,
       "version_minor": 0
      },
      "text/plain": [
       "Computing Top 10 DocIDs:   0%|          | 0/67869 [00:00<?, ?it/s]"
      ]
     },
     "metadata": {},
     "output_type": "display_data"
    },
    {
     "data": {
      "application/vnd.jupyter.widget-view+json": {
       "model_id": "80c67e0f4dac4ae7b7c48c98c12f8522",
       "version_major": 2,
       "version_minor": 0
      },
      "text/plain": [
       "Computing Mean Metrics:   0%|          | 0/50 [00:00<?, ?it/s]"
      ]
     },
     "metadata": {},
     "output_type": "display_data"
    },
    {
     "data": {
      "application/vnd.jupyter.widget-view+json": {
       "model_id": "1a9772b1f3aa45f9869c5923bf59440b",
       "version_major": 2,
       "version_minor": 0
      },
      "text/plain": [
       "Computing Top 100 DocIDs:   0%|          | 0/67869 [00:00<?, ?it/s]"
      ]
     },
     "metadata": {},
     "output_type": "display_data"
    },
    {
     "data": {
      "application/vnd.jupyter.widget-view+json": {
       "model_id": "2afb2fc465c24d56b1b823fae404e37d",
       "version_major": 2,
       "version_minor": 0
      },
      "text/plain": [
       "Computing Top 100 DocIDs:   0%|          | 0/67869 [00:00<?, ?it/s]"
      ]
     },
     "metadata": {},
     "output_type": "display_data"
    },
    {
     "data": {
      "application/vnd.jupyter.widget-view+json": {
       "model_id": "b3265283cd1e4068b2c550c3c221470c",
       "version_major": 2,
       "version_minor": 0
      },
      "text/plain": [
       "Computing Top 100 DocIDs:   0%|          | 0/67869 [00:00<?, ?it/s]"
      ]
     },
     "metadata": {},
     "output_type": "display_data"
    },
    {
     "data": {
      "application/vnd.jupyter.widget-view+json": {
       "model_id": "fa0400450bbc4496851f159ceb6debe8",
       "version_major": 2,
       "version_minor": 0
      },
      "text/plain": [
       "Computing Top 100 DocIDs:   0%|          | 0/67869 [00:00<?, ?it/s]"
      ]
     },
     "metadata": {},
     "output_type": "display_data"
    },
    {
     "data": {
      "application/vnd.jupyter.widget-view+json": {
       "model_id": "db3c3bb1c77a40c69959554fe9decfeb",
       "version_major": 2,
       "version_minor": 0
      },
      "text/plain": [
       "Computing Top 100 DocIDs:   0%|          | 0/67869 [00:00<?, ?it/s]"
      ]
     },
     "metadata": {},
     "output_type": "display_data"
    },
    {
     "data": {
      "application/vnd.jupyter.widget-view+json": {
       "model_id": "4ca0badb4a8c4cdba2e44c70db8202c2",
       "version_major": 2,
       "version_minor": 0
      },
      "text/plain": [
       "Computing Top 100 DocIDs:   0%|          | 0/67869 [00:00<?, ?it/s]"
      ]
     },
     "metadata": {},
     "output_type": "display_data"
    },
    {
     "data": {
      "application/vnd.jupyter.widget-view+json": {
       "model_id": "1c611d06d266425c9360e17b54a76801",
       "version_major": 2,
       "version_minor": 0
      },
      "text/plain": [
       "Computing Top 100 DocIDs:   0%|          | 0/67869 [00:00<?, ?it/s]"
      ]
     },
     "metadata": {},
     "output_type": "display_data"
    },
    {
     "data": {
      "application/vnd.jupyter.widget-view+json": {
       "model_id": "0d35647c00ec45248c0dd47cece3c5ec",
       "version_major": 2,
       "version_minor": 0
      },
      "text/plain": [
       "Computing Top 100 DocIDs:   0%|          | 0/67869 [00:00<?, ?it/s]"
      ]
     },
     "metadata": {},
     "output_type": "display_data"
    },
    {
     "data": {
      "application/vnd.jupyter.widget-view+json": {
       "model_id": "349786aee2694f3888071e7708ae6060",
       "version_major": 2,
       "version_minor": 0
      },
      "text/plain": [
       "Computing Top 100 DocIDs:   0%|          | 0/67869 [00:00<?, ?it/s]"
      ]
     },
     "metadata": {},
     "output_type": "display_data"
    },
    {
     "data": {
      "application/vnd.jupyter.widget-view+json": {
       "model_id": "d016e74d1e304d9ca5143336644431fd",
       "version_major": 2,
       "version_minor": 0
      },
      "text/plain": [
       "Computing Top 100 DocIDs:   0%|          | 0/67869 [00:00<?, ?it/s]"
      ]
     },
     "metadata": {},
     "output_type": "display_data"
    },
    {
     "data": {
      "application/vnd.jupyter.widget-view+json": {
       "model_id": "de1938d38f7641069a7948a8f357b088",
       "version_major": 2,
       "version_minor": 0
      },
      "text/plain": [
       "Computing Top 100 DocIDs:   0%|          | 0/67869 [00:00<?, ?it/s]"
      ]
     },
     "metadata": {},
     "output_type": "display_data"
    },
    {
     "data": {
      "application/vnd.jupyter.widget-view+json": {
       "model_id": "906e60396ae446cc8ff713017936f12a",
       "version_major": 2,
       "version_minor": 0
      },
      "text/plain": [
       "Computing Top 100 DocIDs:   0%|          | 0/67869 [00:00<?, ?it/s]"
      ]
     },
     "metadata": {},
     "output_type": "display_data"
    },
    {
     "data": {
      "application/vnd.jupyter.widget-view+json": {
       "model_id": "7f48011da79b45c5a4c3732b05316c6c",
       "version_major": 2,
       "version_minor": 0
      },
      "text/plain": [
       "Computing Top 100 DocIDs:   0%|          | 0/67869 [00:00<?, ?it/s]"
      ]
     },
     "metadata": {},
     "output_type": "display_data"
    },
    {
     "data": {
      "application/vnd.jupyter.widget-view+json": {
       "model_id": "542b827e66fc47208685c04eb1a87ad7",
       "version_major": 2,
       "version_minor": 0
      },
      "text/plain": [
       "Computing Top 100 DocIDs:   0%|          | 0/67869 [00:00<?, ?it/s]"
      ]
     },
     "metadata": {},
     "output_type": "display_data"
    },
    {
     "data": {
      "application/vnd.jupyter.widget-view+json": {
       "model_id": "0b3774d6e1104175b72afd2eb7860f4a",
       "version_major": 2,
       "version_minor": 0
      },
      "text/plain": [
       "Computing Top 100 DocIDs:   0%|          | 0/67869 [00:00<?, ?it/s]"
      ]
     },
     "metadata": {},
     "output_type": "display_data"
    },
    {
     "data": {
      "application/vnd.jupyter.widget-view+json": {
       "model_id": "caf194c8b1c64343aa544ccb8ecb72f1",
       "version_major": 2,
       "version_minor": 0
      },
      "text/plain": [
       "Computing Top 100 DocIDs:   0%|          | 0/67869 [00:00<?, ?it/s]"
      ]
     },
     "metadata": {},
     "output_type": "display_data"
    },
    {
     "data": {
      "application/vnd.jupyter.widget-view+json": {
       "model_id": "fb51f024d30c4b2685db6db7897977fc",
       "version_major": 2,
       "version_minor": 0
      },
      "text/plain": [
       "Computing Top 100 DocIDs:   0%|          | 0/67869 [00:00<?, ?it/s]"
      ]
     },
     "metadata": {},
     "output_type": "display_data"
    },
    {
     "data": {
      "application/vnd.jupyter.widget-view+json": {
       "model_id": "229a7b40bc6c45f693e4388423206126",
       "version_major": 2,
       "version_minor": 0
      },
      "text/plain": [
       "Computing Top 100 DocIDs:   0%|          | 0/67869 [00:00<?, ?it/s]"
      ]
     },
     "metadata": {},
     "output_type": "display_data"
    },
    {
     "data": {
      "application/vnd.jupyter.widget-view+json": {
       "model_id": "382f9347a38940a8a91f4358e4da7184",
       "version_major": 2,
       "version_minor": 0
      },
      "text/plain": [
       "Computing Top 100 DocIDs:   0%|          | 0/67869 [00:00<?, ?it/s]"
      ]
     },
     "metadata": {},
     "output_type": "display_data"
    },
    {
     "data": {
      "application/vnd.jupyter.widget-view+json": {
       "model_id": "99ae44de6fd5447eb9d67ad476c80fff",
       "version_major": 2,
       "version_minor": 0
      },
      "text/plain": [
       "Computing Top 100 DocIDs:   0%|          | 0/67869 [00:00<?, ?it/s]"
      ]
     },
     "metadata": {},
     "output_type": "display_data"
    },
    {
     "data": {
      "application/vnd.jupyter.widget-view+json": {
       "model_id": "e0c14731e98c4f5c99bec2d8ed5ef3f0",
       "version_major": 2,
       "version_minor": 0
      },
      "text/plain": [
       "Computing Top 100 DocIDs:   0%|          | 0/67869 [00:00<?, ?it/s]"
      ]
     },
     "metadata": {},
     "output_type": "display_data"
    },
    {
     "data": {
      "application/vnd.jupyter.widget-view+json": {
       "model_id": "ccc89627f232453faa9267fe1274a6ef",
       "version_major": 2,
       "version_minor": 0
      },
      "text/plain": [
       "Computing Top 100 DocIDs:   0%|          | 0/67869 [00:00<?, ?it/s]"
      ]
     },
     "metadata": {},
     "output_type": "display_data"
    },
    {
     "data": {
      "application/vnd.jupyter.widget-view+json": {
       "model_id": "e1c10a0b617742a494a0d2c666b56a40",
       "version_major": 2,
       "version_minor": 0
      },
      "text/plain": [
       "Computing Top 100 DocIDs:   0%|          | 0/67869 [00:00<?, ?it/s]"
      ]
     },
     "metadata": {},
     "output_type": "display_data"
    },
    {
     "data": {
      "application/vnd.jupyter.widget-view+json": {
       "model_id": "f0b4762e2b794edabfed1c3805e78d0b",
       "version_major": 2,
       "version_minor": 0
      },
      "text/plain": [
       "Computing Top 100 DocIDs:   0%|          | 0/67869 [00:00<?, ?it/s]"
      ]
     },
     "metadata": {},
     "output_type": "display_data"
    },
    {
     "data": {
      "application/vnd.jupyter.widget-view+json": {
       "model_id": "c70a98ba0dbd4e338641acdd437a589b",
       "version_major": 2,
       "version_minor": 0
      },
      "text/plain": [
       "Computing Top 100 DocIDs:   0%|          | 0/67869 [00:00<?, ?it/s]"
      ]
     },
     "metadata": {},
     "output_type": "display_data"
    },
    {
     "data": {
      "application/vnd.jupyter.widget-view+json": {
       "model_id": "8b88abcdc96e4dd78ca07b5f1ad12b44",
       "version_major": 2,
       "version_minor": 0
      },
      "text/plain": [
       "Computing Top 100 DocIDs:   0%|          | 0/67869 [00:00<?, ?it/s]"
      ]
     },
     "metadata": {},
     "output_type": "display_data"
    },
    {
     "data": {
      "application/vnd.jupyter.widget-view+json": {
       "model_id": "5b88f99fe9094ca185f7bd5be45ef155",
       "version_major": 2,
       "version_minor": 0
      },
      "text/plain": [
       "Computing Top 100 DocIDs:   0%|          | 0/67869 [00:00<?, ?it/s]"
      ]
     },
     "metadata": {},
     "output_type": "display_data"
    },
    {
     "data": {
      "application/vnd.jupyter.widget-view+json": {
       "model_id": "d726a71af083439fbb3cbdc230d42d66",
       "version_major": 2,
       "version_minor": 0
      },
      "text/plain": [
       "Computing Top 100 DocIDs:   0%|          | 0/67869 [00:00<?, ?it/s]"
      ]
     },
     "metadata": {},
     "output_type": "display_data"
    },
    {
     "data": {
      "application/vnd.jupyter.widget-view+json": {
       "model_id": "0940fab5daf544b09910be24889d1b48",
       "version_major": 2,
       "version_minor": 0
      },
      "text/plain": [
       "Computing Top 100 DocIDs:   0%|          | 0/67869 [00:00<?, ?it/s]"
      ]
     },
     "metadata": {},
     "output_type": "display_data"
    },
    {
     "data": {
      "application/vnd.jupyter.widget-view+json": {
       "model_id": "5f4aaa2e01e14ffe9f78f347da138405",
       "version_major": 2,
       "version_minor": 0
      },
      "text/plain": [
       "Computing Top 100 DocIDs:   0%|          | 0/67869 [00:00<?, ?it/s]"
      ]
     },
     "metadata": {},
     "output_type": "display_data"
    },
    {
     "data": {
      "application/vnd.jupyter.widget-view+json": {
       "model_id": "b198b95acd3f4234bfb64e8f5df343e1",
       "version_major": 2,
       "version_minor": 0
      },
      "text/plain": [
       "Computing Top 100 DocIDs:   0%|          | 0/67869 [00:00<?, ?it/s]"
      ]
     },
     "metadata": {},
     "output_type": "display_data"
    },
    {
     "data": {
      "application/vnd.jupyter.widget-view+json": {
       "model_id": "de3f3b5062314107bd130535b3cb4412",
       "version_major": 2,
       "version_minor": 0
      },
      "text/plain": [
       "Computing Top 100 DocIDs:   0%|          | 0/67869 [00:00<?, ?it/s]"
      ]
     },
     "metadata": {},
     "output_type": "display_data"
    },
    {
     "data": {
      "application/vnd.jupyter.widget-view+json": {
       "model_id": "aeaee86e27d546e78470c491fa44eb5b",
       "version_major": 2,
       "version_minor": 0
      },
      "text/plain": [
       "Computing Top 100 DocIDs:   0%|          | 0/67869 [00:00<?, ?it/s]"
      ]
     },
     "metadata": {},
     "output_type": "display_data"
    },
    {
     "data": {
      "application/vnd.jupyter.widget-view+json": {
       "model_id": "50e932f526b546b4ac0661803d88c824",
       "version_major": 2,
       "version_minor": 0
      },
      "text/plain": [
       "Computing Top 100 DocIDs:   0%|          | 0/67869 [00:00<?, ?it/s]"
      ]
     },
     "metadata": {},
     "output_type": "display_data"
    },
    {
     "data": {
      "application/vnd.jupyter.widget-view+json": {
       "model_id": "b4499a995e864ce9b047b503e3f09c2c",
       "version_major": 2,
       "version_minor": 0
      },
      "text/plain": [
       "Computing Top 100 DocIDs:   0%|          | 0/67869 [00:00<?, ?it/s]"
      ]
     },
     "metadata": {},
     "output_type": "display_data"
    },
    {
     "data": {
      "application/vnd.jupyter.widget-view+json": {
       "model_id": "03b3054d5dde400a8be0c744d19eef91",
       "version_major": 2,
       "version_minor": 0
      },
      "text/plain": [
       "Computing Top 100 DocIDs:   0%|          | 0/67869 [00:00<?, ?it/s]"
      ]
     },
     "metadata": {},
     "output_type": "display_data"
    },
    {
     "data": {
      "application/vnd.jupyter.widget-view+json": {
       "model_id": "8372b22af34c4781b6be4dc165fdf3e7",
       "version_major": 2,
       "version_minor": 0
      },
      "text/plain": [
       "Computing Top 100 DocIDs:   0%|          | 0/67869 [00:00<?, ?it/s]"
      ]
     },
     "metadata": {},
     "output_type": "display_data"
    },
    {
     "data": {
      "application/vnd.jupyter.widget-view+json": {
       "model_id": "72e20360eff143f4bb1436cb0bd21139",
       "version_major": 2,
       "version_minor": 0
      },
      "text/plain": [
       "Computing Top 100 DocIDs:   0%|          | 0/67869 [00:00<?, ?it/s]"
      ]
     },
     "metadata": {},
     "output_type": "display_data"
    },
    {
     "data": {
      "application/vnd.jupyter.widget-view+json": {
       "model_id": "7a52dd5322e44dcf9b8f0013c3d2a1de",
       "version_major": 2,
       "version_minor": 0
      },
      "text/plain": [
       "Computing Top 100 DocIDs:   0%|          | 0/67869 [00:00<?, ?it/s]"
      ]
     },
     "metadata": {},
     "output_type": "display_data"
    },
    {
     "data": {
      "application/vnd.jupyter.widget-view+json": {
       "model_id": "d912a4ae8f15435bb05342f5487bd1d1",
       "version_major": 2,
       "version_minor": 0
      },
      "text/plain": [
       "Computing Top 100 DocIDs:   0%|          | 0/67869 [00:00<?, ?it/s]"
      ]
     },
     "metadata": {},
     "output_type": "display_data"
    },
    {
     "data": {
      "application/vnd.jupyter.widget-view+json": {
       "model_id": "0fb84581e1e34250a42b0552a1b527f9",
       "version_major": 2,
       "version_minor": 0
      },
      "text/plain": [
       "Computing Top 100 DocIDs:   0%|          | 0/67869 [00:00<?, ?it/s]"
      ]
     },
     "metadata": {},
     "output_type": "display_data"
    },
    {
     "data": {
      "application/vnd.jupyter.widget-view+json": {
       "model_id": "70f0fe9560b84737a0b7f80be8e42b5f",
       "version_major": 2,
       "version_minor": 0
      },
      "text/plain": [
       "Computing Top 100 DocIDs:   0%|          | 0/67869 [00:00<?, ?it/s]"
      ]
     },
     "metadata": {},
     "output_type": "display_data"
    },
    {
     "data": {
      "application/vnd.jupyter.widget-view+json": {
       "model_id": "dae0cdffbad14fbda8e77543f04fb759",
       "version_major": 2,
       "version_minor": 0
      },
      "text/plain": [
       "Computing Top 100 DocIDs:   0%|          | 0/67869 [00:00<?, ?it/s]"
      ]
     },
     "metadata": {},
     "output_type": "display_data"
    },
    {
     "data": {
      "application/vnd.jupyter.widget-view+json": {
       "model_id": "70da3075076446c78aae37e2a4f87945",
       "version_major": 2,
       "version_minor": 0
      },
      "text/plain": [
       "Computing Top 100 DocIDs:   0%|          | 0/67869 [00:00<?, ?it/s]"
      ]
     },
     "metadata": {},
     "output_type": "display_data"
    },
    {
     "data": {
      "application/vnd.jupyter.widget-view+json": {
       "model_id": "383527d36ae44b36bb0a601e4254f6f4",
       "version_major": 2,
       "version_minor": 0
      },
      "text/plain": [
       "Computing Top 100 DocIDs:   0%|          | 0/67869 [00:00<?, ?it/s]"
      ]
     },
     "metadata": {},
     "output_type": "display_data"
    },
    {
     "data": {
      "application/vnd.jupyter.widget-view+json": {
       "model_id": "f7de02868e0e492a8fd92d5a8a5aee7f",
       "version_major": 2,
       "version_minor": 0
      },
      "text/plain": [
       "Computing Top 100 DocIDs:   0%|          | 0/67869 [00:00<?, ?it/s]"
      ]
     },
     "metadata": {},
     "output_type": "display_data"
    },
    {
     "data": {
      "application/vnd.jupyter.widget-view+json": {
       "model_id": "cfb3034b3ab94fe0a346224ae9278ee4",
       "version_major": 2,
       "version_minor": 0
      },
      "text/plain": [
       "Computing Top 100 DocIDs:   0%|          | 0/67869 [00:00<?, ?it/s]"
      ]
     },
     "metadata": {},
     "output_type": "display_data"
    },
    {
     "data": {
      "application/vnd.jupyter.widget-view+json": {
       "model_id": "b91c433817524333b19d43fe03642ca9",
       "version_major": 2,
       "version_minor": 0
      },
      "text/plain": [
       "Computing Top 100 DocIDs:   0%|          | 0/67869 [00:00<?, ?it/s]"
      ]
     },
     "metadata": {},
     "output_type": "display_data"
    },
    {
     "data": {
      "application/vnd.jupyter.widget-view+json": {
       "model_id": "cb3163121a154452808bc33fbb6d39dc",
       "version_major": 2,
       "version_minor": 0
      },
      "text/plain": [
       "Computing Top 100 DocIDs:   0%|          | 0/67869 [00:00<?, ?it/s]"
      ]
     },
     "metadata": {},
     "output_type": "display_data"
    },
    {
     "data": {
      "application/vnd.jupyter.widget-view+json": {
       "model_id": "3b9c4600e9f94ca1b1ae38e60df0ba16",
       "version_major": 2,
       "version_minor": 0
      },
      "text/plain": [
       "Computing Top 100 DocIDs:   0%|          | 0/67869 [00:00<?, ?it/s]"
      ]
     },
     "metadata": {},
     "output_type": "display_data"
    },
    {
     "name": "stdout",
     "output_type": "stream",
     "text": [
      "Mean Average Precision (MAP): 0.0\n",
      "Normalized Discounted Cumulative Gain (NDCG): 0.0\n",
      "Mean Precison@10 0.0\n",
      "Mean Recall@10 0.0\n",
      "Mean Precison@100 0.001\n",
      "Mean Recall@100 0.009999999999999998\n"
     ]
    }
   ],
   "source": [
    "# Change return type to 'id' to get query IDs\n",
    "triplets_dataset.set_ret_type('id')\n",
    "# Randomly select N triplets from validation set\n",
    "selected_triplets = random.sample(list(train_set_sc), 50)\n",
    "# Extract queries from the selected triplets\n",
    "random_queries = [triplet[0] for triplet in selected_triplets]\n",
    "\n",
    "# Compute metrics for K1\n",
    "running_mean_AP, running_mean_PatK1, running_mean_RatK1, running_mean_nDCG = eval_utils.compute_Mean_metrics(\n",
    "    siamese_net, random_queries, queries, documents, k=K1, model_type='siamese')\n",
    "# Compute metrics for K2\n",
    "_, running_mean_PatK2, running_mean_RatK2, _ = eval_utils.compute_Mean_metrics(\n",
    "    siamese_net, random_queries, queries, documents, k=K2, model_type='siamese')\n",
    "\n",
    "# Print mean average precision\n",
    "print(\"Mean Average Precision (MAP):\", running_mean_AP)\n",
    "# Print ndcg\n",
    "print(\"Normalized Discounted Cumulative Gain (NDCG):\", running_mean_nDCG)\n",
    "# Print mean precision at k1\n",
    "print(f\"Mean Precison@{K1}\", running_mean_PatK1)\n",
    "# Print mean recall at k1\n",
    "print(f\"Mean Recall@{K1}\", running_mean_RatK1)\n",
    "# Print mean precision at k2\n",
    "print(f\"Mean Precison@{K2}\", running_mean_PatK2)\n",
    "# Print mean recall at k2\n",
    "print(f\"Mean Recall@{K2}\", running_mean_RatK2)"
   ]
  },
  {
   "cell_type": "code",
   "execution_count": 20,
   "metadata": {},
   "outputs": [
    {
     "data": {
      "application/vnd.jupyter.widget-view+json": {
       "model_id": "47c8b05b86f04035af7e2f061e37405c",
       "version_major": 2,
       "version_minor": 0
      },
      "text/plain": [
       "Computing Mean Metrics:   0%|          | 0/50 [00:00<?, ?it/s]"
      ]
     },
     "metadata": {},
     "output_type": "display_data"
    },
    {
     "data": {
      "application/vnd.jupyter.widget-view+json": {
       "model_id": "bd18914593ce4f87bd8da2cce483500b",
       "version_major": 2,
       "version_minor": 0
      },
      "text/plain": [
       "Computing Top 10 DocIDs:   0%|          | 0/67869 [00:00<?, ?it/s]"
      ]
     },
     "metadata": {},
     "output_type": "display_data"
    },
    {
     "data": {
      "application/vnd.jupyter.widget-view+json": {
       "model_id": "ec2f375f5e5c425abe2696046b227c56",
       "version_major": 2,
       "version_minor": 0
      },
      "text/plain": [
       "Computing Top 10 DocIDs:   0%|          | 0/67869 [00:00<?, ?it/s]"
      ]
     },
     "metadata": {},
     "output_type": "display_data"
    },
    {
     "data": {
      "application/vnd.jupyter.widget-view+json": {
       "model_id": "1f66c3dd9b984dde874d7ed0b91f0dda",
       "version_major": 2,
       "version_minor": 0
      },
      "text/plain": [
       "Computing Top 10 DocIDs:   0%|          | 0/67869 [00:00<?, ?it/s]"
      ]
     },
     "metadata": {},
     "output_type": "display_data"
    },
    {
     "data": {
      "application/vnd.jupyter.widget-view+json": {
       "model_id": "d686683a5f4541e1a88ab2d4ade8d0fe",
       "version_major": 2,
       "version_minor": 0
      },
      "text/plain": [
       "Computing Top 10 DocIDs:   0%|          | 0/67869 [00:00<?, ?it/s]"
      ]
     },
     "metadata": {},
     "output_type": "display_data"
    },
    {
     "data": {
      "application/vnd.jupyter.widget-view+json": {
       "model_id": "c022271e306d42dcb126c6f1dc68aed9",
       "version_major": 2,
       "version_minor": 0
      },
      "text/plain": [
       "Computing Top 10 DocIDs:   0%|          | 0/67869 [00:00<?, ?it/s]"
      ]
     },
     "metadata": {},
     "output_type": "display_data"
    },
    {
     "data": {
      "application/vnd.jupyter.widget-view+json": {
       "model_id": "5911975482b8458985c2cb8bc9fe7a16",
       "version_major": 2,
       "version_minor": 0
      },
      "text/plain": [
       "Computing Top 10 DocIDs:   0%|          | 0/67869 [00:00<?, ?it/s]"
      ]
     },
     "metadata": {},
     "output_type": "display_data"
    },
    {
     "data": {
      "application/vnd.jupyter.widget-view+json": {
       "model_id": "689da04260bd441da8a976c4f6b5e23c",
       "version_major": 2,
       "version_minor": 0
      },
      "text/plain": [
       "Computing Top 10 DocIDs:   0%|          | 0/67869 [00:00<?, ?it/s]"
      ]
     },
     "metadata": {},
     "output_type": "display_data"
    },
    {
     "data": {
      "application/vnd.jupyter.widget-view+json": {
       "model_id": "cba92d48b2ce4717b7668d9d133bf289",
       "version_major": 2,
       "version_minor": 0
      },
      "text/plain": [
       "Computing Top 10 DocIDs:   0%|          | 0/67869 [00:00<?, ?it/s]"
      ]
     },
     "metadata": {},
     "output_type": "display_data"
    },
    {
     "data": {
      "application/vnd.jupyter.widget-view+json": {
       "model_id": "ca01f8fb91c6480dacbcea4b40733423",
       "version_major": 2,
       "version_minor": 0
      },
      "text/plain": [
       "Computing Top 10 DocIDs:   0%|          | 0/67869 [00:00<?, ?it/s]"
      ]
     },
     "metadata": {},
     "output_type": "display_data"
    },
    {
     "data": {
      "application/vnd.jupyter.widget-view+json": {
       "model_id": "a6ab111b169b444086c2243b67349f87",
       "version_major": 2,
       "version_minor": 0
      },
      "text/plain": [
       "Computing Top 10 DocIDs:   0%|          | 0/67869 [00:00<?, ?it/s]"
      ]
     },
     "metadata": {},
     "output_type": "display_data"
    },
    {
     "data": {
      "application/vnd.jupyter.widget-view+json": {
       "model_id": "2315e327b7f644f19ab4b9e3c5026c68",
       "version_major": 2,
       "version_minor": 0
      },
      "text/plain": [
       "Computing Top 10 DocIDs:   0%|          | 0/67869 [00:00<?, ?it/s]"
      ]
     },
     "metadata": {},
     "output_type": "display_data"
    },
    {
     "data": {
      "application/vnd.jupyter.widget-view+json": {
       "model_id": "500861e948514dcaab4950521e723b43",
       "version_major": 2,
       "version_minor": 0
      },
      "text/plain": [
       "Computing Top 10 DocIDs:   0%|          | 0/67869 [00:00<?, ?it/s]"
      ]
     },
     "metadata": {},
     "output_type": "display_data"
    },
    {
     "data": {
      "application/vnd.jupyter.widget-view+json": {
       "model_id": "d1a5d1dce60945c2afda7d6b3929195c",
       "version_major": 2,
       "version_minor": 0
      },
      "text/plain": [
       "Computing Top 10 DocIDs:   0%|          | 0/67869 [00:00<?, ?it/s]"
      ]
     },
     "metadata": {},
     "output_type": "display_data"
    },
    {
     "data": {
      "application/vnd.jupyter.widget-view+json": {
       "model_id": "f6ac844d76f14178a3b22ba94ded3bc2",
       "version_major": 2,
       "version_minor": 0
      },
      "text/plain": [
       "Computing Top 10 DocIDs:   0%|          | 0/67869 [00:00<?, ?it/s]"
      ]
     },
     "metadata": {},
     "output_type": "display_data"
    },
    {
     "data": {
      "application/vnd.jupyter.widget-view+json": {
       "model_id": "9e0573826335425f9e833b672ef70a51",
       "version_major": 2,
       "version_minor": 0
      },
      "text/plain": [
       "Computing Top 10 DocIDs:   0%|          | 0/67869 [00:00<?, ?it/s]"
      ]
     },
     "metadata": {},
     "output_type": "display_data"
    },
    {
     "data": {
      "application/vnd.jupyter.widget-view+json": {
       "model_id": "1533b5089d444c66b95a3ef45014ba5e",
       "version_major": 2,
       "version_minor": 0
      },
      "text/plain": [
       "Computing Top 10 DocIDs:   0%|          | 0/67869 [00:00<?, ?it/s]"
      ]
     },
     "metadata": {},
     "output_type": "display_data"
    },
    {
     "data": {
      "application/vnd.jupyter.widget-view+json": {
       "model_id": "0ac8d9853b08493bbca0ae40881752dd",
       "version_major": 2,
       "version_minor": 0
      },
      "text/plain": [
       "Computing Top 10 DocIDs:   0%|          | 0/67869 [00:00<?, ?it/s]"
      ]
     },
     "metadata": {},
     "output_type": "display_data"
    },
    {
     "data": {
      "application/vnd.jupyter.widget-view+json": {
       "model_id": "2a43a6db81cc4f74858038fa8c67f7fe",
       "version_major": 2,
       "version_minor": 0
      },
      "text/plain": [
       "Computing Top 10 DocIDs:   0%|          | 0/67869 [00:00<?, ?it/s]"
      ]
     },
     "metadata": {},
     "output_type": "display_data"
    },
    {
     "data": {
      "application/vnd.jupyter.widget-view+json": {
       "model_id": "ca17b0c7d0fc402a8956eac361ef8fe2",
       "version_major": 2,
       "version_minor": 0
      },
      "text/plain": [
       "Computing Top 10 DocIDs:   0%|          | 0/67869 [00:00<?, ?it/s]"
      ]
     },
     "metadata": {},
     "output_type": "display_data"
    },
    {
     "data": {
      "application/vnd.jupyter.widget-view+json": {
       "model_id": "e48a150cd45043adb34bfeab7bc05f43",
       "version_major": 2,
       "version_minor": 0
      },
      "text/plain": [
       "Computing Top 10 DocIDs:   0%|          | 0/67869 [00:00<?, ?it/s]"
      ]
     },
     "metadata": {},
     "output_type": "display_data"
    },
    {
     "data": {
      "application/vnd.jupyter.widget-view+json": {
       "model_id": "f79192e25fc742c785effb15a9aec641",
       "version_major": 2,
       "version_minor": 0
      },
      "text/plain": [
       "Computing Top 10 DocIDs:   0%|          | 0/67869 [00:00<?, ?it/s]"
      ]
     },
     "metadata": {},
     "output_type": "display_data"
    },
    {
     "data": {
      "application/vnd.jupyter.widget-view+json": {
       "model_id": "5cebf2210b074dc593989a68b35374e5",
       "version_major": 2,
       "version_minor": 0
      },
      "text/plain": [
       "Computing Top 10 DocIDs:   0%|          | 0/67869 [00:00<?, ?it/s]"
      ]
     },
     "metadata": {},
     "output_type": "display_data"
    },
    {
     "data": {
      "application/vnd.jupyter.widget-view+json": {
       "model_id": "51435ec4039c4f3dba6a13a334364582",
       "version_major": 2,
       "version_minor": 0
      },
      "text/plain": [
       "Computing Top 10 DocIDs:   0%|          | 0/67869 [00:00<?, ?it/s]"
      ]
     },
     "metadata": {},
     "output_type": "display_data"
    },
    {
     "data": {
      "application/vnd.jupyter.widget-view+json": {
       "model_id": "e4e4255bbd1b46e0b92c7ffb548f18a0",
       "version_major": 2,
       "version_minor": 0
      },
      "text/plain": [
       "Computing Top 10 DocIDs:   0%|          | 0/67869 [00:00<?, ?it/s]"
      ]
     },
     "metadata": {},
     "output_type": "display_data"
    },
    {
     "data": {
      "application/vnd.jupyter.widget-view+json": {
       "model_id": "54a2beb5e60245108747c0b06b8c2d66",
       "version_major": 2,
       "version_minor": 0
      },
      "text/plain": [
       "Computing Top 10 DocIDs:   0%|          | 0/67869 [00:00<?, ?it/s]"
      ]
     },
     "metadata": {},
     "output_type": "display_data"
    },
    {
     "data": {
      "application/vnd.jupyter.widget-view+json": {
       "model_id": "4cd7f422271141e180f8fde696e84c49",
       "version_major": 2,
       "version_minor": 0
      },
      "text/plain": [
       "Computing Top 10 DocIDs:   0%|          | 0/67869 [00:00<?, ?it/s]"
      ]
     },
     "metadata": {},
     "output_type": "display_data"
    },
    {
     "data": {
      "application/vnd.jupyter.widget-view+json": {
       "model_id": "25299287fc1444d682df283347e5d8e5",
       "version_major": 2,
       "version_minor": 0
      },
      "text/plain": [
       "Computing Top 10 DocIDs:   0%|          | 0/67869 [00:00<?, ?it/s]"
      ]
     },
     "metadata": {},
     "output_type": "display_data"
    },
    {
     "data": {
      "application/vnd.jupyter.widget-view+json": {
       "model_id": "38561f2e7b0b4fdcbf4d1d32d82ea9ce",
       "version_major": 2,
       "version_minor": 0
      },
      "text/plain": [
       "Computing Top 10 DocIDs:   0%|          | 0/67869 [00:00<?, ?it/s]"
      ]
     },
     "metadata": {},
     "output_type": "display_data"
    },
    {
     "data": {
      "application/vnd.jupyter.widget-view+json": {
       "model_id": "a90a9055590e438f8c9cf99caea1cbaf",
       "version_major": 2,
       "version_minor": 0
      },
      "text/plain": [
       "Computing Top 10 DocIDs:   0%|          | 0/67869 [00:00<?, ?it/s]"
      ]
     },
     "metadata": {},
     "output_type": "display_data"
    },
    {
     "data": {
      "application/vnd.jupyter.widget-view+json": {
       "model_id": "652f5ee0f72643f59cce13feea876427",
       "version_major": 2,
       "version_minor": 0
      },
      "text/plain": [
       "Computing Top 10 DocIDs:   0%|          | 0/67869 [00:00<?, ?it/s]"
      ]
     },
     "metadata": {},
     "output_type": "display_data"
    },
    {
     "data": {
      "application/vnd.jupyter.widget-view+json": {
       "model_id": "753ad1d5762240d191085f75bab87ef9",
       "version_major": 2,
       "version_minor": 0
      },
      "text/plain": [
       "Computing Top 10 DocIDs:   0%|          | 0/67869 [00:00<?, ?it/s]"
      ]
     },
     "metadata": {},
     "output_type": "display_data"
    },
    {
     "data": {
      "application/vnd.jupyter.widget-view+json": {
       "model_id": "fd3fc197252a492c8ef145f46c9ae76b",
       "version_major": 2,
       "version_minor": 0
      },
      "text/plain": [
       "Computing Top 10 DocIDs:   0%|          | 0/67869 [00:00<?, ?it/s]"
      ]
     },
     "metadata": {},
     "output_type": "display_data"
    },
    {
     "data": {
      "application/vnd.jupyter.widget-view+json": {
       "model_id": "53a7be0a088e4ed1840aae3ff2f814b1",
       "version_major": 2,
       "version_minor": 0
      },
      "text/plain": [
       "Computing Top 10 DocIDs:   0%|          | 0/67869 [00:00<?, ?it/s]"
      ]
     },
     "metadata": {},
     "output_type": "display_data"
    },
    {
     "data": {
      "application/vnd.jupyter.widget-view+json": {
       "model_id": "fd04ef5433de4956bef891a5fdb20464",
       "version_major": 2,
       "version_minor": 0
      },
      "text/plain": [
       "Computing Top 10 DocIDs:   0%|          | 0/67869 [00:00<?, ?it/s]"
      ]
     },
     "metadata": {},
     "output_type": "display_data"
    },
    {
     "data": {
      "application/vnd.jupyter.widget-view+json": {
       "model_id": "bfc514b22f4e406fa755589bf8d4cbbb",
       "version_major": 2,
       "version_minor": 0
      },
      "text/plain": [
       "Computing Top 10 DocIDs:   0%|          | 0/67869 [00:00<?, ?it/s]"
      ]
     },
     "metadata": {},
     "output_type": "display_data"
    },
    {
     "data": {
      "application/vnd.jupyter.widget-view+json": {
       "model_id": "49ea0e80fc8c41268773300f0817271c",
       "version_major": 2,
       "version_minor": 0
      },
      "text/plain": [
       "Computing Top 10 DocIDs:   0%|          | 0/67869 [00:00<?, ?it/s]"
      ]
     },
     "metadata": {},
     "output_type": "display_data"
    },
    {
     "data": {
      "application/vnd.jupyter.widget-view+json": {
       "model_id": "a3b61149432541b9b2fb80586c8159da",
       "version_major": 2,
       "version_minor": 0
      },
      "text/plain": [
       "Computing Top 10 DocIDs:   0%|          | 0/67869 [00:00<?, ?it/s]"
      ]
     },
     "metadata": {},
     "output_type": "display_data"
    },
    {
     "data": {
      "application/vnd.jupyter.widget-view+json": {
       "model_id": "a531761163ff45e492da703380882205",
       "version_major": 2,
       "version_minor": 0
      },
      "text/plain": [
       "Computing Top 10 DocIDs:   0%|          | 0/67869 [00:00<?, ?it/s]"
      ]
     },
     "metadata": {},
     "output_type": "display_data"
    },
    {
     "data": {
      "application/vnd.jupyter.widget-view+json": {
       "model_id": "ad9a8831d4a44f0b9e1ad435fdb33e2f",
       "version_major": 2,
       "version_minor": 0
      },
      "text/plain": [
       "Computing Top 10 DocIDs:   0%|          | 0/67869 [00:00<?, ?it/s]"
      ]
     },
     "metadata": {},
     "output_type": "display_data"
    },
    {
     "data": {
      "application/vnd.jupyter.widget-view+json": {
       "model_id": "81e3699e74824a00bb10c9378e9f52ab",
       "version_major": 2,
       "version_minor": 0
      },
      "text/plain": [
       "Computing Top 10 DocIDs:   0%|          | 0/67869 [00:00<?, ?it/s]"
      ]
     },
     "metadata": {},
     "output_type": "display_data"
    },
    {
     "data": {
      "application/vnd.jupyter.widget-view+json": {
       "model_id": "e0504ccc728140eabdf37b3e1f7f6f2b",
       "version_major": 2,
       "version_minor": 0
      },
      "text/plain": [
       "Computing Top 10 DocIDs:   0%|          | 0/67869 [00:00<?, ?it/s]"
      ]
     },
     "metadata": {},
     "output_type": "display_data"
    },
    {
     "data": {
      "application/vnd.jupyter.widget-view+json": {
       "model_id": "28940ce66e084dfe86f11459407d984f",
       "version_major": 2,
       "version_minor": 0
      },
      "text/plain": [
       "Computing Top 10 DocIDs:   0%|          | 0/67869 [00:00<?, ?it/s]"
      ]
     },
     "metadata": {},
     "output_type": "display_data"
    },
    {
     "data": {
      "application/vnd.jupyter.widget-view+json": {
       "model_id": "a89e1004145341808e6f4e218d528bdf",
       "version_major": 2,
       "version_minor": 0
      },
      "text/plain": [
       "Computing Top 10 DocIDs:   0%|          | 0/67869 [00:00<?, ?it/s]"
      ]
     },
     "metadata": {},
     "output_type": "display_data"
    },
    {
     "data": {
      "application/vnd.jupyter.widget-view+json": {
       "model_id": "d33f2570c65f487ca4f400843bd29379",
       "version_major": 2,
       "version_minor": 0
      },
      "text/plain": [
       "Computing Top 10 DocIDs:   0%|          | 0/67869 [00:00<?, ?it/s]"
      ]
     },
     "metadata": {},
     "output_type": "display_data"
    },
    {
     "data": {
      "application/vnd.jupyter.widget-view+json": {
       "model_id": "251505ecd9554547b71c3bf331ec7819",
       "version_major": 2,
       "version_minor": 0
      },
      "text/plain": [
       "Computing Top 10 DocIDs:   0%|          | 0/67869 [00:00<?, ?it/s]"
      ]
     },
     "metadata": {},
     "output_type": "display_data"
    },
    {
     "data": {
      "application/vnd.jupyter.widget-view+json": {
       "model_id": "ac5e985e81be403e9caac423e97ea5aa",
       "version_major": 2,
       "version_minor": 0
      },
      "text/plain": [
       "Computing Top 10 DocIDs:   0%|          | 0/67869 [00:00<?, ?it/s]"
      ]
     },
     "metadata": {},
     "output_type": "display_data"
    },
    {
     "data": {
      "application/vnd.jupyter.widget-view+json": {
       "model_id": "813119c6b8cf4170802d697a4dfba801",
       "version_major": 2,
       "version_minor": 0
      },
      "text/plain": [
       "Computing Top 10 DocIDs:   0%|          | 0/67869 [00:00<?, ?it/s]"
      ]
     },
     "metadata": {},
     "output_type": "display_data"
    },
    {
     "data": {
      "application/vnd.jupyter.widget-view+json": {
       "model_id": "56cfc108ebee4c2eb8a2f514a35b6157",
       "version_major": 2,
       "version_minor": 0
      },
      "text/plain": [
       "Computing Top 10 DocIDs:   0%|          | 0/67869 [00:00<?, ?it/s]"
      ]
     },
     "metadata": {},
     "output_type": "display_data"
    },
    {
     "data": {
      "application/vnd.jupyter.widget-view+json": {
       "model_id": "6d8b79e4172a4c589f7247e0345e5c75",
       "version_major": 2,
       "version_minor": 0
      },
      "text/plain": [
       "Computing Top 10 DocIDs:   0%|          | 0/67869 [00:00<?, ?it/s]"
      ]
     },
     "metadata": {},
     "output_type": "display_data"
    },
    {
     "data": {
      "application/vnd.jupyter.widget-view+json": {
       "model_id": "cf733b1fec214d6d93e3991eb3974027",
       "version_major": 2,
       "version_minor": 0
      },
      "text/plain": [
       "Computing Top 10 DocIDs:   0%|          | 0/67869 [00:00<?, ?it/s]"
      ]
     },
     "metadata": {},
     "output_type": "display_data"
    },
    {
     "data": {
      "application/vnd.jupyter.widget-view+json": {
       "model_id": "127670af21764efab7ab011767c5e385",
       "version_major": 2,
       "version_minor": 0
      },
      "text/plain": [
       "Computing Mean Metrics:   0%|          | 0/50 [00:00<?, ?it/s]"
      ]
     },
     "metadata": {},
     "output_type": "display_data"
    },
    {
     "data": {
      "application/vnd.jupyter.widget-view+json": {
       "model_id": "77dac24d7e924323b750eece316b155e",
       "version_major": 2,
       "version_minor": 0
      },
      "text/plain": [
       "Computing Top 100 DocIDs:   0%|          | 0/67869 [00:00<?, ?it/s]"
      ]
     },
     "metadata": {},
     "output_type": "display_data"
    },
    {
     "data": {
      "application/vnd.jupyter.widget-view+json": {
       "model_id": "a97d48acc0ff43b5b8bb14ed6abc3287",
       "version_major": 2,
       "version_minor": 0
      },
      "text/plain": [
       "Computing Top 100 DocIDs:   0%|          | 0/67869 [00:00<?, ?it/s]"
      ]
     },
     "metadata": {},
     "output_type": "display_data"
    },
    {
     "data": {
      "application/vnd.jupyter.widget-view+json": {
       "model_id": "9c82f08830a5486da04808c31f0fa874",
       "version_major": 2,
       "version_minor": 0
      },
      "text/plain": [
       "Computing Top 100 DocIDs:   0%|          | 0/67869 [00:00<?, ?it/s]"
      ]
     },
     "metadata": {},
     "output_type": "display_data"
    },
    {
     "data": {
      "application/vnd.jupyter.widget-view+json": {
       "model_id": "26cfcb5cd13c4582b56349f96bd46b1a",
       "version_major": 2,
       "version_minor": 0
      },
      "text/plain": [
       "Computing Top 100 DocIDs:   0%|          | 0/67869 [00:00<?, ?it/s]"
      ]
     },
     "metadata": {},
     "output_type": "display_data"
    },
    {
     "data": {
      "application/vnd.jupyter.widget-view+json": {
       "model_id": "109cfd8267c640f3a6c5a29b073798f7",
       "version_major": 2,
       "version_minor": 0
      },
      "text/plain": [
       "Computing Top 100 DocIDs:   0%|          | 0/67869 [00:00<?, ?it/s]"
      ]
     },
     "metadata": {},
     "output_type": "display_data"
    },
    {
     "data": {
      "application/vnd.jupyter.widget-view+json": {
       "model_id": "1418eefa16b343fa9029d12dfdced56e",
       "version_major": 2,
       "version_minor": 0
      },
      "text/plain": [
       "Computing Top 100 DocIDs:   0%|          | 0/67869 [00:00<?, ?it/s]"
      ]
     },
     "metadata": {},
     "output_type": "display_data"
    },
    {
     "data": {
      "application/vnd.jupyter.widget-view+json": {
       "model_id": "4c5e4205a9594137b206474736636123",
       "version_major": 2,
       "version_minor": 0
      },
      "text/plain": [
       "Computing Top 100 DocIDs:   0%|          | 0/67869 [00:00<?, ?it/s]"
      ]
     },
     "metadata": {},
     "output_type": "display_data"
    },
    {
     "data": {
      "application/vnd.jupyter.widget-view+json": {
       "model_id": "0002191120ba4485a89974f64756ad25",
       "version_major": 2,
       "version_minor": 0
      },
      "text/plain": [
       "Computing Top 100 DocIDs:   0%|          | 0/67869 [00:00<?, ?it/s]"
      ]
     },
     "metadata": {},
     "output_type": "display_data"
    },
    {
     "data": {
      "application/vnd.jupyter.widget-view+json": {
       "model_id": "13b8d0ff5938468f8683ea6861b998aa",
       "version_major": 2,
       "version_minor": 0
      },
      "text/plain": [
       "Computing Top 100 DocIDs:   0%|          | 0/67869 [00:00<?, ?it/s]"
      ]
     },
     "metadata": {},
     "output_type": "display_data"
    },
    {
     "data": {
      "application/vnd.jupyter.widget-view+json": {
       "model_id": "54b09320e859443999995f446ec6bef7",
       "version_major": 2,
       "version_minor": 0
      },
      "text/plain": [
       "Computing Top 100 DocIDs:   0%|          | 0/67869 [00:00<?, ?it/s]"
      ]
     },
     "metadata": {},
     "output_type": "display_data"
    },
    {
     "data": {
      "application/vnd.jupyter.widget-view+json": {
       "model_id": "5457caaee757470eb2a400f6da686dac",
       "version_major": 2,
       "version_minor": 0
      },
      "text/plain": [
       "Computing Top 100 DocIDs:   0%|          | 0/67869 [00:00<?, ?it/s]"
      ]
     },
     "metadata": {},
     "output_type": "display_data"
    },
    {
     "data": {
      "application/vnd.jupyter.widget-view+json": {
       "model_id": "f087c58c943d439193dcc0c3e18e34bb",
       "version_major": 2,
       "version_minor": 0
      },
      "text/plain": [
       "Computing Top 100 DocIDs:   0%|          | 0/67869 [00:00<?, ?it/s]"
      ]
     },
     "metadata": {},
     "output_type": "display_data"
    },
    {
     "data": {
      "application/vnd.jupyter.widget-view+json": {
       "model_id": "b9846ac8846d43679ba3eac362e5377b",
       "version_major": 2,
       "version_minor": 0
      },
      "text/plain": [
       "Computing Top 100 DocIDs:   0%|          | 0/67869 [00:00<?, ?it/s]"
      ]
     },
     "metadata": {},
     "output_type": "display_data"
    },
    {
     "data": {
      "application/vnd.jupyter.widget-view+json": {
       "model_id": "0b4893fed3654cf9bb4f09f748ad37af",
       "version_major": 2,
       "version_minor": 0
      },
      "text/plain": [
       "Computing Top 100 DocIDs:   0%|          | 0/67869 [00:00<?, ?it/s]"
      ]
     },
     "metadata": {},
     "output_type": "display_data"
    },
    {
     "data": {
      "application/vnd.jupyter.widget-view+json": {
       "model_id": "ab1df87737ab456ba688847a9d0435f3",
       "version_major": 2,
       "version_minor": 0
      },
      "text/plain": [
       "Computing Top 100 DocIDs:   0%|          | 0/67869 [00:00<?, ?it/s]"
      ]
     },
     "metadata": {},
     "output_type": "display_data"
    },
    {
     "data": {
      "application/vnd.jupyter.widget-view+json": {
       "model_id": "f5f36530bfd244de9d6ef992202c065b",
       "version_major": 2,
       "version_minor": 0
      },
      "text/plain": [
       "Computing Top 100 DocIDs:   0%|          | 0/67869 [00:00<?, ?it/s]"
      ]
     },
     "metadata": {},
     "output_type": "display_data"
    },
    {
     "data": {
      "application/vnd.jupyter.widget-view+json": {
       "model_id": "36af14098079419699f6761c36cc7875",
       "version_major": 2,
       "version_minor": 0
      },
      "text/plain": [
       "Computing Top 100 DocIDs:   0%|          | 0/67869 [00:00<?, ?it/s]"
      ]
     },
     "metadata": {},
     "output_type": "display_data"
    },
    {
     "data": {
      "application/vnd.jupyter.widget-view+json": {
       "model_id": "d4b98cbbc97449b4a936c00970fae293",
       "version_major": 2,
       "version_minor": 0
      },
      "text/plain": [
       "Computing Top 100 DocIDs:   0%|          | 0/67869 [00:00<?, ?it/s]"
      ]
     },
     "metadata": {},
     "output_type": "display_data"
    },
    {
     "data": {
      "application/vnd.jupyter.widget-view+json": {
       "model_id": "372a59554794443b896f85c6652ce223",
       "version_major": 2,
       "version_minor": 0
      },
      "text/plain": [
       "Computing Top 100 DocIDs:   0%|          | 0/67869 [00:00<?, ?it/s]"
      ]
     },
     "metadata": {},
     "output_type": "display_data"
    },
    {
     "data": {
      "application/vnd.jupyter.widget-view+json": {
       "model_id": "a067e9d7db164f1dab11bef12919b6ec",
       "version_major": 2,
       "version_minor": 0
      },
      "text/plain": [
       "Computing Top 100 DocIDs:   0%|          | 0/67869 [00:00<?, ?it/s]"
      ]
     },
     "metadata": {},
     "output_type": "display_data"
    },
    {
     "data": {
      "application/vnd.jupyter.widget-view+json": {
       "model_id": "724365b11a6c486a9bf7fe955043ac30",
       "version_major": 2,
       "version_minor": 0
      },
      "text/plain": [
       "Computing Top 100 DocIDs:   0%|          | 0/67869 [00:00<?, ?it/s]"
      ]
     },
     "metadata": {},
     "output_type": "display_data"
    },
    {
     "data": {
      "application/vnd.jupyter.widget-view+json": {
       "model_id": "ca64b2e0ccfb4f76a3008e3207c371e1",
       "version_major": 2,
       "version_minor": 0
      },
      "text/plain": [
       "Computing Top 100 DocIDs:   0%|          | 0/67869 [00:00<?, ?it/s]"
      ]
     },
     "metadata": {},
     "output_type": "display_data"
    },
    {
     "data": {
      "application/vnd.jupyter.widget-view+json": {
       "model_id": "cfe6b9f8327441548fc631d3a69c3d49",
       "version_major": 2,
       "version_minor": 0
      },
      "text/plain": [
       "Computing Top 100 DocIDs:   0%|          | 0/67869 [00:00<?, ?it/s]"
      ]
     },
     "metadata": {},
     "output_type": "display_data"
    },
    {
     "data": {
      "application/vnd.jupyter.widget-view+json": {
       "model_id": "dc18c29ec03e419b996670712fbaec0a",
       "version_major": 2,
       "version_minor": 0
      },
      "text/plain": [
       "Computing Top 100 DocIDs:   0%|          | 0/67869 [00:00<?, ?it/s]"
      ]
     },
     "metadata": {},
     "output_type": "display_data"
    },
    {
     "data": {
      "application/vnd.jupyter.widget-view+json": {
       "model_id": "cb725b8447cb43e2bca1b61bd8fa3d7c",
       "version_major": 2,
       "version_minor": 0
      },
      "text/plain": [
       "Computing Top 100 DocIDs:   0%|          | 0/67869 [00:00<?, ?it/s]"
      ]
     },
     "metadata": {},
     "output_type": "display_data"
    },
    {
     "data": {
      "application/vnd.jupyter.widget-view+json": {
       "model_id": "e6a1d292fc83498aa4fa7d56fcacd7e5",
       "version_major": 2,
       "version_minor": 0
      },
      "text/plain": [
       "Computing Top 100 DocIDs:   0%|          | 0/67869 [00:00<?, ?it/s]"
      ]
     },
     "metadata": {},
     "output_type": "display_data"
    },
    {
     "data": {
      "application/vnd.jupyter.widget-view+json": {
       "model_id": "3646a04b141448ed9289c5e6fe14abdc",
       "version_major": 2,
       "version_minor": 0
      },
      "text/plain": [
       "Computing Top 100 DocIDs:   0%|          | 0/67869 [00:00<?, ?it/s]"
      ]
     },
     "metadata": {},
     "output_type": "display_data"
    },
    {
     "data": {
      "application/vnd.jupyter.widget-view+json": {
       "model_id": "c0bf8a67b83f446bb9bbc35cd1573f7b",
       "version_major": 2,
       "version_minor": 0
      },
      "text/plain": [
       "Computing Top 100 DocIDs:   0%|          | 0/67869 [00:00<?, ?it/s]"
      ]
     },
     "metadata": {},
     "output_type": "display_data"
    },
    {
     "data": {
      "application/vnd.jupyter.widget-view+json": {
       "model_id": "10333b1c31334e3e8c8ea854c2574f07",
       "version_major": 2,
       "version_minor": 0
      },
      "text/plain": [
       "Computing Top 100 DocIDs:   0%|          | 0/67869 [00:00<?, ?it/s]"
      ]
     },
     "metadata": {},
     "output_type": "display_data"
    },
    {
     "data": {
      "application/vnd.jupyter.widget-view+json": {
       "model_id": "895fb846a6f8432d98aee6db27772bb1",
       "version_major": 2,
       "version_minor": 0
      },
      "text/plain": [
       "Computing Top 100 DocIDs:   0%|          | 0/67869 [00:00<?, ?it/s]"
      ]
     },
     "metadata": {},
     "output_type": "display_data"
    },
    {
     "data": {
      "application/vnd.jupyter.widget-view+json": {
       "model_id": "ccc38d18d8d941d498036298742b8198",
       "version_major": 2,
       "version_minor": 0
      },
      "text/plain": [
       "Computing Top 100 DocIDs:   0%|          | 0/67869 [00:00<?, ?it/s]"
      ]
     },
     "metadata": {},
     "output_type": "display_data"
    },
    {
     "data": {
      "application/vnd.jupyter.widget-view+json": {
       "model_id": "63bd007b3ea94c7cbfd590ebbdf24acb",
       "version_major": 2,
       "version_minor": 0
      },
      "text/plain": [
       "Computing Top 100 DocIDs:   0%|          | 0/67869 [00:00<?, ?it/s]"
      ]
     },
     "metadata": {},
     "output_type": "display_data"
    },
    {
     "data": {
      "application/vnd.jupyter.widget-view+json": {
       "model_id": "d2b63be6018740b2aeec0305f2a818e6",
       "version_major": 2,
       "version_minor": 0
      },
      "text/plain": [
       "Computing Top 100 DocIDs:   0%|          | 0/67869 [00:00<?, ?it/s]"
      ]
     },
     "metadata": {},
     "output_type": "display_data"
    },
    {
     "data": {
      "application/vnd.jupyter.widget-view+json": {
       "model_id": "9d0541d5479c415a8216b106a1bc67d9",
       "version_major": 2,
       "version_minor": 0
      },
      "text/plain": [
       "Computing Top 100 DocIDs:   0%|          | 0/67869 [00:00<?, ?it/s]"
      ]
     },
     "metadata": {},
     "output_type": "display_data"
    },
    {
     "data": {
      "application/vnd.jupyter.widget-view+json": {
       "model_id": "56d6682091c54c4da1e291414f429f94",
       "version_major": 2,
       "version_minor": 0
      },
      "text/plain": [
       "Computing Top 100 DocIDs:   0%|          | 0/67869 [00:00<?, ?it/s]"
      ]
     },
     "metadata": {},
     "output_type": "display_data"
    },
    {
     "data": {
      "application/vnd.jupyter.widget-view+json": {
       "model_id": "a518a7c9a3db453c9a730d08df4153eb",
       "version_major": 2,
       "version_minor": 0
      },
      "text/plain": [
       "Computing Top 100 DocIDs:   0%|          | 0/67869 [00:00<?, ?it/s]"
      ]
     },
     "metadata": {},
     "output_type": "display_data"
    },
    {
     "data": {
      "application/vnd.jupyter.widget-view+json": {
       "model_id": "3a2b277e027d4599a8b960b708dee552",
       "version_major": 2,
       "version_minor": 0
      },
      "text/plain": [
       "Computing Top 100 DocIDs:   0%|          | 0/67869 [00:00<?, ?it/s]"
      ]
     },
     "metadata": {},
     "output_type": "display_data"
    },
    {
     "data": {
      "application/vnd.jupyter.widget-view+json": {
       "model_id": "f42b642ab5f743ee8801a85b3650c6aa",
       "version_major": 2,
       "version_minor": 0
      },
      "text/plain": [
       "Computing Top 100 DocIDs:   0%|          | 0/67869 [00:00<?, ?it/s]"
      ]
     },
     "metadata": {},
     "output_type": "display_data"
    },
    {
     "data": {
      "application/vnd.jupyter.widget-view+json": {
       "model_id": "2dc9b800fb1f4f52b4d770f6289513f5",
       "version_major": 2,
       "version_minor": 0
      },
      "text/plain": [
       "Computing Top 100 DocIDs:   0%|          | 0/67869 [00:00<?, ?it/s]"
      ]
     },
     "metadata": {},
     "output_type": "display_data"
    },
    {
     "data": {
      "application/vnd.jupyter.widget-view+json": {
       "model_id": "047a7a4931e6431f9dd21149a2cd0ac4",
       "version_major": 2,
       "version_minor": 0
      },
      "text/plain": [
       "Computing Top 100 DocIDs:   0%|          | 0/67869 [00:00<?, ?it/s]"
      ]
     },
     "metadata": {},
     "output_type": "display_data"
    },
    {
     "data": {
      "application/vnd.jupyter.widget-view+json": {
       "model_id": "51f096530e6d4414a5007f6c65b1e8c8",
       "version_major": 2,
       "version_minor": 0
      },
      "text/plain": [
       "Computing Top 100 DocIDs:   0%|          | 0/67869 [00:00<?, ?it/s]"
      ]
     },
     "metadata": {},
     "output_type": "display_data"
    },
    {
     "data": {
      "application/vnd.jupyter.widget-view+json": {
       "model_id": "93d5d379101a45d6b7dcbac5c6c49653",
       "version_major": 2,
       "version_minor": 0
      },
      "text/plain": [
       "Computing Top 100 DocIDs:   0%|          | 0/67869 [00:00<?, ?it/s]"
      ]
     },
     "metadata": {},
     "output_type": "display_data"
    },
    {
     "data": {
      "application/vnd.jupyter.widget-view+json": {
       "model_id": "67159e32148d4c55a24f1a367f0f88cf",
       "version_major": 2,
       "version_minor": 0
      },
      "text/plain": [
       "Computing Top 100 DocIDs:   0%|          | 0/67869 [00:00<?, ?it/s]"
      ]
     },
     "metadata": {},
     "output_type": "display_data"
    },
    {
     "data": {
      "application/vnd.jupyter.widget-view+json": {
       "model_id": "a09c8682e0814d9d9ea7ac56f8fe8204",
       "version_major": 2,
       "version_minor": 0
      },
      "text/plain": [
       "Computing Top 100 DocIDs:   0%|          | 0/67869 [00:00<?, ?it/s]"
      ]
     },
     "metadata": {},
     "output_type": "display_data"
    },
    {
     "data": {
      "application/vnd.jupyter.widget-view+json": {
       "model_id": "656e2046519546f1b48a271774f65750",
       "version_major": 2,
       "version_minor": 0
      },
      "text/plain": [
       "Computing Top 100 DocIDs:   0%|          | 0/67869 [00:00<?, ?it/s]"
      ]
     },
     "metadata": {},
     "output_type": "display_data"
    },
    {
     "data": {
      "application/vnd.jupyter.widget-view+json": {
       "model_id": "7c867e6c66ec43388e67acb41e6dae34",
       "version_major": 2,
       "version_minor": 0
      },
      "text/plain": [
       "Computing Top 100 DocIDs:   0%|          | 0/67869 [00:00<?, ?it/s]"
      ]
     },
     "metadata": {},
     "output_type": "display_data"
    },
    {
     "data": {
      "application/vnd.jupyter.widget-view+json": {
       "model_id": "2729da1f69c54b90a07e14c6859a6c45",
       "version_major": 2,
       "version_minor": 0
      },
      "text/plain": [
       "Computing Top 100 DocIDs:   0%|          | 0/67869 [00:00<?, ?it/s]"
      ]
     },
     "metadata": {},
     "output_type": "display_data"
    },
    {
     "data": {
      "application/vnd.jupyter.widget-view+json": {
       "model_id": "73ea7ffd84244962bac80244d58a6993",
       "version_major": 2,
       "version_minor": 0
      },
      "text/plain": [
       "Computing Top 100 DocIDs:   0%|          | 0/67869 [00:00<?, ?it/s]"
      ]
     },
     "metadata": {},
     "output_type": "display_data"
    },
    {
     "data": {
      "application/vnd.jupyter.widget-view+json": {
       "model_id": "480ac0a317c24f389af924500e26a5ec",
       "version_major": 2,
       "version_minor": 0
      },
      "text/plain": [
       "Computing Top 100 DocIDs:   0%|          | 0/67869 [00:00<?, ?it/s]"
      ]
     },
     "metadata": {},
     "output_type": "display_data"
    },
    {
     "data": {
      "application/vnd.jupyter.widget-view+json": {
       "model_id": "54b98dec12a1458c8cc478ff2ca1a59d",
       "version_major": 2,
       "version_minor": 0
      },
      "text/plain": [
       "Computing Top 100 DocIDs:   0%|          | 0/67869 [00:00<?, ?it/s]"
      ]
     },
     "metadata": {},
     "output_type": "display_data"
    },
    {
     "name": "stdout",
     "output_type": "stream",
     "text": [
      "Mean Average Precision (MAP): 0.0\n",
      "Normalized Discounted Cumulative Gain (NDCG): 0.0\n",
      "Mean Precison@10 0.0\n",
      "Mean Recall@10 0.0\n",
      "Mean Precison@100 0.0008000000000000003\n",
      "Mean Recall@100 0.008\n"
     ]
    }
   ],
   "source": [
    "# Change return type to 'id' to get query IDs\n",
    "triplets_dataset.set_ret_type('id')\n",
    "# Randomly select N triplets from validation set\n",
    "selected_triplets = random.sample(list(valid_set_sc), 50)\n",
    "# Extract queries from the selected triplets\n",
    "random_queries = [triplet[0] for triplet in selected_triplets]\n",
    "\n",
    "# Compute metrics for K1\n",
    "running_mean_AP, running_mean_PatK1, running_mean_RatK1, running_mean_nDCG = eval_utils.compute_Mean_metrics(\n",
    "    siamese_net, random_queries, queries, documents, k=K1, model_type='siamese')\n",
    "# Compute metrics for K2\n",
    "_, running_mean_PatK2, running_mean_RatK2, _ = eval_utils.compute_Mean_metrics(\n",
    "    siamese_net, random_queries, queries, documents, k=K2, model_type='siamese')\n",
    "\n",
    "# Print mean average precision\n",
    "print(\"Mean Average Precision (MAP):\", running_mean_AP)\n",
    "# Print ndcg\n",
    "print(\"Normalized Discounted Cumulative Gain (NDCG):\", running_mean_nDCG)\n",
    "# Print mean precision at k1\n",
    "print(f\"Mean Precison@{K1}\", running_mean_PatK1)\n",
    "# Print mean recall at k1\n",
    "print(f\"Mean Recall@{K1}\", running_mean_RatK1)\n",
    "# Print mean precision at k2\n",
    "print(f\"Mean Precison@{K2}\", running_mean_PatK2)\n",
    "# Print mean recall at k2\n",
    "print(f\"Mean Recall@{K2}\", running_mean_RatK2)"
   ]
  },
  {
   "cell_type": "markdown",
   "metadata": {},
   "source": [
    "#### Indexing and retrival using DSI approach"
   ]
  },
  {
   "cell_type": "code",
   "execution_count": 21,
   "metadata": {},
   "outputs": [
    {
     "name": "stderr",
     "output_type": "stream",
     "text": [
      "/Users/alirezarafiei/miniforge3/lib/python3.10/site-packages/torch/nn/modules/transformer.py:286: UserWarning: enable_nested_tensor is True, but self.use_nested_tensor is False because encoder_layer.self_attn.batch_first was not True(use batch_first for better inference performance)\n",
      "  warnings.warn(f\"enable_nested_tensor is True, but self.use_nested_tensor is False because {why_not_sparsity_fast_path}\")\n"
     ]
    }
   ],
   "source": [
    "# HYPERPARAMETERS\n",
    "d_model = 120\n",
    "nhead = 4\n",
    "nhid = 120\n",
    "nlayers = 3\n",
    "dropout = 0.2\n",
    "\n",
    "# Define hyperparameters\n",
    "hparams = {\n",
    "    \"learning_rate\": 0.0005,\n",
    "    \"batch_size\": 1024,\n",
    "    \"embedding_size\": d_model,\n",
    "    \"number_of_layers\": nlayers,\n",
    "    \"dropout\": dropout\n",
    "}\n",
    "\n",
    "# Initialize transformer model\n",
    "bt_model = s2s_transf.BaseTransformer(\n",
    "    ntoken=dd_dataset.tokenizer.vocab_size, d_model=d_model,\n",
    "    nhead=nhead, nhid=nhid, nlayers=nlayers, dropout=dropout,\n",
    "    teacher_forcing_prob=1, hparams=hparams)\n",
    "\n",
    "# Load weights if they exist\n",
    "#if os.path.exists(BT_MOD_PATH):\n",
    "#    bt_model.load_state_dict(torch.load(BT_MOD_PATH, map_location=bt_model.device))"
   ]
  },
  {
   "cell_type": "markdown",
   "metadata": {},
   "source": [
    "#### Indexing - we train the model for the indexing task"
   ]
  },
  {
   "cell_type": "code",
   "execution_count": 22,
   "metadata": {},
   "outputs": [
    {
     "name": "stderr",
     "output_type": "stream",
     "text": [
      "GPU available: True (mps), used: True\n",
      "TPU available: False, using: 0 TPU cores\n",
      "IPU available: False, using: 0 IPUs\n",
      "HPU available: False, using: 0 HPUs\n",
      "/Users/alirezarafiei/miniforge3/lib/python3.10/site-packages/pytorch_lightning/trainer/configuration_validator.py:74: You defined a `validation_step` but have no `val_dataloader`. Skipping val loop.\n",
      "\n",
      "  | Name                | Type               | Params\n",
      "-----------------------------------------------------------\n",
      "0 | model               | Transformer        | 701 K \n",
      "1 | src_tok_emb         | Embedding          | 3.8 M \n",
      "2 | tgt_tok_emb         | Embedding          | 1.6 K \n",
      "3 | positional_encoding | PositionalEncoding | 0     \n",
      "4 | relu                | ReLU               | 0     \n",
      "5 | output_layer        | Linear             | 1.6 K \n",
      "-----------------------------------------------------------\n",
      "4.5 M     Trainable params\n",
      "0         Non-trainable params\n",
      "4.5 M     Total params\n",
      "18.177    Total estimated model params size (MB)\n",
      "/Users/alirezarafiei/miniforge3/lib/python3.10/site-packages/pytorch_lightning/trainer/connectors/data_connector.py:436: Consider setting `persistent_workers=True` in 'train_dataloader' to speed up the dataloader worker initialization.\n"
     ]
    },
    {
     "data": {
      "application/vnd.jupyter.widget-view+json": {
       "model_id": "72ebc8fdbcf34a3a9411e9ea762e2cff",
       "version_major": 2,
       "version_minor": 0
      },
      "text/plain": [
       "Training: |          | 0/? [00:00<?, ?it/s]"
      ]
     },
     "metadata": {},
     "output_type": "display_data"
    },
    {
     "name": "stderr",
     "output_type": "stream",
     "text": [
      "`Trainer.fit` stopped: `max_epochs=400` reached.\n"
     ]
    },
    {
     "data": {
      "text/plain": [
       "ERROR: Failed to launch TensorBoard (exited with 1).\n",
       "Contents of stderr:\n",
       "I0502 22:29:24.642650 12316356608 plugin.py:429] Monitor runs begin\n",
       "Address already in use\n",
       "Port 6006 is in use by another program. Either identify and stop that program, or start the server with a different port."
      ]
     },
     "metadata": {},
     "output_type": "display_data"
    }
   ],
   "source": [
    "# Creating dataloader\n",
    "data_loader_dd = DataLoader(\n",
    "    dd_dataset, batch_size=1024, shuffle=True, num_workers=2)\n",
    "\n",
    "# Initialize TensorBoard logger\n",
    "logger = TensorBoardLogger('tb_logs', name='my_model')\n",
    "# For hyperparameters optimization\n",
    "logger.log_hyperparams(hparams)\n",
    "\n",
    "# Training the model\n",
    "trainer = Trainer(max_epochs=400, logger=logger)\n",
    "trainer.fit(bt_model, data_loader_dd)\n",
    "\n",
    "# Start TensorBoard within the notebook\n",
    "# Make sure this directory matches your logger's directory\n",
    "%tensorboard --logdir tb_logs/"
   ]
  },
  {
   "cell_type": "code",
   "execution_count": 23,
   "metadata": {},
   "outputs": [
    {
     "name": "stdout",
     "output_type": "stream",
     "text": [
      "train_accuracy_step data not found in logs\n"
     ]
    },
    {
     "data": {
      "image/png": "[encoded data removed]",
      "text/plain": [
       "<Figure size 600x400 with 1 Axes>"
      ]
     },
     "metadata": {},
     "output_type": "display_data"
    }
   ],
   "source": [
    "# Create plots\n",
    "utils.plot_pl_logs(\n",
    "    './lightning_logs/version_0', 'train_loss_step', './plots/indexing')\n",
    "utils.plot_pl_logs(\n",
    "    './lightning_logs/version_0', 'train_accuracy_step', './plots/indexing')\n",
    "\n",
    "# Download plots\n",
    "if DOWNLOAD_FILES:\n",
    "    files.download('./plots/indexing/train_loss_step.pdf')\n",
    "    files.download('./plots/indexing/train_accuracy_epoch.pdf')"
   ]
  },
  {
   "cell_type": "markdown",
   "metadata": {},
   "source": [
    "#### Retrieval - we train the model for the retrieval task"
   ]
  },
  {
   "cell_type": "code",
   "execution_count": 8,
   "metadata": {},
   "outputs": [],
   "source": [
    "# Define split ratios\n",
    "split_ratios = (0.7, 0.2)  # 70% training, 20% validation, 10% testing\n",
    "\n",
    "# Splitting the dataset\n",
    "train_size, val_size, test_size = utils.calculate_split_sizes(\n",
    "    len(ret_dataset), *split_ratios)\n",
    "train_dataset, val_dataset, test_dataset = random_split(\n",
    "    ret_dataset, [train_size, val_size, test_size])\n",
    "\n",
    "# Creating dataloaders\n",
    "train_dataloader = DataLoader(\n",
    "    train_dataset, batch_size=1024, shuffle=True, num_workers=2)\n",
    "val_dataloader = DataLoader(\n",
    "    val_dataset, batch_size=1024, shuffle=False, num_workers=2)\n",
    "test_dataloader = DataLoader(\n",
    "    test_dataset, batch_size=1024, shuffle=False, num_workers=2)"
   ]
  },
  {
   "cell_type": "code",
   "execution_count": 25,
   "metadata": {},
   "outputs": [
    {
     "name": "stderr",
     "output_type": "stream",
     "text": [
      "GPU available: True (mps), used: True\n",
      "TPU available: False, using: 0 TPU cores\n",
      "IPU available: False, using: 0 IPUs\n",
      "HPU available: False, using: 0 HPUs\n",
      "\n",
      "  | Name                | Type               | Params\n",
      "-----------------------------------------------------------\n",
      "0 | model               | Transformer        | 701 K \n",
      "1 | src_tok_emb         | Embedding          | 3.8 M \n",
      "2 | tgt_tok_emb         | Embedding          | 1.6 K \n",
      "3 | positional_encoding | PositionalEncoding | 0     \n",
      "4 | relu                | ReLU               | 0     \n",
      "5 | output_layer        | Linear             | 1.6 K \n",
      "-----------------------------------------------------------\n",
      "4.5 M     Trainable params\n",
      "0         Non-trainable params\n",
      "4.5 M     Total params\n",
      "18.177    Total estimated model params size (MB)\n"
     ]
    },
    {
     "data": {
      "application/vnd.jupyter.widget-view+json": {
       "model_id": "470c86b748e34c35b4220da647156fa0",
       "version_major": 2,
       "version_minor": 0
      },
      "text/plain": [
       "Sanity Checking: |          | 0/? [00:00<?, ?it/s]"
      ]
     },
     "metadata": {},
     "output_type": "display_data"
    },
    {
     "name": "stderr",
     "output_type": "stream",
     "text": [
      "/Users/alirezarafiei/miniforge3/lib/python3.10/site-packages/pytorch_lightning/trainer/connectors/data_connector.py:436: Consider setting `persistent_workers=True` in 'val_dataloader' to speed up the dataloader worker initialization.\n",
      "/Users/alirezarafiei/miniforge3/lib/python3.10/site-packages/pytorch_lightning/trainer/connectors/data_connector.py:436: Consider setting `persistent_workers=True` in 'train_dataloader' to speed up the dataloader worker initialization.\n",
      "/Users/alirezarafiei/miniforge3/lib/python3.10/site-packages/pytorch_lightning/loops/fit_loop.py:298: The number of training batches (48) is smaller than the logging interval Trainer(log_every_n_steps=50). Set a lower value for log_every_n_steps if you want to see logs for the training epoch.\n"
     ]
    },
    {
     "data": {
      "application/vnd.jupyter.widget-view+json": {
       "model_id": "eed6c0e0da964bf399701c36164fb35c",
       "version_major": 2,
       "version_minor": 0
      },
      "text/plain": [
       "Training: |          | 0/? [00:00<?, ?it/s]"
      ]
     },
     "metadata": {},
     "output_type": "display_data"
    },
    {
     "data": {
      "application/vnd.jupyter.widget-view+json": {
       "model_id": "890681b5649b47bfa19825d553ea3b5f",
       "version_major": 2,
       "version_minor": 0
      },
      "text/plain": [
       "Validation: |          | 0/? [00:00<?, ?it/s]"
      ]
     },
     "metadata": {},
     "output_type": "display_data"
    },
    {
     "data": {
      "application/vnd.jupyter.widget-view+json": {
       "model_id": "f8e4e367e47c4f45a63e67771d3f6901",
       "version_major": 2,
       "version_minor": 0
      },
      "text/plain": [
       "Validation: |          | 0/? [00:00<?, ?it/s]"
      ]
     },
     "metadata": {},
     "output_type": "display_data"
    },
    {
     "data": {
      "application/vnd.jupyter.widget-view+json": {
       "model_id": "da5266b739ef4e94bb4fb4ce016e8842",
       "version_major": 2,
       "version_minor": 0
      },
      "text/plain": [
       "Validation: |          | 0/? [00:00<?, ?it/s]"
      ]
     },
     "metadata": {},
     "output_type": "display_data"
    },
    {
     "data": {
      "application/vnd.jupyter.widget-view+json": {
       "model_id": "dfc4181220b34b14b39938af7d29ac53",
       "version_major": 2,
       "version_minor": 0
      },
      "text/plain": [
       "Validation: |          | 0/? [00:00<?, ?it/s]"
      ]
     },
     "metadata": {},
     "output_type": "display_data"
    },
    {
     "data": {
      "application/vnd.jupyter.widget-view+json": {
       "model_id": "5e3147540cce4688be7692374e878be5",
       "version_major": 2,
       "version_minor": 0
      },
      "text/plain": [
       "Validation: |          | 0/? [00:00<?, ?it/s]"
      ]
     },
     "metadata": {},
     "output_type": "display_data"
    },
    {
     "data": {
      "application/vnd.jupyter.widget-view+json": {
       "model_id": "6d6f45121d494e2789c68b088200cbf6",
       "version_major": 2,
       "version_minor": 0
      },
      "text/plain": [
       "Validation: |          | 0/? [00:00<?, ?it/s]"
      ]
     },
     "metadata": {},
     "output_type": "display_data"
    },
    {
     "data": {
      "application/vnd.jupyter.widget-view+json": {
       "model_id": "1f7cad8b0a8b43af90e547b5872ebac1",
       "version_major": 2,
       "version_minor": 0
      },
      "text/plain": [
       "Validation: |          | 0/? [00:00<?, ?it/s]"
      ]
     },
     "metadata": {},
     "output_type": "display_data"
    },
    {
     "data": {
      "application/vnd.jupyter.widget-view+json": {
       "model_id": "162702fea76e4b2ab0a6721839f9af88",
       "version_major": 2,
       "version_minor": 0
      },
      "text/plain": [
       "Validation: |          | 0/? [00:00<?, ?it/s]"
      ]
     },
     "metadata": {},
     "output_type": "display_data"
    },
    {
     "data": {
      "application/vnd.jupyter.widget-view+json": {
       "model_id": "e576eb797ea34dfea259b99b3f5a0b54",
       "version_major": 2,
       "version_minor": 0
      },
      "text/plain": [
       "Validation: |          | 0/? [00:00<?, ?it/s]"
      ]
     },
     "metadata": {},
     "output_type": "display_data"
    },
    {
     "data": {
      "application/vnd.jupyter.widget-view+json": {
       "model_id": "d5c7b1f26787499c8b810265006d2664",
       "version_major": 2,
       "version_minor": 0
      },
      "text/plain": [
       "Validation: |          | 0/? [00:00<?, ?it/s]"
      ]
     },
     "metadata": {},
     "output_type": "display_data"
    },
    {
     "data": {
      "application/vnd.jupyter.widget-view+json": {
       "model_id": "e6e8746dc7f041bdad775f9532e66797",
       "version_major": 2,
       "version_minor": 0
      },
      "text/plain": [
       "Validation: |          | 0/? [00:00<?, ?it/s]"
      ]
     },
     "metadata": {},
     "output_type": "display_data"
    },
    {
     "data": {
      "application/vnd.jupyter.widget-view+json": {
       "model_id": "eb9b74b0aa1f4a869cbd65201de05a58",
       "version_major": 2,
       "version_minor": 0
      },
      "text/plain": [
       "Validation: |          | 0/? [00:00<?, ?it/s]"
      ]
     },
     "metadata": {},
     "output_type": "display_data"
    },
    {
     "data": {
      "application/vnd.jupyter.widget-view+json": {
       "model_id": "37d855db4a524692a8db96746b8ade44",
       "version_major": 2,
       "version_minor": 0
      },
      "text/plain": [
       "Validation: |          | 0/? [00:00<?, ?it/s]"
      ]
     },
     "metadata": {},
     "output_type": "display_data"
    },
    {
     "data": {
      "application/vnd.jupyter.widget-view+json": {
       "model_id": "e8c3472737c448aa84b48fa6d37f218f",
       "version_major": 2,
       "version_minor": 0
      },
      "text/plain": [
       "Validation: |          | 0/? [00:00<?, ?it/s]"
      ]
     },
     "metadata": {},
     "output_type": "display_data"
    },
    {
     "data": {
      "application/vnd.jupyter.widget-view+json": {
       "model_id": "c9535d49987c45baa880ea5fbf41c3a9",
       "version_major": 2,
       "version_minor": 0
      },
      "text/plain": [
       "Validation: |          | 0/? [00:00<?, ?it/s]"
      ]
     },
     "metadata": {},
     "output_type": "display_data"
    },
    {
     "data": {
      "application/vnd.jupyter.widget-view+json": {
       "model_id": "401c394b0b7048d8a3322c012ce6402f",
       "version_major": 2,
       "version_minor": 0
      },
      "text/plain": [
       "Validation: |          | 0/? [00:00<?, ?it/s]"
      ]
     },
     "metadata": {},
     "output_type": "display_data"
    },
    {
     "data": {
      "application/vnd.jupyter.widget-view+json": {
       "model_id": "b40c89da406a4c4c9249de9c0de0f928",
       "version_major": 2,
       "version_minor": 0
      },
      "text/plain": [
       "Validation: |          | 0/? [00:00<?, ?it/s]"
      ]
     },
     "metadata": {},
     "output_type": "display_data"
    },
    {
     "data": {
      "application/vnd.jupyter.widget-view+json": {
       "model_id": "a295bbb9d13a45d7a266716d0cc4d81b",
       "version_major": 2,
       "version_minor": 0
      },
      "text/plain": [
       "Validation: |          | 0/? [00:00<?, ?it/s]"
      ]
     },
     "metadata": {},
     "output_type": "display_data"
    },
    {
     "data": {
      "application/vnd.jupyter.widget-view+json": {
       "model_id": "9e6e53ef230e4525aa5b87611bca6c18",
       "version_major": 2,
       "version_minor": 0
      },
      "text/plain": [
       "Validation: |          | 0/? [00:00<?, ?it/s]"
      ]
     },
     "metadata": {},
     "output_type": "display_data"
    },
    {
     "data": {
      "application/vnd.jupyter.widget-view+json": {
       "model_id": "0b31e9309e794637a8dc853311fd0826",
       "version_major": 2,
       "version_minor": 0
      },
      "text/plain": [
       "Validation: |          | 0/? [00:00<?, ?it/s]"
      ]
     },
     "metadata": {},
     "output_type": "display_data"
    },
    {
     "data": {
      "application/vnd.jupyter.widget-view+json": {
       "model_id": "77aea8604f7c4b038779a4173d0578be",
       "version_major": 2,
       "version_minor": 0
      },
      "text/plain": [
       "Validation: |          | 0/? [00:00<?, ?it/s]"
      ]
     },
     "metadata": {},
     "output_type": "display_data"
    },
    {
     "data": {
      "application/vnd.jupyter.widget-view+json": {
       "model_id": "1266830b0a2947eab4248ef0a623de1a",
       "version_major": 2,
       "version_minor": 0
      },
      "text/plain": [
       "Validation: |          | 0/? [00:00<?, ?it/s]"
      ]
     },
     "metadata": {},
     "output_type": "display_data"
    },
    {
     "data": {
      "application/vnd.jupyter.widget-view+json": {
       "model_id": "e02ac2e25d0a400881cf77626548fa19",
       "version_major": 2,
       "version_minor": 0
      },
      "text/plain": [
       "Validation: |          | 0/? [00:00<?, ?it/s]"
      ]
     },
     "metadata": {},
     "output_type": "display_data"
    },
    {
     "data": {
      "application/vnd.jupyter.widget-view+json": {
       "model_id": "3837c5c8c9d64be09000f6cfdd8bee37",
       "version_major": 2,
       "version_minor": 0
      },
      "text/plain": [
       "Validation: |          | 0/? [00:00<?, ?it/s]"
      ]
     },
     "metadata": {},
     "output_type": "display_data"
    },
    {
     "data": {
      "application/vnd.jupyter.widget-view+json": {
       "model_id": "f0f28b9fba144334ac787b1fc75354df",
       "version_major": 2,
       "version_minor": 0
      },
      "text/plain": [
       "Validation: |          | 0/? [00:00<?, ?it/s]"
      ]
     },
     "metadata": {},
     "output_type": "display_data"
    },
    {
     "data": {
      "application/vnd.jupyter.widget-view+json": {
       "model_id": "d9893c9d11a1492eab6fe40368dd9b38",
       "version_major": 2,
       "version_minor": 0
      },
      "text/plain": [
       "Validation: |          | 0/? [00:00<?, ?it/s]"
      ]
     },
     "metadata": {},
     "output_type": "display_data"
    },
    {
     "data": {
      "application/vnd.jupyter.widget-view+json": {
       "model_id": "6aaa715988c74230b76a9b879a322f2d",
       "version_major": 2,
       "version_minor": 0
      },
      "text/plain": [
       "Validation: |          | 0/? [00:00<?, ?it/s]"
      ]
     },
     "metadata": {},
     "output_type": "display_data"
    },
    {
     "data": {
      "application/vnd.jupyter.widget-view+json": {
       "model_id": "ba4692dd279047d29d7a8e01719263b1",
       "version_major": 2,
       "version_minor": 0
      },
      "text/plain": [
       "Validation: |          | 0/? [00:00<?, ?it/s]"
      ]
     },
     "metadata": {},
     "output_type": "display_data"
    },
    {
     "data": {
      "application/vnd.jupyter.widget-view+json": {
       "model_id": "2096fa5fdef74255931c3ff53d0cf3bb",
       "version_major": 2,
       "version_minor": 0
      },
      "text/plain": [
       "Validation: |          | 0/? [00:00<?, ?it/s]"
      ]
     },
     "metadata": {},
     "output_type": "display_data"
    },
    {
     "data": {
      "application/vnd.jupyter.widget-view+json": {
       "model_id": "e43f6832adf44aadb659a35c3ba13aa9",
       "version_major": 2,
       "version_minor": 0
      },
      "text/plain": [
       "Validation: |          | 0/? [00:00<?, ?it/s]"
      ]
     },
     "metadata": {},
     "output_type": "display_data"
    },
    {
     "data": {
      "application/vnd.jupyter.widget-view+json": {
       "model_id": "8406ef13c34e404f898610821392ccee",
       "version_major": 2,
       "version_minor": 0
      },
      "text/plain": [
       "Validation: |          | 0/? [00:00<?, ?it/s]"
      ]
     },
     "metadata": {},
     "output_type": "display_data"
    },
    {
     "data": {
      "application/vnd.jupyter.widget-view+json": {
       "model_id": "7abd99ba5d764231a128f5bdb75ba68b",
       "version_major": 2,
       "version_minor": 0
      },
      "text/plain": [
       "Validation: |          | 0/? [00:00<?, ?it/s]"
      ]
     },
     "metadata": {},
     "output_type": "display_data"
    },
    {
     "data": {
      "application/vnd.jupyter.widget-view+json": {
       "model_id": "691750a99d594c6cad9ec58d35783c3e",
       "version_major": 2,
       "version_minor": 0
      },
      "text/plain": [
       "Validation: |          | 0/? [00:00<?, ?it/s]"
      ]
     },
     "metadata": {},
     "output_type": "display_data"
    },
    {
     "data": {
      "application/vnd.jupyter.widget-view+json": {
       "model_id": "ffbb59ab32fc43ac8345cd3533e7217e",
       "version_major": 2,
       "version_minor": 0
      },
      "text/plain": [
       "Validation: |          | 0/? [00:00<?, ?it/s]"
      ]
     },
     "metadata": {},
     "output_type": "display_data"
    },
    {
     "data": {
      "application/vnd.jupyter.widget-view+json": {
       "model_id": "65c4b5709d454ff39dbcece48b8e479f",
       "version_major": 2,
       "version_minor": 0
      },
      "text/plain": [
       "Validation: |          | 0/? [00:00<?, ?it/s]"
      ]
     },
     "metadata": {},
     "output_type": "display_data"
    },
    {
     "data": {
      "application/vnd.jupyter.widget-view+json": {
       "model_id": "f0962ea9e4b944528f649ee41edb713b",
       "version_major": 2,
       "version_minor": 0
      },
      "text/plain": [
       "Validation: |          | 0/? [00:00<?, ?it/s]"
      ]
     },
     "metadata": {},
     "output_type": "display_data"
    },
    {
     "data": {
      "application/vnd.jupyter.widget-view+json": {
       "model_id": "2f679c56ae6642b59a9e0926c33ed77b",
       "version_major": 2,
       "version_minor": 0
      },
      "text/plain": [
       "Validation: |          | 0/? [00:00<?, ?it/s]"
      ]
     },
     "metadata": {},
     "output_type": "display_data"
    },
    {
     "data": {
      "application/vnd.jupyter.widget-view+json": {
       "model_id": "3b9b5709dc7f43bf9ce2adadad86e729",
       "version_major": 2,
       "version_minor": 0
      },
      "text/plain": [
       "Validation: |          | 0/? [00:00<?, ?it/s]"
      ]
     },
     "metadata": {},
     "output_type": "display_data"
    },
    {
     "data": {
      "application/vnd.jupyter.widget-view+json": {
       "model_id": "d9b9024dbe4c4cfebe30eb73a191dedc",
       "version_major": 2,
       "version_minor": 0
      },
      "text/plain": [
       "Validation: |          | 0/? [00:00<?, ?it/s]"
      ]
     },
     "metadata": {},
     "output_type": "display_data"
    },
    {
     "data": {
      "application/vnd.jupyter.widget-view+json": {
       "model_id": "369ae698987642c09eb9839fcd725bdc",
       "version_major": 2,
       "version_minor": 0
      },
      "text/plain": [
       "Validation: |          | 0/? [00:00<?, ?it/s]"
      ]
     },
     "metadata": {},
     "output_type": "display_data"
    },
    {
     "data": {
      "application/vnd.jupyter.widget-view+json": {
       "model_id": "921626a0c33c4d35b06e295d0cc07895",
       "version_major": 2,
       "version_minor": 0
      },
      "text/plain": [
       "Validation: |          | 0/? [00:00<?, ?it/s]"
      ]
     },
     "metadata": {},
     "output_type": "display_data"
    },
    {
     "data": {
      "application/vnd.jupyter.widget-view+json": {
       "model_id": "4a43771339c54366a2d1ff108c2f7c13",
       "version_major": 2,
       "version_minor": 0
      },
      "text/plain": [
       "Validation: |          | 0/? [00:00<?, ?it/s]"
      ]
     },
     "metadata": {},
     "output_type": "display_data"
    },
    {
     "data": {
      "application/vnd.jupyter.widget-view+json": {
       "model_id": "7bd60f0952664a5da98b0a13ea3cfe71",
       "version_major": 2,
       "version_minor": 0
      },
      "text/plain": [
       "Validation: |          | 0/? [00:00<?, ?it/s]"
      ]
     },
     "metadata": {},
     "output_type": "display_data"
    },
    {
     "data": {
      "application/vnd.jupyter.widget-view+json": {
       "model_id": "55f9e0c986dc484c8cc08f81d11be915",
       "version_major": 2,
       "version_minor": 0
      },
      "text/plain": [
       "Validation: |          | 0/? [00:00<?, ?it/s]"
      ]
     },
     "metadata": {},
     "output_type": "display_data"
    },
    {
     "data": {
      "application/vnd.jupyter.widget-view+json": {
       "model_id": "3b3649cde87f446b92c67f073a1b3b65",
       "version_major": 2,
       "version_minor": 0
      },
      "text/plain": [
       "Validation: |          | 0/? [00:00<?, ?it/s]"
      ]
     },
     "metadata": {},
     "output_type": "display_data"
    },
    {
     "data": {
      "application/vnd.jupyter.widget-view+json": {
       "model_id": "fe2a41d2343c4a94aebbcc49a2c7de4e",
       "version_major": 2,
       "version_minor": 0
      },
      "text/plain": [
       "Validation: |          | 0/? [00:00<?, ?it/s]"
      ]
     },
     "metadata": {},
     "output_type": "display_data"
    },
    {
     "data": {
      "application/vnd.jupyter.widget-view+json": {
       "model_id": "3782800979ad464fbc7647660cf8830a",
       "version_major": 2,
       "version_minor": 0
      },
      "text/plain": [
       "Validation: |          | 0/? [00:00<?, ?it/s]"
      ]
     },
     "metadata": {},
     "output_type": "display_data"
    },
    {
     "data": {
      "application/vnd.jupyter.widget-view+json": {
       "model_id": "89b6214a1e6e487a82db5198a78749b7",
       "version_major": 2,
       "version_minor": 0
      },
      "text/plain": [
       "Validation: |          | 0/? [00:00<?, ?it/s]"
      ]
     },
     "metadata": {},
     "output_type": "display_data"
    },
    {
     "data": {
      "application/vnd.jupyter.widget-view+json": {
       "model_id": "ff41ea88809f45b1a621ccbb6526c680",
       "version_major": 2,
       "version_minor": 0
      },
      "text/plain": [
       "Validation: |          | 0/? [00:00<?, ?it/s]"
      ]
     },
     "metadata": {},
     "output_type": "display_data"
    },
    {
     "data": {
      "application/vnd.jupyter.widget-view+json": {
       "model_id": "5a68a31df937412a8f96fada0d3c1578",
       "version_major": 2,
       "version_minor": 0
      },
      "text/plain": [
       "Validation: |          | 0/? [00:00<?, ?it/s]"
      ]
     },
     "metadata": {},
     "output_type": "display_data"
    },
    {
     "data": {
      "application/vnd.jupyter.widget-view+json": {
       "model_id": "72c840e6bbc54ef19d95d417545b9dd4",
       "version_major": 2,
       "version_minor": 0
      },
      "text/plain": [
       "Validation: |          | 0/? [00:00<?, ?it/s]"
      ]
     },
     "metadata": {},
     "output_type": "display_data"
    },
    {
     "data": {
      "application/vnd.jupyter.widget-view+json": {
       "model_id": "fe117c6c5e854c0faeff0b2180533f50",
       "version_major": 2,
       "version_minor": 0
      },
      "text/plain": [
       "Validation: |          | 0/? [00:00<?, ?it/s]"
      ]
     },
     "metadata": {},
     "output_type": "display_data"
    },
    {
     "data": {
      "application/vnd.jupyter.widget-view+json": {
       "model_id": "bda4a6fce00a416a9dbb1971fce3835f",
       "version_major": 2,
       "version_minor": 0
      },
      "text/plain": [
       "Validation: |          | 0/? [00:00<?, ?it/s]"
      ]
     },
     "metadata": {},
     "output_type": "display_data"
    },
    {
     "data": {
      "application/vnd.jupyter.widget-view+json": {
       "model_id": "9e10b358b4f94d0093b4dfdb0e52b206",
       "version_major": 2,
       "version_minor": 0
      },
      "text/plain": [
       "Validation: |          | 0/? [00:00<?, ?it/s]"
      ]
     },
     "metadata": {},
     "output_type": "display_data"
    },
    {
     "data": {
      "application/vnd.jupyter.widget-view+json": {
       "model_id": "0a9c4cd5fa4d42938a1cc1d027bb800a",
       "version_major": 2,
       "version_minor": 0
      },
      "text/plain": [
       "Validation: |          | 0/? [00:00<?, ?it/s]"
      ]
     },
     "metadata": {},
     "output_type": "display_data"
    },
    {
     "data": {
      "application/vnd.jupyter.widget-view+json": {
       "model_id": "69e308fa86ab4419a89f65cdf7a22516",
       "version_major": 2,
       "version_minor": 0
      },
      "text/plain": [
       "Validation: |          | 0/? [00:00<?, ?it/s]"
      ]
     },
     "metadata": {},
     "output_type": "display_data"
    },
    {
     "data": {
      "application/vnd.jupyter.widget-view+json": {
       "model_id": "b61f084c2d6d4f75a9583f4a1bdc6408",
       "version_major": 2,
       "version_minor": 0
      },
      "text/plain": [
       "Validation: |          | 0/? [00:00<?, ?it/s]"
      ]
     },
     "metadata": {},
     "output_type": "display_data"
    },
    {
     "data": {
      "application/vnd.jupyter.widget-view+json": {
       "model_id": "f0c1a64058cf4fce9acdee4ab47a5d8c",
       "version_major": 2,
       "version_minor": 0
      },
      "text/plain": [
       "Validation: |          | 0/? [00:00<?, ?it/s]"
      ]
     },
     "metadata": {},
     "output_type": "display_data"
    },
    {
     "data": {
      "application/vnd.jupyter.widget-view+json": {
       "model_id": "b9317f7375db42e784979dacef5cb306",
       "version_major": 2,
       "version_minor": 0
      },
      "text/plain": [
       "Validation: |          | 0/? [00:00<?, ?it/s]"
      ]
     },
     "metadata": {},
     "output_type": "display_data"
    },
    {
     "data": {
      "application/vnd.jupyter.widget-view+json": {
       "model_id": "d15e9be7ae0d46e5bbb29f9dee7d79cf",
       "version_major": 2,
       "version_minor": 0
      },
      "text/plain": [
       "Validation: |          | 0/? [00:00<?, ?it/s]"
      ]
     },
     "metadata": {},
     "output_type": "display_data"
    },
    {
     "data": {
      "application/vnd.jupyter.widget-view+json": {
       "model_id": "f4578826875f4d069118cd9704a21dc0",
       "version_major": 2,
       "version_minor": 0
      },
      "text/plain": [
       "Validation: |          | 0/? [00:00<?, ?it/s]"
      ]
     },
     "metadata": {},
     "output_type": "display_data"
    },
    {
     "data": {
      "application/vnd.jupyter.widget-view+json": {
       "model_id": "fd66ac2fdb6349878ea3e6ab027f4442",
       "version_major": 2,
       "version_minor": 0
      },
      "text/plain": [
       "Validation: |          | 0/? [00:00<?, ?it/s]"
      ]
     },
     "metadata": {},
     "output_type": "display_data"
    },
    {
     "data": {
      "application/vnd.jupyter.widget-view+json": {
       "model_id": "53c71d5374394dbaa30b6dd797fc3e2e",
       "version_major": 2,
       "version_minor": 0
      },
      "text/plain": [
       "Validation: |          | 0/? [00:00<?, ?it/s]"
      ]
     },
     "metadata": {},
     "output_type": "display_data"
    },
    {
     "data": {
      "application/vnd.jupyter.widget-view+json": {
       "model_id": "4c884fb676e6413589f9d0cbe8c6a9ac",
       "version_major": 2,
       "version_minor": 0
      },
      "text/plain": [
       "Validation: |          | 0/? [00:00<?, ?it/s]"
      ]
     },
     "metadata": {},
     "output_type": "display_data"
    },
    {
     "data": {
      "application/vnd.jupyter.widget-view+json": {
       "model_id": "8a53cc8ef31c49a3ba6a7d09327d7a76",
       "version_major": 2,
       "version_minor": 0
      },
      "text/plain": [
       "Validation: |          | 0/? [00:00<?, ?it/s]"
      ]
     },
     "metadata": {},
     "output_type": "display_data"
    },
    {
     "data": {
      "application/vnd.jupyter.widget-view+json": {
       "model_id": "325e4f2465b74845a51deecefe18a0e7",
       "version_major": 2,
       "version_minor": 0
      },
      "text/plain": [
       "Validation: |          | 0/? [00:00<?, ?it/s]"
      ]
     },
     "metadata": {},
     "output_type": "display_data"
    },
    {
     "data": {
      "application/vnd.jupyter.widget-view+json": {
       "model_id": "9d04f9a3ec19470c8045c95ae91de0f3",
       "version_major": 2,
       "version_minor": 0
      },
      "text/plain": [
       "Validation: |          | 0/? [00:00<?, ?it/s]"
      ]
     },
     "metadata": {},
     "output_type": "display_data"
    },
    {
     "data": {
      "application/vnd.jupyter.widget-view+json": {
       "model_id": "f4098fd9b0294177907c6e7fc57ef965",
       "version_major": 2,
       "version_minor": 0
      },
      "text/plain": [
       "Validation: |          | 0/? [00:00<?, ?it/s]"
      ]
     },
     "metadata": {},
     "output_type": "display_data"
    },
    {
     "data": {
      "application/vnd.jupyter.widget-view+json": {
       "model_id": "a6f1717d25ea48828ff4be300da15442",
       "version_major": 2,
       "version_minor": 0
      },
      "text/plain": [
       "Validation: |          | 0/? [00:00<?, ?it/s]"
      ]
     },
     "metadata": {},
     "output_type": "display_data"
    },
    {
     "data": {
      "application/vnd.jupyter.widget-view+json": {
       "model_id": "a859d86c9ead4820900610fa8b67107a",
       "version_major": 2,
       "version_minor": 0
      },
      "text/plain": [
       "Validation: |          | 0/? [00:00<?, ?it/s]"
      ]
     },
     "metadata": {},
     "output_type": "display_data"
    },
    {
     "data": {
      "application/vnd.jupyter.widget-view+json": {
       "model_id": "4f04be5879c1488694984e8518cb6b6f",
       "version_major": 2,
       "version_minor": 0
      },
      "text/plain": [
       "Validation: |          | 0/? [00:00<?, ?it/s]"
      ]
     },
     "metadata": {},
     "output_type": "display_data"
    },
    {
     "data": {
      "application/vnd.jupyter.widget-view+json": {
       "model_id": "0933c99729c74ea89d6fb7b3d20d2333",
       "version_major": 2,
       "version_minor": 0
      },
      "text/plain": [
       "Validation: |          | 0/? [00:00<?, ?it/s]"
      ]
     },
     "metadata": {},
     "output_type": "display_data"
    },
    {
     "data": {
      "application/vnd.jupyter.widget-view+json": {
       "model_id": "08564792b27045f2ae237db04eeeea02",
       "version_major": 2,
       "version_minor": 0
      },
      "text/plain": [
       "Validation: |          | 0/? [00:00<?, ?it/s]"
      ]
     },
     "metadata": {},
     "output_type": "display_data"
    },
    {
     "data": {
      "application/vnd.jupyter.widget-view+json": {
       "model_id": "717441fd41e14e75bfebeda070b0eccd",
       "version_major": 2,
       "version_minor": 0
      },
      "text/plain": [
       "Validation: |          | 0/? [00:00<?, ?it/s]"
      ]
     },
     "metadata": {},
     "output_type": "display_data"
    },
    {
     "data": {
      "application/vnd.jupyter.widget-view+json": {
       "model_id": "a567af37abcc40faa348cdaee400aa98",
       "version_major": 2,
       "version_minor": 0
      },
      "text/plain": [
       "Validation: |          | 0/? [00:00<?, ?it/s]"
      ]
     },
     "metadata": {},
     "output_type": "display_data"
    },
    {
     "data": {
      "application/vnd.jupyter.widget-view+json": {
       "model_id": "16640b4ef18c4c0b87720f84908c7adc",
       "version_major": 2,
       "version_minor": 0
      },
      "text/plain": [
       "Validation: |          | 0/? [00:00<?, ?it/s]"
      ]
     },
     "metadata": {},
     "output_type": "display_data"
    },
    {
     "data": {
      "application/vnd.jupyter.widget-view+json": {
       "model_id": "dfdd9964414c4c758e7f33781db1468c",
       "version_major": 2,
       "version_minor": 0
      },
      "text/plain": [
       "Validation: |          | 0/? [00:00<?, ?it/s]"
      ]
     },
     "metadata": {},
     "output_type": "display_data"
    },
    {
     "data": {
      "application/vnd.jupyter.widget-view+json": {
       "model_id": "0b04173443e04a08af1fd8a552027b93",
       "version_major": 2,
       "version_minor": 0
      },
      "text/plain": [
       "Validation: |          | 0/? [00:00<?, ?it/s]"
      ]
     },
     "metadata": {},
     "output_type": "display_data"
    },
    {
     "data": {
      "application/vnd.jupyter.widget-view+json": {
       "model_id": "214ffea2bd1549a0952e7b58ba4ec85e",
       "version_major": 2,
       "version_minor": 0
      },
      "text/plain": [
       "Validation: |          | 0/? [00:00<?, ?it/s]"
      ]
     },
     "metadata": {},
     "output_type": "display_data"
    },
    {
     "data": {
      "application/vnd.jupyter.widget-view+json": {
       "model_id": "2be3aa6117e54957a7da1fd0d7d09c7e",
       "version_major": 2,
       "version_minor": 0
      },
      "text/plain": [
       "Validation: |          | 0/? [00:00<?, ?it/s]"
      ]
     },
     "metadata": {},
     "output_type": "display_data"
    },
    {
     "data": {
      "application/vnd.jupyter.widget-view+json": {
       "model_id": "61a2bb3d40fa42aaa96f98b1a6d2b7ac",
       "version_major": 2,
       "version_minor": 0
      },
      "text/plain": [
       "Validation: |          | 0/? [00:00<?, ?it/s]"
      ]
     },
     "metadata": {},
     "output_type": "display_data"
    },
    {
     "data": {
      "application/vnd.jupyter.widget-view+json": {
       "model_id": "749d5487d0c14a968e226ae1c9e853c6",
       "version_major": 2,
       "version_minor": 0
      },
      "text/plain": [
       "Validation: |          | 0/? [00:00<?, ?it/s]"
      ]
     },
     "metadata": {},
     "output_type": "display_data"
    },
    {
     "data": {
      "application/vnd.jupyter.widget-view+json": {
       "model_id": "4eaaad41f2ab4cbeb1e40f1fb5df565a",
       "version_major": 2,
       "version_minor": 0
      },
      "text/plain": [
       "Validation: |          | 0/? [00:00<?, ?it/s]"
      ]
     },
     "metadata": {},
     "output_type": "display_data"
    },
    {
     "data": {
      "application/vnd.jupyter.widget-view+json": {
       "model_id": "ed9b9a88d7e0449e9c36f846cb26cbf1",
       "version_major": 2,
       "version_minor": 0
      },
      "text/plain": [
       "Validation: |          | 0/? [00:00<?, ?it/s]"
      ]
     },
     "metadata": {},
     "output_type": "display_data"
    },
    {
     "data": {
      "application/vnd.jupyter.widget-view+json": {
       "model_id": "0f7f86d187fa4cf48bc3f20c147f8c73",
       "version_major": 2,
       "version_minor": 0
      },
      "text/plain": [
       "Validation: |          | 0/? [00:00<?, ?it/s]"
      ]
     },
     "metadata": {},
     "output_type": "display_data"
    },
    {
     "data": {
      "application/vnd.jupyter.widget-view+json": {
       "model_id": "4ed842f67b6a4847909faf828bc84c5d",
       "version_major": 2,
       "version_minor": 0
      },
      "text/plain": [
       "Validation: |          | 0/? [00:00<?, ?it/s]"
      ]
     },
     "metadata": {},
     "output_type": "display_data"
    },
    {
     "data": {
      "application/vnd.jupyter.widget-view+json": {
       "model_id": "32ef41269f814f328cfa17bcdb3eb31b",
       "version_major": 2,
       "version_minor": 0
      },
      "text/plain": [
       "Validation: |          | 0/? [00:00<?, ?it/s]"
      ]
     },
     "metadata": {},
     "output_type": "display_data"
    },
    {
     "data": {
      "application/vnd.jupyter.widget-view+json": {
       "model_id": "c0baeb48d8974759bf5fde76792f515f",
       "version_major": 2,
       "version_minor": 0
      },
      "text/plain": [
       "Validation: |          | 0/? [00:00<?, ?it/s]"
      ]
     },
     "metadata": {},
     "output_type": "display_data"
    },
    {
     "data": {
      "application/vnd.jupyter.widget-view+json": {
       "model_id": "bef0b456e2c14fee95acb3f3ff798a68",
       "version_major": 2,
       "version_minor": 0
      },
      "text/plain": [
       "Validation: |          | 0/? [00:00<?, ?it/s]"
      ]
     },
     "metadata": {},
     "output_type": "display_data"
    },
    {
     "data": {
      "application/vnd.jupyter.widget-view+json": {
       "model_id": "37d31798f39c428e980d828ce647700d",
       "version_major": 2,
       "version_minor": 0
      },
      "text/plain": [
       "Validation: |          | 0/? [00:00<?, ?it/s]"
      ]
     },
     "metadata": {},
     "output_type": "display_data"
    },
    {
     "data": {
      "application/vnd.jupyter.widget-view+json": {
       "model_id": "65a107314c34405799bcad5e827c0690",
       "version_major": 2,
       "version_minor": 0
      },
      "text/plain": [
       "Validation: |          | 0/? [00:00<?, ?it/s]"
      ]
     },
     "metadata": {},
     "output_type": "display_data"
    },
    {
     "data": {
      "application/vnd.jupyter.widget-view+json": {
       "model_id": "90a16e7eeab24025b3b13620dda25b6f",
       "version_major": 2,
       "version_minor": 0
      },
      "text/plain": [
       "Validation: |          | 0/? [00:00<?, ?it/s]"
      ]
     },
     "metadata": {},
     "output_type": "display_data"
    },
    {
     "data": {
      "application/vnd.jupyter.widget-view+json": {
       "model_id": "acb92fba2fb445deafadbe30860a33ca",
       "version_major": 2,
       "version_minor": 0
      },
      "text/plain": [
       "Validation: |          | 0/? [00:00<?, ?it/s]"
      ]
     },
     "metadata": {},
     "output_type": "display_data"
    },
    {
     "data": {
      "application/vnd.jupyter.widget-view+json": {
       "model_id": "d7acd03b2a93456fb88048b1287f05b2",
       "version_major": 2,
       "version_minor": 0
      },
      "text/plain": [
       "Validation: |          | 0/? [00:00<?, ?it/s]"
      ]
     },
     "metadata": {},
     "output_type": "display_data"
    },
    {
     "data": {
      "application/vnd.jupyter.widget-view+json": {
       "model_id": "93d50ac224c4475994bd9dd226594a57",
       "version_major": 2,
       "version_minor": 0
      },
      "text/plain": [
       "Validation: |          | 0/? [00:00<?, ?it/s]"
      ]
     },
     "metadata": {},
     "output_type": "display_data"
    },
    {
     "data": {
      "application/vnd.jupyter.widget-view+json": {
       "model_id": "6152fb53136541bfb9d68ecf30125083",
       "version_major": 2,
       "version_minor": 0
      },
      "text/plain": [
       "Validation: |          | 0/? [00:00<?, ?it/s]"
      ]
     },
     "metadata": {},
     "output_type": "display_data"
    },
    {
     "data": {
      "application/vnd.jupyter.widget-view+json": {
       "model_id": "6e2210f40f714756b2cd102966c6555e",
       "version_major": 2,
       "version_minor": 0
      },
      "text/plain": [
       "Validation: |          | 0/? [00:00<?, ?it/s]"
      ]
     },
     "metadata": {},
     "output_type": "display_data"
    },
    {
     "data": {
      "application/vnd.jupyter.widget-view+json": {
       "model_id": "c196ec5dcc134fb7b525942121f29500",
       "version_major": 2,
       "version_minor": 0
      },
      "text/plain": [
       "Validation: |          | 0/? [00:00<?, ?it/s]"
      ]
     },
     "metadata": {},
     "output_type": "display_data"
    },
    {
     "data": {
      "application/vnd.jupyter.widget-view+json": {
       "model_id": "33f6fc8b63cd49539dfd807114fd1013",
       "version_major": 2,
       "version_minor": 0
      },
      "text/plain": [
       "Validation: |          | 0/? [00:00<?, ?it/s]"
      ]
     },
     "metadata": {},
     "output_type": "display_data"
    },
    {
     "data": {
      "application/vnd.jupyter.widget-view+json": {
       "model_id": "5aef73c424714a5581998fc6f845a8f3",
       "version_major": 2,
       "version_minor": 0
      },
      "text/plain": [
       "Validation: |          | 0/? [00:00<?, ?it/s]"
      ]
     },
     "metadata": {},
     "output_type": "display_data"
    },
    {
     "data": {
      "application/vnd.jupyter.widget-view+json": {
       "model_id": "20f0f83bb7a648cd93a14ec0a4af9caa",
       "version_major": 2,
       "version_minor": 0
      },
      "text/plain": [
       "Validation: |          | 0/? [00:00<?, ?it/s]"
      ]
     },
     "metadata": {},
     "output_type": "display_data"
    },
    {
     "data": {
      "application/vnd.jupyter.widget-view+json": {
       "model_id": "090f3aa7908346d996f6ac7c959cd4cd",
       "version_major": 2,
       "version_minor": 0
      },
      "text/plain": [
       "Validation: |          | 0/? [00:00<?, ?it/s]"
      ]
     },
     "metadata": {},
     "output_type": "display_data"
    },
    {
     "data": {
      "application/vnd.jupyter.widget-view+json": {
       "model_id": "b86bc02661a14f59b7ee97832cbb542b",
       "version_major": 2,
       "version_minor": 0
      },
      "text/plain": [
       "Validation: |          | 0/? [00:00<?, ?it/s]"
      ]
     },
     "metadata": {},
     "output_type": "display_data"
    },
    {
     "data": {
      "application/vnd.jupyter.widget-view+json": {
       "model_id": "0839d9662a36406396f60db64a91f9d4",
       "version_major": 2,
       "version_minor": 0
      },
      "text/plain": [
       "Validation: |          | 0/? [00:00<?, ?it/s]"
      ]
     },
     "metadata": {},
     "output_type": "display_data"
    },
    {
     "data": {
      "application/vnd.jupyter.widget-view+json": {
       "model_id": "36cef0af236d4fbcbd84afbd1c071008",
       "version_major": 2,
       "version_minor": 0
      },
      "text/plain": [
       "Validation: |          | 0/? [00:00<?, ?it/s]"
      ]
     },
     "metadata": {},
     "output_type": "display_data"
    },
    {
     "data": {
      "application/vnd.jupyter.widget-view+json": {
       "model_id": "e0e317454e064df28f08c1982974ddaf",
       "version_major": 2,
       "version_minor": 0
      },
      "text/plain": [
       "Validation: |          | 0/? [00:00<?, ?it/s]"
      ]
     },
     "metadata": {},
     "output_type": "display_data"
    },
    {
     "data": {
      "application/vnd.jupyter.widget-view+json": {
       "model_id": "ba3bbd9ebbb744adbcf2e2f069a2a2ec",
       "version_major": 2,
       "version_minor": 0
      },
      "text/plain": [
       "Validation: |          | 0/? [00:00<?, ?it/s]"
      ]
     },
     "metadata": {},
     "output_type": "display_data"
    },
    {
     "data": {
      "application/vnd.jupyter.widget-view+json": {
       "model_id": "b041f25e2fe94be2b9bd83cc258b5d91",
       "version_major": 2,
       "version_minor": 0
      },
      "text/plain": [
       "Validation: |          | 0/? [00:00<?, ?it/s]"
      ]
     },
     "metadata": {},
     "output_type": "display_data"
    },
    {
     "data": {
      "application/vnd.jupyter.widget-view+json": {
       "model_id": "1e1d8b7d08a34445b7fe2285750fa662",
       "version_major": 2,
       "version_minor": 0
      },
      "text/plain": [
       "Validation: |          | 0/? [00:00<?, ?it/s]"
      ]
     },
     "metadata": {},
     "output_type": "display_data"
    },
    {
     "data": {
      "application/vnd.jupyter.widget-view+json": {
       "model_id": "a6d91cbf2dcd42d890e0a46d7e2981fd",
       "version_major": 2,
       "version_minor": 0
      },
      "text/plain": [
       "Validation: |          | 0/? [00:00<?, ?it/s]"
      ]
     },
     "metadata": {},
     "output_type": "display_data"
    },
    {
     "data": {
      "application/vnd.jupyter.widget-view+json": {
       "model_id": "f738d441ab4b47318f2e4d1c680ffec3",
       "version_major": 2,
       "version_minor": 0
      },
      "text/plain": [
       "Validation: |          | 0/? [00:00<?, ?it/s]"
      ]
     },
     "metadata": {},
     "output_type": "display_data"
    },
    {
     "data": {
      "application/vnd.jupyter.widget-view+json": {
       "model_id": "a481fb104383464d845fff8cf7f3029c",
       "version_major": 2,
       "version_minor": 0
      },
      "text/plain": [
       "Validation: |          | 0/? [00:00<?, ?it/s]"
      ]
     },
     "metadata": {},
     "output_type": "display_data"
    },
    {
     "data": {
      "application/vnd.jupyter.widget-view+json": {
       "model_id": "858bf7abc8bb4f899820110201ef9530",
       "version_major": 2,
       "version_minor": 0
      },
      "text/plain": [
       "Validation: |          | 0/? [00:00<?, ?it/s]"
      ]
     },
     "metadata": {},
     "output_type": "display_data"
    },
    {
     "data": {
      "application/vnd.jupyter.widget-view+json": {
       "model_id": "bbc266f39a33478988e2dbbe4592dc47",
       "version_major": 2,
       "version_minor": 0
      },
      "text/plain": [
       "Validation: |          | 0/? [00:00<?, ?it/s]"
      ]
     },
     "metadata": {},
     "output_type": "display_data"
    },
    {
     "data": {
      "application/vnd.jupyter.widget-view+json": {
       "model_id": "7e4ccec319864db58344cbb04228b431",
       "version_major": 2,
       "version_minor": 0
      },
      "text/plain": [
       "Validation: |          | 0/? [00:00<?, ?it/s]"
      ]
     },
     "metadata": {},
     "output_type": "display_data"
    },
    {
     "data": {
      "application/vnd.jupyter.widget-view+json": {
       "model_id": "a2a0c77d23d94d5ab15dfe5f54742512",
       "version_major": 2,
       "version_minor": 0
      },
      "text/plain": [
       "Validation: |          | 0/? [00:00<?, ?it/s]"
      ]
     },
     "metadata": {},
     "output_type": "display_data"
    },
    {
     "data": {
      "application/vnd.jupyter.widget-view+json": {
       "model_id": "87e65686270f4af780df395a14643a85",
       "version_major": 2,
       "version_minor": 0
      },
      "text/plain": [
       "Validation: |          | 0/? [00:00<?, ?it/s]"
      ]
     },
     "metadata": {},
     "output_type": "display_data"
    },
    {
     "data": {
      "application/vnd.jupyter.widget-view+json": {
       "model_id": "7c8a82cc091d4f499d027e97fb95ffb5",
       "version_major": 2,
       "version_minor": 0
      },
      "text/plain": [
       "Validation: |          | 0/? [00:00<?, ?it/s]"
      ]
     },
     "metadata": {},
     "output_type": "display_data"
    },
    {
     "data": {
      "application/vnd.jupyter.widget-view+json": {
       "model_id": "cb92215765c148edaf14a34124942e6b",
       "version_major": 2,
       "version_minor": 0
      },
      "text/plain": [
       "Validation: |          | 0/? [00:00<?, ?it/s]"
      ]
     },
     "metadata": {},
     "output_type": "display_data"
    },
    {
     "data": {
      "application/vnd.jupyter.widget-view+json": {
       "model_id": "5122a6a6beca4ec9be9ddcf6e268b661",
       "version_major": 2,
       "version_minor": 0
      },
      "text/plain": [
       "Validation: |          | 0/? [00:00<?, ?it/s]"
      ]
     },
     "metadata": {},
     "output_type": "display_data"
    },
    {
     "data": {
      "application/vnd.jupyter.widget-view+json": {
       "model_id": "99e1087df256449bbf45c4bb4041363a",
       "version_major": 2,
       "version_minor": 0
      },
      "text/plain": [
       "Validation: |          | 0/? [00:00<?, ?it/s]"
      ]
     },
     "metadata": {},
     "output_type": "display_data"
    },
    {
     "data": {
      "application/vnd.jupyter.widget-view+json": {
       "model_id": "ac35dc93e6274e888d9bda2c310ddfdc",
       "version_major": 2,
       "version_minor": 0
      },
      "text/plain": [
       "Validation: |          | 0/? [00:00<?, ?it/s]"
      ]
     },
     "metadata": {},
     "output_type": "display_data"
    },
    {
     "data": {
      "application/vnd.jupyter.widget-view+json": {
       "model_id": "dc3138aa0ae04628a6190b40fdeb1fe0",
       "version_major": 2,
       "version_minor": 0
      },
      "text/plain": [
       "Validation: |          | 0/? [00:00<?, ?it/s]"
      ]
     },
     "metadata": {},
     "output_type": "display_data"
    },
    {
     "data": {
      "application/vnd.jupyter.widget-view+json": {
       "model_id": "24b1f0bc9ad64b42b097e089cf23a222",
       "version_major": 2,
       "version_minor": 0
      },
      "text/plain": [
       "Validation: |          | 0/? [00:00<?, ?it/s]"
      ]
     },
     "metadata": {},
     "output_type": "display_data"
    },
    {
     "data": {
      "application/vnd.jupyter.widget-view+json": {
       "model_id": "0c0df7dd36054e9c9f3db1d9ffc8b584",
       "version_major": 2,
       "version_minor": 0
      },
      "text/plain": [
       "Validation: |          | 0/? [00:00<?, ?it/s]"
      ]
     },
     "metadata": {},
     "output_type": "display_data"
    },
    {
     "data": {
      "application/vnd.jupyter.widget-view+json": {
       "model_id": "c142f067a4864d0f9fb063950055dcae",
       "version_major": 2,
       "version_minor": 0
      },
      "text/plain": [
       "Validation: |          | 0/? [00:00<?, ?it/s]"
      ]
     },
     "metadata": {},
     "output_type": "display_data"
    },
    {
     "data": {
      "application/vnd.jupyter.widget-view+json": {
       "model_id": "ee419d6e420d4e678a874c2a0782ec57",
       "version_major": 2,
       "version_minor": 0
      },
      "text/plain": [
       "Validation: |          | 0/? [00:00<?, ?it/s]"
      ]
     },
     "metadata": {},
     "output_type": "display_data"
    },
    {
     "data": {
      "application/vnd.jupyter.widget-view+json": {
       "model_id": "63c2dab1fff24dacab056047149b40e7",
       "version_major": 2,
       "version_minor": 0
      },
      "text/plain": [
       "Validation: |          | 0/? [00:00<?, ?it/s]"
      ]
     },
     "metadata": {},
     "output_type": "display_data"
    },
    {
     "data": {
      "application/vnd.jupyter.widget-view+json": {
       "model_id": "1a2d8a849f6e4a748031215b4f71fdaf",
       "version_major": 2,
       "version_minor": 0
      },
      "text/plain": [
       "Validation: |          | 0/? [00:00<?, ?it/s]"
      ]
     },
     "metadata": {},
     "output_type": "display_data"
    },
    {
     "data": {
      "application/vnd.jupyter.widget-view+json": {
       "model_id": "890104792cd04bc7af87eca18d14d8ec",
       "version_major": 2,
       "version_minor": 0
      },
      "text/plain": [
       "Validation: |          | 0/? [00:00<?, ?it/s]"
      ]
     },
     "metadata": {},
     "output_type": "display_data"
    },
    {
     "data": {
      "application/vnd.jupyter.widget-view+json": {
       "model_id": "754577ca28c94ade98411d7a555cddf0",
       "version_major": 2,
       "version_minor": 0
      },
      "text/plain": [
       "Validation: |          | 0/? [00:00<?, ?it/s]"
      ]
     },
     "metadata": {},
     "output_type": "display_data"
    },
    {
     "data": {
      "application/vnd.jupyter.widget-view+json": {
       "model_id": "0c42ccd9c1e24938a5ea75d9d6b7e48a",
       "version_major": 2,
       "version_minor": 0
      },
      "text/plain": [
       "Validation: |          | 0/? [00:00<?, ?it/s]"
      ]
     },
     "metadata": {},
     "output_type": "display_data"
    },
    {
     "data": {
      "application/vnd.jupyter.widget-view+json": {
       "model_id": "ef6db14e1e0341c2a49d0d6389e97444",
       "version_major": 2,
       "version_minor": 0
      },
      "text/plain": [
       "Validation: |          | 0/? [00:00<?, ?it/s]"
      ]
     },
     "metadata": {},
     "output_type": "display_data"
    },
    {
     "data": {
      "application/vnd.jupyter.widget-view+json": {
       "model_id": "5ec98d5ec9944bf39dd035c78a9ae49f",
       "version_major": 2,
       "version_minor": 0
      },
      "text/plain": [
       "Validation: |          | 0/? [00:00<?, ?it/s]"
      ]
     },
     "metadata": {},
     "output_type": "display_data"
    },
    {
     "data": {
      "application/vnd.jupyter.widget-view+json": {
       "model_id": "7586bdc5245f4f6c94179c3ec93515e7",
       "version_major": 2,
       "version_minor": 0
      },
      "text/plain": [
       "Validation: |          | 0/? [00:00<?, ?it/s]"
      ]
     },
     "metadata": {},
     "output_type": "display_data"
    },
    {
     "data": {
      "application/vnd.jupyter.widget-view+json": {
       "model_id": "79dacc7948a14c39915f19557905c82d",
       "version_major": 2,
       "version_minor": 0
      },
      "text/plain": [
       "Validation: |          | 0/? [00:00<?, ?it/s]"
      ]
     },
     "metadata": {},
     "output_type": "display_data"
    },
    {
     "data": {
      "application/vnd.jupyter.widget-view+json": {
       "model_id": "db7c743f42f54e2e96dae351215f6e60",
       "version_major": 2,
       "version_minor": 0
      },
      "text/plain": [
       "Validation: |          | 0/? [00:00<?, ?it/s]"
      ]
     },
     "metadata": {},
     "output_type": "display_data"
    },
    {
     "data": {
      "application/vnd.jupyter.widget-view+json": {
       "model_id": "306181bbac314a3dae457be2d05c7981",
       "version_major": 2,
       "version_minor": 0
      },
      "text/plain": [
       "Validation: |          | 0/? [00:00<?, ?it/s]"
      ]
     },
     "metadata": {},
     "output_type": "display_data"
    },
    {
     "data": {
      "application/vnd.jupyter.widget-view+json": {
       "model_id": "ca4a0dfdb81d485a96d8b80044eef43b",
       "version_major": 2,
       "version_minor": 0
      },
      "text/plain": [
       "Validation: |          | 0/? [00:00<?, ?it/s]"
      ]
     },
     "metadata": {},
     "output_type": "display_data"
    },
    {
     "data": {
      "application/vnd.jupyter.widget-view+json": {
       "model_id": "ad609122aefc4325a870017c32b3b46e",
       "version_major": 2,
       "version_minor": 0
      },
      "text/plain": [
       "Validation: |          | 0/? [00:00<?, ?it/s]"
      ]
     },
     "metadata": {},
     "output_type": "display_data"
    },
    {
     "data": {
      "application/vnd.jupyter.widget-view+json": {
       "model_id": "93f55e9a569e45748170c7473719000e",
       "version_major": 2,
       "version_minor": 0
      },
      "text/plain": [
       "Validation: |          | 0/? [00:00<?, ?it/s]"
      ]
     },
     "metadata": {},
     "output_type": "display_data"
    },
    {
     "data": {
      "application/vnd.jupyter.widget-view+json": {
       "model_id": "6f4c314d1b5a4e009fe71171f5787f09",
       "version_major": 2,
       "version_minor": 0
      },
      "text/plain": [
       "Validation: |          | 0/? [00:00<?, ?it/s]"
      ]
     },
     "metadata": {},
     "output_type": "display_data"
    },
    {
     "data": {
      "application/vnd.jupyter.widget-view+json": {
       "model_id": "d3a0c81e08fa44ebb142fe922d1ce57d",
       "version_major": 2,
       "version_minor": 0
      },
      "text/plain": [
       "Validation: |          | 0/? [00:00<?, ?it/s]"
      ]
     },
     "metadata": {},
     "output_type": "display_data"
    },
    {
     "data": {
      "application/vnd.jupyter.widget-view+json": {
       "model_id": "22c3900abb3e40f48fd4855c7493d873",
       "version_major": 2,
       "version_minor": 0
      },
      "text/plain": [
       "Validation: |          | 0/? [00:00<?, ?it/s]"
      ]
     },
     "metadata": {},
     "output_type": "display_data"
    },
    {
     "data": {
      "application/vnd.jupyter.widget-view+json": {
       "model_id": "90ce9cde7c9d4b58aca78b666066157a",
       "version_major": 2,
       "version_minor": 0
      },
      "text/plain": [
       "Validation: |          | 0/? [00:00<?, ?it/s]"
      ]
     },
     "metadata": {},
     "output_type": "display_data"
    },
    {
     "data": {
      "application/vnd.jupyter.widget-view+json": {
       "model_id": "91e16f7257ed4b6ab88cee0c1f9b3984",
       "version_major": 2,
       "version_minor": 0
      },
      "text/plain": [
       "Validation: |          | 0/? [00:00<?, ?it/s]"
      ]
     },
     "metadata": {},
     "output_type": "display_data"
    },
    {
     "data": {
      "application/vnd.jupyter.widget-view+json": {
       "model_id": "e7fc411a15444ad49a40b3b26032e909",
       "version_major": 2,
       "version_minor": 0
      },
      "text/plain": [
       "Validation: |          | 0/? [00:00<?, ?it/s]"
      ]
     },
     "metadata": {},
     "output_type": "display_data"
    },
    {
     "data": {
      "application/vnd.jupyter.widget-view+json": {
       "model_id": "1ce38c58f8624e909abcb00b9b650a48",
       "version_major": 2,
       "version_minor": 0
      },
      "text/plain": [
       "Validation: |          | 0/? [00:00<?, ?it/s]"
      ]
     },
     "metadata": {},
     "output_type": "display_data"
    },
    {
     "data": {
      "application/vnd.jupyter.widget-view+json": {
       "model_id": "de25ce16eefa4293a86195bd23c7e8cf",
       "version_major": 2,
       "version_minor": 0
      },
      "text/plain": [
       "Validation: |          | 0/? [00:00<?, ?it/s]"
      ]
     },
     "metadata": {},
     "output_type": "display_data"
    },
    {
     "data": {
      "application/vnd.jupyter.widget-view+json": {
       "model_id": "cd66ac7e331a4e6bb2b35aaacc06d31a",
       "version_major": 2,
       "version_minor": 0
      },
      "text/plain": [
       "Validation: |          | 0/? [00:00<?, ?it/s]"
      ]
     },
     "metadata": {},
     "output_type": "display_data"
    },
    {
     "data": {
      "application/vnd.jupyter.widget-view+json": {
       "model_id": "4df40068e4b84d858f38041fca0e3ffc",
       "version_major": 2,
       "version_minor": 0
      },
      "text/plain": [
       "Validation: |          | 0/? [00:00<?, ?it/s]"
      ]
     },
     "metadata": {},
     "output_type": "display_data"
    },
    {
     "data": {
      "application/vnd.jupyter.widget-view+json": {
       "model_id": "6e5d7c00ef7042d6b5d41752e5831ec5",
       "version_major": 2,
       "version_minor": 0
      },
      "text/plain": [
       "Validation: |          | 0/? [00:00<?, ?it/s]"
      ]
     },
     "metadata": {},
     "output_type": "display_data"
    },
    {
     "data": {
      "application/vnd.jupyter.widget-view+json": {
       "model_id": "6d3c8c6d55d84b68b06bd3bd039391a4",
       "version_major": 2,
       "version_minor": 0
      },
      "text/plain": [
       "Validation: |          | 0/? [00:00<?, ?it/s]"
      ]
     },
     "metadata": {},
     "output_type": "display_data"
    },
    {
     "data": {
      "application/vnd.jupyter.widget-view+json": {
       "model_id": "635220f24fc6411b8df10a9ccde4ef98",
       "version_major": 2,
       "version_minor": 0
      },
      "text/plain": [
       "Validation: |          | 0/? [00:00<?, ?it/s]"
      ]
     },
     "metadata": {},
     "output_type": "display_data"
    },
    {
     "data": {
      "application/vnd.jupyter.widget-view+json": {
       "model_id": "3515db01c7144051ababcc1bfa910c51",
       "version_major": 2,
       "version_minor": 0
      },
      "text/plain": [
       "Validation: |          | 0/? [00:00<?, ?it/s]"
      ]
     },
     "metadata": {},
     "output_type": "display_data"
    },
    {
     "data": {
      "application/vnd.jupyter.widget-view+json": {
       "model_id": "e8b6efaea2a54c46989386fb264f9276",
       "version_major": 2,
       "version_minor": 0
      },
      "text/plain": [
       "Validation: |          | 0/? [00:00<?, ?it/s]"
      ]
     },
     "metadata": {},
     "output_type": "display_data"
    },
    {
     "data": {
      "application/vnd.jupyter.widget-view+json": {
       "model_id": "3102c2f5c5eb4b84ac0c43c09cdb328d",
       "version_major": 2,
       "version_minor": 0
      },
      "text/plain": [
       "Validation: |          | 0/? [00:00<?, ?it/s]"
      ]
     },
     "metadata": {},
     "output_type": "display_data"
    },
    {
     "data": {
      "application/vnd.jupyter.widget-view+json": {
       "model_id": "20685fb88dfe41ce9d18f0aabe0b3063",
       "version_major": 2,
       "version_minor": 0
      },
      "text/plain": [
       "Validation: |          | 0/? [00:00<?, ?it/s]"
      ]
     },
     "metadata": {},
     "output_type": "display_data"
    },
    {
     "data": {
      "application/vnd.jupyter.widget-view+json": {
       "model_id": "ba899df8e0af4a05bc941fab0339dd1f",
       "version_major": 2,
       "version_minor": 0
      },
      "text/plain": [
       "Validation: |          | 0/? [00:00<?, ?it/s]"
      ]
     },
     "metadata": {},
     "output_type": "display_data"
    },
    {
     "data": {
      "application/vnd.jupyter.widget-view+json": {
       "model_id": "746b8f41c40f43a2bdaede76140112cb",
       "version_major": 2,
       "version_minor": 0
      },
      "text/plain": [
       "Validation: |          | 0/? [00:00<?, ?it/s]"
      ]
     },
     "metadata": {},
     "output_type": "display_data"
    },
    {
     "data": {
      "application/vnd.jupyter.widget-view+json": {
       "model_id": "c647209e70f74085a070a08da0774914",
       "version_major": 2,
       "version_minor": 0
      },
      "text/plain": [
       "Validation: |          | 0/? [00:00<?, ?it/s]"
      ]
     },
     "metadata": {},
     "output_type": "display_data"
    },
    {
     "data": {
      "application/vnd.jupyter.widget-view+json": {
       "model_id": "c7b56e453dbf4138979c5fffcc015d3a",
       "version_major": 2,
       "version_minor": 0
      },
      "text/plain": [
       "Validation: |          | 0/? [00:00<?, ?it/s]"
      ]
     },
     "metadata": {},
     "output_type": "display_data"
    },
    {
     "data": {
      "application/vnd.jupyter.widget-view+json": {
       "model_id": "6e4d0e9cdad345bfbd9081f90bf144d8",
       "version_major": 2,
       "version_minor": 0
      },
      "text/plain": [
       "Validation: |          | 0/? [00:00<?, ?it/s]"
      ]
     },
     "metadata": {},
     "output_type": "display_data"
    },
    {
     "data": {
      "application/vnd.jupyter.widget-view+json": {
       "model_id": "9ddf5690ff8e46ee929637f0e505e108",
       "version_major": 2,
       "version_minor": 0
      },
      "text/plain": [
       "Validation: |          | 0/? [00:00<?, ?it/s]"
      ]
     },
     "metadata": {},
     "output_type": "display_data"
    },
    {
     "data": {
      "application/vnd.jupyter.widget-view+json": {
       "model_id": "f3d9e215a078471e95a7c4c8e3918b08",
       "version_major": 2,
       "version_minor": 0
      },
      "text/plain": [
       "Validation: |          | 0/? [00:00<?, ?it/s]"
      ]
     },
     "metadata": {},
     "output_type": "display_data"
    },
    {
     "data": {
      "application/vnd.jupyter.widget-view+json": {
       "model_id": "a5e93159224847b0a5c44650d683ec5b",
       "version_major": 2,
       "version_minor": 0
      },
      "text/plain": [
       "Validation: |          | 0/? [00:00<?, ?it/s]"
      ]
     },
     "metadata": {},
     "output_type": "display_data"
    },
    {
     "data": {
      "application/vnd.jupyter.widget-view+json": {
       "model_id": "83137ecf293b4773a7f73e0f2e53b5a2",
       "version_major": 2,
       "version_minor": 0
      },
      "text/plain": [
       "Validation: |          | 0/? [00:00<?, ?it/s]"
      ]
     },
     "metadata": {},
     "output_type": "display_data"
    },
    {
     "data": {
      "application/vnd.jupyter.widget-view+json": {
       "model_id": "fdf89cb0a2a647b38a3a7a406ffe8e20",
       "version_major": 2,
       "version_minor": 0
      },
      "text/plain": [
       "Validation: |          | 0/? [00:00<?, ?it/s]"
      ]
     },
     "metadata": {},
     "output_type": "display_data"
    },
    {
     "data": {
      "application/vnd.jupyter.widget-view+json": {
       "model_id": "9a792be215a1499cba77aa5c5c396e11",
       "version_major": 2,
       "version_minor": 0
      },
      "text/plain": [
       "Validation: |          | 0/? [00:00<?, ?it/s]"
      ]
     },
     "metadata": {},
     "output_type": "display_data"
    },
    {
     "data": {
      "application/vnd.jupyter.widget-view+json": {
       "model_id": "f2c7081f0a904fe8a1ff85a95fb42625",
       "version_major": 2,
       "version_minor": 0
      },
      "text/plain": [
       "Validation: |          | 0/? [00:00<?, ?it/s]"
      ]
     },
     "metadata": {},
     "output_type": "display_data"
    },
    {
     "data": {
      "application/vnd.jupyter.widget-view+json": {
       "model_id": "23894b002e88402cb94bb19a4b18dc4c",
       "version_major": 2,
       "version_minor": 0
      },
      "text/plain": [
       "Validation: |          | 0/? [00:00<?, ?it/s]"
      ]
     },
     "metadata": {},
     "output_type": "display_data"
    },
    {
     "data": {
      "application/vnd.jupyter.widget-view+json": {
       "model_id": "a4fbe98f1f7a4ca481f61f4fa83a00a5",
       "version_major": 2,
       "version_minor": 0
      },
      "text/plain": [
       "Validation: |          | 0/? [00:00<?, ?it/s]"
      ]
     },
     "metadata": {},
     "output_type": "display_data"
    },
    {
     "data": {
      "application/vnd.jupyter.widget-view+json": {
       "model_id": "350b1db3fb46473cadfc13f326a8c5c8",
       "version_major": 2,
       "version_minor": 0
      },
      "text/plain": [
       "Validation: |          | 0/? [00:00<?, ?it/s]"
      ]
     },
     "metadata": {},
     "output_type": "display_data"
    },
    {
     "data": {
      "application/vnd.jupyter.widget-view+json": {
       "model_id": "e3167780f6b349898018a34b658ae5f8",
       "version_major": 2,
       "version_minor": 0
      },
      "text/plain": [
       "Validation: |          | 0/? [00:00<?, ?it/s]"
      ]
     },
     "metadata": {},
     "output_type": "display_data"
    },
    {
     "data": {
      "application/vnd.jupyter.widget-view+json": {
       "model_id": "f80c13564da845a7a4b5515bbab32e7d",
       "version_major": 2,
       "version_minor": 0
      },
      "text/plain": [
       "Validation: |          | 0/? [00:00<?, ?it/s]"
      ]
     },
     "metadata": {},
     "output_type": "display_data"
    },
    {
     "data": {
      "application/vnd.jupyter.widget-view+json": {
       "model_id": "f822255336ba43c7911f036e00cf66a9",
       "version_major": 2,
       "version_minor": 0
      },
      "text/plain": [
       "Validation: |          | 0/? [00:00<?, ?it/s]"
      ]
     },
     "metadata": {},
     "output_type": "display_data"
    },
    {
     "data": {
      "application/vnd.jupyter.widget-view+json": {
       "model_id": "9848e471e7b648648b0e05388add4078",
       "version_major": 2,
       "version_minor": 0
      },
      "text/plain": [
       "Validation: |          | 0/? [00:00<?, ?it/s]"
      ]
     },
     "metadata": {},
     "output_type": "display_data"
    },
    {
     "data": {
      "application/vnd.jupyter.widget-view+json": {
       "model_id": "0a1bb5b397f94cb1a08cf7b8f2b4618a",
       "version_major": 2,
       "version_minor": 0
      },
      "text/plain": [
       "Validation: |          | 0/? [00:00<?, ?it/s]"
      ]
     },
     "metadata": {},
     "output_type": "display_data"
    },
    {
     "data": {
      "application/vnd.jupyter.widget-view+json": {
       "model_id": "321ad2c1cdfb4186b302d2ef7ca9125d",
       "version_major": 2,
       "version_minor": 0
      },
      "text/plain": [
       "Validation: |          | 0/? [00:00<?, ?it/s]"
      ]
     },
     "metadata": {},
     "output_type": "display_data"
    },
    {
     "data": {
      "application/vnd.jupyter.widget-view+json": {
       "model_id": "9516d25181884c5fa5e0c1130b899349",
       "version_major": 2,
       "version_minor": 0
      },
      "text/plain": [
       "Validation: |          | 0/? [00:00<?, ?it/s]"
      ]
     },
     "metadata": {},
     "output_type": "display_data"
    },
    {
     "data": {
      "application/vnd.jupyter.widget-view+json": {
       "model_id": "72463d309fed490786a507727a81dcc9",
       "version_major": 2,
       "version_minor": 0
      },
      "text/plain": [
       "Validation: |          | 0/? [00:00<?, ?it/s]"
      ]
     },
     "metadata": {},
     "output_type": "display_data"
    },
    {
     "data": {
      "application/vnd.jupyter.widget-view+json": {
       "model_id": "bb41294596444345833e18a9104edf11",
       "version_major": 2,
       "version_minor": 0
      },
      "text/plain": [
       "Validation: |          | 0/? [00:00<?, ?it/s]"
      ]
     },
     "metadata": {},
     "output_type": "display_data"
    },
    {
     "data": {
      "application/vnd.jupyter.widget-view+json": {
       "model_id": "d73a9feede294aed812b009e224e3cff",
       "version_major": 2,
       "version_minor": 0
      },
      "text/plain": [
       "Validation: |          | 0/? [00:00<?, ?it/s]"
      ]
     },
     "metadata": {},
     "output_type": "display_data"
    },
    {
     "data": {
      "application/vnd.jupyter.widget-view+json": {
       "model_id": "d1f0fec0c62d4335a28186fb61cffbf5",
       "version_major": 2,
       "version_minor": 0
      },
      "text/plain": [
       "Validation: |          | 0/? [00:00<?, ?it/s]"
      ]
     },
     "metadata": {},
     "output_type": "display_data"
    },
    {
     "data": {
      "application/vnd.jupyter.widget-view+json": {
       "model_id": "86b942af87f545f6a5a7762f544bd30b",
       "version_major": 2,
       "version_minor": 0
      },
      "text/plain": [
       "Validation: |          | 0/? [00:00<?, ?it/s]"
      ]
     },
     "metadata": {},
     "output_type": "display_data"
    },
    {
     "data": {
      "application/vnd.jupyter.widget-view+json": {
       "model_id": "9d97c024dc4047b5b77df36128ff3596",
       "version_major": 2,
       "version_minor": 0
      },
      "text/plain": [
       "Validation: |          | 0/? [00:00<?, ?it/s]"
      ]
     },
     "metadata": {},
     "output_type": "display_data"
    },
    {
     "data": {
      "application/vnd.jupyter.widget-view+json": {
       "model_id": "e6ee7ca7088848a592587963fa75ea0c",
       "version_major": 2,
       "version_minor": 0
      },
      "text/plain": [
       "Validation: |          | 0/? [00:00<?, ?it/s]"
      ]
     },
     "metadata": {},
     "output_type": "display_data"
    },
    {
     "data": {
      "application/vnd.jupyter.widget-view+json": {
       "model_id": "07820a398d37489897c8369dae53707d",
       "version_major": 2,
       "version_minor": 0
      },
      "text/plain": [
       "Validation: |          | 0/? [00:00<?, ?it/s]"
      ]
     },
     "metadata": {},
     "output_type": "display_data"
    },
    {
     "data": {
      "application/vnd.jupyter.widget-view+json": {
       "model_id": "9cfed08325ff445c9db9d6b3ecf62769",
       "version_major": 2,
       "version_minor": 0
      },
      "text/plain": [
       "Validation: |          | 0/? [00:00<?, ?it/s]"
      ]
     },
     "metadata": {},
     "output_type": "display_data"
    },
    {
     "data": {
      "application/vnd.jupyter.widget-view+json": {
       "model_id": "510a86d439ad499babf97420a5f59c32",
       "version_major": 2,
       "version_minor": 0
      },
      "text/plain": [
       "Validation: |          | 0/? [00:00<?, ?it/s]"
      ]
     },
     "metadata": {},
     "output_type": "display_data"
    },
    {
     "data": {
      "application/vnd.jupyter.widget-view+json": {
       "model_id": "543f715097e04df7ab3b61c184639dee",
       "version_major": 2,
       "version_minor": 0
      },
      "text/plain": [
       "Validation: |          | 0/? [00:00<?, ?it/s]"
      ]
     },
     "metadata": {},
     "output_type": "display_data"
    },
    {
     "data": {
      "application/vnd.jupyter.widget-view+json": {
       "model_id": "d3e68f56f6964bf48f0f2f58c36e44c4",
       "version_major": 2,
       "version_minor": 0
      },
      "text/plain": [
       "Validation: |          | 0/? [00:00<?, ?it/s]"
      ]
     },
     "metadata": {},
     "output_type": "display_data"
    },
    {
     "data": {
      "application/vnd.jupyter.widget-view+json": {
       "model_id": "d1e33d65e4054018a350c1c6327f599b",
       "version_major": 2,
       "version_minor": 0
      },
      "text/plain": [
       "Validation: |          | 0/? [00:00<?, ?it/s]"
      ]
     },
     "metadata": {},
     "output_type": "display_data"
    },
    {
     "data": {
      "application/vnd.jupyter.widget-view+json": {
       "model_id": "82bd6f05f77a4d9b9d914400070d40b3",
       "version_major": 2,
       "version_minor": 0
      },
      "text/plain": [
       "Validation: |          | 0/? [00:00<?, ?it/s]"
      ]
     },
     "metadata": {},
     "output_type": "display_data"
    },
    {
     "data": {
      "application/vnd.jupyter.widget-view+json": {
       "model_id": "aae8a15c441a4f8587fc03aa678e2566",
       "version_major": 2,
       "version_minor": 0
      },
      "text/plain": [
       "Validation: |          | 0/? [00:00<?, ?it/s]"
      ]
     },
     "metadata": {},
     "output_type": "display_data"
    },
    {
     "data": {
      "application/vnd.jupyter.widget-view+json": {
       "model_id": "8f62d659962f4485af81f0428ef7eec3",
       "version_major": 2,
       "version_minor": 0
      },
      "text/plain": [
       "Validation: |          | 0/? [00:00<?, ?it/s]"
      ]
     },
     "metadata": {},
     "output_type": "display_data"
    },
    {
     "data": {
      "application/vnd.jupyter.widget-view+json": {
       "model_id": "28c3b3d8c06f4e5685d304d2a3c06abf",
       "version_major": 2,
       "version_minor": 0
      },
      "text/plain": [
       "Validation: |          | 0/? [00:00<?, ?it/s]"
      ]
     },
     "metadata": {},
     "output_type": "display_data"
    },
    {
     "data": {
      "application/vnd.jupyter.widget-view+json": {
       "model_id": "50bcbb03ec8849fe9380b82a0b4bbda3",
       "version_major": 2,
       "version_minor": 0
      },
      "text/plain": [
       "Validation: |          | 0/? [00:00<?, ?it/s]"
      ]
     },
     "metadata": {},
     "output_type": "display_data"
    },
    {
     "data": {
      "application/vnd.jupyter.widget-view+json": {
       "model_id": "7043f3925e394df3bc9e9c13016710bc",
       "version_major": 2,
       "version_minor": 0
      },
      "text/plain": [
       "Validation: |          | 0/? [00:00<?, ?it/s]"
      ]
     },
     "metadata": {},
     "output_type": "display_data"
    },
    {
     "data": {
      "application/vnd.jupyter.widget-view+json": {
       "model_id": "97c87f2f936e42dda1a99ca49f279841",
       "version_major": 2,
       "version_minor": 0
      },
      "text/plain": [
       "Validation: |          | 0/? [00:00<?, ?it/s]"
      ]
     },
     "metadata": {},
     "output_type": "display_data"
    },
    {
     "data": {
      "application/vnd.jupyter.widget-view+json": {
       "model_id": "62c406e429ae4a709e7e5ca5d558c985",
       "version_major": 2,
       "version_minor": 0
      },
      "text/plain": [
       "Validation: |          | 0/? [00:00<?, ?it/s]"
      ]
     },
     "metadata": {},
     "output_type": "display_data"
    },
    {
     "data": {
      "application/vnd.jupyter.widget-view+json": {
       "model_id": "5a09f9df692b4bbbaeeecbfb50092c26",
       "version_major": 2,
       "version_minor": 0
      },
      "text/plain": [
       "Validation: |          | 0/? [00:00<?, ?it/s]"
      ]
     },
     "metadata": {},
     "output_type": "display_data"
    },
    {
     "data": {
      "application/vnd.jupyter.widget-view+json": {
       "model_id": "fc554a852e11432f8843311ce1782deb",
       "version_major": 2,
       "version_minor": 0
      },
      "text/plain": [
       "Validation: |          | 0/? [00:00<?, ?it/s]"
      ]
     },
     "metadata": {},
     "output_type": "display_data"
    },
    {
     "data": {
      "application/vnd.jupyter.widget-view+json": {
       "model_id": "9691fa088c4d4ce99311d1ead8b49ee7",
       "version_major": 2,
       "version_minor": 0
      },
      "text/plain": [
       "Validation: |          | 0/? [00:00<?, ?it/s]"
      ]
     },
     "metadata": {},
     "output_type": "display_data"
    },
    {
     "data": {
      "application/vnd.jupyter.widget-view+json": {
       "model_id": "08000eeb201f4bf78fb07f34d14f1406",
       "version_major": 2,
       "version_minor": 0
      },
      "text/plain": [
       "Validation: |          | 0/? [00:00<?, ?it/s]"
      ]
     },
     "metadata": {},
     "output_type": "display_data"
    },
    {
     "data": {
      "application/vnd.jupyter.widget-view+json": {
       "model_id": "20d691a0de414139b4732b668549e3b5",
       "version_major": 2,
       "version_minor": 0
      },
      "text/plain": [
       "Validation: |          | 0/? [00:00<?, ?it/s]"
      ]
     },
     "metadata": {},
     "output_type": "display_data"
    },
    {
     "data": {
      "application/vnd.jupyter.widget-view+json": {
       "model_id": "ec6514ee509f4fc5a4f4e44a65ad4f52",
       "version_major": 2,
       "version_minor": 0
      },
      "text/plain": [
       "Validation: |          | 0/? [00:00<?, ?it/s]"
      ]
     },
     "metadata": {},
     "output_type": "display_data"
    },
    {
     "data": {
      "application/vnd.jupyter.widget-view+json": {
       "model_id": "7794ce6dfeb24d71b41af60b801bcc95",
       "version_major": 2,
       "version_minor": 0
      },
      "text/plain": [
       "Validation: |          | 0/? [00:00<?, ?it/s]"
      ]
     },
     "metadata": {},
     "output_type": "display_data"
    },
    {
     "data": {
      "application/vnd.jupyter.widget-view+json": {
       "model_id": "92040577929b46748b1da0899db681c8",
       "version_major": 2,
       "version_minor": 0
      },
      "text/plain": [
       "Validation: |          | 0/? [00:00<?, ?it/s]"
      ]
     },
     "metadata": {},
     "output_type": "display_data"
    },
    {
     "data": {
      "application/vnd.jupyter.widget-view+json": {
       "model_id": "16bb94ed00fd4cee96e593836fdf66c1",
       "version_major": 2,
       "version_minor": 0
      },
      "text/plain": [
       "Validation: |          | 0/? [00:00<?, ?it/s]"
      ]
     },
     "metadata": {},
     "output_type": "display_data"
    },
    {
     "data": {
      "application/vnd.jupyter.widget-view+json": {
       "model_id": "f32f57f1765344e29d684a6886056d34",
       "version_major": 2,
       "version_minor": 0
      },
      "text/plain": [
       "Validation: |          | 0/? [00:00<?, ?it/s]"
      ]
     },
     "metadata": {},
     "output_type": "display_data"
    },
    {
     "data": {
      "application/vnd.jupyter.widget-view+json": {
       "model_id": "84147adf3214476b98d0e5f4b2e0d4f3",
       "version_major": 2,
       "version_minor": 0
      },
      "text/plain": [
       "Validation: |          | 0/? [00:00<?, ?it/s]"
      ]
     },
     "metadata": {},
     "output_type": "display_data"
    },
    {
     "data": {
      "application/vnd.jupyter.widget-view+json": {
       "model_id": "6745447425eb48a6b9a5cb72a4eaf595",
       "version_major": 2,
       "version_minor": 0
      },
      "text/plain": [
       "Validation: |          | 0/? [00:00<?, ?it/s]"
      ]
     },
     "metadata": {},
     "output_type": "display_data"
    },
    {
     "data": {
      "application/vnd.jupyter.widget-view+json": {
       "model_id": "1266ddd7f1ae453c990ee5e322031c01",
       "version_major": 2,
       "version_minor": 0
      },
      "text/plain": [
       "Validation: |          | 0/? [00:00<?, ?it/s]"
      ]
     },
     "metadata": {},
     "output_type": "display_data"
    },
    {
     "data": {
      "application/vnd.jupyter.widget-view+json": {
       "model_id": "db4dc3da7ee347d5a6a6277572f65301",
       "version_major": 2,
       "version_minor": 0
      },
      "text/plain": [
       "Validation: |          | 0/? [00:00<?, ?it/s]"
      ]
     },
     "metadata": {},
     "output_type": "display_data"
    },
    {
     "data": {
      "application/vnd.jupyter.widget-view+json": {
       "model_id": "c2d24c5127d64de5bbbc4a18f722c343",
       "version_major": 2,
       "version_minor": 0
      },
      "text/plain": [
       "Validation: |          | 0/? [00:00<?, ?it/s]"
      ]
     },
     "metadata": {},
     "output_type": "display_data"
    },
    {
     "data": {
      "application/vnd.jupyter.widget-view+json": {
       "model_id": "209f454c7e604f038c2b6e4d8e4289c9",
       "version_major": 2,
       "version_minor": 0
      },
      "text/plain": [
       "Validation: |          | 0/? [00:00<?, ?it/s]"
      ]
     },
     "metadata": {},
     "output_type": "display_data"
    },
    {
     "data": {
      "application/vnd.jupyter.widget-view+json": {
       "model_id": "4566d274c8464918a692e36f0209cc99",
       "version_major": 2,
       "version_minor": 0
      },
      "text/plain": [
       "Validation: |          | 0/? [00:00<?, ?it/s]"
      ]
     },
     "metadata": {},
     "output_type": "display_data"
    },
    {
     "data": {
      "application/vnd.jupyter.widget-view+json": {
       "model_id": "c93425f638864dc9bfaefdfe04635efc",
       "version_major": 2,
       "version_minor": 0
      },
      "text/plain": [
       "Validation: |          | 0/? [00:00<?, ?it/s]"
      ]
     },
     "metadata": {},
     "output_type": "display_data"
    },
    {
     "data": {
      "application/vnd.jupyter.widget-view+json": {
       "model_id": "0f43a95e352f481493f171b7d640438f",
       "version_major": 2,
       "version_minor": 0
      },
      "text/plain": [
       "Validation: |          | 0/? [00:00<?, ?it/s]"
      ]
     },
     "metadata": {},
     "output_type": "display_data"
    },
    {
     "data": {
      "application/vnd.jupyter.widget-view+json": {
       "model_id": "169e2b2e17a449c79dce48750a894398",
       "version_major": 2,
       "version_minor": 0
      },
      "text/plain": [
       "Validation: |          | 0/? [00:00<?, ?it/s]"
      ]
     },
     "metadata": {},
     "output_type": "display_data"
    },
    {
     "data": {
      "application/vnd.jupyter.widget-view+json": {
       "model_id": "4c08b81cebab49579a6fda9dc1132fdf",
       "version_major": 2,
       "version_minor": 0
      },
      "text/plain": [
       "Validation: |          | 0/? [00:00<?, ?it/s]"
      ]
     },
     "metadata": {},
     "output_type": "display_data"
    },
    {
     "data": {
      "application/vnd.jupyter.widget-view+json": {
       "model_id": "4c764ede2ab24ce69439fd2bf7ef2074",
       "version_major": 2,
       "version_minor": 0
      },
      "text/plain": [
       "Validation: |          | 0/? [00:00<?, ?it/s]"
      ]
     },
     "metadata": {},
     "output_type": "display_data"
    },
    {
     "data": {
      "application/vnd.jupyter.widget-view+json": {
       "model_id": "7a1382e5041947e6b9c52185ad736628",
       "version_major": 2,
       "version_minor": 0
      },
      "text/plain": [
       "Validation: |          | 0/? [00:00<?, ?it/s]"
      ]
     },
     "metadata": {},
     "output_type": "display_data"
    },
    {
     "data": {
      "application/vnd.jupyter.widget-view+json": {
       "model_id": "9e7b5a11e2cc4766bf5f3ca0a1db8ab9",
       "version_major": 2,
       "version_minor": 0
      },
      "text/plain": [
       "Validation: |          | 0/? [00:00<?, ?it/s]"
      ]
     },
     "metadata": {},
     "output_type": "display_data"
    },
    {
     "data": {
      "application/vnd.jupyter.widget-view+json": {
       "model_id": "a5228d4a945549149406d4f7dcfbb3b8",
       "version_major": 2,
       "version_minor": 0
      },
      "text/plain": [
       "Validation: |          | 0/? [00:00<?, ?it/s]"
      ]
     },
     "metadata": {},
     "output_type": "display_data"
    },
    {
     "data": {
      "application/vnd.jupyter.widget-view+json": {
       "model_id": "cfccefbee71346aa9fd82ff231cfb95f",
       "version_major": 2,
       "version_minor": 0
      },
      "text/plain": [
       "Validation: |          | 0/? [00:00<?, ?it/s]"
      ]
     },
     "metadata": {},
     "output_type": "display_data"
    },
    {
     "data": {
      "application/vnd.jupyter.widget-view+json": {
       "model_id": "cbd108a7063f41efbe7d81e4e18cf092",
       "version_major": 2,
       "version_minor": 0
      },
      "text/plain": [
       "Validation: |          | 0/? [00:00<?, ?it/s]"
      ]
     },
     "metadata": {},
     "output_type": "display_data"
    },
    {
     "data": {
      "application/vnd.jupyter.widget-view+json": {
       "model_id": "c343c244827249eb8516e8f6122153d0",
       "version_major": 2,
       "version_minor": 0
      },
      "text/plain": [
       "Validation: |          | 0/? [00:00<?, ?it/s]"
      ]
     },
     "metadata": {},
     "output_type": "display_data"
    },
    {
     "data": {
      "application/vnd.jupyter.widget-view+json": {
       "model_id": "e67a7ce6cff74ea4bc71922967d8f316",
       "version_major": 2,
       "version_minor": 0
      },
      "text/plain": [
       "Validation: |          | 0/? [00:00<?, ?it/s]"
      ]
     },
     "metadata": {},
     "output_type": "display_data"
    },
    {
     "data": {
      "application/vnd.jupyter.widget-view+json": {
       "model_id": "524d9c388eaa480c9a6e3a223e89d5a5",
       "version_major": 2,
       "version_minor": 0
      },
      "text/plain": [
       "Validation: |          | 0/? [00:00<?, ?it/s]"
      ]
     },
     "metadata": {},
     "output_type": "display_data"
    },
    {
     "data": {
      "application/vnd.jupyter.widget-view+json": {
       "model_id": "1777ab388f4d4a1cb8104db1c33ce6bd",
       "version_major": 2,
       "version_minor": 0
      },
      "text/plain": [
       "Validation: |          | 0/? [00:00<?, ?it/s]"
      ]
     },
     "metadata": {},
     "output_type": "display_data"
    },
    {
     "data": {
      "application/vnd.jupyter.widget-view+json": {
       "model_id": "0bdf5475d50d4443b1266b48f4dff2f1",
       "version_major": 2,
       "version_minor": 0
      },
      "text/plain": [
       "Validation: |          | 0/? [00:00<?, ?it/s]"
      ]
     },
     "metadata": {},
     "output_type": "display_data"
    },
    {
     "data": {
      "application/vnd.jupyter.widget-view+json": {
       "model_id": "73d4b303d3ca400ebaf95dd06ae70961",
       "version_major": 2,
       "version_minor": 0
      },
      "text/plain": [
       "Validation: |          | 0/? [00:00<?, ?it/s]"
      ]
     },
     "metadata": {},
     "output_type": "display_data"
    },
    {
     "data": {
      "application/vnd.jupyter.widget-view+json": {
       "model_id": "7efd15cc252f4864a3525673fba86f1f",
       "version_major": 2,
       "version_minor": 0
      },
      "text/plain": [
       "Validation: |          | 0/? [00:00<?, ?it/s]"
      ]
     },
     "metadata": {},
     "output_type": "display_data"
    },
    {
     "data": {
      "application/vnd.jupyter.widget-view+json": {
       "model_id": "231659acc60e44079961285373bb6717",
       "version_major": 2,
       "version_minor": 0
      },
      "text/plain": [
       "Validation: |          | 0/? [00:00<?, ?it/s]"
      ]
     },
     "metadata": {},
     "output_type": "display_data"
    },
    {
     "data": {
      "application/vnd.jupyter.widget-view+json": {
       "model_id": "8aeec8e4ec0940d9967e0e6fc1cf0d7e",
       "version_major": 2,
       "version_minor": 0
      },
      "text/plain": [
       "Validation: |          | 0/? [00:00<?, ?it/s]"
      ]
     },
     "metadata": {},
     "output_type": "display_data"
    },
    {
     "data": {
      "application/vnd.jupyter.widget-view+json": {
       "model_id": "17f9e3a2c9e743a6a64c5710892d0fab",
       "version_major": 2,
       "version_minor": 0
      },
      "text/plain": [
       "Validation: |          | 0/? [00:00<?, ?it/s]"
      ]
     },
     "metadata": {},
     "output_type": "display_data"
    },
    {
     "data": {
      "application/vnd.jupyter.widget-view+json": {
       "model_id": "3b83a5504fc14c8a88f8bba0255f05f6",
       "version_major": 2,
       "version_minor": 0
      },
      "text/plain": [
       "Validation: |          | 0/? [00:00<?, ?it/s]"
      ]
     },
     "metadata": {},
     "output_type": "display_data"
    },
    {
     "data": {
      "application/vnd.jupyter.widget-view+json": {
       "model_id": "9684865ad12041b8aca87a0aa1b66ae7",
       "version_major": 2,
       "version_minor": 0
      },
      "text/plain": [
       "Validation: |          | 0/? [00:00<?, ?it/s]"
      ]
     },
     "metadata": {},
     "output_type": "display_data"
    },
    {
     "data": {
      "application/vnd.jupyter.widget-view+json": {
       "model_id": "5eb886ddd1ef4679a52a767a1c141ae6",
       "version_major": 2,
       "version_minor": 0
      },
      "text/plain": [
       "Validation: |          | 0/? [00:00<?, ?it/s]"
      ]
     },
     "metadata": {},
     "output_type": "display_data"
    },
    {
     "data": {
      "application/vnd.jupyter.widget-view+json": {
       "model_id": "2db9da1cc228467b980dcc16bb9eef3f",
       "version_major": 2,
       "version_minor": 0
      },
      "text/plain": [
       "Validation: |          | 0/? [00:00<?, ?it/s]"
      ]
     },
     "metadata": {},
     "output_type": "display_data"
    },
    {
     "data": {
      "application/vnd.jupyter.widget-view+json": {
       "model_id": "c60da3db6f194404b171d851c8e19a2a",
       "version_major": 2,
       "version_minor": 0
      },
      "text/plain": [
       "Validation: |          | 0/? [00:00<?, ?it/s]"
      ]
     },
     "metadata": {},
     "output_type": "display_data"
    },
    {
     "data": {
      "application/vnd.jupyter.widget-view+json": {
       "model_id": "e0c7dc522a7640cd8ad9929ce6b61d18",
       "version_major": 2,
       "version_minor": 0
      },
      "text/plain": [
       "Validation: |          | 0/? [00:00<?, ?it/s]"
      ]
     },
     "metadata": {},
     "output_type": "display_data"
    },
    {
     "data": {
      "application/vnd.jupyter.widget-view+json": {
       "model_id": "398610324eb24247ba415f95c9db96d9",
       "version_major": 2,
       "version_minor": 0
      },
      "text/plain": [
       "Validation: |          | 0/? [00:00<?, ?it/s]"
      ]
     },
     "metadata": {},
     "output_type": "display_data"
    },
    {
     "data": {
      "application/vnd.jupyter.widget-view+json": {
       "model_id": "251ea3f343234c9c9f9cdbf338c76828",
       "version_major": 2,
       "version_minor": 0
      },
      "text/plain": [
       "Validation: |          | 0/? [00:00<?, ?it/s]"
      ]
     },
     "metadata": {},
     "output_type": "display_data"
    },
    {
     "data": {
      "application/vnd.jupyter.widget-view+json": {
       "model_id": "4bc8fcf6e4b5499593d11bb2e795e1c7",
       "version_major": 2,
       "version_minor": 0
      },
      "text/plain": [
       "Validation: |          | 0/? [00:00<?, ?it/s]"
      ]
     },
     "metadata": {},
     "output_type": "display_data"
    },
    {
     "data": {
      "application/vnd.jupyter.widget-view+json": {
       "model_id": "d692769bc6b24365b12476cd1dd37174",
       "version_major": 2,
       "version_minor": 0
      },
      "text/plain": [
       "Validation: |          | 0/? [00:00<?, ?it/s]"
      ]
     },
     "metadata": {},
     "output_type": "display_data"
    },
    {
     "data": {
      "application/vnd.jupyter.widget-view+json": {
       "model_id": "33214f07ba3142aea7f4513ce51e053c",
       "version_major": 2,
       "version_minor": 0
      },
      "text/plain": [
       "Validation: |          | 0/? [00:00<?, ?it/s]"
      ]
     },
     "metadata": {},
     "output_type": "display_data"
    },
    {
     "data": {
      "application/vnd.jupyter.widget-view+json": {
       "model_id": "2afb93b8c08a4a2886e2e19caa8f98f1",
       "version_major": 2,
       "version_minor": 0
      },
      "text/plain": [
       "Validation: |          | 0/? [00:00<?, ?it/s]"
      ]
     },
     "metadata": {},
     "output_type": "display_data"
    },
    {
     "data": {
      "application/vnd.jupyter.widget-view+json": {
       "model_id": "cff8c5ce7ca146d480a4cf2db2f7ee63",
       "version_major": 2,
       "version_minor": 0
      },
      "text/plain": [
       "Validation: |          | 0/? [00:00<?, ?it/s]"
      ]
     },
     "metadata": {},
     "output_type": "display_data"
    },
    {
     "data": {
      "application/vnd.jupyter.widget-view+json": {
       "model_id": "d2fc4a41a9a54b93af809f0fd79bcc95",
       "version_major": 2,
       "version_minor": 0
      },
      "text/plain": [
       "Validation: |          | 0/? [00:00<?, ?it/s]"
      ]
     },
     "metadata": {},
     "output_type": "display_data"
    },
    {
     "data": {
      "application/vnd.jupyter.widget-view+json": {
       "model_id": "c630c8c4932f4e4daf71a84c0db34307",
       "version_major": 2,
       "version_minor": 0
      },
      "text/plain": [
       "Validation: |          | 0/? [00:00<?, ?it/s]"
      ]
     },
     "metadata": {},
     "output_type": "display_data"
    },
    {
     "data": {
      "application/vnd.jupyter.widget-view+json": {
       "model_id": "f9bfb16749b04ef0bdb2060faa7b09db",
       "version_major": 2,
       "version_minor": 0
      },
      "text/plain": [
       "Validation: |          | 0/? [00:00<?, ?it/s]"
      ]
     },
     "metadata": {},
     "output_type": "display_data"
    },
    {
     "data": {
      "application/vnd.jupyter.widget-view+json": {
       "model_id": "2a83493d964e45c683a16b9af3b08e92",
       "version_major": 2,
       "version_minor": 0
      },
      "text/plain": [
       "Validation: |          | 0/? [00:00<?, ?it/s]"
      ]
     },
     "metadata": {},
     "output_type": "display_data"
    },
    {
     "data": {
      "application/vnd.jupyter.widget-view+json": {
       "model_id": "b212aecff7d5462db3599a269d122534",
       "version_major": 2,
       "version_minor": 0
      },
      "text/plain": [
       "Validation: |          | 0/? [00:00<?, ?it/s]"
      ]
     },
     "metadata": {},
     "output_type": "display_data"
    },
    {
     "data": {
      "application/vnd.jupyter.widget-view+json": {
       "model_id": "d17a7c5c7f6c4dcba93b3d6628ec7980",
       "version_major": 2,
       "version_minor": 0
      },
      "text/plain": [
       "Validation: |          | 0/? [00:00<?, ?it/s]"
      ]
     },
     "metadata": {},
     "output_type": "display_data"
    },
    {
     "data": {
      "application/vnd.jupyter.widget-view+json": {
       "model_id": "3947803e61114ac486c1b907287ffe85",
       "version_major": 2,
       "version_minor": 0
      },
      "text/plain": [
       "Validation: |          | 0/? [00:00<?, ?it/s]"
      ]
     },
     "metadata": {},
     "output_type": "display_data"
    },
    {
     "data": {
      "application/vnd.jupyter.widget-view+json": {
       "model_id": "1ce722871dfd40bda4348d47ef7bf7f4",
       "version_major": 2,
       "version_minor": 0
      },
      "text/plain": [
       "Validation: |          | 0/? [00:00<?, ?it/s]"
      ]
     },
     "metadata": {},
     "output_type": "display_data"
    },
    {
     "data": {
      "application/vnd.jupyter.widget-view+json": {
       "model_id": "d8f952aae2df454bbc1ef534f5c18a32",
       "version_major": 2,
       "version_minor": 0
      },
      "text/plain": [
       "Validation: |          | 0/? [00:00<?, ?it/s]"
      ]
     },
     "metadata": {},
     "output_type": "display_data"
    },
    {
     "data": {
      "application/vnd.jupyter.widget-view+json": {
       "model_id": "9592584d4099489380c58f821ea512af",
       "version_major": 2,
       "version_minor": 0
      },
      "text/plain": [
       "Validation: |          | 0/? [00:00<?, ?it/s]"
      ]
     },
     "metadata": {},
     "output_type": "display_data"
    },
    {
     "data": {
      "application/vnd.jupyter.widget-view+json": {
       "model_id": "1a9b65ce15054570971c24f2dd25fd33",
       "version_major": 2,
       "version_minor": 0
      },
      "text/plain": [
       "Validation: |          | 0/? [00:00<?, ?it/s]"
      ]
     },
     "metadata": {},
     "output_type": "display_data"
    },
    {
     "data": {
      "application/vnd.jupyter.widget-view+json": {
       "model_id": "1cc8e6db8e68490b89b302eaaf1be970",
       "version_major": 2,
       "version_minor": 0
      },
      "text/plain": [
       "Validation: |          | 0/? [00:00<?, ?it/s]"
      ]
     },
     "metadata": {},
     "output_type": "display_data"
    },
    {
     "data": {
      "application/vnd.jupyter.widget-view+json": {
       "model_id": "dbf636c3438d4436973e7fe5103a43c3",
       "version_major": 2,
       "version_minor": 0
      },
      "text/plain": [
       "Validation: |          | 0/? [00:00<?, ?it/s]"
      ]
     },
     "metadata": {},
     "output_type": "display_data"
    },
    {
     "data": {
      "application/vnd.jupyter.widget-view+json": {
       "model_id": "5a36dee6f3df46f79cba9487238b3473",
       "version_major": 2,
       "version_minor": 0
      },
      "text/plain": [
       "Validation: |          | 0/? [00:00<?, ?it/s]"
      ]
     },
     "metadata": {},
     "output_type": "display_data"
    },
    {
     "data": {
      "application/vnd.jupyter.widget-view+json": {
       "model_id": "7c8d394b588849d0b143dd4d7a37ffba",
       "version_major": 2,
       "version_minor": 0
      },
      "text/plain": [
       "Validation: |          | 0/? [00:00<?, ?it/s]"
      ]
     },
     "metadata": {},
     "output_type": "display_data"
    },
    {
     "data": {
      "application/vnd.jupyter.widget-view+json": {
       "model_id": "7a26ba17ef2d467cb55e81a8223ab073",
       "version_major": 2,
       "version_minor": 0
      },
      "text/plain": [
       "Validation: |          | 0/? [00:00<?, ?it/s]"
      ]
     },
     "metadata": {},
     "output_type": "display_data"
    },
    {
     "data": {
      "application/vnd.jupyter.widget-view+json": {
       "model_id": "0ba5ace4c75e487da1733f558c9daa5f",
       "version_major": 2,
       "version_minor": 0
      },
      "text/plain": [
       "Validation: |          | 0/? [00:00<?, ?it/s]"
      ]
     },
     "metadata": {},
     "output_type": "display_data"
    },
    {
     "data": {
      "application/vnd.jupyter.widget-view+json": {
       "model_id": "a0a07778f2f64a618c787fbf69d9e0ad",
       "version_major": 2,
       "version_minor": 0
      },
      "text/plain": [
       "Validation: |          | 0/? [00:00<?, ?it/s]"
      ]
     },
     "metadata": {},
     "output_type": "display_data"
    },
    {
     "data": {
      "application/vnd.jupyter.widget-view+json": {
       "model_id": "6d0f26e3905a4952a8274f632833b52f",
       "version_major": 2,
       "version_minor": 0
      },
      "text/plain": [
       "Validation: |          | 0/? [00:00<?, ?it/s]"
      ]
     },
     "metadata": {},
     "output_type": "display_data"
    },
    {
     "data": {
      "application/vnd.jupyter.widget-view+json": {
       "model_id": "91af5e5496dd4f039708395dba33dbfa",
       "version_major": 2,
       "version_minor": 0
      },
      "text/plain": [
       "Validation: |          | 0/? [00:00<?, ?it/s]"
      ]
     },
     "metadata": {},
     "output_type": "display_data"
    },
    {
     "data": {
      "application/vnd.jupyter.widget-view+json": {
       "model_id": "1a654a9ba2e04fca9e0c0f59c6c38b0c",
       "version_major": 2,
       "version_minor": 0
      },
      "text/plain": [
       "Validation: |          | 0/? [00:00<?, ?it/s]"
      ]
     },
     "metadata": {},
     "output_type": "display_data"
    },
    {
     "data": {
      "application/vnd.jupyter.widget-view+json": {
       "model_id": "33c7f0e71f9e49c5940759d39f78dc1d",
       "version_major": 2,
       "version_minor": 0
      },
      "text/plain": [
       "Validation: |          | 0/? [00:00<?, ?it/s]"
      ]
     },
     "metadata": {},
     "output_type": "display_data"
    },
    {
     "data": {
      "application/vnd.jupyter.widget-view+json": {
       "model_id": "e9720a0aa4a74888b60174640bbb2f79",
       "version_major": 2,
       "version_minor": 0
      },
      "text/plain": [
       "Validation: |          | 0/? [00:00<?, ?it/s]"
      ]
     },
     "metadata": {},
     "output_type": "display_data"
    },
    {
     "data": {
      "application/vnd.jupyter.widget-view+json": {
       "model_id": "b879b4e792ff4155b6979e5cd441d337",
       "version_major": 2,
       "version_minor": 0
      },
      "text/plain": [
       "Validation: |          | 0/? [00:00<?, ?it/s]"
      ]
     },
     "metadata": {},
     "output_type": "display_data"
    },
    {
     "data": {
      "application/vnd.jupyter.widget-view+json": {
       "model_id": "9b88be94bfa6463fb84160fc3ee85e65",
       "version_major": 2,
       "version_minor": 0
      },
      "text/plain": [
       "Validation: |          | 0/? [00:00<?, ?it/s]"
      ]
     },
     "metadata": {},
     "output_type": "display_data"
    },
    {
     "data": {
      "application/vnd.jupyter.widget-view+json": {
       "model_id": "1aaad4bccf104ab0aa604bfd236a1dc4",
       "version_major": 2,
       "version_minor": 0
      },
      "text/plain": [
       "Validation: |          | 0/? [00:00<?, ?it/s]"
      ]
     },
     "metadata": {},
     "output_type": "display_data"
    },
    {
     "data": {
      "application/vnd.jupyter.widget-view+json": {
       "model_id": "080e42cca0e140498ae32d24e0b41abc",
       "version_major": 2,
       "version_minor": 0
      },
      "text/plain": [
       "Validation: |          | 0/? [00:00<?, ?it/s]"
      ]
     },
     "metadata": {},
     "output_type": "display_data"
    },
    {
     "data": {
      "application/vnd.jupyter.widget-view+json": {
       "model_id": "974c3fcc9e6244629a37bfb14aaa3303",
       "version_major": 2,
       "version_minor": 0
      },
      "text/plain": [
       "Validation: |          | 0/? [00:00<?, ?it/s]"
      ]
     },
     "metadata": {},
     "output_type": "display_data"
    },
    {
     "data": {
      "application/vnd.jupyter.widget-view+json": {
       "model_id": "a69a8b3a4d7744a5b4d78e8fba451c8c",
       "version_major": 2,
       "version_minor": 0
      },
      "text/plain": [
       "Validation: |          | 0/? [00:00<?, ?it/s]"
      ]
     },
     "metadata": {},
     "output_type": "display_data"
    },
    {
     "data": {
      "application/vnd.jupyter.widget-view+json": {
       "model_id": "6c2c6d8000c0434485cdbde48077b62b",
       "version_major": 2,
       "version_minor": 0
      },
      "text/plain": [
       "Validation: |          | 0/? [00:00<?, ?it/s]"
      ]
     },
     "metadata": {},
     "output_type": "display_data"
    },
    {
     "data": {
      "application/vnd.jupyter.widget-view+json": {
       "model_id": "c375f30a58b7441080c4ca82beeec952",
       "version_major": 2,
       "version_minor": 0
      },
      "text/plain": [
       "Validation: |          | 0/? [00:00<?, ?it/s]"
      ]
     },
     "metadata": {},
     "output_type": "display_data"
    },
    {
     "data": {
      "application/vnd.jupyter.widget-view+json": {
       "model_id": "56ed75cf98114831964df78f16080b6a",
       "version_major": 2,
       "version_minor": 0
      },
      "text/plain": [
       "Validation: |          | 0/? [00:00<?, ?it/s]"
      ]
     },
     "metadata": {},
     "output_type": "display_data"
    },
    {
     "data": {
      "application/vnd.jupyter.widget-view+json": {
       "model_id": "1c6eb83020104ffeb50363b76d9dec9d",
       "version_major": 2,
       "version_minor": 0
      },
      "text/plain": [
       "Validation: |          | 0/? [00:00<?, ?it/s]"
      ]
     },
     "metadata": {},
     "output_type": "display_data"
    },
    {
     "data": {
      "application/vnd.jupyter.widget-view+json": {
       "model_id": "400b1cf0589d4a9794577c38cf37966c",
       "version_major": 2,
       "version_minor": 0
      },
      "text/plain": [
       "Validation: |          | 0/? [00:00<?, ?it/s]"
      ]
     },
     "metadata": {},
     "output_type": "display_data"
    },
    {
     "data": {
      "application/vnd.jupyter.widget-view+json": {
       "model_id": "5197f660cd804a2492e10bbc927a832b",
       "version_major": 2,
       "version_minor": 0
      },
      "text/plain": [
       "Validation: |          | 0/? [00:00<?, ?it/s]"
      ]
     },
     "metadata": {},
     "output_type": "display_data"
    },
    {
     "data": {
      "application/vnd.jupyter.widget-view+json": {
       "model_id": "dc323940b5c2432fbea677bfa6185adb",
       "version_major": 2,
       "version_minor": 0
      },
      "text/plain": [
       "Validation: |          | 0/? [00:00<?, ?it/s]"
      ]
     },
     "metadata": {},
     "output_type": "display_data"
    },
    {
     "data": {
      "application/vnd.jupyter.widget-view+json": {
       "model_id": "22577253390a4ce79f0e7ce10555d835",
       "version_major": 2,
       "version_minor": 0
      },
      "text/plain": [
       "Validation: |          | 0/? [00:00<?, ?it/s]"
      ]
     },
     "metadata": {},
     "output_type": "display_data"
    },
    {
     "data": {
      "application/vnd.jupyter.widget-view+json": {
       "model_id": "53b58d9d7c5f4bf697ec2f9da551b94f",
       "version_major": 2,
       "version_minor": 0
      },
      "text/plain": [
       "Validation: |          | 0/? [00:00<?, ?it/s]"
      ]
     },
     "metadata": {},
     "output_type": "display_data"
    },
    {
     "data": {
      "application/vnd.jupyter.widget-view+json": {
       "model_id": "21386d606a314f38bc2ba9402e58ac12",
       "version_major": 2,
       "version_minor": 0
      },
      "text/plain": [
       "Validation: |          | 0/? [00:00<?, ?it/s]"
      ]
     },
     "metadata": {},
     "output_type": "display_data"
    },
    {
     "data": {
      "application/vnd.jupyter.widget-view+json": {
       "model_id": "55b7d209e36448fda4362490ed19fede",
       "version_major": 2,
       "version_minor": 0
      },
      "text/plain": [
       "Validation: |          | 0/? [00:00<?, ?it/s]"
      ]
     },
     "metadata": {},
     "output_type": "display_data"
    },
    {
     "data": {
      "application/vnd.jupyter.widget-view+json": {
       "model_id": "650a02ae699d4b0481963d86a6ccdf90",
       "version_major": 2,
       "version_minor": 0
      },
      "text/plain": [
       "Validation: |          | 0/? [00:00<?, ?it/s]"
      ]
     },
     "metadata": {},
     "output_type": "display_data"
    },
    {
     "data": {
      "application/vnd.jupyter.widget-view+json": {
       "model_id": "066eb4a8191f4b478eb0fa9aca06b78a",
       "version_major": 2,
       "version_minor": 0
      },
      "text/plain": [
       "Validation: |          | 0/? [00:00<?, ?it/s]"
      ]
     },
     "metadata": {},
     "output_type": "display_data"
    },
    {
     "data": {
      "application/vnd.jupyter.widget-view+json": {
       "model_id": "f9847c0ff12945839f5cac2045869f69",
       "version_major": 2,
       "version_minor": 0
      },
      "text/plain": [
       "Validation: |          | 0/? [00:00<?, ?it/s]"
      ]
     },
     "metadata": {},
     "output_type": "display_data"
    },
    {
     "data": {
      "application/vnd.jupyter.widget-view+json": {
       "model_id": "d8ea68e658604c14acd16a2e01879077",
       "version_major": 2,
       "version_minor": 0
      },
      "text/plain": [
       "Validation: |          | 0/? [00:00<?, ?it/s]"
      ]
     },
     "metadata": {},
     "output_type": "display_data"
    },
    {
     "data": {
      "application/vnd.jupyter.widget-view+json": {
       "model_id": "02ce22b29277463cbd706ab473d4812c",
       "version_major": 2,
       "version_minor": 0
      },
      "text/plain": [
       "Validation: |          | 0/? [00:00<?, ?it/s]"
      ]
     },
     "metadata": {},
     "output_type": "display_data"
    },
    {
     "data": {
      "application/vnd.jupyter.widget-view+json": {
       "model_id": "f6bca66272924bee91497c3b6f604700",
       "version_major": 2,
       "version_minor": 0
      },
      "text/plain": [
       "Validation: |          | 0/? [00:00<?, ?it/s]"
      ]
     },
     "metadata": {},
     "output_type": "display_data"
    },
    {
     "data": {
      "application/vnd.jupyter.widget-view+json": {
       "model_id": "d789006030a142c3818e740f02135187",
       "version_major": 2,
       "version_minor": 0
      },
      "text/plain": [
       "Validation: |          | 0/? [00:00<?, ?it/s]"
      ]
     },
     "metadata": {},
     "output_type": "display_data"
    },
    {
     "data": {
      "application/vnd.jupyter.widget-view+json": {
       "model_id": "1d5cd12a7f13437896b7f22df52e7d5d",
       "version_major": 2,
       "version_minor": 0
      },
      "text/plain": [
       "Validation: |          | 0/? [00:00<?, ?it/s]"
      ]
     },
     "metadata": {},
     "output_type": "display_data"
    },
    {
     "data": {
      "application/vnd.jupyter.widget-view+json": {
       "model_id": "ca13bca66b4e42ac8623a073df816af2",
       "version_major": 2,
       "version_minor": 0
      },
      "text/plain": [
       "Validation: |          | 0/? [00:00<?, ?it/s]"
      ]
     },
     "metadata": {},
     "output_type": "display_data"
    },
    {
     "name": "stderr",
     "output_type": "stream",
     "text": [
      "`Trainer.fit` stopped: `max_epochs=300` reached.\n"
     ]
    },
    {
     "data": {
      "text/plain": [
       "Reusing TensorBoard on port 6006 (pid 21855), started 11:42:30 ago. (Use '!kill 21855' to kill it.)"
      ]
     },
     "metadata": {},
     "output_type": "display_data"
    },
    {
     "data": {
      "text/html": [
       "\n",
       "      <iframe id=\"tensorboard-frame-d4d28f595eb80860\" width=\"100%\" height=\"800\" frameborder=\"0\">\n",
       "      </iframe>\n",
       "      <script>\n",
       "        (function() {\n",
       "          const frame = document.getElementById(\"tensorboard-frame-d4d28f595eb80860\");\n",
       "          const url = new URL(\"http://localhost\");\n",
       "          const port = 6006;\n",
       "          if (port) {\n",
       "            url.port = port;\n",
       "          }\n",
       "          frame.src = url;\n",
       "        })();\n",
       "      </script>\n",
       "    "
      ],
      "text/plain": [
       "<IPython.core.display.HTML object>"
      ]
     },
     "metadata": {},
     "output_type": "display_data"
    }
   ],
   "source": [
    "# Training the model\n",
    "trainer = pl.Trainer(max_epochs=300)\n",
    "trainer.fit(bt_model, train_dataloader, val_dataloader)\n",
    "\n",
    "# Initialize TensorBoard logger\n",
    "logger = TensorBoardLogger('tb_logs', name='my_model')\n",
    "\n",
    "# Start TensorBoard within the notebook\n",
    "%tensorboard --logdir lightning_logs/"
   ]
  },
  {
   "cell_type": "code",
   "execution_count": 26,
   "metadata": {},
   "outputs": [],
   "source": [
    "# Save model weights\n",
    "torch.save(bt_model.state_dict(), BT_MOD_PATH)\n",
    "# Download model weights\n",
    "if DOWNLOAD_FILES:\n",
    "    files.download(BT_MOD_PATH)"
   ]
  },
  {
   "cell_type": "code",
   "execution_count": 27,
   "metadata": {},
   "outputs": [
    {
     "name": "stdout",
     "output_type": "stream",
     "text": [
      "train_accuracy_step data not found in logs\n",
      "val_accuracy data not found in logs\n"
     ]
    },
    {
     "data": {
      "image/png": "[encoded data removed]",
      "text/plain": [
       "<Figure size 600x400 with 1 Axes>"
      ]
     },
     "metadata": {},
     "output_type": "display_data"
    },
    {
     "data": {
      "image/png": "[encoded data removed]",
      "text/plain": [
       "<Figure size 600x400 with 1 Axes>"
      ]
     },
     "metadata": {},
     "output_type": "display_data"
    }
   ],
   "source": [
    "# Create plots\n",
    "utils.plot_pl_logs(\n",
    "    './lightning_logs/version_0', 'train_loss_step', './plots/retrieval')\n",
    "utils.plot_pl_logs(\n",
    "    './lightning_logs/version_0', 'train_accuracy_step', './plots/retrieval')\n",
    "utils.plot_pl_logs(\n",
    "    './lightning_logs/version_0', 'val_loss', './plots/retrieval')\n",
    "utils.plot_pl_logs(\n",
    "    './lightning_logs/version_0', 'val_accuracy', './plots/retrieval')\n",
    "\n",
    "# Download plots\n",
    "if DOWNLOAD_FILES: files.download('./plots/retrieval/train_loss_step.pdf')\n",
    "if DOWNLOAD_FILES: files.download('./plots/retrieval/train_accuracy_epoch.pdf')\n",
    "if DOWNLOAD_FILES: files.download('./plots/retrieval/val_loss.pdf')\n",
    "if DOWNLOAD_FILES: files.download('./plots/retrieval/val_accuracy.pdf')"
   ]
  },
  {
   "cell_type": "code",
   "execution_count": 6,
   "metadata": {},
   "outputs": [
    {
     "name": "stderr",
     "output_type": "stream",
     "text": [
      "/Users/alirezarafiei/miniforge3/lib/python3.10/site-packages/torch/nn/modules/transformer.py:286: UserWarning: enable_nested_tensor is True, but self.use_nested_tensor is False because encoder_layer.self_attn.batch_first was not True(use batch_first for better inference performance)\n",
      "  warnings.warn(f\"enable_nested_tensor is True, but self.use_nested_tensor is False because {why_not_sparsity_fast_path}\")\n"
     ]
    },
    {
     "data": {
      "text/plain": [
       "<All keys matched successfully>"
      ]
     },
     "execution_count": 6,
     "metadata": {},
     "output_type": "execute_result"
    }
   ],
   "source": [
    "# Instantiate your model\n",
    "# HYPERPARAMETERS\n",
    "d_model = 120\n",
    "nhead = 4\n",
    "nhid = 120\n",
    "nlayers = 3\n",
    "dropout = 0.2\n",
    "\n",
    "# Define hyperparameters\n",
    "hparams = {\n",
    "    \"learning_rate\": 0.0005,\n",
    "    \"batch_size\": 1024,\n",
    "    \"embedding_size\": d_model,\n",
    "    \"number_of_layers\": nlayers,\n",
    "    \"dropout\": dropout\n",
    "}\n",
    "\n",
    "bt_model = s2s_transf.BaseTransformer(\n",
    "    ntoken=dd_dataset.tokenizer.vocab_size, d_model=d_model,\n",
    "    nhead=nhead, nhid=nhid, nlayers=nlayers, dropout=dropout,\n",
    "    teacher_forcing_prob=1, hparams=hparams)\n",
    "\n",
    "# Load the model's state dictionary\n",
    "bt_model.load_state_dict(torch.load(BT_MOD_PATH))"
   ]
  },
  {
   "cell_type": "code",
   "execution_count": 7,
   "metadata": {},
   "outputs": [
    {
     "name": "stdout",
     "output_type": "stream",
     "text": [
      "Top 10 ids: ['552224' '152224' '752224' '452224' '852224' '352224' '252224' '652224'\n",
      " '952224' '052224']\n",
      "Relevant ids: ['3162374', '5682038', '571854', '4506221', '5682040', '7125278', '3742048', '1047476', '5682042', '5997617']\n",
      "Common elements 0\n"
     ]
    }
   ],
   "source": [
    "# Set model to evaluation mode\n",
    "bt_model.eval()\n",
    "\n",
    "# Extract random query sample\n",
    "query = ret_dataset[random.randint(0, len(ret_dataset))][0]\n",
    "# Get the list of relevant docids for the query\n",
    "docids_list = queries[ret_dataset.query_ids[query]]['docids_list']\n",
    "\n",
    "# Compute top-k docids\n",
    "top_k_ids = eval_utils.top_k_docids(\n",
    "    bt_model.to('cpu'), query, k=K1, max_length=10,\n",
    "    decode_docid_fn=ret_dataset.decode_docid)\n",
    "\n",
    "# Print top-k docids and relevant docid\n",
    "print(f\"Top {K1} ids:\", top_k_ids)\n",
    "print(\"Relevant ids:\", docids_list)\n",
    "print(\"Common elements\", np.isin(top_k_ids, docids_list).sum())"
   ]
  },
  {
   "cell_type": "code",
   "execution_count": 11,
   "metadata": {},
   "outputs": [
    {
     "data": {
      "application/vnd.jupyter.widget-view+json": {
       "model_id": "5980830ffd654916b0ce5bfd79929df0",
       "version_major": 2,
       "version_minor": 0
      },
      "text/plain": [
       "Computing Mean Metrics:   0%|          | 0/4533 [00:00<?, ?it/s]"
      ]
     },
     "metadata": {},
     "output_type": "display_data"
    },
    {
     "data": {
      "application/vnd.jupyter.widget-view+json": {
       "model_id": "a905454186104a78858dabfad06c4d03",
       "version_major": 2,
       "version_minor": 0
      },
      "text/plain": [
       "Computing Mean Metrics:   0%|          | 0/4533 [00:00<?, ?it/s]"
      ]
     },
     "metadata": {},
     "output_type": "display_data"
    },
    {
     "name": "stdout",
     "output_type": "stream",
     "text": [
      "Mean Average Precision (MAP): 0.06841630213294889\n",
      "Normalized Discounted Cumulative Gain (NDCG): 0.09062290802199224\n",
      "Mean Precison@10 0.09133024487094614\n",
      "Mean Recall@10 0.09133024487094614\n",
      "Mean Precison@100 0.01671078755790863\n",
      "Mean Recall@100 0.16710787557908666\n"
     ]
    }
   ],
   "source": [
    "# Set model to evaluation mode\n",
    "bt_model.eval()\n",
    "\n",
    "# Compute metrics for K1\n",
    "running_mean_AP, running_mean_PatK1, running_mean_RatK1, running_mean_nDCG = eval_utils.compute_Mean_metrics(\n",
    "    bt_model.to('cpu'), {query for query, _ in test_dataset}, queries,\n",
    "    documents, trie_data, ret_dataset, k=K1)\n",
    "# Compute metrics for K2\n",
    "_, running_mean_PatK2, running_mean_RatK2, _ = eval_utils.compute_Mean_metrics(\n",
    "    bt_model.to('cpu'), {query for query, _ in test_dataset}, queries,\n",
    "    documents, trie_data, ret_dataset, k=K2)\n",
    "\n",
    "# Print mean average precision\n",
    "print(\"Mean Average Precision (MAP):\", running_mean_AP)\n",
    "# Print ndcg\n",
    "print(\"Normalized Discounted Cumulative Gain (NDCG):\", running_mean_nDCG)\n",
    "# Print mean precision at k1\n",
    "print(f\"Mean Precison@{K1}\", running_mean_PatK1)\n",
    "# Print mean recall at k1\n",
    "print(f\"Mean Recall@{K1}\", running_mean_RatK1)\n",
    "# Print mean precision at k2\n",
    "print(f\"Mean Precison@{K2}\", running_mean_PatK2)\n",
    "# Print mean recall at k2\n",
    "print(f\"Mean Recall@{K2}\", running_mean_RatK2)"
   ]
  },
  {
   "cell_type": "code",
   "execution_count": 12,
   "metadata": {},
   "outputs": [
    {
     "data": {
      "application/vnd.jupyter.widget-view+json": {
       "model_id": "af0f3c3f2176489fb61a8663e43f64bf",
       "version_major": 2,
       "version_minor": 0
      },
      "text/plain": [
       "Computing Mean Metrics:   0%|          | 0/6980 [00:00<?, ?it/s]"
      ]
     },
     "metadata": {},
     "output_type": "display_data"
    },
    {
     "data": {
      "application/vnd.jupyter.widget-view+json": {
       "model_id": "8e4869fdff25479aa7b906746b3a8549",
       "version_major": 2,
       "version_minor": 0
      },
      "text/plain": [
       "Computing Mean Metrics:   0%|          | 0/6980 [00:00<?, ?it/s]"
      ]
     },
     "metadata": {},
     "output_type": "display_data"
    },
    {
     "name": "stdout",
     "output_type": "stream",
     "text": [
      "Mean Average Precision (MAP): 0.06825810252865852\n",
      "Normalized Discounted Cumulative Gain (NDCG): 0.09093597631969048\n",
      "Mean Precison@10 0.09177650429799433\n",
      "Mean Recall@10 0.09177650429799433\n",
      "Mean Precison@100 0.0167893982808023\n",
      "Mean Recall@100 0.16789398280802267\n"
     ]
    }
   ],
   "source": [
    "# Set model to evaluation mode\n",
    "bt_model.eval()\n",
    "\n",
    "# Compute metrics for K1\n",
    "running_mean_AP, running_mean_PatK1, running_mean_RatK1, running_mean_nDCG = eval_utils.compute_Mean_metrics(\n",
    "    bt_model.to('cpu'), {query for query, _ in train_dataset},\n",
    "    queries, documents, trie_data, ret_dataset, k=K1)\n",
    "# Compute mean metrics for K2\n",
    "_, running_mean_PatK2, running_mean_RatK2, _ = eval_utils.compute_Mean_metrics(\n",
    "    bt_model.to('cpu'), {query for query, _ in train_dataset},\n",
    "    queries, documents, trie_data, ret_dataset, k=K2)\n",
    "\n",
    "# Print mean average precision\n",
    "print(\"Mean Average Precision (MAP):\", running_mean_AP)\n",
    "# Print ndcg\n",
    "print(\"Normalized Discounted Cumulative Gain (NDCG):\", running_mean_nDCG)\n",
    "# Print mean precision at k1\n",
    "print(f\"Mean Precison@{K1}\", running_mean_PatK1)\n",
    "# Print mean recall at k1\n",
    "print(f\"Mean Recall@{K1}\", running_mean_RatK1)\n",
    "# Print mean precision at k2\n",
    "print(f\"Mean Precison@{K2}\", running_mean_PatK2)\n",
    "# Print mean recall at k2\n",
    "print(f\"Mean Recall@{K2}\", running_mean_RatK2)"
   ]
  },
  {
   "cell_type": "markdown",
   "metadata": {},
   "source": [
    "### TRIE: Constraint the decoding at inference time to generate only existent docids"
   ]
  },
  {
   "cell_type": "code",
   "execution_count": 9,
   "metadata": {},
   "outputs": [],
   "source": [
    "# Create trie\n",
    "trie_data = trie.Trie(dd_dataset.docid_pad_token)\n",
    "\n",
    "# Iterate over dataset\n",
    "for idx in range(len(dd_dataset)):\n",
    "    # Insert sequence of docid tokens\n",
    "    sequence = dd_dataset[idx][1].tolist()\n",
    "    trie_data.insert(sequence)"
   ]
  },
  {
   "cell_type": "code",
   "execution_count": 10,
   "metadata": {},
   "outputs": [
    {
     "data": {
      "text/plain": [
       "[8, 9, 0, 6, 4, 2, 1, 5, 3, 7, 10]"
      ]
     },
     "execution_count": 10,
     "metadata": {},
     "output_type": "execute_result"
    }
   ],
   "source": [
    "# Example usage (returns the list of possible next tokens given the current ones)\n",
    "trie_data.get_next_tokens([12, 2, 0, 8])\n",
    "\n",
    "# 208 is the shortest docid, infact 10 (the eos)\n",
    "# is a possible next token for this sequence"
   ]
  },
  {
   "cell_type": "code",
   "execution_count": 32,
   "metadata": {},
   "outputs": [
    {
     "name": "stdout",
     "output_type": "stream",
     "text": [
      "Top 10 ids: ['1780096' '1788110' '177017' '1780864' '1789518' '1771141' '1777803'\n",
      " '1789553' '1777780' '1779157']\n",
      "Relevant ids: ['1082759', '3285391', '8593186', '1491087', '5749656', '7151972', '4778215', '5818075', '5475099', '7063168']\n",
      "Common elements 0\n"
     ]
    }
   ],
   "source": [
    "# Query is the same as before\n",
    "# Extract top-k docids\n",
    "top_k_ids = eval_utils.top_k_beam_search(\n",
    "    bt_model.to('cpu'), query, trie_data, k=K1, max_length=10,\n",
    "    decode_docid_fn=ret_dataset.decode_docid)\n",
    "\n",
    "# Print top-k docids and relevant docid\n",
    "print(f\"Top {K1} ids:\", top_k_ids)\n",
    "print(\"Relevant ids:\", docids_list)\n",
    "print(\"Common elements\", np.isin(top_k_ids, docids_list).sum())"
   ]
  },
  {
   "cell_type": "markdown",
   "metadata": {},
   "source": [
    "### pyterrier-based approaches"
   ]
  },
  {
   "cell_type": "code",
   "execution_count": 5,
   "metadata": {},
   "outputs": [
    {
     "name": "stderr",
     "output_type": "stream",
     "text": [
      "PyTerrier 0.10.0 has loaded Terrier 5.8 (built by craigm on 2023-11-01 18:05) and terrier-helper 0.0.8\n",
      "\n",
      "No etc/terrier.properties, using terrier.default.properties for bootstrap configuration.\n"
     ]
    }
   ],
   "source": [
    "import pyterrier as pt\n",
    "if not pt.started():\n",
    "    pt.init()\n",
    "import string"
   ]
  },
  {
   "cell_type": "code",
   "execution_count": 15,
   "metadata": {},
   "outputs": [],
   "source": [
    "docs = pd.DataFrame([\n",
    "    {\"docno\": doc_id, \"text\": details['raw']}\n",
    "    for doc_id, details in documents.items()\n",
    "])\n",
    "\n",
    "indexer = pt.DFIndexer(\"./materials/index_pt/index\", overwrite=True)\n",
    "index_ref = indexer.index(docs[\"text\"], docs[\"docno\"])\n",
    "\n",
    "quer = pd.DataFrame([{\"qid\": str(qid), \"query\": details['raw']} for qid, details in queries.items()])\n",
    "qrels = pd.DataFrame([{\"qid\": str(qid), \"docno\": docno, \"label\": 1} for qid, details in queries.items() for docno in details['docids_list']])\n",
    "\n",
    "translator = str.maketrans('', '', string.punctuation)\n",
    "def remove_punctuation(text):\n",
    "    text_no_punctuation = text.translate(translator)\n",
    "    return text_no_punctuation\n",
    "\n",
    "quer['query'] = quer['query'].apply(remove_punctuation)\n"
   ]
  },
  {
   "cell_type": "code",
   "execution_count": 16,
   "metadata": {},
   "outputs": [
    {
     "name": "stderr",
     "output_type": "stream",
     "text": [
      "pt.Experiment:   0%|          | 0/3 [00:00<?, ?system/s]"
     ]
    },
    {
     "name": "stderr",
     "output_type": "stream",
     "text": [
      "pt.Experiment: 100%|██████████| 3/3 [03:05<00:00, 61.91s/system]"
     ]
    },
    {
     "name": "stdout",
     "output_type": "stream",
     "text": [
      "         name     map    ndcg     P@5    P@10    P@15    P@20    P@30  P@100  \\\n",
      "0    BR(BM25)  0.9456  0.9751  0.9614  0.9167  0.6399  0.4853  0.3264  0.099   \n",
      "1  BR(TF_IDF)  0.9458  0.9752  0.9617  0.9171  0.6400  0.4854  0.3264  0.099   \n",
      "2     BR(PL2)  0.9378  0.9720  0.9552  0.9043  0.6368  0.4843  0.3261  0.099   \n",
      "\n",
      "    P@200  ...  P@1000     R@5    R@10    R@15    R@20    R@30   R@100  \\\n",
      "0  0.0496  ...    0.01  0.4807  0.9167  0.9599  0.9706  0.9791  0.9896   \n",
      "1  0.0496  ...    0.01  0.4808  0.9171  0.9601  0.9708  0.9792  0.9896   \n",
      "2  0.0496  ...    0.01  0.4776  0.9043  0.9553  0.9686  0.9784  0.9896   \n",
      "\n",
      "    R@200   R@500  R@1000  \n",
      "0  0.9923  0.9944  0.9952  \n",
      "1  0.9922  0.9944  0.9952  \n",
      "2  0.9924  0.9944  0.9952  \n",
      "\n",
      "[3 rows x 21 columns]\n"
     ]
    },
    {
     "name": "stderr",
     "output_type": "stream",
     "text": [
      "\n"
     ]
    }
   ],
   "source": [
    "# Load the index\n",
    "index = pt.IndexFactory.of(index_ref)\n",
    "\n",
    "# Create a BM25 retrieval model\n",
    "bm25 = pt.BatchRetrieve(index, wmodel=\"BM25\")\n",
    "\n",
    "tf_idf = pt.BatchRetrieve(index, wmodel=\"TF_IDF\")\n",
    "\n",
    "pl2 = pt.BatchRetrieve(index, wmodel=\"PL2\")\n",
    "\n",
    "evaluation = pt.Experiment(\n",
    "    [bm25, tf_idf, pl2],\n",
    "    quer,\n",
    "    qrels,\n",
    "    eval_metrics=['map', 'ndcg', 'P', 'recall'],\n",
    "    round=4,\n",
    "    verbose=\"true\"\n",
    ")\n",
    "\n",
    "print(evaluation)"
   ]
  }
 ],
 "metadata": {
  "kernelspec": {
   "display_name": "base",
   "language": "python",
   "name": "python3"
  },
  "language_info": {
   "codemirror_mode": {
    "name": "ipython",
    "version": 3
   },
   "file_extension": ".py",
   "mimetype": "text/x-python",
   "name": "python",
   "nbconvert_exporter": "python",
   "pygments_lexer": "ipython3",
   "version": "3.10.12"
  }
 },
 "nbformat": 4,
 "nbformat_minor": 2
}
